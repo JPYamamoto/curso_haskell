{
 "cells": [
  {
   "cell_type": "markdown",
   "id": "4da07df1-b2d1-402f-ac0e-90ea473d556d",
   "metadata": {},
   "source": [
    "En las palabras de Philip Wadler..."
   ]
  },
  {
   "cell_type": "markdown",
   "id": "bedfb122-943d-4383-b080-df95328e8e12",
   "metadata": {},
   "source": [
    "<video controls src=\"lambda.mp4\" />"
   ]
  },
  {
   "cell_type": "markdown",
   "id": "6b833c1c-9314-453a-b8a0-9e011e4930dc",
   "metadata": {},
   "source": [
    "Clip anterior: Extraído de [\"Propositions as Types\"](https://youtu.be/IOiZatlZtGU) por Philip Wadler, en Strange Loop Conference 2015."
   ]
  },
  {
   "cell_type": "markdown",
   "id": "271d9ba6-6375-4bac-938d-ab81cd5b43e2",
   "metadata": {},
   "source": [
    "# Isomorfismo Curry - Howard\n",
    "\n",
    "- Existe una correspondencia directa entre proposiciones lógicas y el cálculo lambda.\n",
    "\n",
    "- El sistema de verificación de tipos de Haskell funciona como un verificador de demostraciones."
   ]
  },
  {
   "cell_type": "markdown",
   "id": "0ad11caa-c172-4332-9a83-a152bc92f7b1",
   "metadata": {},
   "source": [
    "## Construcción del sistema\n",
    "\n",
    "Necesitamos una forma de representar elementos fundamentales de la lógica proposicional, en particular los valores de verdad o falsedad y operadores básicos."
   ]
  },
  {
   "cell_type": "code",
   "execution_count": 1,
   "id": "ca4e4e0a-0dae-47a5-9a97-80b815c20260",
   "metadata": {},
   "outputs": [],
   "source": [
    "-- Valores de verdad\n",
    "data Verdadero = Verdadero\n",
    "data Falso"
   ]
  },
  {
   "cell_type": "code",
   "execution_count": 2,
   "id": "e564e340-7135-485a-9841-c13f19730312",
   "metadata": {},
   "outputs": [],
   "source": [
    "-- Operadores\n",
    "data Y a b = Y a b\n",
    "data O a b = OIzquierdo a | ODerecho b"
   ]
  },
  {
   "cell_type": "markdown",
   "id": "1afd2a60-f0b1-4596-9985-be9712c8bd51",
   "metadata": {},
   "source": [
    "¿Qué onda con la negación?\n",
    "\n",
    "- Lógica Intuicionista (o constructivista)\n",
    "\n",
    "$$ \\lnot A \\equiv A \\implies\\bot $$"
   ]
  },
  {
   "cell_type": "code",
   "execution_count": 3,
   "id": "cb28b181-d284-4cc9-935f-82ab1e8f73a5",
   "metadata": {},
   "outputs": [],
   "source": [
    "type No a = a -> Falso"
   ]
  },
  {
   "cell_type": "markdown",
   "id": "edb68e11-108a-44fa-b28b-3577d824340c",
   "metadata": {},
   "source": [
    "- Variables Proposicionales $\\Leftrightarrow$ Variables de tipos\n",
    "- Implicación $\\Leftrightarrow$ Tipo función `a -> b`."
   ]
  },
  {
   "cell_type": "markdown",
   "id": "7a20304e-0c48-4aa6-be0c-6e707642f075",
   "metadata": {},
   "source": [
    "## Cuantificación"
   ]
  },
  {
   "cell_type": "markdown",
   "id": "9c57803a-7ab6-4c16-863f-92fe4c1d8f64",
   "metadata": {},
   "source": [
    "- En Haskell, todas las firmas de funciones con variables de tipos están cuantificadas universalmente.\n",
    "- Si algo se cumple para cualquier tipo, es equivalente decir que la proposición se cumple para cualquier variable."
   ]
  },
  {
   "cell_type": "code",
   "execution_count": 4,
   "id": "cf998eb1-5b47-47a8-98c7-2ee39a8c5068",
   "metadata": {},
   "outputs": [],
   "source": [
    "pi :: Double\n",
    "pi = 3.14159\n",
    "\n",
    "intercambio :: (a, b) -> (b, a)\n",
    "intercambio (x, y) = (y, x)"
   ]
  },
  {
   "cell_type": "markdown",
   "id": "7a5bc896-bf85-4512-838c-6f115f3726bc",
   "metadata": {},
   "source": [
    "## Demostraciones constructivistas"
   ]
  },
  {
   "cell_type": "markdown",
   "id": "582aa9de-76e9-4487-a3d3-ac45eff6b99d",
   "metadata": {},
   "source": [
    "Si tenemos lo siguiente:\n",
    "\n",
    "$$ \\dfrac{A \\implies B \\\\ A}{\\therefore B} $$\n",
    "\n",
    "podemos verlo de la siguiente manera:\n",
    "\n",
    "$$ (A \\implies B) \\implies A \\implies B $$"
   ]
  },
  {
   "cell_type": "markdown",
   "id": "55ff106c-3482-467f-bb66-6d7463fb5aa7",
   "metadata": {},
   "source": [
    "Evidenciar una función que cumpla con un cierto tipado, es equivalente a demostrar que se cumple la proposición isomorfa.\n",
    "\n",
    "```haskell\n",
    "modusPonens :: (a -> b) -> a -> b\n",
    "```\n",
    "\n",
    "es equivalente a demostrar que de $a\\implies b$ y $a$ se sigue $b$."
   ]
  },
  {
   "cell_type": "markdown",
   "id": "0b4f2002-2939-48ae-bc1c-17112abdeab0",
   "metadata": {},
   "source": [
    "## Ejemplos"
   ]
  },
  {
   "cell_type": "markdown",
   "id": "7058b569-659e-42bb-8056-078c0400f9a5",
   "metadata": {},
   "source": [
    "Demuestra:\n",
    "\n",
    "$$ \\dfrac{A}{\\therefore A} $$"
   ]
  },
  {
   "cell_type": "code",
   "execution_count": 5,
   "id": "08412277-7f3d-4a11-a50b-97b9a1108253",
   "metadata": {},
   "outputs": [],
   "source": [
    "identidad :: a -> a\n",
    "identidad a = a"
   ]
  },
  {
   "cell_type": "code",
   "execution_count": 11,
   "id": "0867c0e6-4340-4b5c-bb60-760621264eae",
   "metadata": {},
   "outputs": [
    {
     "data": {
      "text/html": [
       "<style>/* Styles used for the Hoogle display in the pager */\n",
       ".hoogle-doc {\n",
       "display: block;\n",
       "padding-bottom: 1.3em;\n",
       "padding-left: 0.4em;\n",
       "}\n",
       ".hoogle-code {\n",
       "display: block;\n",
       "font-family: monospace;\n",
       "white-space: pre;\n",
       "}\n",
       ".hoogle-text {\n",
       "display: block;\n",
       "}\n",
       ".hoogle-name {\n",
       "color: green;\n",
       "font-weight: bold;\n",
       "}\n",
       ".hoogle-head {\n",
       "font-weight: bold;\n",
       "}\n",
       ".hoogle-sub {\n",
       "display: block;\n",
       "margin-left: 0.4em;\n",
       "}\n",
       ".hoogle-package {\n",
       "font-weight: bold;\n",
       "font-style: italic;\n",
       "}\n",
       ".hoogle-module {\n",
       "font-weight: bold;\n",
       "}\n",
       ".hoogle-class {\n",
       "font-weight: bold;\n",
       "}\n",
       ".get-type {\n",
       "color: green;\n",
       "font-weight: bold;\n",
       "font-family: monospace;\n",
       "display: block;\n",
       "white-space: pre-wrap;\n",
       "}\n",
       ".show-type {\n",
       "color: green;\n",
       "font-weight: bold;\n",
       "font-family: monospace;\n",
       "margin-left: 1em;\n",
       "}\n",
       ".mono {\n",
       "font-family: monospace;\n",
       "display: block;\n",
       "}\n",
       ".err-msg {\n",
       "color: red;\n",
       "font-style: italic;\n",
       "font-family: monospace;\n",
       "white-space: pre;\n",
       "display: block;\n",
       "}\n",
       "#unshowable {\n",
       "color: red;\n",
       "font-weight: bold;\n",
       "}\n",
       ".err-msg.in.collapse {\n",
       "padding-top: 0.7em;\n",
       "}\n",
       ".highlight-code {\n",
       "white-space: pre;\n",
       "font-family: monospace;\n",
       "}\n",
       ".suggestion-warning { \n",
       "font-weight: bold;\n",
       "color: rgb(200, 130, 0);\n",
       "}\n",
       ".suggestion-error { \n",
       "font-weight: bold;\n",
       "color: red;\n",
       "}\n",
       ".suggestion-name {\n",
       "font-weight: bold;\n",
       "}\n",
       "</style><span class='get-type'>id :: forall a. a -> a</span>"
      ],
      "text/plain": [
       "id :: forall a. a -> a"
      ]
     },
     "metadata": {},
     "output_type": "display_data"
    }
   ],
   "source": [
    ":t id"
   ]
  },
  {
   "cell_type": "markdown",
   "id": "26f95c1c-14cb-4f13-af61-14bcf974d078",
   "metadata": {},
   "source": [
    "Demuestra:\n",
    "\n",
    "$$ \\dfrac{A\\\\ B}{\\therefore A} $$"
   ]
  },
  {
   "cell_type": "code",
   "execution_count": 6,
   "id": "796f6fe1-ea1a-48ba-930f-291744a4d1a8",
   "metadata": {},
   "outputs": [],
   "source": [
    "ignora :: a -> b -> a\n",
    "ignora a _ = a"
   ]
  },
  {
   "cell_type": "code",
   "execution_count": 12,
   "id": "0cb840e7-fba4-488d-b1cb-d9dffc3e483b",
   "metadata": {},
   "outputs": [
    {
     "data": {
      "text/html": [
       "<style>/* Styles used for the Hoogle display in the pager */\n",
       ".hoogle-doc {\n",
       "display: block;\n",
       "padding-bottom: 1.3em;\n",
       "padding-left: 0.4em;\n",
       "}\n",
       ".hoogle-code {\n",
       "display: block;\n",
       "font-family: monospace;\n",
       "white-space: pre;\n",
       "}\n",
       ".hoogle-text {\n",
       "display: block;\n",
       "}\n",
       ".hoogle-name {\n",
       "color: green;\n",
       "font-weight: bold;\n",
       "}\n",
       ".hoogle-head {\n",
       "font-weight: bold;\n",
       "}\n",
       ".hoogle-sub {\n",
       "display: block;\n",
       "margin-left: 0.4em;\n",
       "}\n",
       ".hoogle-package {\n",
       "font-weight: bold;\n",
       "font-style: italic;\n",
       "}\n",
       ".hoogle-module {\n",
       "font-weight: bold;\n",
       "}\n",
       ".hoogle-class {\n",
       "font-weight: bold;\n",
       "}\n",
       ".get-type {\n",
       "color: green;\n",
       "font-weight: bold;\n",
       "font-family: monospace;\n",
       "display: block;\n",
       "white-space: pre-wrap;\n",
       "}\n",
       ".show-type {\n",
       "color: green;\n",
       "font-weight: bold;\n",
       "font-family: monospace;\n",
       "margin-left: 1em;\n",
       "}\n",
       ".mono {\n",
       "font-family: monospace;\n",
       "display: block;\n",
       "}\n",
       ".err-msg {\n",
       "color: red;\n",
       "font-style: italic;\n",
       "font-family: monospace;\n",
       "white-space: pre;\n",
       "display: block;\n",
       "}\n",
       "#unshowable {\n",
       "color: red;\n",
       "font-weight: bold;\n",
       "}\n",
       ".err-msg.in.collapse {\n",
       "padding-top: 0.7em;\n",
       "}\n",
       ".highlight-code {\n",
       "white-space: pre;\n",
       "font-family: monospace;\n",
       "}\n",
       ".suggestion-warning { \n",
       "font-weight: bold;\n",
       "color: rgb(200, 130, 0);\n",
       "}\n",
       ".suggestion-error { \n",
       "font-weight: bold;\n",
       "color: red;\n",
       "}\n",
       ".suggestion-name {\n",
       "font-weight: bold;\n",
       "}\n",
       "</style><span class='get-type'>const :: forall a b. a -> b -> a</span>"
      ],
      "text/plain": [
       "const :: forall a b. a -> b -> a"
      ]
     },
     "metadata": {},
     "output_type": "display_data"
    }
   ],
   "source": [
    ":t const"
   ]
  },
  {
   "cell_type": "markdown",
   "id": "046b5c7e-5ce4-4c61-adf9-db5b1ace76c4",
   "metadata": {},
   "source": [
    "Demuestra Modus Ponens:\n",
    "\n",
    "$$ \\dfrac{A\\implies B\\\\A}{\\therefore B} $$"
   ]
  },
  {
   "cell_type": "code",
   "execution_count": 8,
   "id": "44069e5b-2292-4674-a333-b59a1d956e21",
   "metadata": {},
   "outputs": [
    {
     "data": {
      "text/html": [
       "<style>/* Styles used for the Hoogle display in the pager */\n",
       ".hoogle-doc {\n",
       "display: block;\n",
       "padding-bottom: 1.3em;\n",
       "padding-left: 0.4em;\n",
       "}\n",
       ".hoogle-code {\n",
       "display: block;\n",
       "font-family: monospace;\n",
       "white-space: pre;\n",
       "}\n",
       ".hoogle-text {\n",
       "display: block;\n",
       "}\n",
       ".hoogle-name {\n",
       "color: green;\n",
       "font-weight: bold;\n",
       "}\n",
       ".hoogle-head {\n",
       "font-weight: bold;\n",
       "}\n",
       ".hoogle-sub {\n",
       "display: block;\n",
       "margin-left: 0.4em;\n",
       "}\n",
       ".hoogle-package {\n",
       "font-weight: bold;\n",
       "font-style: italic;\n",
       "}\n",
       ".hoogle-module {\n",
       "font-weight: bold;\n",
       "}\n",
       ".hoogle-class {\n",
       "font-weight: bold;\n",
       "}\n",
       ".get-type {\n",
       "color: green;\n",
       "font-weight: bold;\n",
       "font-family: monospace;\n",
       "display: block;\n",
       "white-space: pre-wrap;\n",
       "}\n",
       ".show-type {\n",
       "color: green;\n",
       "font-weight: bold;\n",
       "font-family: monospace;\n",
       "margin-left: 1em;\n",
       "}\n",
       ".mono {\n",
       "font-family: monospace;\n",
       "display: block;\n",
       "}\n",
       ".err-msg {\n",
       "color: red;\n",
       "font-style: italic;\n",
       "font-family: monospace;\n",
       "white-space: pre;\n",
       "display: block;\n",
       "}\n",
       "#unshowable {\n",
       "color: red;\n",
       "font-weight: bold;\n",
       "}\n",
       ".err-msg.in.collapse {\n",
       "padding-top: 0.7em;\n",
       "}\n",
       ".highlight-code {\n",
       "white-space: pre;\n",
       "font-family: monospace;\n",
       "}\n",
       ".suggestion-warning { \n",
       "font-weight: bold;\n",
       "color: rgb(200, 130, 0);\n",
       "}\n",
       ".suggestion-error { \n",
       "font-weight: bold;\n",
       "color: red;\n",
       "}\n",
       ".suggestion-name {\n",
       "font-weight: bold;\n",
       "}\n",
       "</style><div class=\"suggestion-name\" style=\"clear:both;\">Eta reduce</div><div class=\"suggestion-row\" style=\"float: left;\"><div class=\"suggestion-warning\">Found:</div><div class=\"highlight-code\" id=\"haskell\">modusPonens f x = f x</div></div><div class=\"suggestion-row\" style=\"float: left;\"><div class=\"suggestion-warning\">Why Not:</div><div class=\"highlight-code\" id=\"haskell\">modusPonens f = f</div></div>"
      ],
      "text/plain": [
       "Line 2: Eta reduce\n",
       "Found:\n",
       "modusPonens f x = f x\n",
       "Why not:\n",
       "modusPonens f = f"
      ]
     },
     "metadata": {},
     "output_type": "display_data"
    }
   ],
   "source": [
    "modusPonens :: (a -> b) -> a -> b\n",
    "modusPonens f x = f x"
   ]
  },
  {
   "cell_type": "code",
   "execution_count": 10,
   "id": "80cdcb6f-724c-4223-81ce-9fba978eb60a",
   "metadata": {},
   "outputs": [
    {
     "data": {
      "text/html": [
       "<style>/* Styles used for the Hoogle display in the pager */\n",
       ".hoogle-doc {\n",
       "display: block;\n",
       "padding-bottom: 1.3em;\n",
       "padding-left: 0.4em;\n",
       "}\n",
       ".hoogle-code {\n",
       "display: block;\n",
       "font-family: monospace;\n",
       "white-space: pre;\n",
       "}\n",
       ".hoogle-text {\n",
       "display: block;\n",
       "}\n",
       ".hoogle-name {\n",
       "color: green;\n",
       "font-weight: bold;\n",
       "}\n",
       ".hoogle-head {\n",
       "font-weight: bold;\n",
       "}\n",
       ".hoogle-sub {\n",
       "display: block;\n",
       "margin-left: 0.4em;\n",
       "}\n",
       ".hoogle-package {\n",
       "font-weight: bold;\n",
       "font-style: italic;\n",
       "}\n",
       ".hoogle-module {\n",
       "font-weight: bold;\n",
       "}\n",
       ".hoogle-class {\n",
       "font-weight: bold;\n",
       "}\n",
       ".get-type {\n",
       "color: green;\n",
       "font-weight: bold;\n",
       "font-family: monospace;\n",
       "display: block;\n",
       "white-space: pre-wrap;\n",
       "}\n",
       ".show-type {\n",
       "color: green;\n",
       "font-weight: bold;\n",
       "font-family: monospace;\n",
       "margin-left: 1em;\n",
       "}\n",
       ".mono {\n",
       "font-family: monospace;\n",
       "display: block;\n",
       "}\n",
       ".err-msg {\n",
       "color: red;\n",
       "font-style: italic;\n",
       "font-family: monospace;\n",
       "white-space: pre;\n",
       "display: block;\n",
       "}\n",
       "#unshowable {\n",
       "color: red;\n",
       "font-weight: bold;\n",
       "}\n",
       ".err-msg.in.collapse {\n",
       "padding-top: 0.7em;\n",
       "}\n",
       ".highlight-code {\n",
       "white-space: pre;\n",
       "font-family: monospace;\n",
       "}\n",
       ".suggestion-warning { \n",
       "font-weight: bold;\n",
       "color: rgb(200, 130, 0);\n",
       "}\n",
       ".suggestion-error { \n",
       "font-weight: bold;\n",
       "color: red;\n",
       "}\n",
       ".suggestion-name {\n",
       "font-weight: bold;\n",
       "}\n",
       "</style><span class='get-type'>($) :: forall a b. (a -> b) -> a -> b</span>"
      ],
      "text/plain": [
       "($) :: forall a b. (a -> b) -> a -> b"
      ]
     },
     "metadata": {},
     "output_type": "display_data"
    }
   ],
   "source": [
    ":t ($)"
   ]
  },
  {
   "cell_type": "markdown",
   "id": "f3a535c9-c230-4a22-b8f8-c61f11c78997",
   "metadata": {},
   "source": [
    "Demuestra el Silogismo Hipotético:\n",
    "\n",
    "$$ \\dfrac{B \\implies C\\\\ A\\implies B}{\\therefore A\\implies C} $$"
   ]
  },
  {
   "cell_type": "code",
   "execution_count": 13,
   "id": "685cd528-b4ad-4e1e-bf89-19d8c6e47c6b",
   "metadata": {},
   "outputs": [],
   "source": [
    "silogismoHipotetico :: (b -> c) -> (a -> b) -> (a -> c)\n",
    "silogismoHipotetico = (.)"
   ]
  },
  {
   "cell_type": "markdown",
   "id": "3f575314-0ed6-476e-81eb-a270e1987c0b",
   "metadata": {},
   "source": [
    "Demuestra la contrapositiva:\n",
    "\n",
    "$$ \\dfrac{A \\implies B\\\\\\lnot B}{\\therefore \\lnot A} $$"
   ]
  },
  {
   "cell_type": "code",
   "execution_count": 14,
   "id": "73f07b5a-281f-4354-b9ee-07e0c1ddab9a",
   "metadata": {},
   "outputs": [],
   "source": [
    "-- contrapositiva :: (a -> b) -> (b -> Falso) -> (a -> Falso)\n",
    "contrapositiva :: (a -> b) -> No b -> No a\n",
    "contrapositiva f noB = noB . f"
   ]
  },
  {
   "cell_type": "markdown",
   "id": "1d5c77dd-ef92-433b-b8b4-5f660df02069",
   "metadata": {},
   "source": [
    "Demuestra la primera ley de DeMorgan:\n",
    "\n",
    "$$ \\dfrac{\\lnot A \\land \\lnot B}{\\therefore \\lnot (A\\lor B)} $$"
   ]
  },
  {
   "cell_type": "code",
   "execution_count": 19,
   "id": "b312f73e-fd0a-4382-8e2d-6f14e7571e39",
   "metadata": {},
   "outputs": [
    {
     "data": {
      "text/html": [
       "<style>/* Styles used for the Hoogle display in the pager */\n",
       ".hoogle-doc {\n",
       "display: block;\n",
       "padding-bottom: 1.3em;\n",
       "padding-left: 0.4em;\n",
       "}\n",
       ".hoogle-code {\n",
       "display: block;\n",
       "font-family: monospace;\n",
       "white-space: pre;\n",
       "}\n",
       ".hoogle-text {\n",
       "display: block;\n",
       "}\n",
       ".hoogle-name {\n",
       "color: green;\n",
       "font-weight: bold;\n",
       "}\n",
       ".hoogle-head {\n",
       "font-weight: bold;\n",
       "}\n",
       ".hoogle-sub {\n",
       "display: block;\n",
       "margin-left: 0.4em;\n",
       "}\n",
       ".hoogle-package {\n",
       "font-weight: bold;\n",
       "font-style: italic;\n",
       "}\n",
       ".hoogle-module {\n",
       "font-weight: bold;\n",
       "}\n",
       ".hoogle-class {\n",
       "font-weight: bold;\n",
       "}\n",
       ".get-type {\n",
       "color: green;\n",
       "font-weight: bold;\n",
       "font-family: monospace;\n",
       "display: block;\n",
       "white-space: pre-wrap;\n",
       "}\n",
       ".show-type {\n",
       "color: green;\n",
       "font-weight: bold;\n",
       "font-family: monospace;\n",
       "margin-left: 1em;\n",
       "}\n",
       ".mono {\n",
       "font-family: monospace;\n",
       "display: block;\n",
       "}\n",
       ".err-msg {\n",
       "color: red;\n",
       "font-style: italic;\n",
       "font-family: monospace;\n",
       "white-space: pre;\n",
       "display: block;\n",
       "}\n",
       "#unshowable {\n",
       "color: red;\n",
       "font-weight: bold;\n",
       "}\n",
       ".err-msg.in.collapse {\n",
       "padding-top: 0.7em;\n",
       "}\n",
       ".highlight-code {\n",
       "white-space: pre;\n",
       "font-family: monospace;\n",
       "}\n",
       ".suggestion-warning { \n",
       "font-weight: bold;\n",
       "color: rgb(200, 130, 0);\n",
       "}\n",
       ".suggestion-error { \n",
       "font-weight: bold;\n",
       "color: red;\n",
       "}\n",
       ".suggestion-name {\n",
       "font-weight: bold;\n",
       "}\n",
       "</style><div class=\"suggestion-name\" style=\"clear:both;\">Redundant lambda</div><div class=\"suggestion-row\" style=\"float: left;\"><div class=\"suggestion-warning\">Found:</div><div class=\"highlight-code\" id=\"haskell\">deMorgan1 (Y noA noB)\n",
       "  = \\ o\n",
       "      -> case o of\n",
       "           OIzquierdo a -> noA a\n",
       "           ODerecho b -> noB b</div></div><div class=\"suggestion-row\" style=\"float: left;\"><div class=\"suggestion-warning\">Why Not:</div><div class=\"highlight-code\" id=\"haskell\">deMorgan1 (Y noA noB) o\n",
       "  = case o of\n",
       "      OIzquierdo a -> noA a\n",
       "      ODerecho b -> noB b</div></div><div class=\"suggestion-name\" style=\"clear:both;\">Use lambda-case</div><div class=\"suggestion-row\" style=\"float: left;\"><div class=\"suggestion-warning\">Found:</div><div class=\"highlight-code\" id=\"haskell\">\\ o\n",
       "  -> case o of\n",
       "       OIzquierdo a -> noA a\n",
       "       ODerecho b -> noB b</div></div><div class=\"suggestion-row\" style=\"float: left;\"><div class=\"suggestion-warning\">Why Not:</div><div class=\"highlight-code\" id=\"haskell\">\\case\n",
       "  OIzquierdo a -> noA a\n",
       "  ODerecho b -> noB b</div></div>"
      ],
      "text/plain": [
       "Line 2: Redundant lambda\n",
       "Found:\n",
       "deMorgan1 (Y noA noB)\n",
       "  = \\ o\n",
       "      -> case o of\n",
       "           OIzquierdo a -> noA a\n",
       "           ODerecho b -> noB b\n",
       "Why not:\n",
       "deMorgan1 (Y noA noB) o\n",
       "  = case o of\n",
       "      OIzquierdo a -> noA a\n",
       "      ODerecho b -> noB bLine 2: Use lambda-case\n",
       "Found:\n",
       "\\ o\n",
       "  -> case o of\n",
       "       OIzquierdo a -> noA a\n",
       "       ODerecho b -> noB b\n",
       "Why not:\n",
       "\\case\n",
       "  OIzquierdo a -> noA a\n",
       "  ODerecho b -> noB b"
      ]
     },
     "metadata": {},
     "output_type": "display_data"
    }
   ],
   "source": [
    "deMorgan1 :: Y (No a) (No b) -> No (O a b)\n",
    "deMorgan1 (Y noA noB) = \\o -> case o of\n",
    "                                OIzquierdo a -> noA a\n",
    "                                ODerecho   b -> noB b"
   ]
  },
  {
   "cell_type": "markdown",
   "id": "1e4fa65e-ba4e-4997-b759-73bfebdeefdf",
   "metadata": {},
   "source": [
    "Demuestra la segunda ley de DeMorgan:\n",
    "\n",
    "$$ \\dfrac{\\lnot A\\lor\\lnot B}{\\therefore \\lnot (A\\land B)} $$"
   ]
  },
  {
   "cell_type": "code",
   "execution_count": 21,
   "id": "bc242886-8656-45df-ae8c-5f99de9d2ef2",
   "metadata": {},
   "outputs": [],
   "source": [
    "--                              (Y a b) -> Falso\n",
    "deMorgan2 :: O (No a) (No b) -> No (Y a b)\n",
    "deMorgan2 (OIzquierdo noA) = \\(Y a b) -> noA a\n",
    "deMorgan2 (ODerecho   noB) = \\(Y a b) -> noB b"
   ]
  },
  {
   "cell_type": "markdown",
   "id": "610c7aca-d4c6-4be1-ab34-86c7fd6b7c34",
   "metadata": {},
   "source": [
    "Demuestra la introducción de la doble negación:\n",
    "\n",
    "$$ \\dfrac{A}{\\therefore \\lnot\\lnot A} $$"
   ]
  },
  {
   "cell_type": "code",
   "execution_count": null,
   "id": "66a8004a-4414-480e-882f-ac76032f6931",
   "metadata": {},
   "outputs": [],
   "source": []
  },
  {
   "cell_type": "markdown",
   "id": "1fe2c150-8c02-41bc-a4e4-5a9b88e936c6",
   "metadata": {},
   "source": [
    "Demuestra la conmutatividad de la conjunción:\n",
    "\n",
    "$$ \\dfrac{A\\land B}{\\therefore B\\land A} $$"
   ]
  },
  {
   "cell_type": "code",
   "execution_count": null,
   "id": "6370e335-a42e-4ace-a633-fbe3c3ceab5d",
   "metadata": {},
   "outputs": [],
   "source": []
  },
  {
   "cell_type": "markdown",
   "id": "5856a78e-c22a-400e-a98d-4131372ce0f8",
   "metadata": {},
   "source": [
    "Demuestra que la conjunción implica la disjunción:\n",
    "\n",
    "$$ \\dfrac{A\\land B}{\\therefore A \\lor B} $$"
   ]
  },
  {
   "cell_type": "code",
   "execution_count": null,
   "id": "7e722b94-0fd7-46a8-b710-8fbec4b99517",
   "metadata": {},
   "outputs": [],
   "source": []
  },
  {
   "cell_type": "markdown",
   "id": "366f5474-3f28-4eae-ac53-7e5278cc05ff",
   "metadata": {},
   "source": [
    "Demuestra la eliminación de la conjunción:\n",
    "\n",
    "$$ \\dfrac{A \\land B}{\\therefore A} $$"
   ]
  },
  {
   "cell_type": "code",
   "execution_count": null,
   "id": "a74f730e-6d4f-4309-a57b-f69079ea3625",
   "metadata": {},
   "outputs": [],
   "source": []
  },
  {
   "cell_type": "markdown",
   "id": "558da2bc-af1f-4617-aa2a-e602189be816",
   "metadata": {},
   "source": [
    "Demuestra:\n",
    "\n",
    "$$ \\dfrac{A\\implies B\\implies C}{\\therefore B\\implies A\\implies C} $$"
   ]
  },
  {
   "cell_type": "code",
   "execution_count": null,
   "id": "f1d52a1e-98b2-4895-9027-98eb05e3a1ee",
   "metadata": {},
   "outputs": [],
   "source": []
  },
  {
   "cell_type": "markdown",
   "id": "6de645ed-624e-47ce-82ec-26be9ee318ed",
   "metadata": {},
   "source": [
    "Demuestra la dominancia de la disyunción:\n",
    "\n",
    "$$ \\dfrac{}{\\therefore \\top\\lor A} $$"
   ]
  },
  {
   "cell_type": "code",
   "execution_count": null,
   "id": "9f8e76f9-95cc-4b45-872b-31bfa011f3b0",
   "metadata": {},
   "outputs": [],
   "source": []
  },
  {
   "cell_type": "markdown",
   "id": "cd414456-e3eb-4e60-9b2f-dd255e006d48",
   "metadata": {},
   "source": [
    "Demuestra la identidad de la conjunción:\n",
    "\n",
    "$$ \\dfrac{\\top\\land A}{\\therefore A} $$"
   ]
  },
  {
   "cell_type": "code",
   "execution_count": null,
   "id": "fb9b2607-b016-4a7f-b357-efe8548b8f0d",
   "metadata": {},
   "outputs": [],
   "source": []
  },
  {
   "cell_type": "markdown",
   "id": "a0ec4092-0882-4e4e-b681-3026e95305d8",
   "metadata": {},
   "source": [
    "Demuestra la introducción de la disyunción:\n",
    "\n",
    "$$ \\dfrac{A}{\\therefore A \\lor B} $$"
   ]
  },
  {
   "cell_type": "code",
   "execution_count": null,
   "id": "84a01374-1548-4885-87d6-c9245a754174",
   "metadata": {},
   "outputs": [],
   "source": []
  },
  {
   "cell_type": "markdown",
   "id": "2a06229a-2555-42db-ae15-97aed8fd410f",
   "metadata": {},
   "source": [
    "Demuestra la idempotencia:\n",
    "\n",
    "$$ \\dfrac{A \\lor A}{A} $$"
   ]
  },
  {
   "cell_type": "code",
   "execution_count": null,
   "id": "c5974d8e-f6a5-42f2-a674-9735db083d22",
   "metadata": {},
   "outputs": [],
   "source": []
  },
  {
   "cell_type": "markdown",
   "id": "62478d28-e828-4d08-b5f8-7ab13f32e68e",
   "metadata": {},
   "source": [
    "Demuestra la conmutatividad de la disyunción:\n",
    "\n",
    "$$ \\dfrac{A\\lor B}{B\\lor A} $$"
   ]
  },
  {
   "cell_type": "code",
   "execution_count": null,
   "id": "a42d0f05-f22c-44e1-bdde-09ab16fae6e4",
   "metadata": {},
   "outputs": [],
   "source": []
  },
  {
   "cell_type": "markdown",
   "id": "2409aad0-f384-4e8b-9b86-338d300688a7",
   "metadata": {},
   "source": [
    "Demuestra:\n",
    "\n",
    "$$ \\dfrac{A\\land B}{B\\lor A} $$"
   ]
  },
  {
   "cell_type": "code",
   "execution_count": null,
   "id": "52006c9e-f835-46d1-a5f9-12022e069950",
   "metadata": {},
   "outputs": [],
   "source": []
  },
  {
   "cell_type": "markdown",
   "id": "3381b74a-bdc3-45e1-9146-eab5ffba59be",
   "metadata": {},
   "source": [
    "# Recursos\n",
    "\n",
    "- [\"Propositions as Types\" by Philip Wadler. Strange Loop Conference](https://youtu.be/IOiZatlZtGU)\n",
    "- [Stephen Pimentel - Propositions as Types for Beginners in Haskell - λC 2018](https://youtu.be/tfG7T54MhIU)"
   ]
  }
 ],
 "metadata": {
  "kernelspec": {
   "display_name": "Haskell",
   "language": "haskell",
   "name": "haskell"
  },
  "language_info": {
   "codemirror_mode": "ihaskell",
   "file_extension": ".hs",
   "mimetype": "text/x-haskell",
   "name": "haskell",
   "pygments_lexer": "Haskell",
   "version": "8.10.4"
  }
 },
 "nbformat": 4,
 "nbformat_minor": 5
}
