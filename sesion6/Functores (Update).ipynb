{
 "cells": [
  {
   "cell_type": "markdown",
   "id": "040eb07e-7bed-4e21-a772-96c5a15ac843",
   "metadata": {},
   "source": [
    "# Functores\n",
    "\n",
    "Pasos para entender una álgebra en Haskell (según Chris Allen):\n",
    "1. Encuentra un patrón y hazlo general.\n",
    "2. Define cuáles son las leyes que va a cumplir.\n",
    "3. Dale un nombre cool.\n",
    "4. Pregúntate cómo pudiste vivir todo este tiempo sin él."
   ]
  },
  {
   "cell_type": "markdown",
   "id": "96d9c14a-2f5d-4fb8-83d6-13b87ce2b829",
   "metadata": {},
   "source": [
    "## Buscando un patrón\n",
    "Define una función que aplica una función a todos los elementos de una lista."
   ]
  },
  {
   "cell_type": "code",
   "execution_count": 1,
   "id": "c90141fb-19d6-4492-a7a1-7d1b25b10a2a",
   "metadata": {},
   "outputs": [],
   "source": [
    "map :: (a -> b) -> [a] -> [b]\n",
    "map _ []     = []\n",
    "map f (x:xs) = f x : map f xs"
   ]
  },
  {
   "cell_type": "code",
   "execution_count": 11,
   "id": "d3f9a236-c3f7-47dd-b0fa-ff8e047e454f",
   "metadata": {},
   "outputs": [
    {
     "data": {
      "text/html": [
       "<style>/* Styles used for the Hoogle display in the pager */\n",
       ".hoogle-doc {\n",
       "display: block;\n",
       "padding-bottom: 1.3em;\n",
       "padding-left: 0.4em;\n",
       "}\n",
       ".hoogle-code {\n",
       "display: block;\n",
       "font-family: monospace;\n",
       "white-space: pre;\n",
       "}\n",
       ".hoogle-text {\n",
       "display: block;\n",
       "}\n",
       ".hoogle-name {\n",
       "color: green;\n",
       "font-weight: bold;\n",
       "}\n",
       ".hoogle-head {\n",
       "font-weight: bold;\n",
       "}\n",
       ".hoogle-sub {\n",
       "display: block;\n",
       "margin-left: 0.4em;\n",
       "}\n",
       ".hoogle-package {\n",
       "font-weight: bold;\n",
       "font-style: italic;\n",
       "}\n",
       ".hoogle-module {\n",
       "font-weight: bold;\n",
       "}\n",
       ".hoogle-class {\n",
       "font-weight: bold;\n",
       "}\n",
       ".get-type {\n",
       "color: green;\n",
       "font-weight: bold;\n",
       "font-family: monospace;\n",
       "display: block;\n",
       "white-space: pre-wrap;\n",
       "}\n",
       ".show-type {\n",
       "color: green;\n",
       "font-weight: bold;\n",
       "font-family: monospace;\n",
       "margin-left: 1em;\n",
       "}\n",
       ".mono {\n",
       "font-family: monospace;\n",
       "display: block;\n",
       "}\n",
       ".err-msg {\n",
       "color: red;\n",
       "font-style: italic;\n",
       "font-family: monospace;\n",
       "white-space: pre;\n",
       "display: block;\n",
       "}\n",
       "#unshowable {\n",
       "color: red;\n",
       "font-weight: bold;\n",
       "}\n",
       ".err-msg.in.collapse {\n",
       "padding-top: 0.7em;\n",
       "}\n",
       ".highlight-code {\n",
       "white-space: pre;\n",
       "font-family: monospace;\n",
       "}\n",
       ".suggestion-warning { \n",
       "font-weight: bold;\n",
       "color: rgb(200, 130, 0);\n",
       "}\n",
       ".suggestion-error { \n",
       "font-weight: bold;\n",
       "color: red;\n",
       "}\n",
       ".suggestion-name {\n",
       "font-weight: bold;\n",
       "}\n",
       "</style><div class=\"suggestion-name\" style=\"clear:both;\">Redundant map</div><div class=\"suggestion-row\" style=\"float: left;\"><div class=\"suggestion-warning\">Found:</div><div class=\"highlight-code\" id=\"haskell\">map id</div></div><div class=\"suggestion-row\" style=\"float: left;\"><div class=\"suggestion-warning\">Why Not:</div><div class=\"highlight-code\" id=\"haskell\">id</div></div><div class=\"suggestion-name\" style=\"clear:both;\">Use map once</div><div class=\"suggestion-row\" style=\"float: left;\"><div class=\"suggestion-warning\">Found:</div><div class=\"highlight-code\" id=\"haskell\">map (+ 1) . map (* 2)</div></div><div class=\"suggestion-row\" style=\"float: left;\"><div class=\"suggestion-warning\">Why Not:</div><div class=\"highlight-code\" id=\"haskell\">map ((+ 1) . (* 2))</div></div>"
      ],
      "text/plain": [
       "Line 2: Redundant map\n",
       "Found:\n",
       "map id\n",
       "Why not:\n",
       "idLine 4: Use map once\n",
       "Found:\n",
       "map (+ 1) . map (* 2)\n",
       "Why not:\n",
       "map ((+ 1) . (* 2))"
      ]
     },
     "metadata": {},
     "output_type": "display_data"
    },
    {
     "data": {
      "text/plain": [
       "[1,2,3,4,5]"
      ]
     },
     "metadata": {},
     "output_type": "display_data"
    },
    {
     "data": {
      "text/plain": [
       "[0,1,2,3,4]"
      ]
     },
     "metadata": {},
     "output_type": "display_data"
    },
    {
     "data": {
      "text/plain": [
       "[1,3,5,7,9]"
      ]
     },
     "metadata": {},
     "output_type": "display_data"
    },
    {
     "data": {
      "text/plain": [
       "[1,3,5,7,9]"
      ]
     },
     "metadata": {},
     "output_type": "display_data"
    }
   ],
   "source": [
    "map (+1) [0..4]\n",
    "map id   [0..4]\n",
    "map ((+1) . (*2)) [0..4]\n",
    "(map (+1) . map (*2)) [0..4]"
   ]
  },
  {
   "cell_type": "markdown",
   "id": "c752887a-3c8c-433b-8318-809047f65859",
   "metadata": {},
   "source": [
    "Define una función que aplica una función al elemento envuelto en un `Maybe a`. Recuerda la definición de `Maybe`:\n",
    "\n",
    "```haskell\n",
    "data Maybe a = Nothing | Just a\n",
    "```"
   ]
  },
  {
   "cell_type": "code",
   "execution_count": 3,
   "id": "730bfa91-a28d-4cc8-a2da-be2b62f60e31",
   "metadata": {},
   "outputs": [],
   "source": [
    "import Data.Maybe\n",
    "\n",
    "mapMaybe :: (a -> b) -> Maybe a -> Maybe b\n",
    "mapMaybe _ Nothing  = Nothing\n",
    "mapMaybe f (Just x) = Just (f x)"
   ]
  },
  {
   "cell_type": "code",
   "execution_count": 8,
   "id": "e40e2aa0-c1cd-474e-9900-8e04a84d574d",
   "metadata": {},
   "outputs": [
    {
     "data": {
      "text/html": [
       "<style>/* Styles used for the Hoogle display in the pager */\n",
       ".hoogle-doc {\n",
       "display: block;\n",
       "padding-bottom: 1.3em;\n",
       "padding-left: 0.4em;\n",
       "}\n",
       ".hoogle-code {\n",
       "display: block;\n",
       "font-family: monospace;\n",
       "white-space: pre;\n",
       "}\n",
       ".hoogle-text {\n",
       "display: block;\n",
       "}\n",
       ".hoogle-name {\n",
       "color: green;\n",
       "font-weight: bold;\n",
       "}\n",
       ".hoogle-head {\n",
       "font-weight: bold;\n",
       "}\n",
       ".hoogle-sub {\n",
       "display: block;\n",
       "margin-left: 0.4em;\n",
       "}\n",
       ".hoogle-package {\n",
       "font-weight: bold;\n",
       "font-style: italic;\n",
       "}\n",
       ".hoogle-module {\n",
       "font-weight: bold;\n",
       "}\n",
       ".hoogle-class {\n",
       "font-weight: bold;\n",
       "}\n",
       ".get-type {\n",
       "color: green;\n",
       "font-weight: bold;\n",
       "font-family: monospace;\n",
       "display: block;\n",
       "white-space: pre-wrap;\n",
       "}\n",
       ".show-type {\n",
       "color: green;\n",
       "font-weight: bold;\n",
       "font-family: monospace;\n",
       "margin-left: 1em;\n",
       "}\n",
       ".mono {\n",
       "font-family: monospace;\n",
       "display: block;\n",
       "}\n",
       ".err-msg {\n",
       "color: red;\n",
       "font-style: italic;\n",
       "font-family: monospace;\n",
       "white-space: pre;\n",
       "display: block;\n",
       "}\n",
       "#unshowable {\n",
       "color: red;\n",
       "font-weight: bold;\n",
       "}\n",
       ".err-msg.in.collapse {\n",
       "padding-top: 0.7em;\n",
       "}\n",
       ".highlight-code {\n",
       "white-space: pre;\n",
       "font-family: monospace;\n",
       "}\n",
       ".suggestion-warning { \n",
       "font-weight: bold;\n",
       "color: rgb(200, 130, 0);\n",
       "}\n",
       ".suggestion-error { \n",
       "font-weight: bold;\n",
       "color: red;\n",
       "}\n",
       ".suggestion-name {\n",
       "font-weight: bold;\n",
       "}\n",
       "</style><div class=\"suggestion-name\" style=\"clear:both;\">Use catMaybes</div><div class=\"suggestion-row\" style=\"float: left;\"><div class=\"suggestion-warning\">Found:</div><div class=\"highlight-code\" id=\"haskell\">mapMaybe id</div></div><div class=\"suggestion-row\" style=\"float: left;\"><div class=\"suggestion-warning\">Why Not:</div><div class=\"highlight-code\" id=\"haskell\">catMaybes</div></div>"
      ],
      "text/plain": [
       "Line 3: Use catMaybes\n",
       "Found:\n",
       "mapMaybe id\n",
       "Why not:\n",
       "catMaybes"
      ]
     },
     "metadata": {},
     "output_type": "display_data"
    },
    {
     "data": {
      "text/plain": [
       "Just 8"
      ]
     },
     "metadata": {},
     "output_type": "display_data"
    },
    {
     "data": {
      "text/plain": [
       "Nothing"
      ]
     },
     "metadata": {},
     "output_type": "display_data"
    },
    {
     "data": {
      "text/plain": [
       "Just 5"
      ]
     },
     "metadata": {},
     "output_type": "display_data"
    }
   ],
   "source": [
    "mapMaybe (*2) (Just 4)\n",
    "mapMaybe (*2) Nothing\n",
    "mapMaybe id   (Just 5)"
   ]
  },
  {
   "cell_type": "markdown",
   "id": "088b3321-0124-40c7-8868-98e56c021103",
   "metadata": {},
   "source": [
    "Define una función que aplica otra función al segundo elemento de una dupla."
   ]
  },
  {
   "cell_type": "code",
   "execution_count": 5,
   "id": "9e8e8d37-d80c-4528-819b-4463a465a751",
   "metadata": {},
   "outputs": [],
   "source": [
    "mapDupla :: (b -> c) -> (a, b) -> (a, c)\n",
    "mapDupla f (a, b) = (a, f b)"
   ]
  },
  {
   "cell_type": "code",
   "execution_count": 7,
   "id": "fc7a196c-88d9-449f-b03b-0262b93359ad",
   "metadata": {},
   "outputs": [
    {
     "data": {
      "text/plain": [
       "(\"ab\",[4,5,1,2])"
      ]
     },
     "metadata": {},
     "output_type": "display_data"
    },
    {
     "data": {
      "text/plain": [
       "(\"ab\",[4,5])"
      ]
     },
     "metadata": {},
     "output_type": "display_data"
    }
   ],
   "source": [
    "mapDupla (++[1,2]) (['a', 'b'], [4,5])\n",
    "mapDupla id (['a', 'b'], [4,5])"
   ]
  },
  {
   "cell_type": "markdown",
   "id": "d548276c-b15b-4c09-83ed-82c0698b7bb0",
   "metadata": {},
   "source": [
    "## Definición"
   ]
  },
  {
   "cell_type": "markdown",
   "id": "637ee2df-b943-4b28-812a-d701e1633763",
   "metadata": {},
   "source": [
    "Diremos que un Functor es aquel tipo de dato que se puede mapear. Es decir, podemos aplicar una función al contenido del tipo de dato, sin alterar la estructura que lo contiene.\n",
    "\n",
    "![Ilustración de Functores](functor_1.png)"
   ]
  },
  {
   "cell_type": "markdown",
   "id": "0570e660-ee4e-4e7a-8415-993c64bcbe5c",
   "metadata": {},
   "source": [
    "A la función que mapea sobre un functor, la llamaremos `fmap`. Además, esperamos que se cumplan algunas reglas:\n",
    "\n",
    "1. Identidad: `fmap id == id`.\n",
    "2. Composición: `fmap (f . g) == fmap f . fmap g`.\n",
    "\n",
    "Utilizando algo llamado el _\"Teorema libre para fmap\"_ y la propiedad 1, podemos demostrar que siempre se cumple la propiedad 2. Por lo tanto, basta revisar que se cumple lo primero.\n",
    "\n",
    "$$ \\operatorname{fmap}\\;(id\\;.\\;g) = \\operatorname{fmap}\\;g = id\\;.\\; \\operatorname{fmap}\\;g = \\operatorname{fmap}\\;id\\;.\\;\\operatorname{fmap}\\;g $$\n",
    "$$ \\operatorname{fmap}\\;(f\\;.\\;id) = \\operatorname{fmap}\\;f = \\operatorname{fmap}\\;f\\;.\\;id = \\operatorname{fmap}\\;f\\;.\\;\\operatorname{fmap}\\;id $$"
   ]
  },
  {
   "cell_type": "markdown",
   "id": "5f8fa14e-c2eb-4787-a22a-68accaa174c5",
   "metadata": {},
   "source": [
    "Define la clase `Functor` y la función `fmap`."
   ]
  },
  {
   "cell_type": "code",
   "execution_count": 12,
   "id": "69e87238-21b1-4d7a-a9de-138eacd80121",
   "metadata": {},
   "outputs": [],
   "source": [
    "class Functor f where\n",
    "    fmap :: (a -> b) -> f a -> f b"
   ]
  },
  {
   "cell_type": "markdown",
   "id": "d1cd23be-eac2-4ad6-9a16-787a1fe668a7",
   "metadata": {},
   "source": [
    "Haz que las listas sean instancias de la clase para functores."
   ]
  },
  {
   "cell_type": "code",
   "execution_count": 13,
   "id": "f50acf79-eb24-4027-ac46-cf54e6c95518",
   "metadata": {},
   "outputs": [],
   "source": [
    "instance Functor [] where\n",
    "    fmap = map"
   ]
  },
  {
   "cell_type": "code",
   "execution_count": 21,
   "id": "278bab7b-1652-44a7-9ff6-703152703684",
   "metadata": {},
   "outputs": [
    {
     "data": {
      "text/html": [
       "<style>/* Styles used for the Hoogle display in the pager */\n",
       ".hoogle-doc {\n",
       "display: block;\n",
       "padding-bottom: 1.3em;\n",
       "padding-left: 0.4em;\n",
       "}\n",
       ".hoogle-code {\n",
       "display: block;\n",
       "font-family: monospace;\n",
       "white-space: pre;\n",
       "}\n",
       ".hoogle-text {\n",
       "display: block;\n",
       "}\n",
       ".hoogle-name {\n",
       "color: green;\n",
       "font-weight: bold;\n",
       "}\n",
       ".hoogle-head {\n",
       "font-weight: bold;\n",
       "}\n",
       ".hoogle-sub {\n",
       "display: block;\n",
       "margin-left: 0.4em;\n",
       "}\n",
       ".hoogle-package {\n",
       "font-weight: bold;\n",
       "font-style: italic;\n",
       "}\n",
       ".hoogle-module {\n",
       "font-weight: bold;\n",
       "}\n",
       ".hoogle-class {\n",
       "font-weight: bold;\n",
       "}\n",
       ".get-type {\n",
       "color: green;\n",
       "font-weight: bold;\n",
       "font-family: monospace;\n",
       "display: block;\n",
       "white-space: pre-wrap;\n",
       "}\n",
       ".show-type {\n",
       "color: green;\n",
       "font-weight: bold;\n",
       "font-family: monospace;\n",
       "margin-left: 1em;\n",
       "}\n",
       ".mono {\n",
       "font-family: monospace;\n",
       "display: block;\n",
       "}\n",
       ".err-msg {\n",
       "color: red;\n",
       "font-style: italic;\n",
       "font-family: monospace;\n",
       "white-space: pre;\n",
       "display: block;\n",
       "}\n",
       "#unshowable {\n",
       "color: red;\n",
       "font-weight: bold;\n",
       "}\n",
       ".err-msg.in.collapse {\n",
       "padding-top: 0.7em;\n",
       "}\n",
       ".highlight-code {\n",
       "white-space: pre;\n",
       "font-family: monospace;\n",
       "}\n",
       ".suggestion-warning { \n",
       "font-weight: bold;\n",
       "color: rgb(200, 130, 0);\n",
       "}\n",
       ".suggestion-error { \n",
       "font-weight: bold;\n",
       "color: red;\n",
       "}\n",
       ".suggestion-name {\n",
       "font-weight: bold;\n",
       "}\n",
       "</style><div class=\"suggestion-name\" style=\"clear:both;\">Functor law</div><div class=\"suggestion-row\" style=\"float: left;\"><div class=\"suggestion-warning\">Found:</div><div class=\"highlight-code\" id=\"haskell\">fmap id</div></div><div class=\"suggestion-row\" style=\"float: left;\"><div class=\"suggestion-warning\">Why Not:</div><div class=\"highlight-code\" id=\"haskell\">id</div></div><div class=\"suggestion-name\" style=\"clear:both;\">Functor law</div><div class=\"suggestion-row\" style=\"float: left;\"><div class=\"suggestion-warning\">Found:</div><div class=\"highlight-code\" id=\"haskell\">fmap (+ 1) . fmap (* 2)</div></div><div class=\"suggestion-row\" style=\"float: left;\"><div class=\"suggestion-warning\">Why Not:</div><div class=\"highlight-code\" id=\"haskell\">fmap ((+ 1) . (* 2))</div></div>"
      ],
      "text/plain": [
       "Line 2: Functor law\n",
       "Found:\n",
       "fmap id\n",
       "Why not:\n",
       "idLine 4: Functor law\n",
       "Found:\n",
       "fmap (+ 1) . fmap (* 2)\n",
       "Why not:\n",
       "fmap ((+ 1) . (* 2))"
      ]
     },
     "metadata": {},
     "output_type": "display_data"
    },
    {
     "data": {
      "text/plain": [
       "[1,2,3,4,5]"
      ]
     },
     "metadata": {},
     "output_type": "display_data"
    },
    {
     "data": {
      "text/plain": [
       "[0,1,2,3,4]"
      ]
     },
     "metadata": {},
     "output_type": "display_data"
    },
    {
     "data": {
      "text/plain": [
       "[1,3,5,7,9]"
      ]
     },
     "metadata": {},
     "output_type": "display_data"
    },
    {
     "data": {
      "text/plain": [
       "[1,3,5,7,9]"
      ]
     },
     "metadata": {},
     "output_type": "display_data"
    }
   ],
   "source": [
    "fmap (+1) [0..4]\n",
    "fmap id   [0..4]\n",
    "fmap ((+1) . (*2)) [0..4]\n",
    "(fmap (+1) . fmap (*2)) [0..4]"
   ]
  },
  {
   "cell_type": "markdown",
   "id": "468e3051-4ebe-4572-91da-1953c77aa379",
   "metadata": {},
   "source": [
    "Haz que el tipo `Maybe` sea instancia de la clase de functores."
   ]
  },
  {
   "cell_type": "code",
   "execution_count": 14,
   "id": "953f1c61-0778-4a34-827a-4d537aa016a9",
   "metadata": {},
   "outputs": [],
   "source": [
    "instance Functor Maybe where\n",
    "    fmap = mapMaybe"
   ]
  },
  {
   "cell_type": "code",
   "execution_count": 22,
   "id": "f787c0ab-526a-4e4d-b509-ecf7c987d743",
   "metadata": {},
   "outputs": [
    {
     "data": {
      "text/html": [
       "<style>/* Styles used for the Hoogle display in the pager */\n",
       ".hoogle-doc {\n",
       "display: block;\n",
       "padding-bottom: 1.3em;\n",
       "padding-left: 0.4em;\n",
       "}\n",
       ".hoogle-code {\n",
       "display: block;\n",
       "font-family: monospace;\n",
       "white-space: pre;\n",
       "}\n",
       ".hoogle-text {\n",
       "display: block;\n",
       "}\n",
       ".hoogle-name {\n",
       "color: green;\n",
       "font-weight: bold;\n",
       "}\n",
       ".hoogle-head {\n",
       "font-weight: bold;\n",
       "}\n",
       ".hoogle-sub {\n",
       "display: block;\n",
       "margin-left: 0.4em;\n",
       "}\n",
       ".hoogle-package {\n",
       "font-weight: bold;\n",
       "font-style: italic;\n",
       "}\n",
       ".hoogle-module {\n",
       "font-weight: bold;\n",
       "}\n",
       ".hoogle-class {\n",
       "font-weight: bold;\n",
       "}\n",
       ".get-type {\n",
       "color: green;\n",
       "font-weight: bold;\n",
       "font-family: monospace;\n",
       "display: block;\n",
       "white-space: pre-wrap;\n",
       "}\n",
       ".show-type {\n",
       "color: green;\n",
       "font-weight: bold;\n",
       "font-family: monospace;\n",
       "margin-left: 1em;\n",
       "}\n",
       ".mono {\n",
       "font-family: monospace;\n",
       "display: block;\n",
       "}\n",
       ".err-msg {\n",
       "color: red;\n",
       "font-style: italic;\n",
       "font-family: monospace;\n",
       "white-space: pre;\n",
       "display: block;\n",
       "}\n",
       "#unshowable {\n",
       "color: red;\n",
       "font-weight: bold;\n",
       "}\n",
       ".err-msg.in.collapse {\n",
       "padding-top: 0.7em;\n",
       "}\n",
       ".highlight-code {\n",
       "white-space: pre;\n",
       "font-family: monospace;\n",
       "}\n",
       ".suggestion-warning { \n",
       "font-weight: bold;\n",
       "color: rgb(200, 130, 0);\n",
       "}\n",
       ".suggestion-error { \n",
       "font-weight: bold;\n",
       "color: red;\n",
       "}\n",
       ".suggestion-name {\n",
       "font-weight: bold;\n",
       "}\n",
       "</style><div class=\"suggestion-name\" style=\"clear:both;\">Functor law</div><div class=\"suggestion-row\" style=\"float: left;\"><div class=\"suggestion-warning\">Found:</div><div class=\"highlight-code\" id=\"haskell\">fmap id</div></div><div class=\"suggestion-row\" style=\"float: left;\"><div class=\"suggestion-warning\">Why Not:</div><div class=\"highlight-code\" id=\"haskell\">id</div></div>"
      ],
      "text/plain": [
       "Line 3: Functor law\n",
       "Found:\n",
       "fmap id\n",
       "Why not:\n",
       "id"
      ]
     },
     "metadata": {},
     "output_type": "display_data"
    },
    {
     "data": {
      "text/plain": [
       "Just 8"
      ]
     },
     "metadata": {},
     "output_type": "display_data"
    },
    {
     "data": {
      "text/plain": [
       "Nothing"
      ]
     },
     "metadata": {},
     "output_type": "display_data"
    },
    {
     "data": {
      "text/plain": [
       "Just 5"
      ]
     },
     "metadata": {},
     "output_type": "display_data"
    }
   ],
   "source": [
    "fmap (*2) (Just 4)\n",
    "fmap (*2) Nothing\n",
    "fmap id   (Just 5)"
   ]
  },
  {
   "cell_type": "markdown",
   "id": "1e4ddcaf-3db9-451a-a114-7c122e51aef6",
   "metadata": {},
   "source": [
    "Haz que las duplas sean instancias de la clase de functores en su segunda entrada."
   ]
  },
  {
   "cell_type": "code",
   "execution_count": 17,
   "id": "7ba1b4d9-ba4b-41d5-98a1-2153a8b17e7b",
   "metadata": {},
   "outputs": [],
   "source": [
    "instance Functor ((,) a) where\n",
    "    fmap = mapDupla"
   ]
  },
  {
   "cell_type": "code",
   "execution_count": 23,
   "id": "4e4c1b2d-1341-465b-8de8-7bbb40642c4c",
   "metadata": {},
   "outputs": [
    {
     "data": {
      "text/html": [
       "<style>/* Styles used for the Hoogle display in the pager */\n",
       ".hoogle-doc {\n",
       "display: block;\n",
       "padding-bottom: 1.3em;\n",
       "padding-left: 0.4em;\n",
       "}\n",
       ".hoogle-code {\n",
       "display: block;\n",
       "font-family: monospace;\n",
       "white-space: pre;\n",
       "}\n",
       ".hoogle-text {\n",
       "display: block;\n",
       "}\n",
       ".hoogle-name {\n",
       "color: green;\n",
       "font-weight: bold;\n",
       "}\n",
       ".hoogle-head {\n",
       "font-weight: bold;\n",
       "}\n",
       ".hoogle-sub {\n",
       "display: block;\n",
       "margin-left: 0.4em;\n",
       "}\n",
       ".hoogle-package {\n",
       "font-weight: bold;\n",
       "font-style: italic;\n",
       "}\n",
       ".hoogle-module {\n",
       "font-weight: bold;\n",
       "}\n",
       ".hoogle-class {\n",
       "font-weight: bold;\n",
       "}\n",
       ".get-type {\n",
       "color: green;\n",
       "font-weight: bold;\n",
       "font-family: monospace;\n",
       "display: block;\n",
       "white-space: pre-wrap;\n",
       "}\n",
       ".show-type {\n",
       "color: green;\n",
       "font-weight: bold;\n",
       "font-family: monospace;\n",
       "margin-left: 1em;\n",
       "}\n",
       ".mono {\n",
       "font-family: monospace;\n",
       "display: block;\n",
       "}\n",
       ".err-msg {\n",
       "color: red;\n",
       "font-style: italic;\n",
       "font-family: monospace;\n",
       "white-space: pre;\n",
       "display: block;\n",
       "}\n",
       "#unshowable {\n",
       "color: red;\n",
       "font-weight: bold;\n",
       "}\n",
       ".err-msg.in.collapse {\n",
       "padding-top: 0.7em;\n",
       "}\n",
       ".highlight-code {\n",
       "white-space: pre;\n",
       "font-family: monospace;\n",
       "}\n",
       ".suggestion-warning { \n",
       "font-weight: bold;\n",
       "color: rgb(200, 130, 0);\n",
       "}\n",
       ".suggestion-error { \n",
       "font-weight: bold;\n",
       "color: red;\n",
       "}\n",
       ".suggestion-name {\n",
       "font-weight: bold;\n",
       "}\n",
       "</style><div class=\"suggestion-name\" style=\"clear:both;\">Functor law</div><div class=\"suggestion-row\" style=\"float: left;\"><div class=\"suggestion-warning\">Found:</div><div class=\"highlight-code\" id=\"haskell\">fmap id</div></div><div class=\"suggestion-row\" style=\"float: left;\"><div class=\"suggestion-warning\">Why Not:</div><div class=\"highlight-code\" id=\"haskell\">id</div></div>"
      ],
      "text/plain": [
       "Line 2: Functor law\n",
       "Found:\n",
       "fmap id\n",
       "Why not:\n",
       "id"
      ]
     },
     "metadata": {},
     "output_type": "display_data"
    },
    {
     "data": {
      "text/plain": [
       "(\"ab\",[4,5,1,2])"
      ]
     },
     "metadata": {},
     "output_type": "display_data"
    },
    {
     "data": {
      "text/plain": [
       "(\"ab\",[4,5])"
      ]
     },
     "metadata": {},
     "output_type": "display_data"
    }
   ],
   "source": [
    "fmap (++[1,2]) (['a', 'b'], [4,5])\n",
    "fmap id (['a', 'b'], [4,5])"
   ]
  },
  {
   "cell_type": "markdown",
   "id": "34e37cab-fd19-441a-a25e-07d857f4d404",
   "metadata": {},
   "source": [
    "Haz que las funciones sean instancias de functores con respecto a la segunda función."
   ]
  },
  {
   "cell_type": "code",
   "execution_count": 20,
   "id": "c742d89a-0d94-4e1e-871a-dd7d3a958a5e",
   "metadata": {},
   "outputs": [],
   "source": [
    "-- (a -> b) -> (r -> a) -> (r -> b)\n",
    "instance Functor ((->) r) where\n",
    "    fmap = (.)"
   ]
  },
  {
   "cell_type": "code",
   "execution_count": 25,
   "id": "04d92976-6edd-4313-87db-412b85910e29",
   "metadata": {},
   "outputs": [
    {
     "data": {
      "text/plain": [
       "7"
      ]
     },
     "metadata": {},
     "output_type": "display_data"
    }
   ],
   "source": [
    "fmap (+2) (*5) 1"
   ]
  },
  {
   "cell_type": "markdown",
   "id": "df1bdda3-70a6-4f44-9958-ce3bc2918907",
   "metadata": {},
   "source": [
    "### Operadores\n",
    "\n",
    "La función `fmap` recibe exactamente 2 argumentos, por lo tanto, puede usarse como operador:\n",
    "\n",
    "```haskell\n",
    "(+5) `fmap` [1,2,3,4]\n",
    "```\n",
    "\n",
    "Sin embargo, se ve muy feo lo anterior, y puede no ser legible."
   ]
  },
  {
   "cell_type": "markdown",
   "id": "3cb54990-c795-4557-bf48-259eb378844c",
   "metadata": {},
   "source": [
    "Crea un operador infijo, con asociatividad izquierda y jerarquía 4 que sea equivalente a `fmap`. Dale el nombre `<$>`."
   ]
  },
  {
   "cell_type": "code",
   "execution_count": 26,
   "id": "dcdadc90-ecf1-4bc7-ad8b-869e6868f66d",
   "metadata": {},
   "outputs": [],
   "source": [
    "-- (a -> b) -> f a -> f b : <$>\n",
    "-- (a -> b) ->   a ->   b :  $\n",
    "\n",
    "infixl 4 <$>\n",
    "(<$>) = fmap"
   ]
  },
  {
   "cell_type": "code",
   "execution_count": 29,
   "id": "b5b0a137-6ac6-4625-b780-067684db5a3d",
   "metadata": {},
   "outputs": [
    {
     "data": {
      "text/html": [
       "<style>/* Styles used for the Hoogle display in the pager */\n",
       ".hoogle-doc {\n",
       "display: block;\n",
       "padding-bottom: 1.3em;\n",
       "padding-left: 0.4em;\n",
       "}\n",
       ".hoogle-code {\n",
       "display: block;\n",
       "font-family: monospace;\n",
       "white-space: pre;\n",
       "}\n",
       ".hoogle-text {\n",
       "display: block;\n",
       "}\n",
       ".hoogle-name {\n",
       "color: green;\n",
       "font-weight: bold;\n",
       "}\n",
       ".hoogle-head {\n",
       "font-weight: bold;\n",
       "}\n",
       ".hoogle-sub {\n",
       "display: block;\n",
       "margin-left: 0.4em;\n",
       "}\n",
       ".hoogle-package {\n",
       "font-weight: bold;\n",
       "font-style: italic;\n",
       "}\n",
       ".hoogle-module {\n",
       "font-weight: bold;\n",
       "}\n",
       ".hoogle-class {\n",
       "font-weight: bold;\n",
       "}\n",
       ".get-type {\n",
       "color: green;\n",
       "font-weight: bold;\n",
       "font-family: monospace;\n",
       "display: block;\n",
       "white-space: pre-wrap;\n",
       "}\n",
       ".show-type {\n",
       "color: green;\n",
       "font-weight: bold;\n",
       "font-family: monospace;\n",
       "margin-left: 1em;\n",
       "}\n",
       ".mono {\n",
       "font-family: monospace;\n",
       "display: block;\n",
       "}\n",
       ".err-msg {\n",
       "color: red;\n",
       "font-style: italic;\n",
       "font-family: monospace;\n",
       "white-space: pre;\n",
       "display: block;\n",
       "}\n",
       "#unshowable {\n",
       "color: red;\n",
       "font-weight: bold;\n",
       "}\n",
       ".err-msg.in.collapse {\n",
       "padding-top: 0.7em;\n",
       "}\n",
       ".highlight-code {\n",
       "white-space: pre;\n",
       "font-family: monospace;\n",
       "}\n",
       ".suggestion-warning { \n",
       "font-weight: bold;\n",
       "color: rgb(200, 130, 0);\n",
       "}\n",
       ".suggestion-error { \n",
       "font-weight: bold;\n",
       "color: red;\n",
       "}\n",
       ".suggestion-name {\n",
       "font-weight: bold;\n",
       "}\n",
       "</style><span class='get-type'>(<$) :: forall (f :: * -> *) a b. Functor f => a -> f b -> f a</span>"
      ],
      "text/plain": [
       "(<$) :: forall (f :: * -> *) a b. Functor f => a -> f b -> f a"
      ]
     },
     "metadata": {},
     "output_type": "display_data"
    }
   ],
   "source": [
    ":t (<$)"
   ]
  },
  {
   "cell_type": "markdown",
   "id": "f074cbcc-2805-4294-b083-f16fe9cbbe15",
   "metadata": {},
   "source": [
    "## Utilizando functores\n",
    "\n",
    "- Crear funciones del tipo `f a -> f b`.\n",
    "- Aplicar series de modificaciones."
   ]
  },
  {
   "cell_type": "code",
   "execution_count": null,
   "id": "58f64faa-79bf-46a9-92e2-52300da73727",
   "metadata": {},
   "outputs": [],
   "source": [
    "-- f a -> f b : g\n",
    "-- f b -> f c : h\n",
    "\n",
    "-- g <$> h : f a -> f c"
   ]
  },
  {
   "cell_type": "markdown",
   "id": "36b100b5-f421-40fd-bf5a-0dcb9aa43365",
   "metadata": {},
   "source": [
    "Crea una función que recibe algo de tipo `Maybe Int` y te devuelve algo de tipo `Maybe Bool`, donde el booleano es `True` si el número es 0 o positivo, y `False` en otro caso. Primero, escríbela usando caza de patrones, y luego reescríbela con Functores."
   ]
  },
  {
   "cell_type": "code",
   "execution_count": 30,
   "id": "b4febea1-8210-4304-bc93-410305949c94",
   "metadata": {},
   "outputs": [],
   "source": [
    "-- Maybe a = Nothing | Just a\n",
    "\n",
    "maybePositivo :: Maybe Int -> Maybe Bool\n",
    "maybePositivo Nothing  = Nothing\n",
    "maybePositivo (Just x) = Just (x >= 0)"
   ]
  },
  {
   "cell_type": "code",
   "execution_count": 31,
   "id": "7ce55029-a261-4b56-9608-1c08f782badb",
   "metadata": {},
   "outputs": [],
   "source": [
    "maybePositivo' :: Maybe Int -> Maybe Bool\n",
    "maybePositivo' mi = (\\x -> x >= 0) <$> mi"
   ]
  },
  {
   "cell_type": "code",
   "execution_count": 32,
   "id": "e5f9dba4-afb8-4e8b-ae89-e0315e71d81c",
   "metadata": {},
   "outputs": [
    {
     "data": {
      "text/plain": [
       "Nothing"
      ]
     },
     "metadata": {},
     "output_type": "display_data"
    },
    {
     "data": {
      "text/plain": [
       "Nothing"
      ]
     },
     "metadata": {},
     "output_type": "display_data"
    },
    {
     "data": {
      "text/plain": [
       "Just True"
      ]
     },
     "metadata": {},
     "output_type": "display_data"
    },
    {
     "data": {
      "text/plain": [
       "Just True"
      ]
     },
     "metadata": {},
     "output_type": "display_data"
    },
    {
     "data": {
      "text/plain": [
       "Just False"
      ]
     },
     "metadata": {},
     "output_type": "display_data"
    },
    {
     "data": {
      "text/plain": [
       "Just False"
      ]
     },
     "metadata": {},
     "output_type": "display_data"
    }
   ],
   "source": [
    "maybePositivo  Nothing\n",
    "maybePositivo' Nothing\n",
    "\n",
    "maybePositivo  (Just 10)\n",
    "maybePositivo' (Just 10)\n",
    "\n",
    "maybePositivo  (Just (-4))\n",
    "maybePositivo' (Just (-4))"
   ]
  },
  {
   "cell_type": "markdown",
   "id": "5b423d1e-905a-4de8-9ece-2e8121e852aa",
   "metadata": {},
   "source": [
    "Crea una función que toma una lista de `Maybe`s con un elemento de tipo numérico, y te regresa el doble de todos los números."
   ]
  },
  {
   "cell_type": "code",
   "execution_count": 45,
   "id": "2ceb94f1-bca1-449a-8eb7-f27482646676",
   "metadata": {},
   "outputs": [],
   "source": [
    "--[Nothing, Just 5, Just 10] -> [Nothing, Just 10, Just 20]\n",
    "\n",
    "dobleMaybes :: Num a => [Maybe a] -> [Maybe a]\n",
    "--dobleMaybes = fmap (fmap (*2))\n",
    "dobleMaybes = (fmap . fmap) (*2)"
   ]
  },
  {
   "cell_type": "code",
   "execution_count": 43,
   "id": "d0549978-61a8-4931-ab24-1418d232c2fb",
   "metadata": {},
   "outputs": [
    {
     "data": {
      "text/plain": [
       "[Nothing,Just 8,Just 12]"
      ]
     },
     "metadata": {},
     "output_type": "display_data"
    }
   ],
   "source": [
    "dobleMaybes [Nothing, Just 4, Just 6]"
   ]
  },
  {
   "cell_type": "code",
   "execution_count": 46,
   "id": "9da5cae7-6da5-4849-bd4d-9cc719fccc57",
   "metadata": {},
   "outputs": [
    {
     "data": {
      "text/html": [
       "<style>/* Styles used for the Hoogle display in the pager */\n",
       ".hoogle-doc {\n",
       "display: block;\n",
       "padding-bottom: 1.3em;\n",
       "padding-left: 0.4em;\n",
       "}\n",
       ".hoogle-code {\n",
       "display: block;\n",
       "font-family: monospace;\n",
       "white-space: pre;\n",
       "}\n",
       ".hoogle-text {\n",
       "display: block;\n",
       "}\n",
       ".hoogle-name {\n",
       "color: green;\n",
       "font-weight: bold;\n",
       "}\n",
       ".hoogle-head {\n",
       "font-weight: bold;\n",
       "}\n",
       ".hoogle-sub {\n",
       "display: block;\n",
       "margin-left: 0.4em;\n",
       "}\n",
       ".hoogle-package {\n",
       "font-weight: bold;\n",
       "font-style: italic;\n",
       "}\n",
       ".hoogle-module {\n",
       "font-weight: bold;\n",
       "}\n",
       ".hoogle-class {\n",
       "font-weight: bold;\n",
       "}\n",
       ".get-type {\n",
       "color: green;\n",
       "font-weight: bold;\n",
       "font-family: monospace;\n",
       "display: block;\n",
       "white-space: pre-wrap;\n",
       "}\n",
       ".show-type {\n",
       "color: green;\n",
       "font-weight: bold;\n",
       "font-family: monospace;\n",
       "margin-left: 1em;\n",
       "}\n",
       ".mono {\n",
       "font-family: monospace;\n",
       "display: block;\n",
       "}\n",
       ".err-msg {\n",
       "color: red;\n",
       "font-style: italic;\n",
       "font-family: monospace;\n",
       "white-space: pre;\n",
       "display: block;\n",
       "}\n",
       "#unshowable {\n",
       "color: red;\n",
       "font-weight: bold;\n",
       "}\n",
       ".err-msg.in.collapse {\n",
       "padding-top: 0.7em;\n",
       "}\n",
       ".highlight-code {\n",
       "white-space: pre;\n",
       "font-family: monospace;\n",
       "}\n",
       ".suggestion-warning { \n",
       "font-weight: bold;\n",
       "color: rgb(200, 130, 0);\n",
       "}\n",
       ".suggestion-error { \n",
       "font-weight: bold;\n",
       "color: red;\n",
       "}\n",
       ".suggestion-name {\n",
       "font-weight: bold;\n",
       "}\n",
       "</style><span class='get-type'>(fmap . fmap) :: forall (f1 :: * -> *) (f2 :: * -> *) a b. (Functor f1, Functor f2) => (a -> b) -> f1 (f2 a) -> f1 (f2 b)</span>"
      ],
      "text/plain": [
       "(fmap . fmap) :: forall (f1 :: * -> *) (f2 :: * -> *) a b. (Functor f1, Functor f2) => (a -> b) -> f1 (f2 a) -> f1 (f2 b)"
      ]
     },
     "metadata": {},
     "output_type": "display_data"
    }
   ],
   "source": [
    ":t (fmap . fmap)"
   ]
  },
  {
   "cell_type": "markdown",
   "id": "0868e247-1483-445c-b6f3-b2dc469960f6",
   "metadata": {},
   "source": [
    "## Limitantes\n",
    "\n",
    "- Solo podemos ir de un functor a otro functor (posiblemente con functores anidados).\n",
    "    - `liftF2 :: Functor f => (a -> b -> c) -> f a -> f b -> f c`\n",
    "- Cada tipo de dato solo tiene un functor (es decir, los functores son únicos)."
   ]
  },
  {
   "cell_type": "code",
   "execution_count": null,
   "id": "2750d941-a54f-4da1-b751-ff67f3a2d1eb",
   "metadata": {},
   "outputs": [],
   "source": [
    "sumaJust :: Maybe a -> Maybe b -> Maybe c\n",
    "sumaJust (Just x) (Just y) = Just (x + y)"
   ]
  },
  {
   "cell_type": "markdown",
   "id": "8cb1abc5-6eeb-4e40-8eaf-a6e9df7c40d0",
   "metadata": {},
   "source": [
    "## Usos\n",
    "\n",
    "- Modificaciones dentro de contextos: Bases de datos.\n",
    "- Cambios de contexto (Transformaciones Naturales).\n",
    "- Secuencias de modificaciones que pueden fallar."
   ]
  },
  {
   "cell_type": "markdown",
   "id": "84a184a4-6211-4c83-a15f-ea0a4ee81e3f",
   "metadata": {},
   "source": [
    "Tipos de datos que son instancias de functores:\n",
    "- Listas.\n",
    "- Árboles (binarios, rojinegros, tries, etc).\n",
    "- Matrices.\n",
    "- Grafos.\n",
    "- Funciones."
   ]
  },
  {
   "cell_type": "code",
   "execution_count": 48,
   "id": "fb85116f-c8e4-47ec-943c-19596140fafe",
   "metadata": {},
   "outputs": [],
   "source": [
    "data Estudiante = Estudiante { nombre   :: String\n",
    "                             , promedio :: Double\n",
    "                             , inscrito :: Bool\n",
    "                             } deriving Show\n",
    "\n",
    "type BDDEstudiantes = [Estudiante]\n",
    "\n",
    "inscritos :: BDDEstudiantes -> [Maybe Estudiante]\n",
    "inscritos = fmap (\\estudiante -> if inscrito estudiante then Just estudiante else Nothing)\n",
    "\n",
    "puntoExtra :: [Maybe Estudiante] -> [Maybe Estudiante]\n",
    "puntoExtra = (fmap . fmap) (\\estudiante -> estudiante { promedio = promedio estudiante + 1 })\n",
    "\n",
    "actualizaCalificaciones :: BDDEstudiantes -> [Maybe Estudiante]\n",
    "actualizaCalificaciones = puntoExtra <$> inscritos"
   ]
  },
  {
   "cell_type": "code",
   "execution_count": 49,
   "id": "4c2dd26b-eb2c-4c98-8c32-a56c9c38eecb",
   "metadata": {},
   "outputs": [
    {
     "data": {
      "text/plain": [
       "[Just (Estudiante {nombre = \"Alonzo Church\", promedio = 10.0, inscrito = True}),Just (Estudiante {nombre = \"Alan Turing\", promedio = 9.3, inscrito = True}),Nothing]"
      ]
     },
     "metadata": {},
     "output_type": "display_data"
    }
   ],
   "source": [
    "actualizaCalificaciones [ Estudiante \"Alonzo Church\" 9   True\n",
    "                        , Estudiante \"Alan Turing\"   8.3 True\n",
    "                        , Estudiante \"Kurt Godel\"    9   False\n",
    "                        ]"
   ]
  },
  {
   "cell_type": "code",
   "execution_count": null,
   "id": "e471e4c0-9c83-45a9-a563-3afe5519f616",
   "metadata": {},
   "outputs": [],
   "source": []
  }
 ],
 "metadata": {
  "kernelspec": {
   "display_name": "Haskell",
   "language": "haskell",
   "name": "haskell"
  },
  "language_info": {
   "codemirror_mode": "ihaskell",
   "file_extension": ".hs",
   "mimetype": "text/x-haskell",
   "name": "haskell",
   "pygments_lexer": "Haskell",
   "version": "8.10.4"
  }
 },
 "nbformat": 4,
 "nbformat_minor": 5
}
