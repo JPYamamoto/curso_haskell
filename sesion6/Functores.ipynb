{
 "cells": [
  {
   "cell_type": "markdown",
   "id": "040eb07e-7bed-4e21-a772-96c5a15ac843",
   "metadata": {},
   "source": [
    "# Functores\n",
    "\n",
    "Pasos para entender una álgebra en Haskell (según Chris Allen):\n",
    "1. Encuentra un patrón y hazlo general.\n",
    "2. Define cuáles son las leyes que va a cumplir.\n",
    "3. Dale un nombre cool.\n",
    "4. Pregúntate cómo pudiste vivir todo este tiempo sin él."
   ]
  },
  {
   "cell_type": "markdown",
   "id": "96d9c14a-2f5d-4fb8-83d6-13b87ce2b829",
   "metadata": {},
   "source": [
    "## Buscando un patrón\n",
    "Define una función que aplica una función a todos los elementos de una lista."
   ]
  },
  {
   "cell_type": "code",
   "execution_count": null,
   "id": "c90141fb-19d6-4492-a7a1-7d1b25b10a2a",
   "metadata": {},
   "outputs": [],
   "source": []
  },
  {
   "cell_type": "markdown",
   "id": "c752887a-3c8c-433b-8318-809047f65859",
   "metadata": {},
   "source": [
    "Define una función que aplica una función al elemento envuelto en un `Maybe a`. Recuerda la definición de `Maybe`:\n",
    "\n",
    "```haskell\n",
    "data Maybe a = Nothing | Just a\n",
    "```"
   ]
  },
  {
   "cell_type": "code",
   "execution_count": null,
   "id": "730bfa91-a28d-4cc8-a2da-be2b62f60e31",
   "metadata": {},
   "outputs": [],
   "source": [
    "import Data.Maybe\n"
   ]
  },
  {
   "cell_type": "markdown",
   "id": "088b3321-0124-40c7-8868-98e56c021103",
   "metadata": {},
   "source": [
    "Define una función que aplica otra función al segundo elemento de una dupla."
   ]
  },
  {
   "cell_type": "code",
   "execution_count": null,
   "id": "9e8e8d37-d80c-4528-819b-4463a465a751",
   "metadata": {},
   "outputs": [],
   "source": []
  },
  {
   "cell_type": "markdown",
   "id": "d548276c-b15b-4c09-83ed-82c0698b7bb0",
   "metadata": {},
   "source": [
    "## Definición"
   ]
  },
  {
   "cell_type": "markdown",
   "id": "637ee2df-b943-4b28-812a-d701e1633763",
   "metadata": {},
   "source": [
    "Diremos que un Functor es aquel tipo de dato que se puede mapear. Es decir, podemos aplicar una función al contenido del tipo de dato, sin alterar la estructura que lo contiene.\n",
    "\n",
    "![Ilustración de Functores](functor_1.png)"
   ]
  },
  {
   "cell_type": "markdown",
   "id": "0570e660-ee4e-4e7a-8415-993c64bcbe5c",
   "metadata": {},
   "source": [
    "A la función que mapea sobre un functor, la llamaremos `fmap`. Además, esperamos que se cumplan algunas reglas:\n",
    "\n",
    "1. Identidad: `fmap id == id`.\n",
    "2. Composición: `fmap (f . g) == fmap f . fmap g`.\n",
    "\n",
    "Utilizando algo llamado el _\"Teorema libre para fmap\"_ y la propiedad 1, podemos demostrar que siempre se cumple la propiedad 2. Por lo tanto, basta revisar que se cumple lo primero.\n",
    "\n",
    "$$ \\operatorname{fmap}\\;(id\\;.\\;g) = \\operatorname{fmap}\\;g = id\\;.\\; \\operatorname{fmap}\\;g = \\operatorname{fmap}\\;id\\;.\\;\\operatorname{fmap}\\;g $$\n",
    "$$ \\operatorname{fmap}\\;(f\\;.\\;id) = \\operatorname{fmap}\\;f = \\operatorname{fmap}\\;f\\;.\\;id = \\operatorname{fmap}\\;f\\;.\\;\\operatorname{fmap}\\;id $$"
   ]
  },
  {
   "cell_type": "markdown",
   "id": "5f8fa14e-c2eb-4787-a22a-68accaa174c5",
   "metadata": {},
   "source": [
    "Define la clase `Functor` y la función `fmap`."
   ]
  },
  {
   "cell_type": "code",
   "execution_count": null,
   "id": "69e87238-21b1-4d7a-a9de-138eacd80121",
   "metadata": {},
   "outputs": [],
   "source": []
  },
  {
   "cell_type": "markdown",
   "id": "d1cd23be-eac2-4ad6-9a16-787a1fe668a7",
   "metadata": {},
   "source": [
    "Haz que las listas sean instancias de la clase para functores."
   ]
  },
  {
   "cell_type": "code",
   "execution_count": null,
   "id": "f50acf79-eb24-4027-ac46-cf54e6c95518",
   "metadata": {},
   "outputs": [],
   "source": []
  },
  {
   "cell_type": "markdown",
   "id": "468e3051-4ebe-4572-91da-1953c77aa379",
   "metadata": {},
   "source": [
    "Haz que el tipo `Maybe` sea instancia de la clase de functores."
   ]
  },
  {
   "cell_type": "code",
   "execution_count": null,
   "id": "953f1c61-0778-4a34-827a-4d537aa016a9",
   "metadata": {},
   "outputs": [],
   "source": []
  },
  {
   "cell_type": "markdown",
   "id": "1e4ddcaf-3db9-451a-a114-7c122e51aef6",
   "metadata": {},
   "source": [
    "Haz que las duplas sean instancias de la clase de functores en su segunda entrada."
   ]
  },
  {
   "cell_type": "code",
   "execution_count": null,
   "id": "7ba1b4d9-ba4b-41d5-98a1-2153a8b17e7b",
   "metadata": {},
   "outputs": [],
   "source": []
  },
  {
   "cell_type": "markdown",
   "id": "34e37cab-fd19-441a-a25e-07d857f4d404",
   "metadata": {},
   "source": [
    "Haz que las funciones sean instancias de functores con respecto a la segunda función."
   ]
  },
  {
   "cell_type": "code",
   "execution_count": null,
   "id": "c742d89a-0d94-4e1e-871a-dd7d3a958a5e",
   "metadata": {},
   "outputs": [],
   "source": []
  },
  {
   "cell_type": "markdown",
   "id": "df1bdda3-70a6-4f44-9958-ce3bc2918907",
   "metadata": {},
   "source": [
    "### Operadores\n",
    "\n",
    "La función `fmap` recibe exactamente 2 argumentos, por lo tanto, puede usarse como operador:\n",
    "\n",
    "```haskell\n",
    "(+5) `fmap` [1,2,3,4]\n",
    "```\n",
    "\n",
    "Sin embargo, se ve muy feo lo anterior, y puede no ser legible."
   ]
  },
  {
   "cell_type": "markdown",
   "id": "3cb54990-c795-4557-bf48-259eb378844c",
   "metadata": {},
   "source": [
    "Crea un operador infijo, con asociatividad izquierda y jerarquía 4 que sea equivalente a `fmap`. Dale el nombre `<$>`."
   ]
  },
  {
   "cell_type": "code",
   "execution_count": null,
   "id": "dcdadc90-ecf1-4bc7-ad8b-869e6868f66d",
   "metadata": {},
   "outputs": [],
   "source": []
  },
  {
   "cell_type": "markdown",
   "id": "f074cbcc-2805-4294-b083-f16fe9cbbe15",
   "metadata": {},
   "source": [
    "## Utilizando functores\n",
    "\n",
    "- Crear funciones del tipo `f a -> f b`.\n",
    "- Aplicar series de modificaciones."
   ]
  },
  {
   "cell_type": "markdown",
   "id": "36b100b5-f421-40fd-bf5a-0dcb9aa43365",
   "metadata": {},
   "source": [
    "Crea una función que recibe algo de tipo `Maybe Int` y te devuelve algo de tipo `Maybe Bool`, donde el booleano es `True` si el número es 0 o positivo, y `False` en otro caso. Primero, escríbela usando caza de patrones, y luego reescríbela con Functores."
   ]
  },
  {
   "cell_type": "code",
   "execution_count": null,
   "id": "b4febea1-8210-4304-bc93-410305949c94",
   "metadata": {},
   "outputs": [],
   "source": []
  },
  {
   "cell_type": "code",
   "execution_count": null,
   "id": "7ce55029-a261-4b56-9608-1c08f782badb",
   "metadata": {},
   "outputs": [],
   "source": []
  },
  {
   "cell_type": "markdown",
   "id": "5b423d1e-905a-4de8-9ece-2e8121e852aa",
   "metadata": {},
   "source": [
    "Crea una función que toma una lista de `Maybe`s con un elemento de tipo numérico, y te regresa el doble de todos los números."
   ]
  },
  {
   "cell_type": "code",
   "execution_count": null,
   "id": "2ceb94f1-bca1-449a-8eb7-f27482646676",
   "metadata": {},
   "outputs": [],
   "source": []
  },
  {
   "cell_type": "markdown",
   "id": "0868e247-1483-445c-b6f3-b2dc469960f6",
   "metadata": {},
   "source": [
    "## Limitantes\n",
    "\n",
    "- Solo podemos ir de un functor a otro functor (posiblemente con functores anidados).\n",
    "    - `liftF2 :: Functor f => (a -> b -> c) -> f a -> f b -> f c`\n",
    "- Cada tipo de dato solo tiene un functor (es decir, los functores son únicos)."
   ]
  },
  {
   "cell_type": "markdown",
   "id": "8cb1abc5-6eeb-4e40-8eaf-a6e9df7c40d0",
   "metadata": {},
   "source": [
    "## Usos\n",
    "\n",
    "- Modificaciones dentro de contextos: Bases de datos.\n",
    "- Cambios de contexto (Transformaciones Naturales).\n",
    "- Secuencias de modificaciones que pueden fallar."
   ]
  },
  {
   "cell_type": "markdown",
   "id": "84a184a4-6211-4c83-a15f-ea0a4ee81e3f",
   "metadata": {},
   "source": [
    "Tipos de datos que son instancias de functores:\n",
    "- Listas.\n",
    "- Árboles (binarios, rojinegros, tries, etc).\n",
    "- Matrices.\n",
    "- Grafos.\n",
    "- Funciones."
   ]
  },
  {
   "cell_type": "code",
   "execution_count": 1,
   "id": "fb85116f-c8e4-47ec-943c-19596140fafe",
   "metadata": {},
   "outputs": [],
   "source": [
    "data Estudiante = Estudiante { nombre   :: String\n",
    "                             , promedio :: Double\n",
    "                             , inscrito :: Bool\n",
    "                             } deriving Show\n",
    "\n",
    "type BDDEstudiantes = [Estudiante]\n",
    "\n",
    "inscritos :: BDDEstudiantes -> [Maybe Estudiante]\n",
    "inscritos = fmap (\\estudiante -> if inscrito estudiante then Just estudiante else Nothing)\n",
    "\n",
    "puntoExtra :: [Maybe Estudiante] -> [Maybe Estudiante]\n",
    "puntoExtra = (fmap . fmap) (\\estudiante -> estudiante { promedio = promedio estudiante + 1 })\n",
    "\n",
    "actualizaCalificaciones :: BDDEstudiantes -> [Maybe Estudiante]\n",
    "actualizaCalificaciones = puntoExtra <$> inscritos"
   ]
  },
  {
   "cell_type": "code",
   "execution_count": 2,
   "id": "4c2dd26b-eb2c-4c98-8c32-a56c9c38eecb",
   "metadata": {},
   "outputs": [
    {
     "data": {
      "text/plain": [
       "[Just (Estudiante {nombre = \"Alonzo Church\", promedio = 10.0, inscrito = True}),Just (Estudiante {nombre = \"Alan Turing\", promedio = 9.3, inscrito = True}),Nothing]"
      ]
     },
     "metadata": {},
     "output_type": "display_data"
    }
   ],
   "source": [
    "actualizaCalificaciones [ Estudiante \"Alonzo Church\" 9   True\n",
    "                        , Estudiante \"Alan Turing\"   8.3 True\n",
    "                        , Estudiante \"Kurt Godel\"    9   False\n",
    "                        ]"
   ]
  },
  {
   "cell_type": "code",
   "execution_count": null,
   "id": "e471e4c0-9c83-45a9-a563-3afe5519f616",
   "metadata": {},
   "outputs": [],
   "source": []
  }
 ],
 "metadata": {
  "kernelspec": {
   "display_name": "Haskell",
   "language": "haskell",
   "name": "haskell"
  },
  "language_info": {
   "codemirror_mode": "Haskell",
   "file_extension": ".hs",
   "mimetype": "text/x-haskell",
   "name": "haskell",
   "pygments_lexer": "Haskell",
   "version": "8.10.4"
  }
 },
 "nbformat": 4,
 "nbformat_minor": 5
}
