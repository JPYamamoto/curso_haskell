{
 "cells": [
  {
   "cell_type": "markdown",
   "id": "a2b235f3-c4cc-4778-9184-b1572e4475fa",
   "metadata": {},
   "source": [
    "# Semigrupos\n",
    "\n",
    "Es una álgebra compuesta por un conjunto (tipo de dato) y una operación binaria asociativa cerrada.\n",
    "\n",
    "$$ \\star : A \\times A \\to A $$\n",
    "$$ a \\star (b \\star c) = (a \\star b) \\star c $$"
   ]
  },
  {
   "cell_type": "markdown",
   "id": "29e9e80a-c920-4fca-9a58-bb6c85969f23",
   "metadata": {},
   "source": [
    "## ¿Semigrupo o no?\n",
    "\n",
    "- La suma sobre los números naturales.\n",
    "- La resta sobre los números naturales.\n",
    "- El producto sobre los números naturales.\n",
    "- La concatenación de listas.\n",
    "- La división de números enteros.\n",
    "- El operador `&&` sobre los booleanos.\n",
    "- La exponenciación de números enteros.\n",
    "- La función mínimo (regresa el mínimo de 2 elementos) sobre algún tipo ordenable."
   ]
  },
  {
   "cell_type": "markdown",
   "id": "8be5ab90-e22e-4b62-b974-c1d38dbe9413",
   "metadata": {},
   "source": [
    "Define una clase para Semigrupos\n",
    "Utiliza `<>` como el operador del semigrupo. Procura que sea infijo, con asociatividad derecha y jerarquía 6."
   ]
  },
  {
   "cell_type": "code",
   "execution_count": null,
   "id": "c8b55216-e6bb-4d9d-866f-5d4b82bb596d",
   "metadata": {},
   "outputs": [],
   "source": []
  },
  {
   "cell_type": "markdown",
   "id": "5e2709e5-7af5-48f9-99ea-bd51e4ee13b8",
   "metadata": {},
   "source": [
    "Define a las listas como instancias de la clase para semigrupos.\n",
    "La operación asociativa y cerrada es la concatenación `++`"
   ]
  },
  {
   "cell_type": "code",
   "execution_count": null,
   "id": "94660743-6285-4557-8d88-f5ea03eed72d",
   "metadata": {},
   "outputs": [],
   "source": []
  },
  {
   "cell_type": "markdown",
   "id": "82f9be01-5c6e-4830-9677-b8b1aef81fc9",
   "metadata": {},
   "source": [
    "Define a los números como instancias de la clase de semigrupos. ¿Cuál operación asociativa usamos?"
   ]
  },
  {
   "cell_type": "code",
   "execution_count": null,
   "id": "2df379b5-7230-4eb4-9b13-e22fe1a12f48",
   "metadata": {},
   "outputs": [],
   "source": []
  },
  {
   "cell_type": "markdown",
   "id": "9faeb509-b006-4054-857a-490d06bc2b4c",
   "metadata": {},
   "source": [
    "Un último ejemplo de semigrupo...\n",
    "\n",
    "Crea otra instancia de números enteros que sea un semigrupo bajo la operación mínimo.\n",
    "\n",
    "```haskell\n",
    "Minimo 6 <> Minimo -5 <> Minimo 0 = Minimo -5\n",
    "```"
   ]
  },
  {
   "cell_type": "code",
   "execution_count": null,
   "id": "3b50f8cf-a18a-4db0-ada4-38d0322733b1",
   "metadata": {},
   "outputs": [],
   "source": []
  },
  {
   "cell_type": "markdown",
   "id": "67d3d41b-f041-4b1d-a5dc-23bbb9b8d236",
   "metadata": {},
   "source": [
    "## ¿Pa' qué?\n",
    "\n",
    "1. Abstracción.\n",
    "2. Una función asociativa es paralelizable."
   ]
  }
 ],
 "metadata": {
  "kernelspec": {
   "display_name": "Haskell",
   "language": "haskell",
   "name": "haskell"
  },
  "language_info": {
   "codemirror_mode": "Haskell",
   "file_extension": ".hs",
   "mimetype": "text/x-haskell",
   "name": "haskell",
   "pygments_lexer": "Haskell",
   "version": "8.10.4"
  }
 },
 "nbformat": 4,
 "nbformat_minor": 5
}
