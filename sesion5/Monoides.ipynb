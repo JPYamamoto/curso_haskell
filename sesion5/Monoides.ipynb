{
 "cells": [
  {
   "cell_type": "markdown",
   "id": "f8f0e3af-8f9a-4827-81b6-1ef5f5b30c1f",
   "metadata": {},
   "source": [
    "# Monoides\n",
    "\n",
    "Un monoide es un semigrupo con un elemento neutro con respecto a la operación del semigrupo.\n",
    "\n",
    "$$ \\exists x \\in A \\forall y \\in A, x\\star y = y\\star x = y $$\n",
    "\n",
    "$x$ es el elemento neutro si $x\\star y=y$."
   ]
  },
  {
   "cell_type": "markdown",
   "id": "c4102a3f-bd76-4bf4-a3ec-7c953452a369",
   "metadata": {},
   "source": [
    "## ¿Monoide o no?\n",
    "\n",
    "- La suma sobre los números naturales.\n",
    "- El producto sobre los números naturales.\n",
    "- La concatenación de listas.\n",
    "- El operador `&&` sobre los booleanos.\n",
    "- La función mínimo (regresa el mínimo de 2 elementos) sobre algún tipo ordenable."
   ]
  },
  {
   "cell_type": "markdown",
   "id": "794547e4-e415-40d5-8172-28dd4721d8f5",
   "metadata": {},
   "source": [
    "Define una clase para monoides, tomando en cuenta que todos los monoides son semigrupos. Queremos que el elemento neutro de los monoides se llame `mempty`."
   ]
  },
  {
   "cell_type": "code",
   "execution_count": null,
   "id": "87ad0fa4-120c-4ec6-af32-556650ea85a2",
   "metadata": {},
   "outputs": [],
   "source": []
  },
  {
   "cell_type": "markdown",
   "id": "0d4486fe-0064-40db-8704-8b99fd6ea145",
   "metadata": {},
   "source": [
    "Crea la instancia de monoides para los siguientes tipos:\n",
    "\n",
    "- `Sum`\n",
    "- `Product`\n",
    "- `[]`"
   ]
  },
  {
   "cell_type": "code",
   "execution_count": null,
   "id": "e8c61bab-3352-4747-91f6-3b781d47a2e4",
   "metadata": {},
   "outputs": [],
   "source": [
    "import Data.Semigroup (Sum (..), Product (..))\n",
    "\n",
    "-- Código"
   ]
  },
  {
   "cell_type": "code",
   "execution_count": null,
   "id": "571e3fb8-08a6-48c3-a2a3-bcde8f874adc",
   "metadata": {},
   "outputs": [],
   "source": [
    "Sum 5 <> mempty\n",
    "mempty <> Sum 95.6\n",
    "\n",
    "Product 9 <> mempty\n",
    "mempty <> Product 42\n",
    "\n",
    "[\"Hola\", \"Mundo\"] <> mempty\n",
    "mempty <> [\"Lambda\", \"Club\"]"
   ]
  },
  {
   "cell_type": "markdown",
   "id": "e67e9c39-b31a-4ce2-ad0e-67c3238d63bc",
   "metadata": {},
   "source": [
    "Si podemos aplicar la operación `<>` a 2 elementos, ¿qué nos detiene a aplicarlo a más elementos?\n",
    "\n",
    "Extiende la clase de monoides con el método `mconcat` que utiliza `<>` para calcular la operación binaria repetida de varios elementos. Es decir:\n",
    "\n",
    "```haskell\n",
    "mconcat [[1],[2],[3,4],[5,6,7]] = [1] <> [2] <> [3,4] <> [5,6,7] = [1,2,3,4,5,6,7]\n",
    "```"
   ]
  },
  {
   "cell_type": "code",
   "execution_count": null,
   "id": "c989a7bb-ef9f-4150-8e2e-224bb438b02b",
   "metadata": {},
   "outputs": [],
   "source": []
  },
  {
   "cell_type": "code",
   "execution_count": null,
   "id": "03067ded-1147-4136-a429-f5e4458f9671",
   "metadata": {},
   "outputs": [],
   "source": [
    "mconcat [[1],[2],[3,4],[5,6,7]]\n",
    "mconcat [Product 5, Product (-4), Product 3, mempty]\n",
    "mconcat [Sum 5, Sum (-4), Sum 3, mempty]"
   ]
  },
  {
   "cell_type": "markdown",
   "id": "1445c999-e7e8-459c-a29a-117da1650141",
   "metadata": {},
   "source": [
    "## ¿Pa' qué?\n",
    "\n",
    "1. Paralelismo\n",
    "2. Reducciones (calcular propiedades de colecciones)\n",
    "3. Los monoides son componibles: si `a` y `b` son monoides, `(a,b)` es un monoide."
   ]
  },
  {
   "cell_type": "code",
   "execution_count": null,
   "id": "17e1c041-d814-41e5-9de9-e5f1a93a121c",
   "metadata": {},
   "outputs": [],
   "source": [
    "import qualified Data.Monoid as M\n",
    "\n",
    "M.mconcat [(Product 5, Sum 5), (Product (-4), Sum (-4)), (Product 3, Sum 3)]"
   ]
  },
  {
   "cell_type": "markdown",
   "id": "84a86765-54c9-471c-b678-acf848f5b5e9",
   "metadata": {},
   "source": [
    "Crea una función que dado un número entero positivo `n`, te regresa la tupla `(Product x, Sum y)` donde `x` es el producto de los primeros `n` números, y `y` es la suma de los primeros `n` números."
   ]
  },
  {
   "cell_type": "code",
   "execution_count": null,
   "id": "b160f71f-c024-4a96-8b43-faba6d17f16c",
   "metadata": {},
   "outputs": [],
   "source": []
  },
  {
   "cell_type": "markdown",
   "id": "a5d14ca8-db25-471e-9350-6222d2e939b1",
   "metadata": {},
   "source": [
    "## Reducibles (Foldable)\n",
    "\n",
    "Un reducible es un tipo de dato que puede ir acumulándose, un valor a la vez, hasta llegar a un solo resultado."
   ]
  },
  {
   "cell_type": "code",
   "execution_count": null,
   "id": "56a4a716-f1d8-47fc-bc76-61a8df8f9632",
   "metadata": {},
   "outputs": [],
   "source": [
    ":i Foldable"
   ]
  },
  {
   "cell_type": "code",
   "execution_count": null,
   "id": "8b48f8ce-6092-47b9-8060-614c4499821d",
   "metadata": {},
   "outputs": [],
   "source": [
    ":t foldMap"
   ]
  },
  {
   "cell_type": "markdown",
   "id": "85efcebb-2427-40a1-8895-a9053cdb86f1",
   "metadata": {},
   "source": [
    "Si tenemos una colección que es reducible, y los elementos en la colección los podemos mapear a un monoide, tenemos una forma sencilla de calcular propiedades de la colección."
   ]
  },
  {
   "cell_type": "code",
   "execution_count": null,
   "id": "f149f081-5516-41f5-a3fe-88c020ec9ef2",
   "metadata": {},
   "outputs": [],
   "source": [
    "{-# LANGUAGE DeriveFoldable #-}\n",
    "data Tree a = Empty\n",
    "            | Leaf a\n",
    "            | Node (Tree a) a (Tree a)\n",
    "    deriving Foldable\n",
    "\n",
    "foldMap Sum     (Node (Node Empty 4 Empty) 9 (Node (Node Empty 42 Empty) 28 Empty))\n",
    "foldMap Product (Node (Node Empty 4 Empty) 9 (Node (Node Empty 42 Empty) 28 Empty))\n",
    "\n",
    "foldMap Sum     [5,100, 86, 57]\n",
    "foldMap Product [5,100, 86, 57]"
   ]
  }
 ],
 "metadata": {
  "kernelspec": {
   "display_name": "Haskell",
   "language": "haskell",
   "name": "haskell"
  },
  "language_info": {
   "codemirror_mode": "Haskell",
   "file_extension": ".hs",
   "mimetype": "text/x-haskell",
   "name": "haskell",
   "pygments_lexer": "Haskell",
   "version": "8.10.4"
  }
 },
 "nbformat": 4,
 "nbformat_minor": 5
}
