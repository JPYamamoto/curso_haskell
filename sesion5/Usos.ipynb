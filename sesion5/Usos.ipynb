{
 "cells": [
  {
   "cell_type": "markdown",
   "id": "bdb3e2de-b6d9-43ef-ba71-63a948ced5c4",
   "metadata": {},
   "source": [
    "# ¿Monoides pa' qué? Parte 2"
   ]
  },
  {
   "cell_type": "markdown",
   "id": "241be3f3-ec5e-4beb-8c5d-501d0d2a2395",
   "metadata": {},
   "source": [
    "1. Paralelismo\n",
    "2. Reducciones (calcular propiedades de colecciones)\n",
    "3. Los monoides son componibles: si `a` y `b` son monoides, `(a,b)` es un monoide."
   ]
  },
  {
   "cell_type": "code",
   "execution_count": null,
   "id": "dd69e71a-7121-4392-a216-74c14f1520ee",
   "metadata": {},
   "outputs": [],
   "source": [
    "import Data.Monoid (Sum (..), Product (..), mconcat)\n",
    "\n",
    "mconcat [(Product 5, Sum 5), (Product (-4), Sum (-4)), (Product 3, Sum 3)]"
   ]
  },
  {
   "cell_type": "markdown",
   "id": "fcb893df-b991-43bb-8dcc-02ad98446de4",
   "metadata": {},
   "source": [
    "Crea una función que dado un número entero positivo `n`, te regresa la tupla `(Product x, Sum y)` donde `x` es el producto de los primeros `n` números, y `y` es la suma de los primeros `n` números."
   ]
  },
  {
   "cell_type": "code",
   "execution_count": null,
   "id": "5f59f307-c74d-40f5-8a85-d6b363372a69",
   "metadata": {},
   "outputs": [],
   "source": []
  },
  {
   "cell_type": "markdown",
   "id": "2a7e7ab1-2cda-42b4-a3e0-20a146d2507e",
   "metadata": {},
   "source": [
    "## Exponenciación"
   ]
  },
  {
   "cell_type": "code",
   "execution_count": null,
   "id": "d020c554-0a73-462b-8ec2-67a28b7653ce",
   "metadata": {},
   "outputs": [],
   "source": [
    "import Data.Semigroup (mtimesDefault)\n",
    "\n",
    "elevar :: Num a => a -> Int -> a\n",
    "elevar x y = getProduct $ mtimesDefault y (Product x)"
   ]
  },
  {
   "cell_type": "code",
   "execution_count": null,
   "id": "84561900-77c9-421f-b31d-740b84c39dcb",
   "metadata": {},
   "outputs": [],
   "source": [
    "import qualified Data.Matrix as M\n",
    "\n",
    "elevar (M.fromLists [[0, 1], [1, 1]]) 10\n",
    "elevar 5 5"
   ]
  },
  {
   "cell_type": "code",
   "execution_count": null,
   "id": "700b6c2a-8a50-4f1e-8ec2-0c97028cfd59",
   "metadata": {},
   "outputs": [],
   "source": [
    "fib :: Int -> Int\n",
    "fib = M.getElem 1 1 . elevar fibMatrix\n",
    "    where fibMatrix = M.fromLists [[0, 1], [1, 1]]"
   ]
  },
  {
   "cell_type": "markdown",
   "id": "a064df9c-bbc3-4641-9408-3d0738110235",
   "metadata": {},
   "source": [
    "## Validación"
   ]
  },
  {
   "cell_type": "code",
   "execution_count": null,
   "id": "5d2d38eb-7535-4021-a0d6-7817d375f10a",
   "metadata": {},
   "outputs": [],
   "source": [
    "import Data.Char (isLower, isUpper, isDigit)"
   ]
  },
  {
   "cell_type": "code",
   "execution_count": null,
   "id": "a5f44cdd-5006-4ed5-bad9-fcd27e21de2e",
   "metadata": {},
   "outputs": [],
   "source": [
    "longitudValida :: String -> Bool\n",
    "longitudValida = (>=8) . length\n",
    "\n",
    "contieneMayusculas :: String -> Bool\n",
    "contieneMayusculas = any isUpper\n",
    "\n",
    "contieneMinusculas :: String -> Bool\n",
    "contieneMinusculas = any isLower\n",
    "\n",
    "contieneNumeros :: String -> Bool\n",
    "contieneNumeros = any isDigit"
   ]
  },
  {
   "cell_type": "code",
   "execution_count": null,
   "id": "4954d324-c1f2-4a16-ba32-8379c5b85481",
   "metadata": {},
   "outputs": [],
   "source": [
    "longitudValida \"Hola Mundo\"\n",
    "contieneMayusculas \"Hola Mundo\"\n",
    "contieneMinusculas \"Hola Mundo\"\n",
    "contieneNumeros \"Hola Mundo9\""
   ]
  },
  {
   "cell_type": "code",
   "execution_count": null,
   "id": "109a1ffe-5126-4efc-b4f5-1efe12c78d9c",
   "metadata": {},
   "outputs": [],
   "source": [
    "import Data.Semigroup (All (..))\n",
    "\n",
    "valida :: String -> Bool\n",
    "valida = -- código"
   ]
  },
  {
   "cell_type": "code",
   "execution_count": null,
   "id": "113b44a6-ceaa-4eac-b0ef-c0ca09c3f955",
   "metadata": {},
   "outputs": [],
   "source": [
    "valida \"HolaMundo9\""
   ]
  },
  {
   "cell_type": "markdown",
   "id": "c6ed0809-7041-480c-b6d8-c96a95a10b77",
   "metadata": {},
   "source": [
    "## Reducibles (Foldable)\n",
    "\n",
    "Un reducible es un tipo de dato que puede ir acumulándose, un valor a la vez, hasta llegar a un solo resultado."
   ]
  },
  {
   "cell_type": "code",
   "execution_count": null,
   "id": "66761f05-629c-4c01-83d1-364fceb37a4a",
   "metadata": {},
   "outputs": [],
   "source": [
    "import Data.Semigroup (Min (..), Max (..))"
   ]
  },
  {
   "cell_type": "code",
   "execution_count": null,
   "id": "12f9e96c-d166-4872-b506-a85def2b38b4",
   "metadata": {},
   "outputs": [],
   "source": [
    ":i Foldable"
   ]
  },
  {
   "cell_type": "code",
   "execution_count": null,
   "id": "64191e46-826c-40b9-b326-0813d8946c7a",
   "metadata": {},
   "outputs": [],
   "source": [
    ":t foldMap"
   ]
  },
  {
   "cell_type": "markdown",
   "id": "d0038d6c-abcf-4e45-85b2-ef947b46d53a",
   "metadata": {},
   "source": [
    "Si tenemos una colección que es reducible, y los elementos en la colección los podemos mapear a un monoide, tenemos una forma sencilla de calcular propiedades de la colección."
   ]
  },
  {
   "cell_type": "code",
   "execution_count": null,
   "id": "9f469d2e-bd5c-4d3a-b54b-0d57ab829ae7",
   "metadata": {},
   "outputs": [],
   "source": [
    "{-# LANGUAGE DeriveFoldable #-}\n",
    "data Tree a = Leaf a\n",
    "            | Node (Tree a) a (Tree a)\n",
    "    deriving (Foldable, Show)\n",
    "\n",
    "tree :: Tree Int\n",
    "tree = Node (Leaf 4) 9 (Node (Leaf 42) 28 (Leaf 1))\n",
    "\n",
    "foldMap Sum     tree\n",
    "foldMap Product tree\n",
    "foldMap (\\x -> (Sum x, Product x)) tree\n",
    "foldMap (\\x -> (Min x, Max x)) tree"
   ]
  },
  {
   "cell_type": "code",
   "execution_count": null,
   "id": "00ce1511-62d5-4faa-953c-71ff1f8fbde8",
   "metadata": {},
   "outputs": [],
   "source": [
    "xs :: [Int]\n",
    "xs = [5,100, 86, 57]\n",
    "\n",
    "foldMap Sum     xs\n",
    "foldMap Product xs\n",
    "foldMap (\\x -> (Sum x, Product x)) xs\n",
    "foldMap (\\x -> (Min x, Max x)) xs"
   ]
  },
  {
   "cell_type": "markdown",
   "id": "bc6a6927-d9af-4e1c-b2c1-de59783bafcf",
   "metadata": {},
   "source": [
    "Implementa la función `foldMap`."
   ]
  },
  {
   "cell_type": "code",
   "execution_count": 3,
   "id": "c72af701-91fc-4c7a-b88f-ea0fc148da58",
   "metadata": {},
   "outputs": [],
   "source": [
    "foldMap :: (Foldable t, Monoid m) => (a -> m) -> t a -> m\n",
    "foldMap f xs = -- código"
   ]
  }
 ],
 "metadata": {
  "kernelspec": {
   "display_name": "Haskell",
   "language": "haskell",
   "name": "haskell"
  },
  "language_info": {
   "codemirror_mode": "Haskell",
   "file_extension": ".hs",
   "mimetype": "text/x-haskell",
   "name": "haskell",
   "pygments_lexer": "Haskell",
   "version": "8.10.4"
  }
 },
 "nbformat": 4,
 "nbformat_minor": 5
}
