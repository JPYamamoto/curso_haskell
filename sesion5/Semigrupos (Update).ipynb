{
 "cells": [
  {
   "cell_type": "markdown",
   "id": "a2b235f3-c4cc-4778-9184-b1572e4475fa",
   "metadata": {},
   "source": [
    "# Semigrupos\n",
    "\n",
    "Es una álgebra compuesta por un conjunto (tipo de dato) y una operación binaria asociativa cerrada.\n",
    "\n",
    "$$ \\star : A \\times A \\to A $$\n",
    "$$ a \\star (b \\star c) = (a \\star b) \\star c $$"
   ]
  },
  {
   "cell_type": "markdown",
   "id": "29e9e80a-c920-4fca-9a58-bb6c85969f23",
   "metadata": {},
   "source": [
    "## ¿Semigrupo o no?\n",
    "\n",
    "- La suma sobre los números naturales. Sí.\n",
    "- La resta sobre los números naturales. No.\n",
    "- El producto sobre los números naturales. Sí.\n",
    "- La concatenación de listas. `([1] ++ [2]) ++ [3] == [1] ++ ([2] ++ [3])`. Sí.\n",
    "- La división de números enteros. `5 / 2`. No.\n",
    "- El operador `&&` sobre los booleanos. `True && (True && False) = (True && True) && False`. Sí.\n",
    "- La exponenciación de números enteros. `2 ^ (3^4) = (2^3)^4`. No.\n",
    "- La función mínimo (regresa el mínimo de 2 elementos) sobre algún tipo ordenable. Sí."
   ]
  },
  {
   "cell_type": "code",
   "execution_count": 4,
   "id": "7b5708f6-dd7d-4be3-a650-3e054bad3f1f",
   "metadata": {},
   "outputs": [
    {
     "data": {
      "text/plain": [
       "2"
      ]
     },
     "metadata": {},
     "output_type": "display_data"
    },
    {
     "data": {
      "text/plain": [
       "2"
      ]
     },
     "metadata": {},
     "output_type": "display_data"
    }
   ],
   "source": [
    "(4 `min` 2) `min` 3\n",
    "4 `min` (2 `min` 3)"
   ]
  },
  {
   "cell_type": "markdown",
   "id": "8be5ab90-e22e-4b62-b974-c1d38dbe9413",
   "metadata": {},
   "source": [
    "Define una clase para Semigrupos\n",
    "Utiliza `<>` como el operador del semigrupo. Procura que sea infijo, con asociatividad derecha y jerarquía 6."
   ]
  },
  {
   "cell_type": "code",
   "execution_count": 5,
   "id": "c8b55216-e6bb-4d9d-866f-5d4b82bb596d",
   "metadata": {},
   "outputs": [],
   "source": [
    "class Semigrupo a where\n",
    "    infixr 6 <>\n",
    "    (<>) :: a -> a -> a"
   ]
  },
  {
   "cell_type": "markdown",
   "id": "5e2709e5-7af5-48f9-99ea-bd51e4ee13b8",
   "metadata": {},
   "source": [
    "Define a las listas como instancias de la clase para semigrupos.\n",
    "La operación asociativa y cerrada es la concatenación `++`"
   ]
  },
  {
   "cell_type": "code",
   "execution_count": 6,
   "id": "94660743-6285-4557-8d88-f5ea03eed72d",
   "metadata": {},
   "outputs": [],
   "source": [
    "instance Semigrupo [a] where\n",
    "    (<>) = (++)"
   ]
  },
  {
   "cell_type": "code",
   "execution_count": 8,
   "id": "2c1fe081-9ca7-4e40-b5e9-f140074bfa21",
   "metadata": {},
   "outputs": [
    {
     "data": {
      "text/plain": [
       "[1,2,3,5,6,7,8,9,10,11,12]"
      ]
     },
     "metadata": {},
     "output_type": "display_data"
    }
   ],
   "source": [
    "[1,2,3] <> [5..10] <> [11,12]"
   ]
  },
  {
   "cell_type": "markdown",
   "id": "82f9be01-5c6e-4830-9677-b8b1aef81fc9",
   "metadata": {},
   "source": [
    "Define a los números como instancias de la clase de semigrupos. ¿Cuál operación asociativa usamos?"
   ]
  },
  {
   "cell_type": "code",
   "execution_count": 9,
   "id": "f8262f5d-e2ab-47ea-8ebe-89a92d542a88",
   "metadata": {},
   "outputs": [
    {
     "data": {},
     "metadata": {},
     "output_type": "display_data"
    },
    {
     "data": {
      "text/html": [
       "<div style='background: rgb(247, 247, 247);'><form><textarea id='code'>type Semigrupo :: * -> Constraint\n",
       "class Semigrupo a where\n",
       "  (<>) :: a -> a -> a\n",
       "  {-# MINIMAL (<>) #-}\n",
       "  \t-- Defined at <interactive>:1:1\n",
       "instance [safe] Semigrupo [a] -- Defined at <interactive>:1:10\n",
       "</textarea></form></div><script>CodeMirror.fromTextArea(document.getElementById('code'), {mode: 'haskell', readOnly: 'nocursor'});</script>"
      ],
      "text/plain": [
       "type Semigrupo :: * -> Constraint\n",
       "class Semigrupo a where\n",
       "  (<>) :: a -> a -> a\n",
       "  {-# MINIMAL (<>) #-}\n",
       "  \t-- Defined at <interactive>:1:1\n",
       "instance [safe] Semigrupo [a] -- Defined at <interactive>:1:10"
      ]
     },
     "metadata": {},
     "output_type": "display_data"
    }
   ],
   "source": [
    ":i Semigrupo"
   ]
  },
  {
   "cell_type": "code",
   "execution_count": 15,
   "id": "2df379b5-7230-4eb4-9b13-e22fe1a12f48",
   "metadata": {},
   "outputs": [],
   "source": [
    "newtype Suma a = Suma {getSum :: a} deriving (Show, Eq, Ord)\n",
    "newtype Producto a = Producto {getProduct :: a} deriving (Show, Eq, Ord)\n",
    "\n",
    "instance Num a => Semigrupo (Suma a) where\n",
    "    (Suma x) <> (Suma y) = Suma (x + y)\n",
    "    \n",
    "instance Num a => Semigrupo (Producto a) where\n",
    "    (Producto x) <> (Producto y) = Producto $ x * y"
   ]
  },
  {
   "cell_type": "code",
   "execution_count": 16,
   "id": "3e4a1ef2-0966-4326-984a-bfd8de511fab",
   "metadata": {},
   "outputs": [
    {
     "data": {
      "text/plain": [
       "Suma 13"
      ]
     },
     "metadata": {},
     "output_type": "display_data"
    },
    {
     "data": {
      "text/plain": [
       "Producto 0"
      ]
     },
     "metadata": {},
     "output_type": "display_data"
    }
   ],
   "source": [
    "Suma 5 <> Suma 8 <> Suma 0\n",
    "Producto 5 <> Producto 8 <> Producto 0"
   ]
  },
  {
   "cell_type": "markdown",
   "id": "9faeb509-b006-4054-857a-490d06bc2b4c",
   "metadata": {},
   "source": [
    "Un último ejemplo de semigrupo...\n",
    "\n",
    "Crea otra instancia de números enteros que sea un semigrupo bajo la operación mínimo.\n",
    "\n",
    "```haskell\n",
    "Minimo 6 <> Minimo -5 <> Minimo 0 = Minimo -5\n",
    "```"
   ]
  },
  {
   "cell_type": "code",
   "execution_count": 19,
   "id": "3b50f8cf-a18a-4db0-ada4-38d0322733b1",
   "metadata": {},
   "outputs": [],
   "source": [
    "--newtype Minimo = Minimo Int deriving Show\n",
    "\n",
    "--instance Semigrupo Minimo where\n",
    "--    (Minimo x) <> (Minimo y) = Minimo (min x y)\n",
    "    \n",
    "newtype Minimo a = Minimo a deriving Show\n",
    "\n",
    "instance Ord a => Semigrupo (Minimo a) where\n",
    "    (Minimo x) <> (Minimo y) = Minimo (min x y)"
   ]
  },
  {
   "cell_type": "code",
   "execution_count": 21,
   "id": "c0920fd8-8f79-4a0b-9892-1af780a70aea",
   "metadata": {},
   "outputs": [
    {
     "data": {
      "text/plain": [
       "Minimo (-5)"
      ]
     },
     "metadata": {},
     "output_type": "display_data"
    },
    {
     "data": {
      "text/plain": [
       "-5"
      ]
     },
     "metadata": {},
     "output_type": "display_data"
    }
   ],
   "source": [
    "Minimo 6 <> Minimo (-5) <> Minimo 0 \n",
    "min 0 $ min 6 (-5)"
   ]
  },
  {
   "cell_type": "markdown",
   "id": "67d3d41b-f041-4b1d-a5dc-23bbb9b8d236",
   "metadata": {},
   "source": [
    "## ¿Pa' qué?\n",
    "\n",
    "1. Abstracción.\n",
    "2. Una función asociativa es paralelizable."
   ]
  },
  {
   "cell_type": "code",
   "execution_count": 22,
   "id": "ec514a79-8f16-4584-8441-e9a47f2fe314",
   "metadata": {},
   "outputs": [
    {
     "data": {
      "text/html": [
       "<style>/* Styles used for the Hoogle display in the pager */\n",
       ".hoogle-doc {\n",
       "display: block;\n",
       "padding-bottom: 1.3em;\n",
       "padding-left: 0.4em;\n",
       "}\n",
       ".hoogle-code {\n",
       "display: block;\n",
       "font-family: monospace;\n",
       "white-space: pre;\n",
       "}\n",
       ".hoogle-text {\n",
       "display: block;\n",
       "}\n",
       ".hoogle-name {\n",
       "color: green;\n",
       "font-weight: bold;\n",
       "}\n",
       ".hoogle-head {\n",
       "font-weight: bold;\n",
       "}\n",
       ".hoogle-sub {\n",
       "display: block;\n",
       "margin-left: 0.4em;\n",
       "}\n",
       ".hoogle-package {\n",
       "font-weight: bold;\n",
       "font-style: italic;\n",
       "}\n",
       ".hoogle-module {\n",
       "font-weight: bold;\n",
       "}\n",
       ".hoogle-class {\n",
       "font-weight: bold;\n",
       "}\n",
       ".get-type {\n",
       "color: green;\n",
       "font-weight: bold;\n",
       "font-family: monospace;\n",
       "display: block;\n",
       "white-space: pre-wrap;\n",
       "}\n",
       ".show-type {\n",
       "color: green;\n",
       "font-weight: bold;\n",
       "font-family: monospace;\n",
       "margin-left: 1em;\n",
       "}\n",
       ".mono {\n",
       "font-family: monospace;\n",
       "display: block;\n",
       "}\n",
       ".err-msg {\n",
       "color: red;\n",
       "font-style: italic;\n",
       "font-family: monospace;\n",
       "white-space: pre;\n",
       "display: block;\n",
       "}\n",
       "#unshowable {\n",
       "color: red;\n",
       "font-weight: bold;\n",
       "}\n",
       ".err-msg.in.collapse {\n",
       "padding-top: 0.7em;\n",
       "}\n",
       ".highlight-code {\n",
       "white-space: pre;\n",
       "font-family: monospace;\n",
       "}\n",
       ".suggestion-warning { \n",
       "font-weight: bold;\n",
       "color: rgb(200, 130, 0);\n",
       "}\n",
       ".suggestion-error { \n",
       "font-weight: bold;\n",
       "color: red;\n",
       "}\n",
       ".suggestion-name {\n",
       "font-weight: bold;\n",
       "}\n",
       "</style><div class=\"suggestion-name\" style=\"clear:both;\">Redundant bracket</div><div class=\"suggestion-row\" style=\"float: left;\"><div class=\"suggestion-warning\">Found:</div><div class=\"highlight-code\" id=\"haskell\">(((Minimo 6 <> Minimo (- 5)) <> (Minimo 0 <> Minimo 10))\n",
       "   <> (Minimo 50 <> Minimo (- 42)))</div></div><div class=\"suggestion-row\" style=\"float: left;\"><div class=\"suggestion-warning\">Why Not:</div><div class=\"highlight-code\" id=\"haskell\">((Minimo 6 <> Minimo (- 5)) <> (Minimo 0 <> Minimo 10))\n",
       "  <> (Minimo 50 <> Minimo (- 42))</div></div><div class=\"suggestion-name\" style=\"clear:both;\">Redundant bracket</div><div class=\"suggestion-row\" style=\"float: left;\"><div class=\"suggestion-warning\">Found:</div><div class=\"highlight-code\" id=\"haskell\">((Minimo 0 <> Minimo 10))</div></div><div class=\"suggestion-row\" style=\"float: left;\"><div class=\"suggestion-warning\">Why Not:</div><div class=\"highlight-code\" id=\"haskell\">(Minimo 0 <> Minimo 10)</div></div>"
      ],
      "text/plain": [
       "Line 2: Redundant bracket\n",
       "Found:\n",
       "(((Minimo 6 <> Minimo (- 5)) <> (Minimo 0 <> Minimo 10))\n",
       "   <> (Minimo 50 <> Minimo (- 42)))\n",
       "Why not:\n",
       "((Minimo 6 <> Minimo (- 5)) <> (Minimo 0 <> Minimo 10))\n",
       "  <> (Minimo 50 <> Minimo (- 42))Line 3: Redundant bracket\n",
       "Found:\n",
       "((Minimo 0 <> Minimo 10))\n",
       "Why not:\n",
       "(Minimo 0 <> Minimo 10)"
      ]
     },
     "metadata": {},
     "output_type": "display_data"
    },
    {
     "data": {
      "text/plain": [
       "Minimo (-42)"
      ]
     },
     "metadata": {},
     "output_type": "display_data"
    },
    {
     "data": {
      "text/plain": [
       "Minimo (-42)"
      ]
     },
     "metadata": {},
     "output_type": "display_data"
    },
    {
     "data": {
      "text/plain": [
       "Minimo (-42)"
      ]
     },
     "metadata": {},
     "output_type": "display_data"
    },
    {
     "data": {
      "text/plain": [
       "Minimo (-42)"
      ]
     },
     "metadata": {},
     "output_type": "display_data"
    }
   ],
   "source": [
    "Minimo 6 <> Minimo (-5) <> Minimo 0 <> Minimo 10 <> Minimo 50 <> Minimo (-42)\n",
    "(((Minimo 6 <> Minimo (-5)) <> (Minimo 0 <> Minimo 10)) <> (Minimo 50 <> Minimo (-42)))\n",
    "(Minimo 6 <> Minimo (-5)) <> ((Minimo 0 <> Minimo 10)) <> (Minimo 50 <> Minimo (-42))\n",
    "(Minimo 6 <> Minimo (-5)) <> (Minimo 0 <> (Minimo 10 <> Minimo 50)) <> Minimo (-42)\n",
    "\n",
    "\n",
    "\n",
    "--Computadora 1: Minimo 6 <> Minimo (-5)\n",
    "--Computadora 2: Minimo 0 <> Minimo 10\n",
    "--Computadora 3: Minimo 50 <> Minimo (-42)\n",
    "--Computadora 4: Resultado (Computadora 1) (Computadora 2)\n",
    "--Computadora 5: Resultado (Computadora 4) (Computadora 3)"
   ]
  }
 ],
 "metadata": {
  "kernelspec": {
   "display_name": "Haskell",
   "language": "haskell",
   "name": "haskell"
  },
  "language_info": {
   "codemirror_mode": "ihaskell",
   "file_extension": ".hs",
   "mimetype": "text/x-haskell",
   "name": "haskell",
   "pygments_lexer": "Haskell",
   "version": "8.10.4"
  }
 },
 "nbformat": 4,
 "nbformat_minor": 5
}
