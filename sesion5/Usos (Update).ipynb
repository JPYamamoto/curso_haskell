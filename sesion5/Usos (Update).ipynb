{
 "cells": [
  {
   "cell_type": "markdown",
   "id": "bdb3e2de-b6d9-43ef-ba71-63a948ced5c4",
   "metadata": {},
   "source": [
    "# ¿Monoides pa' qué? Parte 2"
   ]
  },
  {
   "cell_type": "markdown",
   "id": "241be3f3-ec5e-4beb-8c5d-501d0d2a2395",
   "metadata": {},
   "source": [
    "1. Paralelismo\n",
    "2. Reducciones (calcular propiedades de colecciones)\n",
    "3. Los monoides son componibles: si `a` y `b` son monoides, `(a,b)` es un monoide."
   ]
  },
  {
   "cell_type": "code",
   "execution_count": 1,
   "id": "dd69e71a-7121-4392-a216-74c14f1520ee",
   "metadata": {},
   "outputs": [
    {
     "data": {
      "text/plain": [
       "(Product {getProduct = -60},Sum {getSum = 4})"
      ]
     },
     "metadata": {},
     "output_type": "display_data"
    }
   ],
   "source": [
    "import Data.Monoid (Sum (..), Product (..), mconcat)\n",
    "\n",
    "mconcat [(Product 5, Sum 5), (Product (-4), Sum (-4)), (Product 3, Sum 3)]"
   ]
  },
  {
   "cell_type": "markdown",
   "id": "fcb893df-b991-43bb-8dcc-02ad98446de4",
   "metadata": {},
   "source": [
    "Crea una función que dado un número entero positivo `n`, te regresa la tupla `(Product x, Sum y)` donde `x` es el producto de los primeros `n` números, y `y` es la suma de los primeros `n` números."
   ]
  },
  {
   "cell_type": "code",
   "execution_count": 8,
   "id": "5f59f307-c74d-40f5-8a85-d6b363372a69",
   "metadata": {},
   "outputs": [
    {
     "data": {
      "text/html": [
       "<style>/* Styles used for the Hoogle display in the pager */\n",
       ".hoogle-doc {\n",
       "display: block;\n",
       "padding-bottom: 1.3em;\n",
       "padding-left: 0.4em;\n",
       "}\n",
       ".hoogle-code {\n",
       "display: block;\n",
       "font-family: monospace;\n",
       "white-space: pre;\n",
       "}\n",
       ".hoogle-text {\n",
       "display: block;\n",
       "}\n",
       ".hoogle-name {\n",
       "color: green;\n",
       "font-weight: bold;\n",
       "}\n",
       ".hoogle-head {\n",
       "font-weight: bold;\n",
       "}\n",
       ".hoogle-sub {\n",
       "display: block;\n",
       "margin-left: 0.4em;\n",
       "}\n",
       ".hoogle-package {\n",
       "font-weight: bold;\n",
       "font-style: italic;\n",
       "}\n",
       ".hoogle-module {\n",
       "font-weight: bold;\n",
       "}\n",
       ".hoogle-class {\n",
       "font-weight: bold;\n",
       "}\n",
       ".get-type {\n",
       "color: green;\n",
       "font-weight: bold;\n",
       "font-family: monospace;\n",
       "display: block;\n",
       "white-space: pre-wrap;\n",
       "}\n",
       ".show-type {\n",
       "color: green;\n",
       "font-weight: bold;\n",
       "font-family: monospace;\n",
       "margin-left: 1em;\n",
       "}\n",
       ".mono {\n",
       "font-family: monospace;\n",
       "display: block;\n",
       "}\n",
       ".err-msg {\n",
       "color: red;\n",
       "font-style: italic;\n",
       "font-family: monospace;\n",
       "white-space: pre;\n",
       "display: block;\n",
       "}\n",
       "#unshowable {\n",
       "color: red;\n",
       "font-weight: bold;\n",
       "}\n",
       ".err-msg.in.collapse {\n",
       "padding-top: 0.7em;\n",
       "}\n",
       ".highlight-code {\n",
       "white-space: pre;\n",
       "font-family: monospace;\n",
       "}\n",
       ".suggestion-warning { \n",
       "font-weight: bold;\n",
       "color: rgb(200, 130, 0);\n",
       "}\n",
       ".suggestion-error { \n",
       "font-weight: bold;\n",
       "color: red;\n",
       "}\n",
       ".suggestion-name {\n",
       "font-weight: bold;\n",
       "}\n",
       "</style><div class=\"suggestion-name\" style=\"clear:both;\">Fuse foldr/map</div><div class=\"suggestion-row\" style=\"float: left;\"><div class=\"suggestion-warning\">Found:</div><div class=\"highlight-code\" id=\"haskell\">foldr (\\ (x, y) (x', y') -> (x * x', y + y')) (1, 0)\n",
       "  $ map (\\ x -> (x, x)) [1 .. n]</div></div><div class=\"suggestion-row\" style=\"float: left;\"><div class=\"suggestion-warning\">Why Not:</div><div class=\"highlight-code\" id=\"haskell\">foldr\n",
       "  ((\\ (x, y) (x', y') -> (x * x', y + y')) . (\\ x -> (x, x))) (1, 0)\n",
       "  [1 .. n]</div></div>"
      ],
      "text/plain": [
       "Line 5: Fuse foldr/map\n",
       "Found:\n",
       "foldr (\\ (x, y) (x', y') -> (x * x', y + y')) (1, 0)\n",
       "  $ map (\\ x -> (x, x)) [1 .. n]\n",
       "Why not:\n",
       "foldr\n",
       "  ((\\ (x, y) (x', y') -> (x * x', y + y')) . (\\ x -> (x, x))) (1, 0)\n",
       "  [1 .. n]"
      ]
     },
     "metadata": {},
     "output_type": "display_data"
    }
   ],
   "source": [
    "productoYSuma :: Int -> (Product Int, Sum Int)\n",
    "productoYSuma n = mconcat [(Product x, Sum x) | x <- [1..n]]\n",
    "\n",
    "productoSuma :: Int -> (Int, Int)\n",
    "productoSuma n = foldr (\\(x, y) (x', y') -> (x*x', y+y')) (1, 0) $ map (\\x -> (x, x)) [1..n]"
   ]
  },
  {
   "cell_type": "code",
   "execution_count": 9,
   "id": "5a1ef93d-9195-4072-a4bb-8d3c1f05a65f",
   "metadata": {},
   "outputs": [
    {
     "data": {
      "text/plain": [
       "(Product {getProduct = 3628800},Sum {getSum = 55})"
      ]
     },
     "metadata": {},
     "output_type": "display_data"
    },
    {
     "data": {
      "text/plain": [
       "(3628800,55)"
      ]
     },
     "metadata": {},
     "output_type": "display_data"
    }
   ],
   "source": [
    "productoYSuma 10\n",
    "\n",
    "productoSuma 10"
   ]
  },
  {
   "cell_type": "markdown",
   "id": "2a7e7ab1-2cda-42b4-a3e0-20a146d2507e",
   "metadata": {},
   "source": [
    "## Exponenciación"
   ]
  },
  {
   "cell_type": "code",
   "execution_count": 10,
   "id": "d020c554-0a73-462b-8ec2-67a28b7653ce",
   "metadata": {},
   "outputs": [],
   "source": [
    "import Data.Semigroup (mtimesDefault)\n",
    "\n",
    "elevar :: Num a => a -> Int -> a\n",
    "elevar x y = getProduct $ mtimesDefault y (Product x)"
   ]
  },
  {
   "cell_type": "code",
   "execution_count": 12,
   "id": "fa02fed8-b84b-4ee2-8e48-89aec886642a",
   "metadata": {},
   "outputs": [
    {
     "data": {
      "text/plain": [
       "┌     ┐\n",
       "│ 0 1 │\n",
       "│ 1 1 │\n",
       "└     ┘"
      ]
     },
     "metadata": {},
     "output_type": "display_data"
    }
   ],
   "source": [
    "import qualified Data.Matrix as M\n",
    "M.fromLists [[0, 1], [1, 1]]"
   ]
  },
  {
   "cell_type": "code",
   "execution_count": 13,
   "id": "679313f4-8219-4785-8e08-8f62858b82fd",
   "metadata": {},
   "outputs": [
    {
     "data": {},
     "metadata": {},
     "output_type": "display_data"
    },
    {
     "data": {
      "text/html": [
       "<div style='background: rgb(247, 247, 247);'><form><textarea id='code'>type M.Matrix :: * -> *\n",
       "data M.Matrix a\n",
       "  = Data.Matrix.M {M.nrows :: {-# UNPACK #-}Int,\n",
       "                   M.ncols :: {-# UNPACK #-}Int,\n",
       "                   Data.Matrix.rowOffset :: {-# UNPACK #-}Int,\n",
       "                   Data.Matrix.colOffset :: {-# UNPACK #-}Int,\n",
       "                   Data.Matrix.vcols :: {-# UNPACK #-}Int,\n",
       "                   Data.Matrix.mvect :: Data.Vector.Vector a}\n",
       "  \t-- Defined in ‘Data.Matrix’\n",
       "instance Show a => Show (M.Matrix a) -- Defined in ‘Data.Matrix’\n",
       "instance Eq a => Eq (M.Matrix a) -- Defined in ‘Data.Matrix’\n",
       "instance Num a => Num (M.Matrix a) -- Defined in ‘Data.Matrix’\n",
       "instance Applicative M.Matrix -- Defined in ‘Data.Matrix’\n",
       "instance Functor M.Matrix -- Defined in ‘Data.Matrix’\n",
       "instance Monoid a => Monoid (M.Matrix a) -- Defined in ‘Data.Matrix’\n",
       "instance Monoid a => Semigroup (M.Matrix a) -- Defined in ‘Data.Matrix’\n",
       "instance Foldable M.Matrix -- Defined in ‘Data.Matrix’\n",
       "instance Traversable M.Matrix -- Defined in ‘Data.Matrix’\n",
       "</textarea></form></div><script>CodeMirror.fromTextArea(document.getElementById('code'), {mode: 'haskell', readOnly: 'nocursor'});</script>"
      ],
      "text/plain": [
       "type M.Matrix :: * -> *\n",
       "data M.Matrix a\n",
       "  = Data.Matrix.M {M.nrows :: {-# UNPACK #-}Int,\n",
       "                   M.ncols :: {-# UNPACK #-}Int,\n",
       "                   Data.Matrix.rowOffset :: {-# UNPACK #-}Int,\n",
       "                   Data.Matrix.colOffset :: {-# UNPACK #-}Int,\n",
       "                   Data.Matrix.vcols :: {-# UNPACK #-}Int,\n",
       "                   Data.Matrix.mvect :: Data.Vector.Vector a}\n",
       "  \t-- Defined in ‘Data.Matrix’\n",
       "instance Show a => Show (M.Matrix a) -- Defined in ‘Data.Matrix’\n",
       "instance Eq a => Eq (M.Matrix a) -- Defined in ‘Data.Matrix’\n",
       "instance Num a => Num (M.Matrix a) -- Defined in ‘Data.Matrix’\n",
       "instance Applicative M.Matrix -- Defined in ‘Data.Matrix’\n",
       "instance Functor M.Matrix -- Defined in ‘Data.Matrix’\n",
       "instance Monoid a => Monoid (M.Matrix a) -- Defined in ‘Data.Matrix’\n",
       "instance Monoid a => Semigroup (M.Matrix a) -- Defined in ‘Data.Matrix’\n",
       "instance Foldable M.Matrix -- Defined in ‘Data.Matrix’\n",
       "instance Traversable M.Matrix -- Defined in ‘Data.Matrix’"
      ]
     },
     "metadata": {},
     "output_type": "display_data"
    }
   ],
   "source": [
    ":i M.Matrix"
   ]
  },
  {
   "cell_type": "code",
   "execution_count": 14,
   "id": "84561900-77c9-421f-b31d-740b84c39dcb",
   "metadata": {},
   "outputs": [
    {
     "data": {
      "text/plain": [
       "┌       ┐\n",
       "│ 34 55 │\n",
       "│ 55 89 │\n",
       "└       ┘"
      ]
     },
     "metadata": {},
     "output_type": "display_data"
    },
    {
     "data": {
      "text/plain": [
       "3125"
      ]
     },
     "metadata": {},
     "output_type": "display_data"
    }
   ],
   "source": [
    "import qualified Data.Matrix as M\n",
    "\n",
    "elevar (M.fromLists [[0, 1], [1, 1]]) 10\n",
    "elevar 5 5"
   ]
  },
  {
   "cell_type": "code",
   "execution_count": 15,
   "id": "700b6c2a-8a50-4f1e-8ec2-0c97028cfd59",
   "metadata": {},
   "outputs": [],
   "source": [
    "fib :: Int -> Int\n",
    "fib = M.getElem 1 1 . elevar fibMatrix\n",
    "    where fibMatrix = M.fromLists [[0, 1], [1, 1]]"
   ]
  },
  {
   "cell_type": "code",
   "execution_count": 16,
   "id": "e2208c9b-9ed8-4ea6-8749-13482eca2fc0",
   "metadata": {},
   "outputs": [
    {
     "data": {
      "text/plain": [
       "34"
      ]
     },
     "metadata": {},
     "output_type": "display_data"
    }
   ],
   "source": [
    "fib 10"
   ]
  },
  {
   "cell_type": "markdown",
   "id": "a064df9c-bbc3-4641-9408-3d0738110235",
   "metadata": {},
   "source": [
    "## Validación"
   ]
  },
  {
   "cell_type": "code",
   "execution_count": 17,
   "id": "5d2d38eb-7535-4021-a0d6-7817d375f10a",
   "metadata": {},
   "outputs": [],
   "source": [
    "import Data.Char (isLower, isUpper, isDigit)"
   ]
  },
  {
   "cell_type": "code",
   "execution_count": 18,
   "id": "a5f44cdd-5006-4ed5-bad9-fcd27e21de2e",
   "metadata": {},
   "outputs": [],
   "source": [
    "longitudValida :: String -> Bool\n",
    "longitudValida = (>=8) . length\n",
    "\n",
    "contieneMayusculas :: String -> Bool\n",
    "contieneMayusculas = any isUpper\n",
    "\n",
    "contieneMinusculas :: String -> Bool\n",
    "contieneMinusculas = any isLower\n",
    "\n",
    "contieneNumeros :: String -> Bool\n",
    "contieneNumeros = any isDigit"
   ]
  },
  {
   "cell_type": "code",
   "execution_count": 19,
   "id": "4954d324-c1f2-4a16-ba32-8379c5b85481",
   "metadata": {},
   "outputs": [
    {
     "data": {
      "text/plain": [
       "True"
      ]
     },
     "metadata": {},
     "output_type": "display_data"
    },
    {
     "data": {
      "text/plain": [
       "True"
      ]
     },
     "metadata": {},
     "output_type": "display_data"
    },
    {
     "data": {
      "text/plain": [
       "True"
      ]
     },
     "metadata": {},
     "output_type": "display_data"
    },
    {
     "data": {
      "text/plain": [
       "True"
      ]
     },
     "metadata": {},
     "output_type": "display_data"
    }
   ],
   "source": [
    "longitudValida \"Hola Mundo\"\n",
    "contieneMayusculas \"Hola Mundo\"\n",
    "contieneMinusculas \"Hola Mundo\"\n",
    "contieneNumeros \"Hola Mundo9\""
   ]
  },
  {
   "cell_type": "code",
   "execution_count": 20,
   "id": "fba04070-dcbe-4cf8-8b64-bf55e8cb4b9a",
   "metadata": {},
   "outputs": [
    {
     "data": {},
     "metadata": {},
     "output_type": "display_data"
    },
    {
     "data": {
      "text/html": [
       "<div style='background: rgb(247, 247, 247);'><form><textarea id='code'>type (->) :: * -> * -> *\n",
       "data (->) a b\n",
       "  \t-- Defined in ‘GHC.Prim’\n",
       "infixr -1 ->\n",
       "instance Applicative ((->) r) -- Defined in ‘GHC.Base’\n",
       "instance Functor ((->) r) -- Defined in ‘GHC.Base’\n",
       "instance Monad ((->) r) -- Defined in ‘GHC.Base’\n",
       "instance Monoid b => Monoid (a -> b) -- Defined in ‘GHC.Base’\n",
       "instance Semigroup b => Semigroup (a -> b) -- Defined in ‘GHC.Base’\n",
       "</textarea></form></div><script>CodeMirror.fromTextArea(document.getElementById('code'), {mode: 'haskell', readOnly: 'nocursor'});</script>"
      ],
      "text/plain": [
       "type (->) :: * -> * -> *\n",
       "data (->) a b\n",
       "  \t-- Defined in ‘GHC.Prim’\n",
       "infixr -1 ->\n",
       "instance Applicative ((->) r) -- Defined in ‘GHC.Base’\n",
       "instance Functor ((->) r) -- Defined in ‘GHC.Base’\n",
       "instance Monad ((->) r) -- Defined in ‘GHC.Base’\n",
       "instance Monoid b => Monoid (a -> b) -- Defined in ‘GHC.Base’\n",
       "instance Semigroup b => Semigroup (a -> b) -- Defined in ‘GHC.Base’"
      ]
     },
     "metadata": {},
     "output_type": "display_data"
    }
   ],
   "source": [
    ":i ->"
   ]
  },
  {
   "cell_type": "code",
   "execution_count": 50,
   "id": "109a1ffe-5126-4efc-b4f5-1efe12c78d9c",
   "metadata": {},
   "outputs": [],
   "source": [
    "import Data.Semigroup (All (..))\n",
    "\n",
    "valida :: String -> Bool\n",
    "valida = getAll . foldMap (All .) validaciones\n",
    "    where validaciones =  [longitudValida, contieneMayusculas, contieneMinusculas, contieneNumeros]"
   ]
  },
  {
   "cell_type": "code",
   "execution_count": 22,
   "id": "acdd81d9-b63c-486b-86e3-a893aca624a3",
   "metadata": {},
   "outputs": [
    {
     "data": {
      "text/html": [
       "<style>/* Styles used for the Hoogle display in the pager */\n",
       ".hoogle-doc {\n",
       "display: block;\n",
       "padding-bottom: 1.3em;\n",
       "padding-left: 0.4em;\n",
       "}\n",
       ".hoogle-code {\n",
       "display: block;\n",
       "font-family: monospace;\n",
       "white-space: pre;\n",
       "}\n",
       ".hoogle-text {\n",
       "display: block;\n",
       "}\n",
       ".hoogle-name {\n",
       "color: green;\n",
       "font-weight: bold;\n",
       "}\n",
       ".hoogle-head {\n",
       "font-weight: bold;\n",
       "}\n",
       ".hoogle-sub {\n",
       "display: block;\n",
       "margin-left: 0.4em;\n",
       "}\n",
       ".hoogle-package {\n",
       "font-weight: bold;\n",
       "font-style: italic;\n",
       "}\n",
       ".hoogle-module {\n",
       "font-weight: bold;\n",
       "}\n",
       ".hoogle-class {\n",
       "font-weight: bold;\n",
       "}\n",
       ".get-type {\n",
       "color: green;\n",
       "font-weight: bold;\n",
       "font-family: monospace;\n",
       "display: block;\n",
       "white-space: pre-wrap;\n",
       "}\n",
       ".show-type {\n",
       "color: green;\n",
       "font-weight: bold;\n",
       "font-family: monospace;\n",
       "margin-left: 1em;\n",
       "}\n",
       ".mono {\n",
       "font-family: monospace;\n",
       "display: block;\n",
       "}\n",
       ".err-msg {\n",
       "color: red;\n",
       "font-style: italic;\n",
       "font-family: monospace;\n",
       "white-space: pre;\n",
       "display: block;\n",
       "}\n",
       "#unshowable {\n",
       "color: red;\n",
       "font-weight: bold;\n",
       "}\n",
       ".err-msg.in.collapse {\n",
       "padding-top: 0.7em;\n",
       "}\n",
       ".highlight-code {\n",
       "white-space: pre;\n",
       "font-family: monospace;\n",
       "}\n",
       ".suggestion-warning { \n",
       "font-weight: bold;\n",
       "color: rgb(200, 130, 0);\n",
       "}\n",
       ".suggestion-error { \n",
       "font-weight: bold;\n",
       "color: red;\n",
       "}\n",
       ".suggestion-name {\n",
       "font-weight: bold;\n",
       "}\n",
       "</style><span class='get-type'>mconcat [All . longitudValida, All . contieneMayusculas, All . contieneMinusculas, All . contieneNumeros] :: String -> All</span>"
      ],
      "text/plain": [
       "mconcat [All . longitudValida, All . contieneMayusculas, All . contieneMinusculas, All . contieneNumeros] :: String -> All"
      ]
     },
     "metadata": {},
     "output_type": "display_data"
    }
   ],
   "source": [
    "import Data.Semigroup (All (..))\n",
    ":t mconcat [All . longitudValida, All . contieneMayusculas, All . contieneMinusculas, All . contieneNumeros]"
   ]
  },
  {
   "cell_type": "code",
   "execution_count": 52,
   "id": "113b44a6-ceaa-4eac-b0ef-c0ca09c3f955",
   "metadata": {},
   "outputs": [
    {
     "data": {
      "text/plain": [
       "False"
      ]
     },
     "metadata": {},
     "output_type": "display_data"
    }
   ],
   "source": [
    "valida \"HolaMundo\""
   ]
  },
  {
   "cell_type": "markdown",
   "id": "c6ed0809-7041-480c-b6d8-c96a95a10b77",
   "metadata": {},
   "source": [
    "## Reducibles (Foldable)\n",
    "\n",
    "Un reducible es un tipo de dato que puede ir acumulándose, un valor a la vez, hasta llegar a un solo resultado."
   ]
  },
  {
   "cell_type": "code",
   "execution_count": 40,
   "id": "66761f05-629c-4c01-83d1-364fceb37a4a",
   "metadata": {},
   "outputs": [],
   "source": [
    "import Data.Semigroup (Min (..), Max (..))"
   ]
  },
  {
   "cell_type": "code",
   "execution_count": 41,
   "id": "12f9e96c-d166-4872-b506-a85def2b38b4",
   "metadata": {},
   "outputs": [
    {
     "data": {},
     "metadata": {},
     "output_type": "display_data"
    },
    {
     "data": {
      "text/html": [
       "<div style='background: rgb(247, 247, 247);'><form><textarea id='code'>type Foldable :: (* -> *) -> Constraint\n",
       "class Foldable t where\n",
       "  Data.Foldable.fold :: Monoid m => t m -> m\n",
       "  foldMap :: Monoid m => (a -> m) -> t a -> m\n",
       "  Data.Foldable.foldMap' :: Monoid m => (a -> m) -> t a -> m\n",
       "  foldr :: (a -> b -> b) -> b -> t a -> b\n",
       "  Data.Foldable.foldr' :: (a -> b -> b) -> b -> t a -> b\n",
       "  foldl :: (b -> a -> b) -> b -> t a -> b\n",
       "  Data.Foldable.foldl' :: (b -> a -> b) -> b -> t a -> b\n",
       "  foldr1 :: (a -> a -> a) -> t a -> a\n",
       "  foldl1 :: (a -> a -> a) -> t a -> a\n",
       "  Data.Foldable.toList :: t a -> [a]\n",
       "  null :: t a -> Bool\n",
       "  length :: t a -> Int\n",
       "  elem :: Eq a => a -> t a -> Bool\n",
       "  maximum :: Ord a => t a -> a\n",
       "  minimum :: Ord a => t a -> a\n",
       "  sum :: Num a => t a -> a\n",
       "  product :: Num a => t a -> a\n",
       "  {-# MINIMAL foldMap | foldr #-}\n",
       "  \t-- Defined in ‘Data.Foldable’\n",
       "instance Foldable M.Matrix -- Defined in ‘Data.Matrix’\n",
       "instance Foldable Min -- Defined in ‘Data.Semigroup’\n",
       "instance Foldable Max -- Defined in ‘Data.Semigroup’\n",
       "instance Foldable [] -- Defined in ‘Data.Foldable’\n",
       "instance Foldable Sum -- Defined in ‘Data.Foldable’\n",
       "instance Foldable Product -- Defined in ‘Data.Foldable’\n",
       "instance Foldable Maybe -- Defined in ‘Data.Foldable’\n",
       "instance Foldable (Either a) -- Defined in ‘Data.Foldable’\n",
       "instance Foldable ((,) a) -- Defined in ‘Data.Foldable’\n",
       "</textarea></form></div><script>CodeMirror.fromTextArea(document.getElementById('code'), {mode: 'haskell', readOnly: 'nocursor'});</script>"
      ],
      "text/plain": [
       "type Foldable :: (* -> *) -> Constraint\n",
       "class Foldable t where\n",
       "  Data.Foldable.fold :: Monoid m => t m -> m\n",
       "  foldMap :: Monoid m => (a -> m) -> t a -> m\n",
       "  Data.Foldable.foldMap' :: Monoid m => (a -> m) -> t a -> m\n",
       "  foldr :: (a -> b -> b) -> b -> t a -> b\n",
       "  Data.Foldable.foldr' :: (a -> b -> b) -> b -> t a -> b\n",
       "  foldl :: (b -> a -> b) -> b -> t a -> b\n",
       "  Data.Foldable.foldl' :: (b -> a -> b) -> b -> t a -> b\n",
       "  foldr1 :: (a -> a -> a) -> t a -> a\n",
       "  foldl1 :: (a -> a -> a) -> t a -> a\n",
       "  Data.Foldable.toList :: t a -> [a]\n",
       "  null :: t a -> Bool\n",
       "  length :: t a -> Int\n",
       "  elem :: Eq a => a -> t a -> Bool\n",
       "  maximum :: Ord a => t a -> a\n",
       "  minimum :: Ord a => t a -> a\n",
       "  sum :: Num a => t a -> a\n",
       "  product :: Num a => t a -> a\n",
       "  {-# MINIMAL foldMap | foldr #-}\n",
       "  \t-- Defined in ‘Data.Foldable’\n",
       "instance Foldable M.Matrix -- Defined in ‘Data.Matrix’\n",
       "instance Foldable Min -- Defined in ‘Data.Semigroup’\n",
       "instance Foldable Max -- Defined in ‘Data.Semigroup’\n",
       "instance Foldable [] -- Defined in ‘Data.Foldable’\n",
       "instance Foldable Sum -- Defined in ‘Data.Foldable’\n",
       "instance Foldable Product -- Defined in ‘Data.Foldable’\n",
       "instance Foldable Maybe -- Defined in ‘Data.Foldable’\n",
       "instance Foldable (Either a) -- Defined in ‘Data.Foldable’\n",
       "instance Foldable ((,) a) -- Defined in ‘Data.Foldable’"
      ]
     },
     "metadata": {},
     "output_type": "display_data"
    }
   ],
   "source": [
    ":i Foldable"
   ]
  },
  {
   "cell_type": "code",
   "execution_count": 42,
   "id": "64191e46-826c-40b9-b326-0813d8946c7a",
   "metadata": {},
   "outputs": [
    {
     "data": {
      "text/html": [
       "<style>/* Styles used for the Hoogle display in the pager */\n",
       ".hoogle-doc {\n",
       "display: block;\n",
       "padding-bottom: 1.3em;\n",
       "padding-left: 0.4em;\n",
       "}\n",
       ".hoogle-code {\n",
       "display: block;\n",
       "font-family: monospace;\n",
       "white-space: pre;\n",
       "}\n",
       ".hoogle-text {\n",
       "display: block;\n",
       "}\n",
       ".hoogle-name {\n",
       "color: green;\n",
       "font-weight: bold;\n",
       "}\n",
       ".hoogle-head {\n",
       "font-weight: bold;\n",
       "}\n",
       ".hoogle-sub {\n",
       "display: block;\n",
       "margin-left: 0.4em;\n",
       "}\n",
       ".hoogle-package {\n",
       "font-weight: bold;\n",
       "font-style: italic;\n",
       "}\n",
       ".hoogle-module {\n",
       "font-weight: bold;\n",
       "}\n",
       ".hoogle-class {\n",
       "font-weight: bold;\n",
       "}\n",
       ".get-type {\n",
       "color: green;\n",
       "font-weight: bold;\n",
       "font-family: monospace;\n",
       "display: block;\n",
       "white-space: pre-wrap;\n",
       "}\n",
       ".show-type {\n",
       "color: green;\n",
       "font-weight: bold;\n",
       "font-family: monospace;\n",
       "margin-left: 1em;\n",
       "}\n",
       ".mono {\n",
       "font-family: monospace;\n",
       "display: block;\n",
       "}\n",
       ".err-msg {\n",
       "color: red;\n",
       "font-style: italic;\n",
       "font-family: monospace;\n",
       "white-space: pre;\n",
       "display: block;\n",
       "}\n",
       "#unshowable {\n",
       "color: red;\n",
       "font-weight: bold;\n",
       "}\n",
       ".err-msg.in.collapse {\n",
       "padding-top: 0.7em;\n",
       "}\n",
       ".highlight-code {\n",
       "white-space: pre;\n",
       "font-family: monospace;\n",
       "}\n",
       ".suggestion-warning { \n",
       "font-weight: bold;\n",
       "color: rgb(200, 130, 0);\n",
       "}\n",
       ".suggestion-error { \n",
       "font-weight: bold;\n",
       "color: red;\n",
       "}\n",
       ".suggestion-name {\n",
       "font-weight: bold;\n",
       "}\n",
       "</style><span class='get-type'>foldMap :: forall (t :: * -> *) m a. (Foldable t, Monoid m) => (a -> m) -> t a -> m</span>"
      ],
      "text/plain": [
       "foldMap :: forall (t :: * -> *) m a. (Foldable t, Monoid m) => (a -> m) -> t a -> m"
      ]
     },
     "metadata": {},
     "output_type": "display_data"
    }
   ],
   "source": [
    ":t foldMap"
   ]
  },
  {
   "cell_type": "markdown",
   "id": "d0038d6c-abcf-4e45-85b2-ef947b46d53a",
   "metadata": {},
   "source": [
    "Si tenemos una colección que es reducible, y los elementos en la colección los podemos mapear a un monoide, tenemos una forma sencilla de calcular propiedades de la colección."
   ]
  },
  {
   "cell_type": "code",
   "execution_count": 43,
   "id": "9f469d2e-bd5c-4d3a-b54b-0d57ab829ae7",
   "metadata": {},
   "outputs": [
    {
     "data": {
      "text/plain": [
       "Sum {getSum = 84}"
      ]
     },
     "metadata": {},
     "output_type": "display_data"
    },
    {
     "data": {
      "text/plain": [
       "Product {getProduct = 42336}"
      ]
     },
     "metadata": {},
     "output_type": "display_data"
    },
    {
     "data": {
      "text/plain": [
       "(Sum {getSum = 84},Product {getProduct = 42336})"
      ]
     },
     "metadata": {},
     "output_type": "display_data"
    },
    {
     "data": {
      "text/plain": [
       "(Min {getMin = 1},Max {getMax = 42})"
      ]
     },
     "metadata": {},
     "output_type": "display_data"
    }
   ],
   "source": [
    "{-# LANGUAGE DeriveFoldable #-}\n",
    "data Tree a = Leaf a\n",
    "            | Node (Tree a) a (Tree a)\n",
    "    deriving (Foldable, Show)\n",
    "\n",
    "tree :: Tree Int\n",
    "tree = Node (Leaf 4) 9 (Node (Leaf 42) 28 (Leaf 1))\n",
    "\n",
    "foldMap Sum     tree\n",
    "foldMap Product tree\n",
    "foldMap (\\x -> (Sum x, Product x)) tree\n",
    "foldMap (\\x -> (Min x, Max x)) tree"
   ]
  },
  {
   "cell_type": "code",
   "execution_count": 44,
   "id": "00ce1511-62d5-4faa-953c-71ff1f8fbde8",
   "metadata": {},
   "outputs": [
    {
     "data": {
      "text/plain": [
       "Sum {getSum = 248}"
      ]
     },
     "metadata": {},
     "output_type": "display_data"
    },
    {
     "data": {
      "text/plain": [
       "Product {getProduct = 2451000}"
      ]
     },
     "metadata": {},
     "output_type": "display_data"
    },
    {
     "data": {
      "text/plain": [
       "(Sum {getSum = 248},Product {getProduct = 2451000})"
      ]
     },
     "metadata": {},
     "output_type": "display_data"
    },
    {
     "data": {
      "text/plain": [
       "(Min {getMin = 5},Max {getMax = 100})"
      ]
     },
     "metadata": {},
     "output_type": "display_data"
    }
   ],
   "source": [
    "xs :: [Int]\n",
    "xs = [5,100, 86, 57]\n",
    "\n",
    "foldMap Sum     xs\n",
    "foldMap Product xs\n",
    "foldMap (\\x -> (Sum x, Product x)) xs\n",
    "foldMap (\\x -> (Min x, Max x)) xs"
   ]
  },
  {
   "cell_type": "markdown",
   "id": "bc6a6927-d9af-4e1c-b2c1-de59783bafcf",
   "metadata": {},
   "source": [
    "Implementa la función `foldMap`."
   ]
  },
  {
   "cell_type": "code",
   "execution_count": 45,
   "id": "0c60e6db-fe0f-491c-812c-95db224ac0c5",
   "metadata": {},
   "outputs": [
    {
     "data": {
      "text/html": [
       "<style>/* Styles used for the Hoogle display in the pager */\n",
       ".hoogle-doc {\n",
       "display: block;\n",
       "padding-bottom: 1.3em;\n",
       "padding-left: 0.4em;\n",
       "}\n",
       ".hoogle-code {\n",
       "display: block;\n",
       "font-family: monospace;\n",
       "white-space: pre;\n",
       "}\n",
       ".hoogle-text {\n",
       "display: block;\n",
       "}\n",
       ".hoogle-name {\n",
       "color: green;\n",
       "font-weight: bold;\n",
       "}\n",
       ".hoogle-head {\n",
       "font-weight: bold;\n",
       "}\n",
       ".hoogle-sub {\n",
       "display: block;\n",
       "margin-left: 0.4em;\n",
       "}\n",
       ".hoogle-package {\n",
       "font-weight: bold;\n",
       "font-style: italic;\n",
       "}\n",
       ".hoogle-module {\n",
       "font-weight: bold;\n",
       "}\n",
       ".hoogle-class {\n",
       "font-weight: bold;\n",
       "}\n",
       ".get-type {\n",
       "color: green;\n",
       "font-weight: bold;\n",
       "font-family: monospace;\n",
       "display: block;\n",
       "white-space: pre-wrap;\n",
       "}\n",
       ".show-type {\n",
       "color: green;\n",
       "font-weight: bold;\n",
       "font-family: monospace;\n",
       "margin-left: 1em;\n",
       "}\n",
       ".mono {\n",
       "font-family: monospace;\n",
       "display: block;\n",
       "}\n",
       ".err-msg {\n",
       "color: red;\n",
       "font-style: italic;\n",
       "font-family: monospace;\n",
       "white-space: pre;\n",
       "display: block;\n",
       "}\n",
       "#unshowable {\n",
       "color: red;\n",
       "font-weight: bold;\n",
       "}\n",
       ".err-msg.in.collapse {\n",
       "padding-top: 0.7em;\n",
       "}\n",
       ".highlight-code {\n",
       "white-space: pre;\n",
       "font-family: monospace;\n",
       "}\n",
       ".suggestion-warning { \n",
       "font-weight: bold;\n",
       "color: rgb(200, 130, 0);\n",
       "}\n",
       ".suggestion-error { \n",
       "font-weight: bold;\n",
       "color: red;\n",
       "}\n",
       ".suggestion-name {\n",
       "font-weight: bold;\n",
       "}\n",
       "</style><span class='get-type'>foldr :: forall (t :: * -> *) a b. Foldable t => (a -> b -> b) -> b -> t a -> b</span>"
      ],
      "text/plain": [
       "foldr :: forall (t :: * -> *) a b. Foldable t => (a -> b -> b) -> b -> t a -> b"
      ]
     },
     "metadata": {},
     "output_type": "display_data"
    }
   ],
   "source": [
    ":t foldr"
   ]
  },
  {
   "cell_type": "code",
   "execution_count": 48,
   "id": "c72af701-91fc-4c7a-b88f-ea0fc148da58",
   "metadata": {},
   "outputs": [],
   "source": [
    "foldMap :: (Foldable t, Monoid m) => (a -> m) -> t a -> m\n",
    "foldMap f = foldr ((<>) . f) mempty"
   ]
  },
  {
   "cell_type": "code",
   "execution_count": 49,
   "id": "22416bea-a290-4de6-9e49-aa26ca56e29e",
   "metadata": {},
   "outputs": [
    {
     "data": {
      "text/plain": [
       "Sum {getSum = 84}"
      ]
     },
     "metadata": {},
     "output_type": "display_data"
    }
   ],
   "source": [
    "data Tree a = Leaf a\n",
    "            | Node (Tree a) a (Tree a)\n",
    "    deriving (Foldable, Show)\n",
    "\n",
    "tree :: Tree Int\n",
    "tree = Node (Leaf 4) 9 (Node (Leaf 42) 28 (Leaf 1))\n",
    "\n",
    "foldMap Sum     tree"
   ]
  },
  {
   "cell_type": "code",
   "execution_count": null,
   "id": "b5e16f05-4406-4c3b-b119-aa5956575b96",
   "metadata": {},
   "outputs": [],
   "source": []
  }
 ],
 "metadata": {
  "kernelspec": {
   "display_name": "Haskell",
   "language": "haskell",
   "name": "haskell"
  },
  "language_info": {
   "codemirror_mode": "ihaskell",
   "file_extension": ".hs",
   "mimetype": "text/x-haskell",
   "name": "haskell",
   "pygments_lexer": "Haskell",
   "version": "8.10.4"
  }
 },
 "nbformat": 4,
 "nbformat_minor": 5
}
