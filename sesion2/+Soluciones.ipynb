{
 "cells": [
  {
   "cell_type": "markdown",
   "id": "43338a5b-e8b6-448d-9c65-387ad9982a96",
   "metadata": {
    "tags": []
   },
   "source": [
    "**+Ejercicios**"
   ]
  },
  {
   "cell_type": "markdown",
   "id": "400d5042-acd7-4c39-9225-ac9933ca0e77",
   "metadata": {},
   "source": [
    "Sabemos que las listas en `Haskell` se pueden ver de la siguiente manera: "
   ]
  },
  {
   "cell_type": "code",
   "execution_count": null,
   "id": "7370b6a8-5c1f-4209-87f8-52b27f701b8a",
   "metadata": {},
   "outputs": [],
   "source": [
    "[]\n",
    "(x:xs)"
   ]
  },
  {
   "cell_type": "markdown",
   "id": "83eafded-0d6a-4cc7-bc2f-00b611509762",
   "metadata": {
    "tags": []
   },
   "source": [
    "**¿Esto que quiere decir?**\n",
    "\n",
    "    * Lista vacia\n",
    "    * Un elemento y otra lista \n",
    "\n",
    "*Una definición recursiva para listas:*\n",
    "\n",
    "1. La lista vacía es una lista \n",
    "2. Un elemento concatenado a una lisra, es una lista.\n",
    "3. Son todas\n",
    "\n",
    "**Crear nuestro propio tipo de dato Lista**"
   ]
  },
  {
   "cell_type": "code",
   "execution_count": 105,
   "id": "d113d4e7-9941-4131-b56e-141138edc597",
   "metadata": {},
   "outputs": [],
   "source": [
    "data List a = Void | Cons a (List a) deriving(Show)\n",
    "\n",
    "lV = Void\n",
    "l1 = Cons 1 (Cons 2 (Cons 3 (Cons 4 (Cons 5 Void))))\n",
    "l2 = Cons 6 (Cons 7 (Cons 8 (Cons 9 (Cons 10 Void))))"
   ]
  },
  {
   "cell_type": "markdown",
   "id": "76ecac6a-6857-454e-9b7b-6ef470121dd5",
   "metadata": {
    "tags": []
   },
   "source": [
    "# Problema 7"
   ]
  },
  {
   "cell_type": "markdown",
   "id": "a38a2fe8-c27c-487a-a3b1-7fedb6907eba",
   "metadata": {},
   "source": [
    "Escribe la función que recibe una de nuestras listas y devuelve  una lista de haskell, ejemplo:"
   ]
  },
  {
   "cell_type": "code",
   "execution_count": 107,
   "id": "3fe7fbe2-2d05-48d3-9806-e189d4f52e84",
   "metadata": {},
   "outputs": [],
   "source": [
    " toHaskell :: List a -> [a]\n",
    " toHaskell Void = []\n",
    " toHaskell (Cons a x) = a:toHaskell x   "
   ]
  },
  {
   "cell_type": "code",
   "execution_count": 108,
   "id": "a6158ede-5028-4a54-9857-8cef5e388b15",
   "metadata": {},
   "outputs": [
    {
     "data": {
      "text/plain": [
       "[1,2,3,4,5]"
      ]
     },
     "metadata": {},
     "output_type": "display_data"
    },
    {
     "data": {
      "text/plain": [
       "[6,7,8,9,10]"
      ]
     },
     "metadata": {},
     "output_type": "display_data"
    }
   ],
   "source": [
    "toHaskell l1\n",
    "-- Regresa [1,2,3,4,5]\n",
    "toHaskell l2\n",
    "-- Regresa [6,7,8,9,10]"
   ]
  },
  {
   "cell_type": "markdown",
   "id": "0af9f0c8-c3cc-49d4-aa65-c1f41e57a489",
   "metadata": {},
   "source": [
    "# Problema 8"
   ]
  },
  {
   "cell_type": "markdown",
   "id": "0f9bb267-8897-42f1-aff6-3f925c0508c2",
   "metadata": {},
   "source": [
    "Función que pasa una lista de haskell a nuestras listas "
   ]
  },
  {
   "cell_type": "code",
   "execution_count": 115,
   "id": "5946e697-392f-4c66-8cff-913dfde7e608",
   "metadata": {},
   "outputs": [
    {
     "data": {
      "text/html": [
       "<style>/* Styles used for the Hoogle display in the pager */\n",
       ".hoogle-doc {\n",
       "display: block;\n",
       "padding-bottom: 1.3em;\n",
       "padding-left: 0.4em;\n",
       "}\n",
       ".hoogle-code {\n",
       "display: block;\n",
       "font-family: monospace;\n",
       "white-space: pre;\n",
       "}\n",
       ".hoogle-text {\n",
       "display: block;\n",
       "}\n",
       ".hoogle-name {\n",
       "color: green;\n",
       "font-weight: bold;\n",
       "}\n",
       ".hoogle-head {\n",
       "font-weight: bold;\n",
       "}\n",
       ".hoogle-sub {\n",
       "display: block;\n",
       "margin-left: 0.4em;\n",
       "}\n",
       ".hoogle-package {\n",
       "font-weight: bold;\n",
       "font-style: italic;\n",
       "}\n",
       ".hoogle-module {\n",
       "font-weight: bold;\n",
       "}\n",
       ".hoogle-class {\n",
       "font-weight: bold;\n",
       "}\n",
       ".get-type {\n",
       "color: green;\n",
       "font-weight: bold;\n",
       "font-family: monospace;\n",
       "display: block;\n",
       "white-space: pre-wrap;\n",
       "}\n",
       ".show-type {\n",
       "color: green;\n",
       "font-weight: bold;\n",
       "font-family: monospace;\n",
       "margin-left: 1em;\n",
       "}\n",
       ".mono {\n",
       "font-family: monospace;\n",
       "display: block;\n",
       "}\n",
       ".err-msg {\n",
       "color: red;\n",
       "font-style: italic;\n",
       "font-family: monospace;\n",
       "white-space: pre;\n",
       "display: block;\n",
       "}\n",
       "#unshowable {\n",
       "color: red;\n",
       "font-weight: bold;\n",
       "}\n",
       ".err-msg.in.collapse {\n",
       "padding-top: 0.7em;\n",
       "}\n",
       ".highlight-code {\n",
       "white-space: pre;\n",
       "font-family: monospace;\n",
       "}\n",
       ".suggestion-warning { \n",
       "font-weight: bold;\n",
       "color: rgb(200, 130, 0);\n",
       "}\n",
       ".suggestion-error { \n",
       "font-weight: bold;\n",
       "color: red;\n",
       "}\n",
       ".suggestion-name {\n",
       "font-weight: bold;\n",
       "}\n",
       "</style><div class=\"suggestion-name\" style=\"clear:both;\">Use foldr</div><div class=\"suggestion-row\" style=\"float: left;\"><div class=\"suggestion-warning\">Found:</div><div class=\"highlight-code\" id=\"haskell\">fromHaskell [] = Void\n",
       "fromHaskell (x : xs) = Cons x (fromHaskell xs)</div></div><div class=\"suggestion-row\" style=\"float: left;\"><div class=\"suggestion-warning\">Why Not:</div><div class=\"highlight-code\" id=\"haskell\">fromHaskell xs = foldr Cons Void xs</div></div>"
      ],
      "text/plain": [
       "Line 2: Use foldr\n",
       "Found:\n",
       "fromHaskell [] = Void\n",
       "fromHaskell (x : xs) = Cons x (fromHaskell xs)\n",
       "Why not:\n",
       "fromHaskell xs = foldr Cons Void xs"
      ]
     },
     "metadata": {},
     "output_type": "display_data"
    }
   ],
   "source": [
    "fromHaskell :: [a] -> List a \n",
    "fromHaskell [] = Void\n",
    "fromHaskell (x:xs)= Cons x (fromHaskell xs)"
   ]
  },
  {
   "cell_type": "code",
   "execution_count": 117,
   "id": "1a6bbf16-a13a-4666-836c-ccc3aafa366e",
   "metadata": {},
   "outputs": [
    {
     "data": {
      "text/plain": [
       "Cons 1 (Cons 2 (Cons 3 Void))"
      ]
     },
     "metadata": {},
     "output_type": "display_data"
    },
    {
     "data": {
      "text/plain": [
       "Void"
      ]
     },
     "metadata": {},
     "output_type": "display_data"
    }
   ],
   "source": [
    "fromHaskell [1,2,3]\n",
    "-- Regresa Cons 1 (Cons 2 (Cons 3 Void))\n",
    "fromHaskell []\n",
    "-- Regresa Void"
   ]
  },
  {
   "cell_type": "markdown",
   "id": "959e9130-5d50-4b76-9e9a-4b8c930e8274",
   "metadata": {},
   "source": [
    "Regresando a las listas de haskell"
   ]
  },
  {
   "cell_type": "markdown",
   "id": "e3f5ab8d-542e-45c2-8d97-653dac7c08b5",
   "metadata": {},
   "source": [
    "# Problema 9 "
   ]
  },
  {
   "cell_type": "markdown",
   "id": "b14c7edb-37d9-46af-b304-7650fed6de37",
   "metadata": {},
   "source": [
    "Escribe la función que recibe una lista y devuleve la lista sin los elementos repetidos que sean consecutivos"
   ]
  },
  {
   "cell_type": "code",
   "execution_count": 36,
   "id": "cba02f50-eed0-4f63-bcee-361990aa0755",
   "metadata": {},
   "outputs": [],
   "source": [
    "compress :: Eq a => [a] -> [a]\n",
    "compress [] = []\n",
    "compress x = foldr (\\a b -> if a == head b then b else a:b) [last x] x\n"
   ]
  },
  {
   "cell_type": "code",
   "execution_count": 37,
   "id": "4354cd47-f435-4421-b8d2-240e43bafcbe",
   "metadata": {
    "tags": []
   },
   "outputs": [
    {
     "data": {
      "text/plain": [
       "\"abcade\""
      ]
     },
     "metadata": {},
     "output_type": "display_data"
    },
    {
     "data": {
      "text/plain": [
       "[]"
      ]
     },
     "metadata": {},
     "output_type": "display_data"
    },
    {
     "data": {
      "text/plain": [
       "[1]"
      ]
     },
     "metadata": {},
     "output_type": "display_data"
    }
   ],
   "source": [
    "compress \"aaaabccaadeeee\"\n",
    "-- Regresa \"abcade\"\n",
    "compress []\n",
    "compress [1]"
   ]
  },
  {
   "cell_type": "markdown",
   "id": "95f10b1d-985a-47d9-b7c4-549030ef1bc1",
   "metadata": {},
   "source": [
    "# Problema 10 "
   ]
  },
  {
   "cell_type": "markdown",
   "id": "3906b0e8-5f51-4ed9-a5b0-f8a50a1e23c3",
   "metadata": {},
   "source": [
    "Escribe la función que recibe una lista y devuelve una lista de sublistas, donde las sublistas se crean con los elementos repetidos que sean consecutivos. "
   ]
  },
  {
   "cell_type": "code",
   "execution_count": 100,
   "id": "733e453d-869c-46c8-963e-619635a299a9",
   "metadata": {},
   "outputs": [
    {
     "data": {
      "text/html": [
       "<style>/* Styles used for the Hoogle display in the pager */\n",
       ".hoogle-doc {\n",
       "display: block;\n",
       "padding-bottom: 1.3em;\n",
       "padding-left: 0.4em;\n",
       "}\n",
       ".hoogle-code {\n",
       "display: block;\n",
       "font-family: monospace;\n",
       "white-space: pre;\n",
       "}\n",
       ".hoogle-text {\n",
       "display: block;\n",
       "}\n",
       ".hoogle-name {\n",
       "color: green;\n",
       "font-weight: bold;\n",
       "}\n",
       ".hoogle-head {\n",
       "font-weight: bold;\n",
       "}\n",
       ".hoogle-sub {\n",
       "display: block;\n",
       "margin-left: 0.4em;\n",
       "}\n",
       ".hoogle-package {\n",
       "font-weight: bold;\n",
       "font-style: italic;\n",
       "}\n",
       ".hoogle-module {\n",
       "font-weight: bold;\n",
       "}\n",
       ".hoogle-class {\n",
       "font-weight: bold;\n",
       "}\n",
       ".get-type {\n",
       "color: green;\n",
       "font-weight: bold;\n",
       "font-family: monospace;\n",
       "display: block;\n",
       "white-space: pre-wrap;\n",
       "}\n",
       ".show-type {\n",
       "color: green;\n",
       "font-weight: bold;\n",
       "font-family: monospace;\n",
       "margin-left: 1em;\n",
       "}\n",
       ".mono {\n",
       "font-family: monospace;\n",
       "display: block;\n",
       "}\n",
       ".err-msg {\n",
       "color: red;\n",
       "font-style: italic;\n",
       "font-family: monospace;\n",
       "white-space: pre;\n",
       "display: block;\n",
       "}\n",
       "#unshowable {\n",
       "color: red;\n",
       "font-weight: bold;\n",
       "}\n",
       ".err-msg.in.collapse {\n",
       "padding-top: 0.7em;\n",
       "}\n",
       ".highlight-code {\n",
       "white-space: pre;\n",
       "font-family: monospace;\n",
       "}\n",
       ".suggestion-warning { \n",
       "font-weight: bold;\n",
       "color: rgb(200, 130, 0);\n",
       "}\n",
       ".suggestion-error { \n",
       "font-weight: bold;\n",
       "color: red;\n",
       "}\n",
       ".suggestion-name {\n",
       "font-weight: bold;\n",
       "}\n",
       "</style><div class=\"suggestion-name\" style=\"clear:both;\">Use infix</div><div class=\"suggestion-row\" style=\"float: left;\"><div class=\"suggestion-warning\">Found:</div><div class=\"highlight-code\" id=\"haskell\">elem x (head (pack xs))</div></div><div class=\"suggestion-row\" style=\"float: left;\"><div class=\"suggestion-warning\">Why Not:</div><div class=\"highlight-code\" id=\"haskell\">x `elem` head (pack xs)</div></div>"
      ],
      "text/plain": [
       "Line 4: Use infix\n",
       "Found:\n",
       "elem x (head (pack xs))\n",
       "Why not:\n",
       "x `elem` head (pack xs)"
      ]
     },
     "metadata": {},
     "output_type": "display_data"
    }
   ],
   "source": [
    "pack :: Eq a => [a] -> [[a]]\n",
    "pack [] = []\n",
    "pack [x] = [[x]]\n",
    "pack (x:xs)= if elem x (head (pack xs)) then (x:head (pack xs)):tail (pack xs) else [x]:pack xs"
   ]
  },
  {
   "cell_type": "code",
   "execution_count": 102,
   "id": "fc8e4772-31d7-498f-90c5-6ccd49b184ba",
   "metadata": {},
   "outputs": [],
   "source": [
    "pack' :: Eq a => [a] -> [[a]]\n",
    "pack' [] = []\n",
    "pack' (x:xs) = (x : takeWhile (==x) xs) : pack (dropWhile (==x) xs) "
   ]
  },
  {
   "cell_type": "code",
   "execution_count": 104,
   "id": "1ff535a9-8c44-40ed-ae1f-77b1e6b19afa",
   "metadata": {},
   "outputs": [
    {
     "data": {
      "text/plain": [
       "[\"aaaa\",\"b\",\"cc\",\"aa\",\"d\",\"eeee\"]"
      ]
     },
     "metadata": {},
     "output_type": "display_data"
    },
    {
     "data": {
      "text/plain": [
       "[\"aaaa\",\"b\",\"cc\",\"aa\",\"d\",\"eeee\"]"
      ]
     },
     "metadata": {},
     "output_type": "display_data"
    }
   ],
   "source": [
    "pack ['a', 'a', 'a', 'a', 'b', 'c', 'c', 'a', 'a', 'd', 'e', 'e', 'e', 'e']\n",
    "-- [\"aaaa\",\"b\",\"cc\",\"aa\",\"d\",\"eeee\"]\n",
    "pack' ['a', 'a', 'a', 'a', 'b', 'c', 'c', 'a', 'a', 'd', 'e', 'e', 'e', 'e']"
   ]
  },
  {
   "cell_type": "markdown",
   "id": "f1ac9c4e-bc9a-408f-a7a1-50c79407f7e6",
   "metadata": {},
   "source": [
    "# Problema 11"
   ]
  },
  {
   "cell_type": "markdown",
   "id": "b91c3a56-668a-47f0-b003-54bdf4d20c18",
   "metadata": {},
   "source": [
    "Escribe la función que recibe una lista y devuelve una lista de duplas tipo (N, E) donde N es el número de elementos repetidos y E es el elemento."
   ]
  },
  {
   "cell_type": "code",
   "execution_count": null,
   "id": "e8a72bc3-ced9-4c96-be39-fb079acf7d75",
   "metadata": {},
   "outputs": [],
   "source": []
  },
  {
   "cell_type": "markdown",
   "id": "cfcc2666-0ffa-45ba-a298-dad04f4d9706",
   "metadata": {},
   "source": [
    "# Problema 12"
   ]
  },
  {
   "cell_type": "markdown",
   "id": "fa684ac8-a647-4a1f-b6ce-43a2fdb525e9",
   "metadata": {},
   "source": [
    "Buscamos modificar el resultado del P11 de tal forma que la función reciba una lista y devuelva una lista con una dupla tipo (N, E) si tiene elementos repetidos en otro caso solo devuelve el elemento.\n",
    "\n",
    "Hint. Necesitamos un `data`"
   ]
  },
  {
   "cell_type": "code",
   "execution_count": null,
   "id": "1795d4bb-3f11-48f0-98bb-414519d6b173",
   "metadata": {},
   "outputs": [],
   "source": []
  },
  {
   "cell_type": "markdown",
   "id": "69df4a05-78f3-46c6-a0d6-eab4ea9974fe",
   "metadata": {},
   "source": [
    "# Problema 13"
   ]
  },
  {
   "cell_type": "markdown",
   "id": "03570b96-2189-4507-9e6e-6e9bac5649cc",
   "metadata": {},
   "source": [
    "Escrbe la función que duplica los elementos de una lista "
   ]
  },
  {
   "cell_type": "code",
   "execution_count": 12,
   "id": "ebe7ee14-447f-4d58-9aa4-7120e50e4f75",
   "metadata": {},
   "outputs": [],
   "source": []
  }
 ],
 "metadata": {
  "kernelspec": {
   "display_name": "Haskell",
   "language": "haskell",
   "name": "haskell"
  },
  "language_info": {
   "codemirror_mode": "Haskell",
   "file_extension": ".hs",
   "mimetype": "text/x-haskell",
   "name": "haskell",
   "pygments_lexer": "Haskell",
   "version": "8.10.4"
  },
  "toc-autonumbering": true,
  "toc-showcode": false,
  "toc-showmarkdowntxt": true
 },
 "nbformat": 4,
 "nbformat_minor": 5
}
