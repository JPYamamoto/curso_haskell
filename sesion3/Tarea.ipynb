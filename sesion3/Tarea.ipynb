{
 "cells": [
  {
   "cell_type": "markdown",
   "id": "51abbce4-405e-4f64-9d59-f0a46cc676d9",
   "metadata": {},
   "source": [
    "# Tarea Moral\n",
    "\n",
    "Los ejercicios en este archivo son tarea moral que te servirá para practicar tus habilidades de Haskell y comprender mejor los temas.\n",
    "\n",
    "No necesitas entregarla, ni será calificada, ni afecta en alguna manera el que puedas continuar con el curso. Es únicamente un recurso para que tú mism@ te retes a aplicar tus conocimientos.\n",
    "\n",
    "Aunque la tarea no será calificada, siéntete libre de pedir ayuda o pedir una revisión de tus respuestas. Con gusto te apoyaremos.\n",
    "\n",
    "Además, recuerda que no hay una única solución correcta. Si gustas, igual tómate la libertad de modificar los ejercicios como tu prefieras, cada quién tiene un estilo propio al programar y eso está bien."
   ]
  },
  {
   "cell_type": "markdown",
   "id": "354d895f-9752-47ca-a1df-2eca96fa2be7",
   "metadata": {},
   "source": [
    "## Números Complejos\n",
    "\n",
    "En matemáticas existe el concepto de números complejos, que consiste en un número con una parte real y una parte imaginaria. Si usaramos la notación matemática usual, diríamos que si $z$ es un número complejo, entonces tiene la forma:\n",
    "\n",
    "$$ z=x+yi $$\n",
    "\n",
    "donde $x$ y $y$ son números reales.\n",
    "\n",
    "En Haskell no existen propiamente los números reales, pero podemos aproximarlos utilizando el tipo de dato `Double`."
   ]
  },
  {
   "cell_type": "markdown",
   "id": "52112748-d2c5-4261-86ca-334c1cb939d8",
   "metadata": {},
   "source": [
    "### Ejercicio 1\n",
    "\n",
    "Crea un tipo de dato para representar a los números complejos. Tienes total libertad de elegir cómo lograr esto (`type` vs `newtype` vs `data`). Además, crea alguna manera de acceder a la parte real e imaginaria de los números complejos, ya sea con la sintaxis record o con funciones normales."
   ]
  },
  {
   "cell_type": "code",
   "execution_count": null,
   "id": "5c3cb631-9ae2-47e5-b017-c2964c23e50a",
   "metadata": {},
   "outputs": [],
   "source": []
  },
  {
   "cell_type": "markdown",
   "id": "9cbbd0a5-ee49-415f-922a-6de0b858cf96",
   "metadata": {},
   "source": [
    "### Ejercicio 2\n",
    "\n",
    "En Haskell existe la clase `Num` que sirve para representar a los números y proveer funciones numéricas útiles.\n",
    "\n",
    "Investiga cuáles son las funciones mínimas que las instancias de esta clase deben implementar."
   ]
  },
  {
   "cell_type": "code",
   "execution_count": null,
   "id": "5a5bf72d-ab0a-4012-ba9e-2685e5651bda",
   "metadata": {},
   "outputs": [],
   "source": []
  },
  {
   "cell_type": "markdown",
   "id": "1bb2a8a7-488b-48bc-8436-636aeacf943c",
   "metadata": {},
   "source": [
    "### Ejercicio 3\n",
    "\n",
    "Ahora que conoces las funciones necesarias para instanciar la clase `Num`, vuelve al tipo de dato para números complejos que creaste en el ejercicio 1, en una instancia de esta clase. Puedes usar las siguientes sugerencias:\n",
    "\n",
    "- Si vemos al número complejo como un punto en el plano donde su parte real es el eje $x$ y su parte imaginaria el eje $y$, la definición del valor absoluto del número complejo sería la distancia al origen (el origen es el punto $(0,0)$).\n",
    "- La definición de la función $\\text{signum}$ de un número complejo $z$, es $\\dfrac{z}{|z|}$ donde $|z|$ es el valor absoluto de $z$.\n",
    "- Para convertir un entero a un número complejo, puedes simplemente usar el número como la parte real del número complejo, y dar coeficiente 0 a su parte imaginaria."
   ]
  },
  {
   "cell_type": "code",
   "execution_count": null,
   "id": "cd17a5bf-4594-470d-a156-9b6caa5f6e9c",
   "metadata": {},
   "outputs": [],
   "source": []
  },
  {
   "cell_type": "markdown",
   "id": "5bb245af-e2fd-4993-bccd-aa8b3d358c39",
   "metadata": {},
   "source": [
    "### Ejercicio 4\n",
    "\n",
    "Haz que el tipo de dato para números complejos sea una instancia de la clase `Show`, de manera que al imprimir el valor de un número complejo se vea la representación estándar de números complejos. Por ejemplo, el número complejo con parte real $2.5$ y parte imaginaria $4$ se verá así: `2.5 + 4i`."
   ]
  },
  {
   "cell_type": "code",
   "execution_count": null,
   "id": "bb86ef13-38a5-4763-bab6-44583bc559ae",
   "metadata": {},
   "outputs": [],
   "source": []
  },
  {
   "cell_type": "markdown",
   "id": "c37a0b54-9ac3-4cf8-ba58-7d76d2f9bf7f",
   "metadata": {},
   "source": [
    "### Ejercicio 5\n",
    "\n",
    "La función potencia es consiste en multiplicar un número $a$ una cantidad $n$ de veces: $a^n$. Esta función se puede implementar, siempre y cuando la multiplicación esté definida.\n",
    "\n",
    "Puesto que la clase `Num` define la operación `*`, sabemos que se puede definir la potenciación sobre cualquier instancia de `Num`.\n",
    "\n",
    "El ejercicio consiste en crear una función llamada `exponenciar` que recibe un número cualquiera (utilizando polimorfismo paramétrico) y un entero, y te regresa el resultado de exponenciar el primer argumento al segundo argumento. **Hint: El resultado de la función también será polimórfico, y será igual al tipo que recibimos como primer argumento.**\n",
    "\n",
    "Por simplicidad, podemos asumir que la potencia siempre será entera positiva, puesto que la definición de exponentes para otros números es violencia innecesaria."
   ]
  },
  {
   "cell_type": "code",
   "execution_count": null,
   "id": "fb660a6f-a208-4168-a1e8-ec4039bc49db",
   "metadata": {},
   "outputs": [],
   "source": []
  }
 ],
 "metadata": {
  "kernelspec": {
   "display_name": "Haskell",
   "language": "haskell",
   "name": "haskell"
  },
  "language_info": {
   "codemirror_mode": "Haskell",
   "file_extension": ".hs",
   "mimetype": "text/x-haskell",
   "name": "haskell",
   "pygments_lexer": "Haskell",
   "version": "8.10.4"
  }
 },
 "nbformat": 4,
 "nbformat_minor": 5
}
