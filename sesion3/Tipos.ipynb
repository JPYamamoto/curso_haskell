{
 "cells": [
  {
   "cell_type": "markdown",
   "id": "22675628-b93f-4255-9f35-8f6c046a7eaf",
   "metadata": {},
   "source": [
    "# Tipos (Recapitulación)"
   ]
  },
  {
   "cell_type": "markdown",
   "id": "111de9fd-27cc-4065-a94b-a7e60d43641b",
   "metadata": {},
   "source": [
    "## Tipos Básicos\n",
    "- Un tipo es un conjunto de valores con algo en común.\n",
    "- Tipos básicos:\n",
    "    - Bool\n",
    "    - Integer\n",
    "    - Double\n",
    "    - Char\n",
    "- Colecciones de tipos:\n",
    "    - Tuplas: (a, b), (a, b, c), (a, b, c, ...)\n",
    "    - Listas: [], [a], [a, b, c], [a, b, c, ...]"
   ]
  },
  {
   "cell_type": "code",
   "execution_count": null,
   "id": "7c3f8a84-1a03-4cb0-923e-e6c9bc98b6b0",
   "metadata": {},
   "outputs": [],
   "source": [
    ":t True\n",
    ":t 54\n",
    ":t (54 :: Int)\n",
    ":t (58.9 :: Double)\n",
    ":t 'a'\n",
    ":t ('j', 'p')\n",
    ":t [True, True, True, False]\n",
    ":t \"Hola Mundo\""
   ]
  },
  {
   "cell_type": "markdown",
   "id": "3cfbcff0-cd4c-45e0-8f5e-68133aba3a07",
   "metadata": {},
   "source": [
    "## Tipos Algebráicos\n",
    "- Tipos que declaramos manualmente utilizando el keyword `data`, siguiendo las reglas:\n",
    "    - Tipo Suma (elige una de varias opciones): `data Booleano = Verdadero | Falso`.\n",
    "    - Tipos Producto (usa varios tipos de datos para definirlo): `data Pixel = Int Int Int`.\n",
    "    \n",
    "Podemos combinar los tipos suma y producto, para crear tipos más complejos:"
   ]
  },
  {
   "cell_type": "code",
   "execution_count": null,
   "id": "8c82046f-b72a-42f7-8711-1d0fc7cacad4",
   "metadata": {},
   "outputs": [],
   "source": [
    "data Usuario = Anonimo | Registrado String String\n",
    "data TuplaInt = Tupla2 Int Int | Tupla3 Int Int Int | Tupla4 Int Int Int Int\n",
    "data Servidor = IP String | URI String"
   ]
  },
  {
   "cell_type": "code",
   "execution_count": null,
   "id": "b9579ae5-e3b8-4716-9748-05c26badfe79",
   "metadata": {},
   "outputs": [],
   "source": [
    ":t Anonimo\n",
    ":t (Registrado \"Usuario\" \"Contraseña\")\n",
    ":t (Tupla2 1 2)\n",
    ":t (Tupla3 1 2 3)\n",
    ":t (IP \"104.45.192.142\")\n",
    ":t (URI \"https://lambda-club.com/\")"
   ]
  },
  {
   "cell_type": "markdown",
   "id": "521552d8-9054-41fd-b510-d69bfd0cfe34",
   "metadata": {},
   "source": [
    "## Tipos Algebráicos Genéricos\n",
    "A partir de los tipos de datos algebráicos que ya conocemos, generamos tipos que utilicen variables de tipo. Es decir, pueden ser sustituidos por cualquier tipo concreto:"
   ]
  },
  {
   "cell_type": "code",
   "execution_count": null,
   "id": "a5deb5c2-4d1a-49f2-89c9-db197981866b",
   "metadata": {},
   "outputs": [],
   "source": [
    "data Lista a = Vacia | Cons a (Lista a)\n",
    "data Opcion a b = Izquierda a | Derecha b\n",
    "data Quiza a = Nada | Valor a"
   ]
  },
  {
   "cell_type": "code",
   "execution_count": null,
   "id": "977d17b8-1486-48ff-b72c-2857ed1bb7d3",
   "metadata": {},
   "outputs": [],
   "source": [
    ":t (Cons 'a' (Cons 'b' (Cons 'c' Vacia)))\n",
    ":t (Izquierda True)\n",
    ":t (Derecha pi)"
   ]
  },
  {
   "cell_type": "markdown",
   "id": "0f9b83e6-5a85-4fea-9825-4de6cceb46f3",
   "metadata": {},
   "source": [
    "## Derivaciones de tipos\n",
    "Podemos definir que un tipo de dato algebráico va a tener ciertas capacidades, usando comportamientos por defecto."
   ]
  },
  {
   "cell_type": "code",
   "execution_count": null,
   "id": "75c53493-b5b1-447f-98ff-7da292936225",
   "metadata": {},
   "outputs": [],
   "source": [
    "data Lista a = Vacia | Cons a (Lista a) deriving Show\n",
    "\n",
    "Cons 'a' (Cons 'b' (Cons 'c' Vacia))"
   ]
  },
  {
   "cell_type": "code",
   "execution_count": null,
   "id": "1aaf568f-540c-48f1-81fa-16873e8b4d0d",
   "metadata": {},
   "outputs": [],
   "source": [
    "data Natural = Zero | Suc Natural deriving (Show, Eq, Ord)\n",
    "\n",
    "Zero == Zero\n",
    "Zero <= Zero\n",
    "Zero < Suc Zero\n",
    "Suc Zero < Zero\n",
    "Suc Zero < Suc (Suc Zero)"
   ]
  },
  {
   "cell_type": "markdown",
   "id": "8a3527d5-17b5-4736-bd39-bb751bf43f51",
   "metadata": {},
   "source": [
    "# Tipos (Intermedio)"
   ]
  },
  {
   "cell_type": "markdown",
   "id": "775a0691-bac1-4b85-bae5-35009df76069",
   "metadata": {
    "tags": []
   },
   "source": [
    "## Records (registros)\n",
    "\n",
    "En Orientación a Objetos tenemos:\n",
    "\n",
    "```\n",
    "class Usuario:\n",
    "    nombre: String;\n",
    "    contrasena: String;\n",
    "```\n",
    "\n",
    "¿Cómo representaríamos lo anterior con un tipo de dato algebráico en Haskell?"
   ]
  },
  {
   "cell_type": "code",
   "execution_count": null,
   "id": "113436c6-aca3-49d7-9b96-dc56aa8a75fc",
   "metadata": {},
   "outputs": [],
   "source": []
  },
  {
   "cell_type": "markdown",
   "id": "22761a5d-73f9-468a-910a-bd0a165e5568",
   "metadata": {},
   "source": [
    "En Haskell podemos utilizar la sintaxis de records para simplificar lo anterior:"
   ]
  },
  {
   "cell_type": "code",
   "execution_count": null,
   "id": "9e0178bf-fe4d-4359-b0df-3ca43df61a7a",
   "metadata": {},
   "outputs": [],
   "source": []
  },
  {
   "cell_type": "markdown",
   "id": "e9ce7525-3dbb-4a00-a043-9cfd3231f99b",
   "metadata": {},
   "source": [
    "### Ejercicio\n",
    "\n",
    "En Haskell existen las tuplas de dos elementos `(a, b)`, y son genéricas.\n",
    "\n",
    "Además, existen las funciones `fst` y `snd` para obtener el primer y segundo elemento de una dupla respectivamente.\n",
    "\n",
    "Crea un tipo de dato `Dupla` que cumpla con lo siguiente:\n",
    "- Las 2 entradas de la dupla son genéricas.\n",
    "- Las duplas se pueden imprimir en pantalla.\n",
    "- Se puede verificar que 2 duplas sean iguales.\n",
    "- Las duplas tienen una función `primero` para obtener la primera entrada de la dupla.\n",
    "- Las duplas tienen una función `segundo` para obtener la segunda entrada de la dupla.\n",
    "- Las funciones `primero` y `segundo` se definen usando la sintaxis de records."
   ]
  },
  {
   "cell_type": "code",
   "execution_count": null,
   "id": "a25f9a82-21d2-4f83-afc8-cd988f847af2",
   "metadata": {},
   "outputs": [],
   "source": []
  },
  {
   "cell_type": "markdown",
   "id": "e44e2bef-ab57-45bf-b9ff-7ec1111c2ae2",
   "metadata": {},
   "source": [
    "## type\n",
    "Haskell nos proveé de una forma de crear alias de tipos. Es decir, una forma de dar un nombre distinto a un tipo, aunque sean el mismo.\n",
    "\n",
    "```haskell\n",
    "type String = [Char]\n",
    "```"
   ]
  },
  {
   "cell_type": "code",
   "execution_count": null,
   "id": "2d047871-e0c0-4269-9b9c-3e775380fde1",
   "metadata": {},
   "outputs": [],
   "source": [
    "type Mensaje = String\n",
    "type OperadorEnteros = Int -> Int -> Int"
   ]
  },
  {
   "cell_type": "code",
   "execution_count": null,
   "id": "4814b96f-0849-43d0-8103-6ae346b48d10",
   "metadata": {},
   "outputs": [],
   "source": [
    "suma :: OperadorEnteros\n",
    "suma a b = a + b\n",
    "\n",
    "suma 1 2"
   ]
  },
  {
   "cell_type": "markdown",
   "id": "816f86d3-67a1-4156-8394-5b3d5958cd07",
   "metadata": {},
   "source": [
    "## newtype\n",
    "Además, Haskell nos da una tercera forma de definir tipos, con `newtype`.\n",
    "\n",
    "`newtype` sirve para declarar tipos que tienen 1 solo constructor y 1 solo campo. Es decir, debe ser de la forma `data X = Y z`."
   ]
  },
  {
   "cell_type": "code",
   "execution_count": null,
   "id": "2c576f45-9787-448b-9046-7f72ada1e87f",
   "metadata": {},
   "outputs": [],
   "source": [
    "newtype Mensaje = Mensaje String\n",
    "newtype Vector = Vector (Double, Double)"
   ]
  },
  {
   "cell_type": "code",
   "execution_count": null,
   "id": "fa0151ef-5c37-4cd7-a454-1c4153ca482a",
   "metadata": {},
   "outputs": [],
   "source": [
    "sumaVectores :: Vector -> Vector -> Vector\n",
    "sumaVectores (Vector (x1, y1)) (Vector (x2, y2)) = Vector (x1+x2, y1+y2)"
   ]
  },
  {
   "cell_type": "markdown",
   "id": "1ff8925b-6c46-4ec0-82ec-8445ad6175ff",
   "metadata": {},
   "source": [
    "### Ejercicio\n",
    "Cambia la definición de `Mensaje` para usar la sintaxis de records. Además, crea una función que convierta el `Mensaje` a un `String`."
   ]
  },
  {
   "cell_type": "code",
   "execution_count": null,
   "id": "b6872b35-895f-4bf6-9e36-897b1d541840",
   "metadata": {},
   "outputs": [],
   "source": []
  },
  {
   "cell_type": "markdown",
   "id": "9fe4aa55-335f-4dfd-8942-3b2f171680ec",
   "metadata": {},
   "source": [
    "## Resumen\n",
    "|                       | type                                     | newtype                                                                                                                                           | data                                                                             |\n",
    "|-----------------------|------------------------------------------|---------------------------------------------------------------------------------------------------------------------------------------------------|----------------------------------------------------------------------------------|\n",
    "| Tipos                 | Equivalente al tipo que representa.      | En la ejecución, funciona de manera equivalente al tipo que representa, pero en compilación, el verificador de tipado los detecta como distintos. | Distinto al tipo que representa en ejecución y compilación.                      |\n",
    "| Cantidad de elementos | Representa un solo tipo.                 | Representa un solo tipo.                                                                                                                          | Puede abarcar tipos suma y tipos producto.                                       |\n",
    "| Derivaciones          | No se le pueden asociar derivaciones.    | Sí se le pueden asociar derivaciones.                                                                                                             | Sí se le pueden asociar derivaciones.                                            |\n",
    "| Records               | No se puede usar la sintaxis de records. | Sí se puede usar la sintaxis de records.                                                                                                          | Sí se puede usar la sintaxis de records cuando tenemos únicamente 1 constructor. |\n",
    "| Instancias de clase   | No se puede instanciar una clase.        | Sí se puede instanciar una clase.                                                                                                                 | Sí se puede instanciar una clase.                                                |"
   ]
  },
  {
   "cell_type": "markdown",
   "id": "68a59858-d6be-4b7d-af5e-a9f8d0762a7e",
   "metadata": {},
   "source": [
    "# Polimorfismo"
   ]
  },
  {
   "cell_type": "markdown",
   "id": "b08a3491-e81b-49a0-b1b9-65f0c9ef742e",
   "metadata": {},
   "source": [
    "## Polimorfismo Paramétrico (Funciones)\n",
    "\n",
    "- Definimos una función que opera sobre cualquier tipo de dato.\n",
    "- El nombre \"paramétrico\" corresponde a que los parámetros de una función son polimórficos."
   ]
  },
  {
   "cell_type": "code",
   "execution_count": null,
   "id": "18c28754-54c7-455f-ad89-abb4e8765002",
   "metadata": {},
   "outputs": [],
   "source": [
    "volteaTupla :: (a, b) -> (b, a)\n",
    "volteaTupla (x, y) = (y, x)\n",
    "\n",
    "volteaTupla (1, 2)\n",
    "volteaTupla (\"Haskell\", \"Curry\")"
   ]
  },
  {
   "cell_type": "markdown",
   "id": "6900b46a-f57d-473d-85f1-ac00c659c60f",
   "metadata": {},
   "source": [
    "### Ejercicio\n",
    "Crea una función `doble` que a su vez reciba una función `f` y un valor inicial `x`. La función debe aplicar `f` al valor inicial, y al resultado de eso, volver a aplicarle la función. Es decir, va a aplicar la función 2 veces. Ejemplo:\n",
    "\n",
    "```haskell\n",
    "doble (\\x -> x + 1) 0 = 2\n",
    "```"
   ]
  },
  {
   "cell_type": "code",
   "execution_count": null,
   "id": "cc72afb9-36bf-4a5b-b081-411650ca5570",
   "metadata": {},
   "outputs": [],
   "source": []
  },
  {
   "cell_type": "markdown",
   "id": "f6dd3333-74f9-48c9-b65f-5b1796ab38f3",
   "metadata": {},
   "source": [
    "## Restricciones de clases\n",
    "\n",
    "- Funciones polimórficas, que requieren de ciertas condiciones para operar correctamente."
   ]
  },
  {
   "cell_type": "code",
   "execution_count": null,
   "id": "9422d99d-2f8b-4623-9f5d-0bea1fdeeec6",
   "metadata": {},
   "outputs": [],
   "source": [
    "mismaRepresentacion :: Show a => a -> String -> Bool\n",
    "mismaRepresentacion valor texto = show valor == texto\n",
    "\n",
    "mismaRepresentacion True \"True\"\n",
    "mismaRepresentacion [1,2,3] \"[1,2,3]\"\n",
    "mismaRepresentacion 1.0 \"1\""
   ]
  },
  {
   "cell_type": "markdown",
   "id": "12eeee9f-c7fa-44ef-9c11-885b6a2c35f2",
   "metadata": {},
   "source": [
    "### Ejercicio\n",
    "Crea una función que verifique si una lista está ordenada. Recuerda que para verificar que una lista está ordenada, es necesario que sus elementos sean ordenables."
   ]
  },
  {
   "cell_type": "code",
   "execution_count": null,
   "id": "88673121-2842-4d89-ac88-812a85cdab65",
   "metadata": {},
   "outputs": [],
   "source": []
  },
  {
   "cell_type": "markdown",
   "id": "c473e92d-8a04-4584-93af-5c6270758ff7",
   "metadata": {},
   "source": [
    "## Polimorfismo Ad-Hoc (Clases)"
   ]
  },
  {
   "cell_type": "markdown",
   "id": "7fa97211-e16e-4fa4-ab49-50cc44fee1bc",
   "metadata": {},
   "source": [
    "- Podemos definir el comportamiento que un tipo va a tener con respecto a una clase.\n",
    "- Análogo a las Interfaces o Traits en lenguajes orientados a objetos.\n",
    "- La implementación que se ejecuta depende del tipo sobre el que opera."
   ]
  },
  {
   "cell_type": "code",
   "execution_count": null,
   "id": "58805d08-ed46-4a53-a360-abbc6d80a010",
   "metadata": {},
   "outputs": [],
   "source": [
    ":info Eq"
   ]
  },
  {
   "cell_type": "code",
   "execution_count": null,
   "id": "2287c835-bdbb-4260-9973-dabdee29e4c1",
   "metadata": {},
   "outputs": [],
   "source": [
    ":info Ord"
   ]
  },
  {
   "cell_type": "code",
   "execution_count": null,
   "id": "12d51c9c-323c-47ec-a0cc-58175c7fbf2f",
   "metadata": {},
   "outputs": [],
   "source": [
    ":info Ordering"
   ]
  },
  {
   "cell_type": "markdown",
   "id": "63e59154-2cac-4468-9256-526902b62d56",
   "metadata": {},
   "source": [
    "La sintaxis para definir que un tipo es instancia de una clase es la siguiente:\n",
    "\n",
    "```haskell\n",
    "instance Clase Tipo where\n",
    "    (definición de las funciones)\n",
    "```\n",
    "\n",
    "Ejemplo:"
   ]
  },
  {
   "cell_type": "code",
   "execution_count": null,
   "id": "fc7b8361-6236-4088-aa4f-370059d11eb1",
   "metadata": {},
   "outputs": [],
   "source": [
    "data DiasSemana = Lunes | Martes | Miercoles | Jueves | Viernes | Sabado | Domingo\n",
    "\n",
    "instance Eq DiasSemana where\n",
    "    Lunes     == Lunes     = True\n",
    "    Martes    == Martes    = True\n",
    "    Miercoles == Miercoles = True\n",
    "    Jueves    == Jueves    = True\n",
    "    Viernes   == Viernes   = True\n",
    "    Sabado    == Sabado    = True\n",
    "    Domingo   == Domingo   = True\n",
    "    _         == _         = False"
   ]
  },
  {
   "cell_type": "code",
   "execution_count": null,
   "id": "98ff609e-fa51-42bb-91e4-c2e79ed2f51b",
   "metadata": {},
   "outputs": [],
   "source": [
    "Lunes == Lunes\n",
    "Martes == Viernes\n",
    "Domingo == Miercoles"
   ]
  },
  {
   "cell_type": "code",
   "execution_count": null,
   "id": "1017201c-e978-47c8-89f2-f8a774eb9310",
   "metadata": {},
   "outputs": [],
   "source": [
    ":info Show"
   ]
  },
  {
   "cell_type": "markdown",
   "id": "0c2558c7-bf47-4cd2-bb0e-f062f663e24b",
   "metadata": {},
   "source": [
    "### Ejercicio\n",
    "Usando la siguiente definición de Listas:\n",
    "\n",
    "```haskell\n",
    "data Lista a = Vacia | Cons a (Lista a)\n",
    "```\n",
    "\n",
    "- Logra que la lista sea instancia de `Show` sin usar `deriving Show`.\n",
    "- La lista `Cons 'a' (Cons 'b' (Cons 'c' Vacia))` debe imprimirse como `'a','b','c',`.\n",
    "- Usa una definición minimal, únicamente con la función `show`."
   ]
  },
  {
   "cell_type": "code",
   "execution_count": null,
   "id": "64adb756-302e-410f-98e6-70100b49b924",
   "metadata": {},
   "outputs": [],
   "source": [
    "data Lista a = Vacia | Cons a (Lista a)\n",
    "\n",
    "instance Show a => Show (Lista a) where\n",
    "    -- aquí va el código"
   ]
  },
  {
   "cell_type": "markdown",
   "id": "06456d75-f948-4161-ad51-3c771c3b7324",
   "metadata": {},
   "source": [
    "### Ejercicio\n",
    "En algunos lenguajes de programación es posible convertir casi cualquier cosa a un Booleano. Por ejemplo, en JavaScript es posible hacer lo siguiente:\n",
    "\n",
    "```js\n",
    "if (\"\") {...}      // Falso\n",
    "if (5 + 5) {...}   // True\n",
    "if (5 - 5) {...}   // Falso\n",
    "```\n",
    "\n",
    "Dado que Haskell es fuertemente tipado, no podemos hacer lo anterior. Sin embargo, podemos crear una función `decide` que convierta cualquier valor a un `Bool`. Puesto que cada tipo de dato puede comportarse de manera distinta, es conveniente usar una clase. Realiza lo siguiente:\n",
    "\n",
    "- Crea una clase llamada `Decidible` que contenga la función `decide`.\n",
    "- Vuelve a la Lista que definimos antes en una instancia de `Decidible`, de manera que regrese `False` cuando la lista es vacía, y `True` en otro caso.\n",
    "- Logra que el tipo de dato `Int` también sea decidible, regresando `False` cuando es 0, y `True` en otro caso."
   ]
  },
  {
   "cell_type": "code",
   "execution_count": null,
   "id": "79bf5f4f-5724-4d40-95f7-b0112e19eb65",
   "metadata": {},
   "outputs": [],
   "source": []
  },
  {
   "cell_type": "markdown",
   "id": "2479c43e-6d98-4bd7-9ed4-83b0d4e16b73",
   "metadata": {},
   "source": [
    "## Usando `newtype` para crear distintas instancias de clase\n",
    "\n",
    "Anteriormente vimos que `newtype` tiene el comportamiento del tipo que representa, pero el verificador de tipos lo distingue como un tipo distinto. Por lo tanto, podemos usarlo para crear una instancia distinta de un mismo tipo:"
   ]
  },
  {
   "cell_type": "code",
   "execution_count": null,
   "id": "04bf08a6-3d3b-41a9-a89f-a652bc438417",
   "metadata": {},
   "outputs": [],
   "source": [
    "newtype Booleano = Booleano Bool\n",
    "\n",
    "instance Show Booleano where\n",
    "    show (Booleano True)  = \"Verdadero\"\n",
    "    show (Booleano False) = \"Falso\""
   ]
  },
  {
   "cell_type": "code",
   "execution_count": null,
   "id": "ed8a86e4-7dd8-406f-b7d6-be162cf56efb",
   "metadata": {},
   "outputs": [],
   "source": [
    "show True\n",
    "show (Booleano True)\n",
    "\n",
    "show False\n",
    "show (Booleano False)"
   ]
  },
  {
   "cell_type": "markdown",
   "id": "344545c8-dedf-4dba-9f06-c5d0c0e235ef",
   "metadata": {},
   "source": [
    "### Ejercicio\n",
    "- Crea un nuevo tipo de dato `Reversa` que encapsule a `Int`.\n",
    "- Logra que `Reversa` sea una instancia de `Eq` (para esto puedes usar derivaciones).\n",
    "- Logra que `Reversa` sea una instancia de `Ord` (para poder ordenarlos).\n",
    "- Logra que el orden de `Reversa` sea al revés de los enteros normales. Por ejemplo: `2 < 1`."
   ]
  },
  {
   "cell_type": "code",
   "execution_count": null,
   "id": "c990e3b6-5757-47f3-9c6a-26cc76e77f81",
   "metadata": {},
   "outputs": [],
   "source": []
  }
 ],
 "metadata": {
  "kernelspec": {
   "display_name": "Haskell",
   "language": "haskell",
   "name": "haskell"
  },
  "language_info": {
   "codemirror_mode": "Haskell",
   "file_extension": ".hs",
   "mimetype": "text/x-haskell",
   "name": "haskell",
   "pygments_lexer": "Haskell",
   "version": "8.10.4"
  }
 },
 "nbformat": 4,
 "nbformat_minor": 5
}
