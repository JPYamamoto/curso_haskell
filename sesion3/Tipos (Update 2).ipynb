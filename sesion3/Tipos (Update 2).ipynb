{
 "cells": [
  {
   "cell_type": "markdown",
   "id": "22675628-b93f-4255-9f35-8f6c046a7eaf",
   "metadata": {},
   "source": [
    "# Tipos (Recapitulación)"
   ]
  },
  {
   "cell_type": "markdown",
   "id": "111de9fd-27cc-4065-a94b-a7e60d43641b",
   "metadata": {},
   "source": [
    "## Tipos Básicos\n",
    "- Un tipo es un conjunto de valores con algo en común.\n",
    "- Tipos básicos:\n",
    "    - Bool\n",
    "    - Integer\n",
    "    - Double\n",
    "    - Char\n",
    "- Colecciones de tipos:\n",
    "    - Tuplas: (a, b), (a, b, c), (a, b, c, ...)\n",
    "    - Listas: [], [a], [a, b, c], [a, b, c, ...]"
   ]
  },
  {
   "cell_type": "code",
   "execution_count": 1,
   "id": "7c3f8a84-1a03-4cb0-923e-e6c9bc98b6b0",
   "metadata": {},
   "outputs": [
    {
     "data": {
      "text/html": [
       "<style>/* Styles used for the Hoogle display in the pager */\n",
       ".hoogle-doc {\n",
       "display: block;\n",
       "padding-bottom: 1.3em;\n",
       "padding-left: 0.4em;\n",
       "}\n",
       ".hoogle-code {\n",
       "display: block;\n",
       "font-family: monospace;\n",
       "white-space: pre;\n",
       "}\n",
       ".hoogle-text {\n",
       "display: block;\n",
       "}\n",
       ".hoogle-name {\n",
       "color: green;\n",
       "font-weight: bold;\n",
       "}\n",
       ".hoogle-head {\n",
       "font-weight: bold;\n",
       "}\n",
       ".hoogle-sub {\n",
       "display: block;\n",
       "margin-left: 0.4em;\n",
       "}\n",
       ".hoogle-package {\n",
       "font-weight: bold;\n",
       "font-style: italic;\n",
       "}\n",
       ".hoogle-module {\n",
       "font-weight: bold;\n",
       "}\n",
       ".hoogle-class {\n",
       "font-weight: bold;\n",
       "}\n",
       ".get-type {\n",
       "color: green;\n",
       "font-weight: bold;\n",
       "font-family: monospace;\n",
       "display: block;\n",
       "white-space: pre-wrap;\n",
       "}\n",
       ".show-type {\n",
       "color: green;\n",
       "font-weight: bold;\n",
       "font-family: monospace;\n",
       "margin-left: 1em;\n",
       "}\n",
       ".mono {\n",
       "font-family: monospace;\n",
       "display: block;\n",
       "}\n",
       ".err-msg {\n",
       "color: red;\n",
       "font-style: italic;\n",
       "font-family: monospace;\n",
       "white-space: pre;\n",
       "display: block;\n",
       "}\n",
       "#unshowable {\n",
       "color: red;\n",
       "font-weight: bold;\n",
       "}\n",
       ".err-msg.in.collapse {\n",
       "padding-top: 0.7em;\n",
       "}\n",
       ".highlight-code {\n",
       "white-space: pre;\n",
       "font-family: monospace;\n",
       "}\n",
       ".suggestion-warning { \n",
       "font-weight: bold;\n",
       "color: rgb(200, 130, 0);\n",
       "}\n",
       ".suggestion-error { \n",
       "font-weight: bold;\n",
       "color: red;\n",
       "}\n",
       ".suggestion-name {\n",
       "font-weight: bold;\n",
       "}\n",
       "</style><span class='get-type'>True :: Bool</span>"
      ],
      "text/plain": [
       "True :: Bool"
      ]
     },
     "metadata": {},
     "output_type": "display_data"
    },
    {
     "data": {
      "text/html": [
       "<style>/* Styles used for the Hoogle display in the pager */\n",
       ".hoogle-doc {\n",
       "display: block;\n",
       "padding-bottom: 1.3em;\n",
       "padding-left: 0.4em;\n",
       "}\n",
       ".hoogle-code {\n",
       "display: block;\n",
       "font-family: monospace;\n",
       "white-space: pre;\n",
       "}\n",
       ".hoogle-text {\n",
       "display: block;\n",
       "}\n",
       ".hoogle-name {\n",
       "color: green;\n",
       "font-weight: bold;\n",
       "}\n",
       ".hoogle-head {\n",
       "font-weight: bold;\n",
       "}\n",
       ".hoogle-sub {\n",
       "display: block;\n",
       "margin-left: 0.4em;\n",
       "}\n",
       ".hoogle-package {\n",
       "font-weight: bold;\n",
       "font-style: italic;\n",
       "}\n",
       ".hoogle-module {\n",
       "font-weight: bold;\n",
       "}\n",
       ".hoogle-class {\n",
       "font-weight: bold;\n",
       "}\n",
       ".get-type {\n",
       "color: green;\n",
       "font-weight: bold;\n",
       "font-family: monospace;\n",
       "display: block;\n",
       "white-space: pre-wrap;\n",
       "}\n",
       ".show-type {\n",
       "color: green;\n",
       "font-weight: bold;\n",
       "font-family: monospace;\n",
       "margin-left: 1em;\n",
       "}\n",
       ".mono {\n",
       "font-family: monospace;\n",
       "display: block;\n",
       "}\n",
       ".err-msg {\n",
       "color: red;\n",
       "font-style: italic;\n",
       "font-family: monospace;\n",
       "white-space: pre;\n",
       "display: block;\n",
       "}\n",
       "#unshowable {\n",
       "color: red;\n",
       "font-weight: bold;\n",
       "}\n",
       ".err-msg.in.collapse {\n",
       "padding-top: 0.7em;\n",
       "}\n",
       ".highlight-code {\n",
       "white-space: pre;\n",
       "font-family: monospace;\n",
       "}\n",
       ".suggestion-warning { \n",
       "font-weight: bold;\n",
       "color: rgb(200, 130, 0);\n",
       "}\n",
       ".suggestion-error { \n",
       "font-weight: bold;\n",
       "color: red;\n",
       "}\n",
       ".suggestion-name {\n",
       "font-weight: bold;\n",
       "}\n",
       "</style><span class='get-type'>54 :: forall p. Num p => p</span>"
      ],
      "text/plain": [
       "54 :: forall p. Num p => p"
      ]
     },
     "metadata": {},
     "output_type": "display_data"
    },
    {
     "data": {
      "text/html": [
       "<style>/* Styles used for the Hoogle display in the pager */\n",
       ".hoogle-doc {\n",
       "display: block;\n",
       "padding-bottom: 1.3em;\n",
       "padding-left: 0.4em;\n",
       "}\n",
       ".hoogle-code {\n",
       "display: block;\n",
       "font-family: monospace;\n",
       "white-space: pre;\n",
       "}\n",
       ".hoogle-text {\n",
       "display: block;\n",
       "}\n",
       ".hoogle-name {\n",
       "color: green;\n",
       "font-weight: bold;\n",
       "}\n",
       ".hoogle-head {\n",
       "font-weight: bold;\n",
       "}\n",
       ".hoogle-sub {\n",
       "display: block;\n",
       "margin-left: 0.4em;\n",
       "}\n",
       ".hoogle-package {\n",
       "font-weight: bold;\n",
       "font-style: italic;\n",
       "}\n",
       ".hoogle-module {\n",
       "font-weight: bold;\n",
       "}\n",
       ".hoogle-class {\n",
       "font-weight: bold;\n",
       "}\n",
       ".get-type {\n",
       "color: green;\n",
       "font-weight: bold;\n",
       "font-family: monospace;\n",
       "display: block;\n",
       "white-space: pre-wrap;\n",
       "}\n",
       ".show-type {\n",
       "color: green;\n",
       "font-weight: bold;\n",
       "font-family: monospace;\n",
       "margin-left: 1em;\n",
       "}\n",
       ".mono {\n",
       "font-family: monospace;\n",
       "display: block;\n",
       "}\n",
       ".err-msg {\n",
       "color: red;\n",
       "font-style: italic;\n",
       "font-family: monospace;\n",
       "white-space: pre;\n",
       "display: block;\n",
       "}\n",
       "#unshowable {\n",
       "color: red;\n",
       "font-weight: bold;\n",
       "}\n",
       ".err-msg.in.collapse {\n",
       "padding-top: 0.7em;\n",
       "}\n",
       ".highlight-code {\n",
       "white-space: pre;\n",
       "font-family: monospace;\n",
       "}\n",
       ".suggestion-warning { \n",
       "font-weight: bold;\n",
       "color: rgb(200, 130, 0);\n",
       "}\n",
       ".suggestion-error { \n",
       "font-weight: bold;\n",
       "color: red;\n",
       "}\n",
       ".suggestion-name {\n",
       "font-weight: bold;\n",
       "}\n",
       "</style><span class='get-type'>(54 :: Int) :: Int</span>"
      ],
      "text/plain": [
       "(54 :: Int) :: Int"
      ]
     },
     "metadata": {},
     "output_type": "display_data"
    },
    {
     "data": {
      "text/html": [
       "<style>/* Styles used for the Hoogle display in the pager */\n",
       ".hoogle-doc {\n",
       "display: block;\n",
       "padding-bottom: 1.3em;\n",
       "padding-left: 0.4em;\n",
       "}\n",
       ".hoogle-code {\n",
       "display: block;\n",
       "font-family: monospace;\n",
       "white-space: pre;\n",
       "}\n",
       ".hoogle-text {\n",
       "display: block;\n",
       "}\n",
       ".hoogle-name {\n",
       "color: green;\n",
       "font-weight: bold;\n",
       "}\n",
       ".hoogle-head {\n",
       "font-weight: bold;\n",
       "}\n",
       ".hoogle-sub {\n",
       "display: block;\n",
       "margin-left: 0.4em;\n",
       "}\n",
       ".hoogle-package {\n",
       "font-weight: bold;\n",
       "font-style: italic;\n",
       "}\n",
       ".hoogle-module {\n",
       "font-weight: bold;\n",
       "}\n",
       ".hoogle-class {\n",
       "font-weight: bold;\n",
       "}\n",
       ".get-type {\n",
       "color: green;\n",
       "font-weight: bold;\n",
       "font-family: monospace;\n",
       "display: block;\n",
       "white-space: pre-wrap;\n",
       "}\n",
       ".show-type {\n",
       "color: green;\n",
       "font-weight: bold;\n",
       "font-family: monospace;\n",
       "margin-left: 1em;\n",
       "}\n",
       ".mono {\n",
       "font-family: monospace;\n",
       "display: block;\n",
       "}\n",
       ".err-msg {\n",
       "color: red;\n",
       "font-style: italic;\n",
       "font-family: monospace;\n",
       "white-space: pre;\n",
       "display: block;\n",
       "}\n",
       "#unshowable {\n",
       "color: red;\n",
       "font-weight: bold;\n",
       "}\n",
       ".err-msg.in.collapse {\n",
       "padding-top: 0.7em;\n",
       "}\n",
       ".highlight-code {\n",
       "white-space: pre;\n",
       "font-family: monospace;\n",
       "}\n",
       ".suggestion-warning { \n",
       "font-weight: bold;\n",
       "color: rgb(200, 130, 0);\n",
       "}\n",
       ".suggestion-error { \n",
       "font-weight: bold;\n",
       "color: red;\n",
       "}\n",
       ".suggestion-name {\n",
       "font-weight: bold;\n",
       "}\n",
       "</style><span class='get-type'>(58.9 :: Double) :: Double</span>"
      ],
      "text/plain": [
       "(58.9 :: Double) :: Double"
      ]
     },
     "metadata": {},
     "output_type": "display_data"
    },
    {
     "data": {
      "text/html": [
       "<style>/* Styles used for the Hoogle display in the pager */\n",
       ".hoogle-doc {\n",
       "display: block;\n",
       "padding-bottom: 1.3em;\n",
       "padding-left: 0.4em;\n",
       "}\n",
       ".hoogle-code {\n",
       "display: block;\n",
       "font-family: monospace;\n",
       "white-space: pre;\n",
       "}\n",
       ".hoogle-text {\n",
       "display: block;\n",
       "}\n",
       ".hoogle-name {\n",
       "color: green;\n",
       "font-weight: bold;\n",
       "}\n",
       ".hoogle-head {\n",
       "font-weight: bold;\n",
       "}\n",
       ".hoogle-sub {\n",
       "display: block;\n",
       "margin-left: 0.4em;\n",
       "}\n",
       ".hoogle-package {\n",
       "font-weight: bold;\n",
       "font-style: italic;\n",
       "}\n",
       ".hoogle-module {\n",
       "font-weight: bold;\n",
       "}\n",
       ".hoogle-class {\n",
       "font-weight: bold;\n",
       "}\n",
       ".get-type {\n",
       "color: green;\n",
       "font-weight: bold;\n",
       "font-family: monospace;\n",
       "display: block;\n",
       "white-space: pre-wrap;\n",
       "}\n",
       ".show-type {\n",
       "color: green;\n",
       "font-weight: bold;\n",
       "font-family: monospace;\n",
       "margin-left: 1em;\n",
       "}\n",
       ".mono {\n",
       "font-family: monospace;\n",
       "display: block;\n",
       "}\n",
       ".err-msg {\n",
       "color: red;\n",
       "font-style: italic;\n",
       "font-family: monospace;\n",
       "white-space: pre;\n",
       "display: block;\n",
       "}\n",
       "#unshowable {\n",
       "color: red;\n",
       "font-weight: bold;\n",
       "}\n",
       ".err-msg.in.collapse {\n",
       "padding-top: 0.7em;\n",
       "}\n",
       ".highlight-code {\n",
       "white-space: pre;\n",
       "font-family: monospace;\n",
       "}\n",
       ".suggestion-warning { \n",
       "font-weight: bold;\n",
       "color: rgb(200, 130, 0);\n",
       "}\n",
       ".suggestion-error { \n",
       "font-weight: bold;\n",
       "color: red;\n",
       "}\n",
       ".suggestion-name {\n",
       "font-weight: bold;\n",
       "}\n",
       "</style><span class='get-type'>'a' :: Char</span>"
      ],
      "text/plain": [
       "'a' :: Char"
      ]
     },
     "metadata": {},
     "output_type": "display_data"
    },
    {
     "data": {
      "text/html": [
       "<style>/* Styles used for the Hoogle display in the pager */\n",
       ".hoogle-doc {\n",
       "display: block;\n",
       "padding-bottom: 1.3em;\n",
       "padding-left: 0.4em;\n",
       "}\n",
       ".hoogle-code {\n",
       "display: block;\n",
       "font-family: monospace;\n",
       "white-space: pre;\n",
       "}\n",
       ".hoogle-text {\n",
       "display: block;\n",
       "}\n",
       ".hoogle-name {\n",
       "color: green;\n",
       "font-weight: bold;\n",
       "}\n",
       ".hoogle-head {\n",
       "font-weight: bold;\n",
       "}\n",
       ".hoogle-sub {\n",
       "display: block;\n",
       "margin-left: 0.4em;\n",
       "}\n",
       ".hoogle-package {\n",
       "font-weight: bold;\n",
       "font-style: italic;\n",
       "}\n",
       ".hoogle-module {\n",
       "font-weight: bold;\n",
       "}\n",
       ".hoogle-class {\n",
       "font-weight: bold;\n",
       "}\n",
       ".get-type {\n",
       "color: green;\n",
       "font-weight: bold;\n",
       "font-family: monospace;\n",
       "display: block;\n",
       "white-space: pre-wrap;\n",
       "}\n",
       ".show-type {\n",
       "color: green;\n",
       "font-weight: bold;\n",
       "font-family: monospace;\n",
       "margin-left: 1em;\n",
       "}\n",
       ".mono {\n",
       "font-family: monospace;\n",
       "display: block;\n",
       "}\n",
       ".err-msg {\n",
       "color: red;\n",
       "font-style: italic;\n",
       "font-family: monospace;\n",
       "white-space: pre;\n",
       "display: block;\n",
       "}\n",
       "#unshowable {\n",
       "color: red;\n",
       "font-weight: bold;\n",
       "}\n",
       ".err-msg.in.collapse {\n",
       "padding-top: 0.7em;\n",
       "}\n",
       ".highlight-code {\n",
       "white-space: pre;\n",
       "font-family: monospace;\n",
       "}\n",
       ".suggestion-warning { \n",
       "font-weight: bold;\n",
       "color: rgb(200, 130, 0);\n",
       "}\n",
       ".suggestion-error { \n",
       "font-weight: bold;\n",
       "color: red;\n",
       "}\n",
       ".suggestion-name {\n",
       "font-weight: bold;\n",
       "}\n",
       "</style><span class='get-type'>('j', 'p') :: (Char, Char)</span>"
      ],
      "text/plain": [
       "('j', 'p') :: (Char, Char)"
      ]
     },
     "metadata": {},
     "output_type": "display_data"
    },
    {
     "data": {
      "text/html": [
       "<style>/* Styles used for the Hoogle display in the pager */\n",
       ".hoogle-doc {\n",
       "display: block;\n",
       "padding-bottom: 1.3em;\n",
       "padding-left: 0.4em;\n",
       "}\n",
       ".hoogle-code {\n",
       "display: block;\n",
       "font-family: monospace;\n",
       "white-space: pre;\n",
       "}\n",
       ".hoogle-text {\n",
       "display: block;\n",
       "}\n",
       ".hoogle-name {\n",
       "color: green;\n",
       "font-weight: bold;\n",
       "}\n",
       ".hoogle-head {\n",
       "font-weight: bold;\n",
       "}\n",
       ".hoogle-sub {\n",
       "display: block;\n",
       "margin-left: 0.4em;\n",
       "}\n",
       ".hoogle-package {\n",
       "font-weight: bold;\n",
       "font-style: italic;\n",
       "}\n",
       ".hoogle-module {\n",
       "font-weight: bold;\n",
       "}\n",
       ".hoogle-class {\n",
       "font-weight: bold;\n",
       "}\n",
       ".get-type {\n",
       "color: green;\n",
       "font-weight: bold;\n",
       "font-family: monospace;\n",
       "display: block;\n",
       "white-space: pre-wrap;\n",
       "}\n",
       ".show-type {\n",
       "color: green;\n",
       "font-weight: bold;\n",
       "font-family: monospace;\n",
       "margin-left: 1em;\n",
       "}\n",
       ".mono {\n",
       "font-family: monospace;\n",
       "display: block;\n",
       "}\n",
       ".err-msg {\n",
       "color: red;\n",
       "font-style: italic;\n",
       "font-family: monospace;\n",
       "white-space: pre;\n",
       "display: block;\n",
       "}\n",
       "#unshowable {\n",
       "color: red;\n",
       "font-weight: bold;\n",
       "}\n",
       ".err-msg.in.collapse {\n",
       "padding-top: 0.7em;\n",
       "}\n",
       ".highlight-code {\n",
       "white-space: pre;\n",
       "font-family: monospace;\n",
       "}\n",
       ".suggestion-warning { \n",
       "font-weight: bold;\n",
       "color: rgb(200, 130, 0);\n",
       "}\n",
       ".suggestion-error { \n",
       "font-weight: bold;\n",
       "color: red;\n",
       "}\n",
       ".suggestion-name {\n",
       "font-weight: bold;\n",
       "}\n",
       "</style><span class='get-type'>[True, True, True, False] :: [Bool]</span>"
      ],
      "text/plain": [
       "[True, True, True, False] :: [Bool]"
      ]
     },
     "metadata": {},
     "output_type": "display_data"
    },
    {
     "data": {
      "text/html": [
       "<style>/* Styles used for the Hoogle display in the pager */\n",
       ".hoogle-doc {\n",
       "display: block;\n",
       "padding-bottom: 1.3em;\n",
       "padding-left: 0.4em;\n",
       "}\n",
       ".hoogle-code {\n",
       "display: block;\n",
       "font-family: monospace;\n",
       "white-space: pre;\n",
       "}\n",
       ".hoogle-text {\n",
       "display: block;\n",
       "}\n",
       ".hoogle-name {\n",
       "color: green;\n",
       "font-weight: bold;\n",
       "}\n",
       ".hoogle-head {\n",
       "font-weight: bold;\n",
       "}\n",
       ".hoogle-sub {\n",
       "display: block;\n",
       "margin-left: 0.4em;\n",
       "}\n",
       ".hoogle-package {\n",
       "font-weight: bold;\n",
       "font-style: italic;\n",
       "}\n",
       ".hoogle-module {\n",
       "font-weight: bold;\n",
       "}\n",
       ".hoogle-class {\n",
       "font-weight: bold;\n",
       "}\n",
       ".get-type {\n",
       "color: green;\n",
       "font-weight: bold;\n",
       "font-family: monospace;\n",
       "display: block;\n",
       "white-space: pre-wrap;\n",
       "}\n",
       ".show-type {\n",
       "color: green;\n",
       "font-weight: bold;\n",
       "font-family: monospace;\n",
       "margin-left: 1em;\n",
       "}\n",
       ".mono {\n",
       "font-family: monospace;\n",
       "display: block;\n",
       "}\n",
       ".err-msg {\n",
       "color: red;\n",
       "font-style: italic;\n",
       "font-family: monospace;\n",
       "white-space: pre;\n",
       "display: block;\n",
       "}\n",
       "#unshowable {\n",
       "color: red;\n",
       "font-weight: bold;\n",
       "}\n",
       ".err-msg.in.collapse {\n",
       "padding-top: 0.7em;\n",
       "}\n",
       ".highlight-code {\n",
       "white-space: pre;\n",
       "font-family: monospace;\n",
       "}\n",
       ".suggestion-warning { \n",
       "font-weight: bold;\n",
       "color: rgb(200, 130, 0);\n",
       "}\n",
       ".suggestion-error { \n",
       "font-weight: bold;\n",
       "color: red;\n",
       "}\n",
       ".suggestion-name {\n",
       "font-weight: bold;\n",
       "}\n",
       "</style><span class='get-type'>\"Hola Mundo\" :: [Char]</span>"
      ],
      "text/plain": [
       "\"Hola Mundo\" :: [Char]"
      ]
     },
     "metadata": {},
     "output_type": "display_data"
    }
   ],
   "source": [
    ":t True\n",
    ":t 54\n",
    ":t (54 :: Int)\n",
    ":t (58.9 :: Double)\n",
    ":t 'a'\n",
    ":t ('j', 'p')\n",
    ":t [True, True, True, False]\n",
    ":t \"Hola Mundo\""
   ]
  },
  {
   "cell_type": "markdown",
   "id": "3cfbcff0-cd4c-45e0-8f5e-68133aba3a07",
   "metadata": {},
   "source": [
    "## Tipos Algebráicos\n",
    "- Tipos que declaramos manualmente utilizando el keyword `data`, siguiendo las reglas:\n",
    "    - Tipo Suma (elige una de varias opciones): `data Booleano = Verdadero | Falso`.\n",
    "    - Tipos Producto (usa varios tipos de datos para definirlo): `data Pixel = Pixel Int Int Int`.\n",
    "    \n",
    "Podemos combinar los tipos suma y producto, para crear tipos más complejos:"
   ]
  },
  {
   "cell_type": "code",
   "execution_count": 2,
   "id": "8c82046f-b72a-42f7-8711-1d0fc7cacad4",
   "metadata": {},
   "outputs": [],
   "source": [
    "data Usuario = Anonimo | Registrado String String\n",
    "data TuplaInt = Tupla2 Int Int | Tupla3 Int Int Int | Tupla4 Int Int Int Int\n",
    "data Servidor = IP String | URI String"
   ]
  },
  {
   "cell_type": "code",
   "execution_count": 3,
   "id": "b9579ae5-e3b8-4716-9748-05c26badfe79",
   "metadata": {},
   "outputs": [
    {
     "data": {
      "text/html": [
       "<style>/* Styles used for the Hoogle display in the pager */\n",
       ".hoogle-doc {\n",
       "display: block;\n",
       "padding-bottom: 1.3em;\n",
       "padding-left: 0.4em;\n",
       "}\n",
       ".hoogle-code {\n",
       "display: block;\n",
       "font-family: monospace;\n",
       "white-space: pre;\n",
       "}\n",
       ".hoogle-text {\n",
       "display: block;\n",
       "}\n",
       ".hoogle-name {\n",
       "color: green;\n",
       "font-weight: bold;\n",
       "}\n",
       ".hoogle-head {\n",
       "font-weight: bold;\n",
       "}\n",
       ".hoogle-sub {\n",
       "display: block;\n",
       "margin-left: 0.4em;\n",
       "}\n",
       ".hoogle-package {\n",
       "font-weight: bold;\n",
       "font-style: italic;\n",
       "}\n",
       ".hoogle-module {\n",
       "font-weight: bold;\n",
       "}\n",
       ".hoogle-class {\n",
       "font-weight: bold;\n",
       "}\n",
       ".get-type {\n",
       "color: green;\n",
       "font-weight: bold;\n",
       "font-family: monospace;\n",
       "display: block;\n",
       "white-space: pre-wrap;\n",
       "}\n",
       ".show-type {\n",
       "color: green;\n",
       "font-weight: bold;\n",
       "font-family: monospace;\n",
       "margin-left: 1em;\n",
       "}\n",
       ".mono {\n",
       "font-family: monospace;\n",
       "display: block;\n",
       "}\n",
       ".err-msg {\n",
       "color: red;\n",
       "font-style: italic;\n",
       "font-family: monospace;\n",
       "white-space: pre;\n",
       "display: block;\n",
       "}\n",
       "#unshowable {\n",
       "color: red;\n",
       "font-weight: bold;\n",
       "}\n",
       ".err-msg.in.collapse {\n",
       "padding-top: 0.7em;\n",
       "}\n",
       ".highlight-code {\n",
       "white-space: pre;\n",
       "font-family: monospace;\n",
       "}\n",
       ".suggestion-warning { \n",
       "font-weight: bold;\n",
       "color: rgb(200, 130, 0);\n",
       "}\n",
       ".suggestion-error { \n",
       "font-weight: bold;\n",
       "color: red;\n",
       "}\n",
       ".suggestion-name {\n",
       "font-weight: bold;\n",
       "}\n",
       "</style><span class='get-type'>Anonimo :: Usuario</span>"
      ],
      "text/plain": [
       "Anonimo :: Usuario"
      ]
     },
     "metadata": {},
     "output_type": "display_data"
    },
    {
     "data": {
      "text/html": [
       "<style>/* Styles used for the Hoogle display in the pager */\n",
       ".hoogle-doc {\n",
       "display: block;\n",
       "padding-bottom: 1.3em;\n",
       "padding-left: 0.4em;\n",
       "}\n",
       ".hoogle-code {\n",
       "display: block;\n",
       "font-family: monospace;\n",
       "white-space: pre;\n",
       "}\n",
       ".hoogle-text {\n",
       "display: block;\n",
       "}\n",
       ".hoogle-name {\n",
       "color: green;\n",
       "font-weight: bold;\n",
       "}\n",
       ".hoogle-head {\n",
       "font-weight: bold;\n",
       "}\n",
       ".hoogle-sub {\n",
       "display: block;\n",
       "margin-left: 0.4em;\n",
       "}\n",
       ".hoogle-package {\n",
       "font-weight: bold;\n",
       "font-style: italic;\n",
       "}\n",
       ".hoogle-module {\n",
       "font-weight: bold;\n",
       "}\n",
       ".hoogle-class {\n",
       "font-weight: bold;\n",
       "}\n",
       ".get-type {\n",
       "color: green;\n",
       "font-weight: bold;\n",
       "font-family: monospace;\n",
       "display: block;\n",
       "white-space: pre-wrap;\n",
       "}\n",
       ".show-type {\n",
       "color: green;\n",
       "font-weight: bold;\n",
       "font-family: monospace;\n",
       "margin-left: 1em;\n",
       "}\n",
       ".mono {\n",
       "font-family: monospace;\n",
       "display: block;\n",
       "}\n",
       ".err-msg {\n",
       "color: red;\n",
       "font-style: italic;\n",
       "font-family: monospace;\n",
       "white-space: pre;\n",
       "display: block;\n",
       "}\n",
       "#unshowable {\n",
       "color: red;\n",
       "font-weight: bold;\n",
       "}\n",
       ".err-msg.in.collapse {\n",
       "padding-top: 0.7em;\n",
       "}\n",
       ".highlight-code {\n",
       "white-space: pre;\n",
       "font-family: monospace;\n",
       "}\n",
       ".suggestion-warning { \n",
       "font-weight: bold;\n",
       "color: rgb(200, 130, 0);\n",
       "}\n",
       ".suggestion-error { \n",
       "font-weight: bold;\n",
       "color: red;\n",
       "}\n",
       ".suggestion-name {\n",
       "font-weight: bold;\n",
       "}\n",
       "</style><span class='get-type'>(Registrado \"Usuario\" \"Contraseña\") :: Usuario</span>"
      ],
      "text/plain": [
       "(Registrado \"Usuario\" \"Contraseña\") :: Usuario"
      ]
     },
     "metadata": {},
     "output_type": "display_data"
    },
    {
     "data": {
      "text/html": [
       "<style>/* Styles used for the Hoogle display in the pager */\n",
       ".hoogle-doc {\n",
       "display: block;\n",
       "padding-bottom: 1.3em;\n",
       "padding-left: 0.4em;\n",
       "}\n",
       ".hoogle-code {\n",
       "display: block;\n",
       "font-family: monospace;\n",
       "white-space: pre;\n",
       "}\n",
       ".hoogle-text {\n",
       "display: block;\n",
       "}\n",
       ".hoogle-name {\n",
       "color: green;\n",
       "font-weight: bold;\n",
       "}\n",
       ".hoogle-head {\n",
       "font-weight: bold;\n",
       "}\n",
       ".hoogle-sub {\n",
       "display: block;\n",
       "margin-left: 0.4em;\n",
       "}\n",
       ".hoogle-package {\n",
       "font-weight: bold;\n",
       "font-style: italic;\n",
       "}\n",
       ".hoogle-module {\n",
       "font-weight: bold;\n",
       "}\n",
       ".hoogle-class {\n",
       "font-weight: bold;\n",
       "}\n",
       ".get-type {\n",
       "color: green;\n",
       "font-weight: bold;\n",
       "font-family: monospace;\n",
       "display: block;\n",
       "white-space: pre-wrap;\n",
       "}\n",
       ".show-type {\n",
       "color: green;\n",
       "font-weight: bold;\n",
       "font-family: monospace;\n",
       "margin-left: 1em;\n",
       "}\n",
       ".mono {\n",
       "font-family: monospace;\n",
       "display: block;\n",
       "}\n",
       ".err-msg {\n",
       "color: red;\n",
       "font-style: italic;\n",
       "font-family: monospace;\n",
       "white-space: pre;\n",
       "display: block;\n",
       "}\n",
       "#unshowable {\n",
       "color: red;\n",
       "font-weight: bold;\n",
       "}\n",
       ".err-msg.in.collapse {\n",
       "padding-top: 0.7em;\n",
       "}\n",
       ".highlight-code {\n",
       "white-space: pre;\n",
       "font-family: monospace;\n",
       "}\n",
       ".suggestion-warning { \n",
       "font-weight: bold;\n",
       "color: rgb(200, 130, 0);\n",
       "}\n",
       ".suggestion-error { \n",
       "font-weight: bold;\n",
       "color: red;\n",
       "}\n",
       ".suggestion-name {\n",
       "font-weight: bold;\n",
       "}\n",
       "</style><span class='get-type'>(Tupla2 1 2) :: TuplaInt</span>"
      ],
      "text/plain": [
       "(Tupla2 1 2) :: TuplaInt"
      ]
     },
     "metadata": {},
     "output_type": "display_data"
    },
    {
     "data": {
      "text/html": [
       "<style>/* Styles used for the Hoogle display in the pager */\n",
       ".hoogle-doc {\n",
       "display: block;\n",
       "padding-bottom: 1.3em;\n",
       "padding-left: 0.4em;\n",
       "}\n",
       ".hoogle-code {\n",
       "display: block;\n",
       "font-family: monospace;\n",
       "white-space: pre;\n",
       "}\n",
       ".hoogle-text {\n",
       "display: block;\n",
       "}\n",
       ".hoogle-name {\n",
       "color: green;\n",
       "font-weight: bold;\n",
       "}\n",
       ".hoogle-head {\n",
       "font-weight: bold;\n",
       "}\n",
       ".hoogle-sub {\n",
       "display: block;\n",
       "margin-left: 0.4em;\n",
       "}\n",
       ".hoogle-package {\n",
       "font-weight: bold;\n",
       "font-style: italic;\n",
       "}\n",
       ".hoogle-module {\n",
       "font-weight: bold;\n",
       "}\n",
       ".hoogle-class {\n",
       "font-weight: bold;\n",
       "}\n",
       ".get-type {\n",
       "color: green;\n",
       "font-weight: bold;\n",
       "font-family: monospace;\n",
       "display: block;\n",
       "white-space: pre-wrap;\n",
       "}\n",
       ".show-type {\n",
       "color: green;\n",
       "font-weight: bold;\n",
       "font-family: monospace;\n",
       "margin-left: 1em;\n",
       "}\n",
       ".mono {\n",
       "font-family: monospace;\n",
       "display: block;\n",
       "}\n",
       ".err-msg {\n",
       "color: red;\n",
       "font-style: italic;\n",
       "font-family: monospace;\n",
       "white-space: pre;\n",
       "display: block;\n",
       "}\n",
       "#unshowable {\n",
       "color: red;\n",
       "font-weight: bold;\n",
       "}\n",
       ".err-msg.in.collapse {\n",
       "padding-top: 0.7em;\n",
       "}\n",
       ".highlight-code {\n",
       "white-space: pre;\n",
       "font-family: monospace;\n",
       "}\n",
       ".suggestion-warning { \n",
       "font-weight: bold;\n",
       "color: rgb(200, 130, 0);\n",
       "}\n",
       ".suggestion-error { \n",
       "font-weight: bold;\n",
       "color: red;\n",
       "}\n",
       ".suggestion-name {\n",
       "font-weight: bold;\n",
       "}\n",
       "</style><span class='get-type'>(Tupla3 1 2 3) :: TuplaInt</span>"
      ],
      "text/plain": [
       "(Tupla3 1 2 3) :: TuplaInt"
      ]
     },
     "metadata": {},
     "output_type": "display_data"
    },
    {
     "data": {
      "text/html": [
       "<style>/* Styles used for the Hoogle display in the pager */\n",
       ".hoogle-doc {\n",
       "display: block;\n",
       "padding-bottom: 1.3em;\n",
       "padding-left: 0.4em;\n",
       "}\n",
       ".hoogle-code {\n",
       "display: block;\n",
       "font-family: monospace;\n",
       "white-space: pre;\n",
       "}\n",
       ".hoogle-text {\n",
       "display: block;\n",
       "}\n",
       ".hoogle-name {\n",
       "color: green;\n",
       "font-weight: bold;\n",
       "}\n",
       ".hoogle-head {\n",
       "font-weight: bold;\n",
       "}\n",
       ".hoogle-sub {\n",
       "display: block;\n",
       "margin-left: 0.4em;\n",
       "}\n",
       ".hoogle-package {\n",
       "font-weight: bold;\n",
       "font-style: italic;\n",
       "}\n",
       ".hoogle-module {\n",
       "font-weight: bold;\n",
       "}\n",
       ".hoogle-class {\n",
       "font-weight: bold;\n",
       "}\n",
       ".get-type {\n",
       "color: green;\n",
       "font-weight: bold;\n",
       "font-family: monospace;\n",
       "display: block;\n",
       "white-space: pre-wrap;\n",
       "}\n",
       ".show-type {\n",
       "color: green;\n",
       "font-weight: bold;\n",
       "font-family: monospace;\n",
       "margin-left: 1em;\n",
       "}\n",
       ".mono {\n",
       "font-family: monospace;\n",
       "display: block;\n",
       "}\n",
       ".err-msg {\n",
       "color: red;\n",
       "font-style: italic;\n",
       "font-family: monospace;\n",
       "white-space: pre;\n",
       "display: block;\n",
       "}\n",
       "#unshowable {\n",
       "color: red;\n",
       "font-weight: bold;\n",
       "}\n",
       ".err-msg.in.collapse {\n",
       "padding-top: 0.7em;\n",
       "}\n",
       ".highlight-code {\n",
       "white-space: pre;\n",
       "font-family: monospace;\n",
       "}\n",
       ".suggestion-warning { \n",
       "font-weight: bold;\n",
       "color: rgb(200, 130, 0);\n",
       "}\n",
       ".suggestion-error { \n",
       "font-weight: bold;\n",
       "color: red;\n",
       "}\n",
       ".suggestion-name {\n",
       "font-weight: bold;\n",
       "}\n",
       "</style><span class='get-type'>(IP \"104.45.192.142\") :: Servidor</span>"
      ],
      "text/plain": [
       "(IP \"104.45.192.142\") :: Servidor"
      ]
     },
     "metadata": {},
     "output_type": "display_data"
    },
    {
     "data": {
      "text/html": [
       "<style>/* Styles used for the Hoogle display in the pager */\n",
       ".hoogle-doc {\n",
       "display: block;\n",
       "padding-bottom: 1.3em;\n",
       "padding-left: 0.4em;\n",
       "}\n",
       ".hoogle-code {\n",
       "display: block;\n",
       "font-family: monospace;\n",
       "white-space: pre;\n",
       "}\n",
       ".hoogle-text {\n",
       "display: block;\n",
       "}\n",
       ".hoogle-name {\n",
       "color: green;\n",
       "font-weight: bold;\n",
       "}\n",
       ".hoogle-head {\n",
       "font-weight: bold;\n",
       "}\n",
       ".hoogle-sub {\n",
       "display: block;\n",
       "margin-left: 0.4em;\n",
       "}\n",
       ".hoogle-package {\n",
       "font-weight: bold;\n",
       "font-style: italic;\n",
       "}\n",
       ".hoogle-module {\n",
       "font-weight: bold;\n",
       "}\n",
       ".hoogle-class {\n",
       "font-weight: bold;\n",
       "}\n",
       ".get-type {\n",
       "color: green;\n",
       "font-weight: bold;\n",
       "font-family: monospace;\n",
       "display: block;\n",
       "white-space: pre-wrap;\n",
       "}\n",
       ".show-type {\n",
       "color: green;\n",
       "font-weight: bold;\n",
       "font-family: monospace;\n",
       "margin-left: 1em;\n",
       "}\n",
       ".mono {\n",
       "font-family: monospace;\n",
       "display: block;\n",
       "}\n",
       ".err-msg {\n",
       "color: red;\n",
       "font-style: italic;\n",
       "font-family: monospace;\n",
       "white-space: pre;\n",
       "display: block;\n",
       "}\n",
       "#unshowable {\n",
       "color: red;\n",
       "font-weight: bold;\n",
       "}\n",
       ".err-msg.in.collapse {\n",
       "padding-top: 0.7em;\n",
       "}\n",
       ".highlight-code {\n",
       "white-space: pre;\n",
       "font-family: monospace;\n",
       "}\n",
       ".suggestion-warning { \n",
       "font-weight: bold;\n",
       "color: rgb(200, 130, 0);\n",
       "}\n",
       ".suggestion-error { \n",
       "font-weight: bold;\n",
       "color: red;\n",
       "}\n",
       ".suggestion-name {\n",
       "font-weight: bold;\n",
       "}\n",
       "</style><span class='get-type'>(URI \"https://lambda-club.com/\") :: Servidor</span>"
      ],
      "text/plain": [
       "(URI \"https://lambda-club.com/\") :: Servidor"
      ]
     },
     "metadata": {},
     "output_type": "display_data"
    }
   ],
   "source": [
    ":t Anonimo\n",
    ":t (Registrado \"Usuario\" \"Contraseña\")\n",
    ":t (Tupla2 1 2)\n",
    ":t (Tupla3 1 2 3)\n",
    ":t (IP \"104.45.192.142\")\n",
    ":t (URI \"https://lambda-club.com/\")"
   ]
  },
  {
   "cell_type": "markdown",
   "id": "521552d8-9054-41fd-b510-d69bfd0cfe34",
   "metadata": {},
   "source": [
    "## Tipos Algebráicos Genéricos\n",
    "A partir de los tipos de datos algebráicos que ya conocemos, generamos tipos que utilicen variables de tipo. Es decir, pueden ser sustituidos por cualquier tipo concreto:"
   ]
  },
  {
   "cell_type": "code",
   "execution_count": 4,
   "id": "a5deb5c2-4d1a-49f2-89c9-db197981866b",
   "metadata": {},
   "outputs": [],
   "source": [
    "data Lista a = Vacia | Cons a (Lista a)\n",
    "data Opcion a b = Izquierda a | Derecha b\n",
    "-- Either\n",
    "data Quiza a = Nada | Valor a"
   ]
  },
  {
   "cell_type": "code",
   "execution_count": 5,
   "id": "977d17b8-1486-48ff-b72c-2857ed1bb7d3",
   "metadata": {},
   "outputs": [
    {
     "data": {
      "text/html": [
       "<style>/* Styles used for the Hoogle display in the pager */\n",
       ".hoogle-doc {\n",
       "display: block;\n",
       "padding-bottom: 1.3em;\n",
       "padding-left: 0.4em;\n",
       "}\n",
       ".hoogle-code {\n",
       "display: block;\n",
       "font-family: monospace;\n",
       "white-space: pre;\n",
       "}\n",
       ".hoogle-text {\n",
       "display: block;\n",
       "}\n",
       ".hoogle-name {\n",
       "color: green;\n",
       "font-weight: bold;\n",
       "}\n",
       ".hoogle-head {\n",
       "font-weight: bold;\n",
       "}\n",
       ".hoogle-sub {\n",
       "display: block;\n",
       "margin-left: 0.4em;\n",
       "}\n",
       ".hoogle-package {\n",
       "font-weight: bold;\n",
       "font-style: italic;\n",
       "}\n",
       ".hoogle-module {\n",
       "font-weight: bold;\n",
       "}\n",
       ".hoogle-class {\n",
       "font-weight: bold;\n",
       "}\n",
       ".get-type {\n",
       "color: green;\n",
       "font-weight: bold;\n",
       "font-family: monospace;\n",
       "display: block;\n",
       "white-space: pre-wrap;\n",
       "}\n",
       ".show-type {\n",
       "color: green;\n",
       "font-weight: bold;\n",
       "font-family: monospace;\n",
       "margin-left: 1em;\n",
       "}\n",
       ".mono {\n",
       "font-family: monospace;\n",
       "display: block;\n",
       "}\n",
       ".err-msg {\n",
       "color: red;\n",
       "font-style: italic;\n",
       "font-family: monospace;\n",
       "white-space: pre;\n",
       "display: block;\n",
       "}\n",
       "#unshowable {\n",
       "color: red;\n",
       "font-weight: bold;\n",
       "}\n",
       ".err-msg.in.collapse {\n",
       "padding-top: 0.7em;\n",
       "}\n",
       ".highlight-code {\n",
       "white-space: pre;\n",
       "font-family: monospace;\n",
       "}\n",
       ".suggestion-warning { \n",
       "font-weight: bold;\n",
       "color: rgb(200, 130, 0);\n",
       "}\n",
       ".suggestion-error { \n",
       "font-weight: bold;\n",
       "color: red;\n",
       "}\n",
       ".suggestion-name {\n",
       "font-weight: bold;\n",
       "}\n",
       "</style><span class='get-type'>(Cons 'a' (Cons 'b' (Cons 'c' Vacia))) :: Lista Char</span>"
      ],
      "text/plain": [
       "(Cons 'a' (Cons 'b' (Cons 'c' Vacia))) :: Lista Char"
      ]
     },
     "metadata": {},
     "output_type": "display_data"
    },
    {
     "data": {
      "text/html": [
       "<style>/* Styles used for the Hoogle display in the pager */\n",
       ".hoogle-doc {\n",
       "display: block;\n",
       "padding-bottom: 1.3em;\n",
       "padding-left: 0.4em;\n",
       "}\n",
       ".hoogle-code {\n",
       "display: block;\n",
       "font-family: monospace;\n",
       "white-space: pre;\n",
       "}\n",
       ".hoogle-text {\n",
       "display: block;\n",
       "}\n",
       ".hoogle-name {\n",
       "color: green;\n",
       "font-weight: bold;\n",
       "}\n",
       ".hoogle-head {\n",
       "font-weight: bold;\n",
       "}\n",
       ".hoogle-sub {\n",
       "display: block;\n",
       "margin-left: 0.4em;\n",
       "}\n",
       ".hoogle-package {\n",
       "font-weight: bold;\n",
       "font-style: italic;\n",
       "}\n",
       ".hoogle-module {\n",
       "font-weight: bold;\n",
       "}\n",
       ".hoogle-class {\n",
       "font-weight: bold;\n",
       "}\n",
       ".get-type {\n",
       "color: green;\n",
       "font-weight: bold;\n",
       "font-family: monospace;\n",
       "display: block;\n",
       "white-space: pre-wrap;\n",
       "}\n",
       ".show-type {\n",
       "color: green;\n",
       "font-weight: bold;\n",
       "font-family: monospace;\n",
       "margin-left: 1em;\n",
       "}\n",
       ".mono {\n",
       "font-family: monospace;\n",
       "display: block;\n",
       "}\n",
       ".err-msg {\n",
       "color: red;\n",
       "font-style: italic;\n",
       "font-family: monospace;\n",
       "white-space: pre;\n",
       "display: block;\n",
       "}\n",
       "#unshowable {\n",
       "color: red;\n",
       "font-weight: bold;\n",
       "}\n",
       ".err-msg.in.collapse {\n",
       "padding-top: 0.7em;\n",
       "}\n",
       ".highlight-code {\n",
       "white-space: pre;\n",
       "font-family: monospace;\n",
       "}\n",
       ".suggestion-warning { \n",
       "font-weight: bold;\n",
       "color: rgb(200, 130, 0);\n",
       "}\n",
       ".suggestion-error { \n",
       "font-weight: bold;\n",
       "color: red;\n",
       "}\n",
       ".suggestion-name {\n",
       "font-weight: bold;\n",
       "}\n",
       "</style><span class='get-type'>(Izquierda True) :: forall b. Opcion Bool b</span>"
      ],
      "text/plain": [
       "(Izquierda True) :: forall b. Opcion Bool b"
      ]
     },
     "metadata": {},
     "output_type": "display_data"
    },
    {
     "data": {
      "text/html": [
       "<style>/* Styles used for the Hoogle display in the pager */\n",
       ".hoogle-doc {\n",
       "display: block;\n",
       "padding-bottom: 1.3em;\n",
       "padding-left: 0.4em;\n",
       "}\n",
       ".hoogle-code {\n",
       "display: block;\n",
       "font-family: monospace;\n",
       "white-space: pre;\n",
       "}\n",
       ".hoogle-text {\n",
       "display: block;\n",
       "}\n",
       ".hoogle-name {\n",
       "color: green;\n",
       "font-weight: bold;\n",
       "}\n",
       ".hoogle-head {\n",
       "font-weight: bold;\n",
       "}\n",
       ".hoogle-sub {\n",
       "display: block;\n",
       "margin-left: 0.4em;\n",
       "}\n",
       ".hoogle-package {\n",
       "font-weight: bold;\n",
       "font-style: italic;\n",
       "}\n",
       ".hoogle-module {\n",
       "font-weight: bold;\n",
       "}\n",
       ".hoogle-class {\n",
       "font-weight: bold;\n",
       "}\n",
       ".get-type {\n",
       "color: green;\n",
       "font-weight: bold;\n",
       "font-family: monospace;\n",
       "display: block;\n",
       "white-space: pre-wrap;\n",
       "}\n",
       ".show-type {\n",
       "color: green;\n",
       "font-weight: bold;\n",
       "font-family: monospace;\n",
       "margin-left: 1em;\n",
       "}\n",
       ".mono {\n",
       "font-family: monospace;\n",
       "display: block;\n",
       "}\n",
       ".err-msg {\n",
       "color: red;\n",
       "font-style: italic;\n",
       "font-family: monospace;\n",
       "white-space: pre;\n",
       "display: block;\n",
       "}\n",
       "#unshowable {\n",
       "color: red;\n",
       "font-weight: bold;\n",
       "}\n",
       ".err-msg.in.collapse {\n",
       "padding-top: 0.7em;\n",
       "}\n",
       ".highlight-code {\n",
       "white-space: pre;\n",
       "font-family: monospace;\n",
       "}\n",
       ".suggestion-warning { \n",
       "font-weight: bold;\n",
       "color: rgb(200, 130, 0);\n",
       "}\n",
       ".suggestion-error { \n",
       "font-weight: bold;\n",
       "color: red;\n",
       "}\n",
       ".suggestion-name {\n",
       "font-weight: bold;\n",
       "}\n",
       "</style><span class='get-type'>(Derecha pi) :: forall b a. Floating b => Opcion a b</span>"
      ],
      "text/plain": [
       "(Derecha pi) :: forall b a. Floating b => Opcion a b"
      ]
     },
     "metadata": {},
     "output_type": "display_data"
    }
   ],
   "source": [
    ":t (Cons 'a' (Cons 'b' (Cons 'c' Vacia)))\n",
    ":t (Izquierda True)\n",
    ":t (Derecha pi)"
   ]
  },
  {
   "cell_type": "markdown",
   "id": "0f9b83e6-5a85-4fea-9825-4de6cceb46f3",
   "metadata": {},
   "source": [
    "## Derivaciones de tipos\n",
    "Podemos definir que un tipo de dato algebráico va a tener ciertas capacidades, usando comportamientos por defecto."
   ]
  },
  {
   "cell_type": "code",
   "execution_count": 6,
   "id": "75c53493-b5b1-447f-98ff-7da292936225",
   "metadata": {},
   "outputs": [
    {
     "data": {
      "text/plain": [
       "Cons 'a' (Cons 'b' (Cons 'c' Vacia))"
      ]
     },
     "metadata": {},
     "output_type": "display_data"
    }
   ],
   "source": [
    "data Lista a = Vacia | Cons a (Lista a) deriving Show\n",
    "\n",
    "Cons 'a' (Cons 'b' (Cons 'c' Vacia))"
   ]
  },
  {
   "cell_type": "code",
   "execution_count": 7,
   "id": "1aaf568f-540c-48f1-81fa-16873e8b4d0d",
   "metadata": {},
   "outputs": [
    {
     "data": {
      "text/plain": [
       "True"
      ]
     },
     "metadata": {},
     "output_type": "display_data"
    },
    {
     "data": {
      "text/plain": [
       "True"
      ]
     },
     "metadata": {},
     "output_type": "display_data"
    },
    {
     "data": {
      "text/plain": [
       "True"
      ]
     },
     "metadata": {},
     "output_type": "display_data"
    },
    {
     "data": {
      "text/plain": [
       "False"
      ]
     },
     "metadata": {},
     "output_type": "display_data"
    },
    {
     "data": {
      "text/plain": [
       "True"
      ]
     },
     "metadata": {},
     "output_type": "display_data"
    }
   ],
   "source": [
    "data Natural = Zero | Suc Natural deriving (Show, Eq, Ord)\n",
    "\n",
    "Zero == Zero\n",
    "Zero <= Zero\n",
    "Zero < Suc Zero\n",
    "Suc Zero < Zero\n",
    "Suc Zero < Suc (Suc Zero)"
   ]
  },
  {
   "cell_type": "markdown",
   "id": "8a3527d5-17b5-4736-bd39-bb751bf43f51",
   "metadata": {},
   "source": [
    "# Tipos (Intermedio)"
   ]
  },
  {
   "cell_type": "markdown",
   "id": "775a0691-bac1-4b85-bae5-35009df76069",
   "metadata": {
    "tags": []
   },
   "source": [
    "## Records (registros)\n",
    "\n",
    "En Orientación a Objetos tenemos:\n",
    "\n",
    "```\n",
    "class Usuario:\n",
    "    nombre: String;\n",
    "    contrasena: String;\n",
    "```\n",
    "\n",
    "¿Cómo representaríamos lo anterior con un tipo de dato algebráico en Haskell?"
   ]
  },
  {
   "cell_type": "code",
   "execution_count": 9,
   "id": "113436c6-aca3-49d7-9b96-dc56aa8a75fc",
   "metadata": {},
   "outputs": [],
   "source": [
    "data Usuario = Usuario String String"
   ]
  },
  {
   "cell_type": "markdown",
   "id": "22761a5d-73f9-468a-910a-bd0a165e5568",
   "metadata": {},
   "source": [
    "En Haskell podemos utilizar la sintaxis de records para simplificar lo anterior:"
   ]
  },
  {
   "cell_type": "code",
   "execution_count": 10,
   "id": "9e0178bf-fe4d-4359-b0df-3ca43df61a7a",
   "metadata": {},
   "outputs": [],
   "source": [
    "data Usuario = Usuario { nombre :: String\n",
    "                        , contrasena :: String}"
   ]
  },
  {
   "cell_type": "code",
   "execution_count": 18,
   "id": "d272e8fb-d8df-4522-994a-6a2242418798",
   "metadata": {},
   "outputs": [
    {
     "data": {
      "text/plain": [
       "\"mi nombre\""
      ]
     },
     "metadata": {},
     "output_type": "display_data"
    },
    {
     "data": {
      "text/plain": [
       "\"mi contrasena\""
      ]
     },
     "metadata": {},
     "output_type": "display_data"
    }
   ],
   "source": [
    "nombre :: Usuario -> String\n",
    "nombre (Usuario n _) = n\n",
    "\n",
    "contrasena :: Usuario -> String\n",
    "contrasena (Usuario _ c) = c\n",
    "\n",
    "nombre (Usuario \"mi nombre\" \"mi contrasena\")\n",
    "contrasena (Usuario \"mi nombre\" \"mi contrasena\")"
   ]
  },
  {
   "cell_type": "markdown",
   "id": "e9ce7525-3dbb-4a00-a043-9cfd3231f99b",
   "metadata": {},
   "source": [
    "### Ejercicio\n",
    "\n",
    "En Haskell existen las tuplas de dos elementos `(a, b)`, y son genéricas.\n",
    "\n",
    "Además, existen las funciones `fst` y `snd` para obtener el primer y segundo elemento de una dupla respectivamente.\n",
    "\n",
    "Crea un tipo de dato `Dupla` que cumpla con lo siguiente:\n",
    "- Las 2 entradas de la dupla son genéricas.\n",
    "- Las duplas se pueden imprimir en pantalla.\n",
    "- Se puede verificar que 2 duplas sean iguales.\n",
    "- Las duplas tienen una función `primero` para obtener la primera entrada de la dupla.\n",
    "- Las duplas tienen una función `segundo` para obtener la segunda entrada de la dupla.\n",
    "- Las funciones `primero` y `segundo` se definen usando la sintaxis de records."
   ]
  },
  {
   "cell_type": "code",
   "execution_count": 23,
   "id": "a25f9a82-21d2-4f83-afc8-cd988f847af2",
   "metadata": {},
   "outputs": [],
   "source": [
    "data Dupla a b = Dupla { primero :: a, segundo :: b } deriving (Show, Eq)"
   ]
  },
  {
   "cell_type": "code",
   "execution_count": 30,
   "id": "fa9c0d65-c69e-444d-83dc-803f32307ca4",
   "metadata": {},
   "outputs": [
    {
     "data": {
      "text/html": [
       "<style>/* Styles used for the Hoogle display in the pager */\n",
       ".hoogle-doc {\n",
       "display: block;\n",
       "padding-bottom: 1.3em;\n",
       "padding-left: 0.4em;\n",
       "}\n",
       ".hoogle-code {\n",
       "display: block;\n",
       "font-family: monospace;\n",
       "white-space: pre;\n",
       "}\n",
       ".hoogle-text {\n",
       "display: block;\n",
       "}\n",
       ".hoogle-name {\n",
       "color: green;\n",
       "font-weight: bold;\n",
       "}\n",
       ".hoogle-head {\n",
       "font-weight: bold;\n",
       "}\n",
       ".hoogle-sub {\n",
       "display: block;\n",
       "margin-left: 0.4em;\n",
       "}\n",
       ".hoogle-package {\n",
       "font-weight: bold;\n",
       "font-style: italic;\n",
       "}\n",
       ".hoogle-module {\n",
       "font-weight: bold;\n",
       "}\n",
       ".hoogle-class {\n",
       "font-weight: bold;\n",
       "}\n",
       ".get-type {\n",
       "color: green;\n",
       "font-weight: bold;\n",
       "font-family: monospace;\n",
       "display: block;\n",
       "white-space: pre-wrap;\n",
       "}\n",
       ".show-type {\n",
       "color: green;\n",
       "font-weight: bold;\n",
       "font-family: monospace;\n",
       "margin-left: 1em;\n",
       "}\n",
       ".mono {\n",
       "font-family: monospace;\n",
       "display: block;\n",
       "}\n",
       ".err-msg {\n",
       "color: red;\n",
       "font-style: italic;\n",
       "font-family: monospace;\n",
       "white-space: pre;\n",
       "display: block;\n",
       "}\n",
       "#unshowable {\n",
       "color: red;\n",
       "font-weight: bold;\n",
       "}\n",
       ".err-msg.in.collapse {\n",
       "padding-top: 0.7em;\n",
       "}\n",
       ".highlight-code {\n",
       "white-space: pre;\n",
       "font-family: monospace;\n",
       "}\n",
       ".suggestion-warning { \n",
       "font-weight: bold;\n",
       "color: rgb(200, 130, 0);\n",
       "}\n",
       ".suggestion-error { \n",
       "font-weight: bold;\n",
       "color: red;\n",
       "}\n",
       ".suggestion-name {\n",
       "font-weight: bold;\n",
       "}\n",
       "</style><div class=\"suggestion-name\" style=\"clear:both;\">Redundant bracket</div><div class=\"suggestion-row\" style=\"float: left;\"><div class=\"suggestion-warning\">Found:</div><div class=\"highlight-code\" id=\"haskell\">dupla == (Dupla \"1\" \"2\")</div></div><div class=\"suggestion-row\" style=\"float: left;\"><div class=\"suggestion-warning\">Why Not:</div><div class=\"highlight-code\" id=\"haskell\">dupla == Dupla \"1\" \"2\"</div></div>"
      ],
      "text/plain": [
       "Line 5: Redundant bracket\n",
       "Found:\n",
       "dupla == (Dupla \"1\" \"2\")\n",
       "Why not:\n",
       "dupla == Dupla \"1\" \"2\""
      ]
     },
     "metadata": {},
     "output_type": "display_data"
    },
    {
     "data": {
      "text/plain": [
       "\"Hola\""
      ]
     },
     "metadata": {},
     "output_type": "display_data"
    },
    {
     "data": {
      "text/plain": [
       "\"Mundo\""
      ]
     },
     "metadata": {},
     "output_type": "display_data"
    },
    {
     "data": {
      "text/plain": [
       "Dupla {primero = \"Hola\", segundo = \"Mundo\"}"
      ]
     },
     "metadata": {},
     "output_type": "display_data"
    },
    {
     "data": {
      "text/plain": [
       "False"
      ]
     },
     "metadata": {},
     "output_type": "display_data"
    }
   ],
   "source": [
    "dupla = Dupla \"Hola\" \"Mundo\"\n",
    "primero dupla\n",
    "segundo dupla\n",
    "dupla\n",
    "dupla == (Dupla \"1\" \"2\")"
   ]
  },
  {
   "cell_type": "markdown",
   "id": "e44e2bef-ab57-45bf-b9ff-7ec1111c2ae2",
   "metadata": {},
   "source": [
    "## type\n",
    "Haskell nos proveé de una forma de crear alias de tipos. Es decir, una forma de dar un nombre distinto a un tipo, aunque sean el mismo.\n",
    "\n",
    "```haskell\n",
    "type String = [Char]\n",
    "```"
   ]
  },
  {
   "cell_type": "code",
   "execution_count": 31,
   "id": "2d047871-e0c0-4269-9b9c-3e775380fde1",
   "metadata": {},
   "outputs": [],
   "source": [
    "type Mensaje = String\n",
    "type OperadorEnteros = Int -> Int -> Int"
   ]
  },
  {
   "cell_type": "code",
   "execution_count": 32,
   "id": "4814b96f-0849-43d0-8103-6ae346b48d10",
   "metadata": {},
   "outputs": [
    {
     "data": {
      "text/plain": [
       "3"
      ]
     },
     "metadata": {},
     "output_type": "display_data"
    }
   ],
   "source": [
    "suma :: OperadorEnteros\n",
    "suma a b = a + b\n",
    "\n",
    "suma 1 2"
   ]
  },
  {
   "cell_type": "code",
   "execution_count": 33,
   "id": "ddc59027-7487-4bc0-b0a1-33881b1977b7",
   "metadata": {},
   "outputs": [
    {
     "data": {
      "text/html": [
       "<style>/* Styles used for the Hoogle display in the pager */\n",
       ".hoogle-doc {\n",
       "display: block;\n",
       "padding-bottom: 1.3em;\n",
       "padding-left: 0.4em;\n",
       "}\n",
       ".hoogle-code {\n",
       "display: block;\n",
       "font-family: monospace;\n",
       "white-space: pre;\n",
       "}\n",
       ".hoogle-text {\n",
       "display: block;\n",
       "}\n",
       ".hoogle-name {\n",
       "color: green;\n",
       "font-weight: bold;\n",
       "}\n",
       ".hoogle-head {\n",
       "font-weight: bold;\n",
       "}\n",
       ".hoogle-sub {\n",
       "display: block;\n",
       "margin-left: 0.4em;\n",
       "}\n",
       ".hoogle-package {\n",
       "font-weight: bold;\n",
       "font-style: italic;\n",
       "}\n",
       ".hoogle-module {\n",
       "font-weight: bold;\n",
       "}\n",
       ".hoogle-class {\n",
       "font-weight: bold;\n",
       "}\n",
       ".get-type {\n",
       "color: green;\n",
       "font-weight: bold;\n",
       "font-family: monospace;\n",
       "display: block;\n",
       "white-space: pre-wrap;\n",
       "}\n",
       ".show-type {\n",
       "color: green;\n",
       "font-weight: bold;\n",
       "font-family: monospace;\n",
       "margin-left: 1em;\n",
       "}\n",
       ".mono {\n",
       "font-family: monospace;\n",
       "display: block;\n",
       "}\n",
       ".err-msg {\n",
       "color: red;\n",
       "font-style: italic;\n",
       "font-family: monospace;\n",
       "white-space: pre;\n",
       "display: block;\n",
       "}\n",
       "#unshowable {\n",
       "color: red;\n",
       "font-weight: bold;\n",
       "}\n",
       ".err-msg.in.collapse {\n",
       "padding-top: 0.7em;\n",
       "}\n",
       ".highlight-code {\n",
       "white-space: pre;\n",
       "font-family: monospace;\n",
       "}\n",
       ".suggestion-warning { \n",
       "font-weight: bold;\n",
       "color: rgb(200, 130, 0);\n",
       "}\n",
       ".suggestion-error { \n",
       "font-weight: bold;\n",
       "color: red;\n",
       "}\n",
       ".suggestion-name {\n",
       "font-weight: bold;\n",
       "}\n",
       "</style><span class='get-type'>\"Lambda club\" :: [Char]</span>"
      ],
      "text/plain": [
       "\"Lambda club\" :: [Char]"
      ]
     },
     "metadata": {},
     "output_type": "display_data"
    }
   ],
   "source": [
    ":t \"Lambda club\""
   ]
  },
  {
   "cell_type": "markdown",
   "id": "816f86d3-67a1-4156-8394-5b3d5958cd07",
   "metadata": {},
   "source": [
    "## newtype\n",
    "Además, Haskell nos da una tercera forma de definir tipos, con `newtype`.\n",
    "\n",
    "`newtype` sirve para declarar tipos que tienen 1 solo constructor y 1 solo campo. Es decir, debe ser de la forma `data X = Y z`."
   ]
  },
  {
   "cell_type": "code",
   "execution_count": 37,
   "id": "2c576f45-9787-448b-9046-7f72ada1e87f",
   "metadata": {},
   "outputs": [],
   "source": [
    "newtype Mensaje = Mensaje String\n",
    "newtype Vector = Vector (Double, Double)"
   ]
  },
  {
   "cell_type": "code",
   "execution_count": 38,
   "id": "fa0151ef-5c37-4cd7-a454-1c4153ca482a",
   "metadata": {},
   "outputs": [],
   "source": [
    "sumaVectores :: Vector -> Vector -> Vector\n",
    "sumaVectores (Vector (x1, y1)) (Vector (x2, y2)) = Vector (x1+x2, y1+y2)"
   ]
  },
  {
   "cell_type": "markdown",
   "id": "1ff8925b-6c46-4ec0-82ec-8445ad6175ff",
   "metadata": {},
   "source": [
    "### Ejercicio\n",
    "Cambia la definición de `Mensaje` para usar la sintaxis de records. Además, crea una función que convierta el `Mensaje` a un `String`.\n",
    "\n",
    "```haskell\n",
    "type Mensaje = String\n",
    "```"
   ]
  },
  {
   "cell_type": "code",
   "execution_count": 42,
   "id": "b6872b35-895f-4bf6-9e36-897b1d541840",
   "metadata": {},
   "outputs": [
    {
     "data": {
      "text/plain": [
       "\"mi mensaje\""
      ]
     },
     "metadata": {},
     "output_type": "display_data"
    }
   ],
   "source": [
    "newtype Mensaje = Mensaje {mensaje :: String} deriving Show\n",
    "\n",
    "mensaje (Mensaje \"mi mensaje\")"
   ]
  },
  {
   "cell_type": "markdown",
   "id": "9fe4aa55-335f-4dfd-8942-3b2f171680ec",
   "metadata": {},
   "source": [
    "## Resumen\n",
    "|                       | type                                     | newtype                                                                                                                                           | data                                                                             |\n",
    "|-----------------------|------------------------------------------|---------------------------------------------------------------------------------------------------------------------------------------------------|----------------------------------------------------------------------------------|\n",
    "| Tipos                 | Equivalente al tipo que representa.      | En la ejecución, funciona de manera equivalente al tipo que representa, pero en compilación, el verificador de tipado los detecta como distintos. | Distinto al tipo que representa en ejecución y compilación.                      |\n",
    "| Cantidad de elementos | Representa un solo tipo.                 | Representa un solo tipo.                                                                                                                          | Puede abarcar tipos suma y tipos producto.                                       |\n",
    "| Derivaciones          | No se le pueden asociar derivaciones.    | Sí se le pueden asociar derivaciones.                                                                                                             | Sí se le pueden asociar derivaciones.                                            |\n",
    "| Records               | No se puede usar la sintaxis de records. | Sí se puede usar la sintaxis de records.                                                                                                          | Sí se puede usar la sintaxis de records cuando tenemos únicamente 1 constructor. |\n",
    "| Instancias de clase   | No se puede instanciar una clase.        | Sí se puede instanciar una clase.                                                                                                                 | Sí se puede instanciar una clase.                                                |"
   ]
  },
  {
   "cell_type": "markdown",
   "id": "68a59858-d6be-4b7d-af5e-a9f8d0762a7e",
   "metadata": {},
   "source": [
    "# Polimorfismo"
   ]
  },
  {
   "cell_type": "markdown",
   "id": "b08a3491-e81b-49a0-b1b9-65f0c9ef742e",
   "metadata": {},
   "source": [
    "## Polimorfismo Paramétrico (Funciones)\n",
    "\n",
    "- Definimos una función que opera sobre cualquier tipo de dato.\n",
    "- El nombre \"paramétrico\" corresponde a que los parámetros de una función son polimórficos."
   ]
  },
  {
   "cell_type": "code",
   "execution_count": 43,
   "id": "18c28754-54c7-455f-ad89-abb4e8765002",
   "metadata": {},
   "outputs": [
    {
     "data": {
      "text/plain": [
       "(2,1)"
      ]
     },
     "metadata": {},
     "output_type": "display_data"
    },
    {
     "data": {
      "text/plain": [
       "(\"Curry\",\"Haskell\")"
      ]
     },
     "metadata": {},
     "output_type": "display_data"
    }
   ],
   "source": [
    "volteaTupla :: (a, b) -> (b, a)\n",
    "volteaTupla (x, y) = (y, x)\n",
    "\n",
    "volteaTupla (1, 2)\n",
    "volteaTupla (\"Haskell\", \"Curry\")"
   ]
  },
  {
   "cell_type": "markdown",
   "id": "6900b46a-f57d-473d-85f1-ac00c659c60f",
   "metadata": {},
   "source": [
    "### Ejercicio\n",
    "Crea una función `doble` que a su vez reciba una función `f` y un valor inicial `x`. La función debe aplicar `f` al valor inicial, y al resultado de eso, volver a aplicarle la función. Es decir, va a aplicar la función 2 veces. Ejemplo:\n",
    "\n",
    "```haskell\n",
    "doble (\\x -> x + 1) 0 = 2\n",
    "```"
   ]
  },
  {
   "cell_type": "code",
   "execution_count": 46,
   "id": "cc72afb9-36bf-4a5b-b081-411650ca5570",
   "metadata": {},
   "outputs": [],
   "source": [
    "doble :: (a -> a) -> a -> a\n",
    "doble f x = f (f x)"
   ]
  },
  {
   "cell_type": "code",
   "execution_count": 47,
   "id": "904db920-fb01-4470-ae5a-03d4441318cf",
   "metadata": {},
   "outputs": [
    {
     "data": {
      "text/html": [
       "<style>/* Styles used for the Hoogle display in the pager */\n",
       ".hoogle-doc {\n",
       "display: block;\n",
       "padding-bottom: 1.3em;\n",
       "padding-left: 0.4em;\n",
       "}\n",
       ".hoogle-code {\n",
       "display: block;\n",
       "font-family: monospace;\n",
       "white-space: pre;\n",
       "}\n",
       ".hoogle-text {\n",
       "display: block;\n",
       "}\n",
       ".hoogle-name {\n",
       "color: green;\n",
       "font-weight: bold;\n",
       "}\n",
       ".hoogle-head {\n",
       "font-weight: bold;\n",
       "}\n",
       ".hoogle-sub {\n",
       "display: block;\n",
       "margin-left: 0.4em;\n",
       "}\n",
       ".hoogle-package {\n",
       "font-weight: bold;\n",
       "font-style: italic;\n",
       "}\n",
       ".hoogle-module {\n",
       "font-weight: bold;\n",
       "}\n",
       ".hoogle-class {\n",
       "font-weight: bold;\n",
       "}\n",
       ".get-type {\n",
       "color: green;\n",
       "font-weight: bold;\n",
       "font-family: monospace;\n",
       "display: block;\n",
       "white-space: pre-wrap;\n",
       "}\n",
       ".show-type {\n",
       "color: green;\n",
       "font-weight: bold;\n",
       "font-family: monospace;\n",
       "margin-left: 1em;\n",
       "}\n",
       ".mono {\n",
       "font-family: monospace;\n",
       "display: block;\n",
       "}\n",
       ".err-msg {\n",
       "color: red;\n",
       "font-style: italic;\n",
       "font-family: monospace;\n",
       "white-space: pre;\n",
       "display: block;\n",
       "}\n",
       "#unshowable {\n",
       "color: red;\n",
       "font-weight: bold;\n",
       "}\n",
       ".err-msg.in.collapse {\n",
       "padding-top: 0.7em;\n",
       "}\n",
       ".highlight-code {\n",
       "white-space: pre;\n",
       "font-family: monospace;\n",
       "}\n",
       ".suggestion-warning { \n",
       "font-weight: bold;\n",
       "color: rgb(200, 130, 0);\n",
       "}\n",
       ".suggestion-error { \n",
       "font-weight: bold;\n",
       "color: red;\n",
       "}\n",
       ".suggestion-name {\n",
       "font-weight: bold;\n",
       "}\n",
       "</style><div class=\"suggestion-name\" style=\"clear:both;\">Avoid lambda using `infix`</div><div class=\"suggestion-row\" style=\"float: left;\"><div class=\"suggestion-warning\">Found:</div><div class=\"highlight-code\" id=\"haskell\">(\\ x -> x + 1)</div></div><div class=\"suggestion-row\" style=\"float: left;\"><div class=\"suggestion-warning\">Why Not:</div><div class=\"highlight-code\" id=\"haskell\">(+ 1)</div></div>"
      ],
      "text/plain": [
       "Line 1: Avoid lambda using `infix`\n",
       "Found:\n",
       "(\\ x -> x + 1)\n",
       "Why not:\n",
       "(+ 1)"
      ]
     },
     "metadata": {},
     "output_type": "display_data"
    },
    {
     "data": {
      "text/plain": [
       "2"
      ]
     },
     "metadata": {},
     "output_type": "display_data"
    }
   ],
   "source": [
    "doble (\\x -> x + 1) 0"
   ]
  },
  {
   "cell_type": "markdown",
   "id": "f6dd3333-74f9-48c9-b65f-5b1796ab38f3",
   "metadata": {},
   "source": [
    "## Restricciones de clases\n",
    "\n",
    "- Funciones polimórficas, que requieren de ciertas condiciones para operar correctamente."
   ]
  },
  {
   "cell_type": "code",
   "execution_count": 52,
   "id": "9422d99d-2f8b-4623-9f5d-0bea1fdeeec6",
   "metadata": {},
   "outputs": [
    {
     "data": {
      "text/plain": [
       "True"
      ]
     },
     "metadata": {},
     "output_type": "display_data"
    },
    {
     "data": {
      "text/plain": [
       "True"
      ]
     },
     "metadata": {},
     "output_type": "display_data"
    },
    {
     "data": {
      "text/plain": [
       "False"
      ]
     },
     "metadata": {},
     "output_type": "display_data"
    }
   ],
   "source": [
    "mismaRepresentacion :: Show a => a -> String -> Bool\n",
    "mismaRepresentacion valor texto = show valor == texto\n",
    "\n",
    "mismaRepresentacion True \"True\"\n",
    "mismaRepresentacion [1,2,3] \"[1,2,3]\"\n",
    "mismaRepresentacion 1.0 \"1\""
   ]
  },
  {
   "cell_type": "markdown",
   "id": "12eeee9f-c7fa-44ef-9c11-885b6a2c35f2",
   "metadata": {},
   "source": [
    "### Ejercicio\n",
    "Crea una función que verifique si una lista está ordenada. Recuerda que para verificar que una lista está ordenada, es necesario que sus elementos sean ordenables."
   ]
  },
  {
   "cell_type": "code",
   "execution_count": 54,
   "id": "88673121-2842-4d89-ac88-812a85cdab65",
   "metadata": {},
   "outputs": [
    {
     "data": {
      "text/plain": [
       "True"
      ]
     },
     "metadata": {},
     "output_type": "display_data"
    },
    {
     "data": {
      "text/plain": [
       "True"
      ]
     },
     "metadata": {},
     "output_type": "display_data"
    },
    {
     "data": {
      "text/plain": [
       "False"
      ]
     },
     "metadata": {},
     "output_type": "display_data"
    }
   ],
   "source": [
    "ordenada :: Ord a => [a] -> Bool\n",
    "ordenada []  = True\n",
    "ordenada [_] = True\n",
    "ordenada (x:xs) = x <= head xs && ordenada xs\n",
    "\n",
    "ordenada [1,1,1,1,1]\n",
    "ordenada [1..10]\n",
    "ordenada [0,-4,2,3,4]"
   ]
  },
  {
   "cell_type": "code",
   "execution_count": 2,
   "id": "a2112547-1669-478e-9da0-e8372cf362a5",
   "metadata": {},
   "outputs": [
    {
     "data": {},
     "metadata": {},
     "output_type": "display_data"
    },
    {
     "data": {
      "text/html": [
       "<div style='background: rgb(247, 247, 247);'><form><textarea id='code'>type Int :: *\n",
       "data Int = GHC.Types.I# GHC.Prim.Int#\n",
       "  \t-- Defined in ‘GHC.Types’\n",
       "instance Read Int -- Defined in ‘GHC.Read’\n",
       "instance Show Int -- Defined in ‘GHC.Show’\n",
       "instance Eq Int -- Defined in ‘GHC.Classes’\n",
       "instance Ord Int -- Defined in ‘GHC.Classes’\n",
       "instance Enum Int -- Defined in ‘GHC.Enum’\n",
       "instance Num Int -- Defined in ‘GHC.Num’\n",
       "instance Real Int -- Defined in ‘GHC.Real’\n",
       "instance Bounded Int -- Defined in ‘GHC.Enum’\n",
       "instance Integral Int -- Defined in ‘GHC.Real’\n",
       "</textarea></form></div><script>CodeMirror.fromTextArea(document.getElementById('code'), {mode: 'haskell', readOnly: 'nocursor'});</script>"
      ],
      "text/plain": [
       "type Int :: *\n",
       "data Int = GHC.Types.I# GHC.Prim.Int#\n",
       "  \t-- Defined in ‘GHC.Types’\n",
       "instance Read Int -- Defined in ‘GHC.Read’\n",
       "instance Show Int -- Defined in ‘GHC.Show’\n",
       "instance Eq Int -- Defined in ‘GHC.Classes’\n",
       "instance Ord Int -- Defined in ‘GHC.Classes’\n",
       "instance Enum Int -- Defined in ‘GHC.Enum’\n",
       "instance Num Int -- Defined in ‘GHC.Num’\n",
       "instance Real Int -- Defined in ‘GHC.Real’\n",
       "instance Bounded Int -- Defined in ‘GHC.Enum’\n",
       "instance Integral Int -- Defined in ‘GHC.Real’"
      ]
     },
     "metadata": {},
     "output_type": "display_data"
    }
   ],
   "source": [
    ":info Int"
   ]
  },
  {
   "cell_type": "code",
   "execution_count": 5,
   "id": "84faef06-9119-4d5c-9537-2158b3aaec68",
   "metadata": {},
   "outputs": [
    {
     "data": {},
     "metadata": {},
     "output_type": "display_data"
    },
    {
     "data": {
      "text/html": [
       "<div style='background: rgb(247, 247, 247);'><form><textarea id='code'>type Bounded :: * -> Constraint\n",
       "class Bounded a where\n",
       "  minBound :: a\n",
       "  maxBound :: a\n",
       "  {-# MINIMAL minBound, maxBound #-}\n",
       "  \t-- Defined in ‘GHC.Enum’\n",
       "instance Bounded Word -- Defined in ‘GHC.Enum’\n",
       "instance Bounded Ordering -- Defined in ‘GHC.Enum’\n",
       "instance Bounded Int -- Defined in ‘GHC.Enum’\n",
       "instance Bounded Char -- Defined in ‘GHC.Enum’\n",
       "instance Bounded Bool -- Defined in ‘GHC.Enum’\n",
       "instance (Bounded a, Bounded b, Bounded c, Bounded d, Bounded e, Bounded f, Bounded g, Bounded h, Bounded i, Bounded j, Bounded k, Bounded l, Bounded m, Bounded n, Bounded o) =>\n",
       "         Bounded (a, b, c, d, e, f, g, h, i, j, k, l, m, n, o)\n",
       "  -- Defined in ‘GHC.Enum’\n",
       "instance (Bounded a, Bounded b, Bounded c, Bounded d, Bounded e, Bounded f, Bounded g, Bounded h, Bounded i, Bounded j, Bounded k, Bounded l, Bounded m, Bounded n) =>\n",
       "         Bounded (a, b, c, d, e, f, g, h, i, j, k, l, m, n)\n",
       "  -- Defined in ‘GHC.Enum’\n",
       "instance (Bounded a, Bounded b, Bounded c, Bounded d, Bounded e, Bounded f, Bounded g, Bounded h, Bounded i, Bounded j, Bounded k, Bounded l, Bounded m) =>\n",
       "         Bounded (a, b, c, d, e, f, g, h, i, j, k, l, m)\n",
       "  -- Defined in ‘GHC.Enum’\n",
       "instance (Bounded a, Bounded b, Bounded c, Bounded d, Bounded e, Bounded f, Bounded g, Bounded h, Bounded i, Bounded j, Bounded k, Bounded l) => Bounded (a, b, c, d, e, f, g, h, i, j, k, l)\n",
       "  -- Defined in ‘GHC.Enum’\n",
       "instance (Bounded a, Bounded b, Bounded c, Bounded d, Bounded e, Bounded f, Bounded g, Bounded h, Bounded i, Bounded j, Bounded k) => Bounded (a, b, c, d, e, f, g, h, i, j, k) -- Defined in ‘GHC.Enum’\n",
       "instance (Bounded a, Bounded b, Bounded c, Bounded d, Bounded e, Bounded f, Bounded g, Bounded h, Bounded i, Bounded j) => Bounded (a, b, c, d, e, f, g, h, i, j) -- Defined in ‘GHC.Enum’\n",
       "instance (Bounded a, Bounded b, Bounded c, Bounded d, Bounded e, Bounded f, Bounded g, Bounded h, Bounded i) => Bounded (a, b, c, d, e, f, g, h, i) -- Defined in ‘GHC.Enum’\n",
       "instance (Bounded a, Bounded b, Bounded c, Bounded d, Bounded e, Bounded f, Bounded g, Bounded h) => Bounded (a, b, c, d, e, f, g, h) -- Defined in ‘GHC.Enum’\n",
       "instance (Bounded a, Bounded b, Bounded c, Bounded d, Bounded e, Bounded f, Bounded g) => Bounded (a, b, c, d, e, f, g) -- Defined in ‘GHC.Enum’\n",
       "instance (Bounded a, Bounded b, Bounded c, Bounded d, Bounded e, Bounded f) => Bounded (a, b, c, d, e, f) -- Defined in ‘GHC.Enum’\n",
       "instance (Bounded a, Bounded b, Bounded c, Bounded d, Bounded e) => Bounded (a, b, c, d, e) -- Defined in ‘GHC.Enum’\n",
       "instance (Bounded a, Bounded b, Bounded c, Bounded d) => Bounded (a, b, c, d) -- Defined in ‘GHC.Enum’\n",
       "instance (Bounded a, Bounded b, Bounded c) => Bounded (a, b, c) -- Defined in ‘GHC.Enum’\n",
       "instance (Bounded a, Bounded b) => Bounded (a, b) -- Defined in ‘GHC.Enum’\n",
       "instance Bounded () -- Defined in ‘GHC.Enum’\n",
       "</textarea></form></div><script>CodeMirror.fromTextArea(document.getElementById('code'), {mode: 'haskell', readOnly: 'nocursor'});</script>"
      ],
      "text/plain": [
       "type Bounded :: * -> Constraint\n",
       "class Bounded a where\n",
       "  minBound :: a\n",
       "  maxBound :: a\n",
       "  {-# MINIMAL minBound, maxBound #-}\n",
       "  \t-- Defined in ‘GHC.Enum’\n",
       "instance Bounded Word -- Defined in ‘GHC.Enum’\n",
       "instance Bounded Ordering -- Defined in ‘GHC.Enum’\n",
       "instance Bounded Int -- Defined in ‘GHC.Enum’\n",
       "instance Bounded Char -- Defined in ‘GHC.Enum’\n",
       "instance Bounded Bool -- Defined in ‘GHC.Enum’\n",
       "instance (Bounded a, Bounded b, Bounded c, Bounded d, Bounded e, Bounded f, Bounded g, Bounded h, Bounded i, Bounded j, Bounded k, Bounded l, Bounded m, Bounded n, Bounded o) =>\n",
       "         Bounded (a, b, c, d, e, f, g, h, i, j, k, l, m, n, o)\n",
       "  -- Defined in ‘GHC.Enum’\n",
       "instance (Bounded a, Bounded b, Bounded c, Bounded d, Bounded e, Bounded f, Bounded g, Bounded h, Bounded i, Bounded j, Bounded k, Bounded l, Bounded m, Bounded n) =>\n",
       "         Bounded (a, b, c, d, e, f, g, h, i, j, k, l, m, n)\n",
       "  -- Defined in ‘GHC.Enum’\n",
       "instance (Bounded a, Bounded b, Bounded c, Bounded d, Bounded e, Bounded f, Bounded g, Bounded h, Bounded i, Bounded j, Bounded k, Bounded l, Bounded m) =>\n",
       "         Bounded (a, b, c, d, e, f, g, h, i, j, k, l, m)\n",
       "  -- Defined in ‘GHC.Enum’\n",
       "instance (Bounded a, Bounded b, Bounded c, Bounded d, Bounded e, Bounded f, Bounded g, Bounded h, Bounded i, Bounded j, Bounded k, Bounded l) => Bounded (a, b, c, d, e, f, g, h, i, j, k, l)\n",
       "  -- Defined in ‘GHC.Enum’\n",
       "instance (Bounded a, Bounded b, Bounded c, Bounded d, Bounded e, Bounded f, Bounded g, Bounded h, Bounded i, Bounded j, Bounded k) => Bounded (a, b, c, d, e, f, g, h, i, j, k) -- Defined in ‘GHC.Enum’\n",
       "instance (Bounded a, Bounded b, Bounded c, Bounded d, Bounded e, Bounded f, Bounded g, Bounded h, Bounded i, Bounded j) => Bounded (a, b, c, d, e, f, g, h, i, j) -- Defined in ‘GHC.Enum’\n",
       "instance (Bounded a, Bounded b, Bounded c, Bounded d, Bounded e, Bounded f, Bounded g, Bounded h, Bounded i) => Bounded (a, b, c, d, e, f, g, h, i) -- Defined in ‘GHC.Enum’\n",
       "instance (Bounded a, Bounded b, Bounded c, Bounded d, Bounded e, Bounded f, Bounded g, Bounded h) => Bounded (a, b, c, d, e, f, g, h) -- Defined in ‘GHC.Enum’\n",
       "instance (Bounded a, Bounded b, Bounded c, Bounded d, Bounded e, Bounded f, Bounded g) => Bounded (a, b, c, d, e, f, g) -- Defined in ‘GHC.Enum’\n",
       "instance (Bounded a, Bounded b, Bounded c, Bounded d, Bounded e, Bounded f) => Bounded (a, b, c, d, e, f) -- Defined in ‘GHC.Enum’\n",
       "instance (Bounded a, Bounded b, Bounded c, Bounded d, Bounded e) => Bounded (a, b, c, d, e) -- Defined in ‘GHC.Enum’\n",
       "instance (Bounded a, Bounded b, Bounded c, Bounded d) => Bounded (a, b, c, d) -- Defined in ‘GHC.Enum’\n",
       "instance (Bounded a, Bounded b, Bounded c) => Bounded (a, b, c) -- Defined in ‘GHC.Enum’\n",
       "instance (Bounded a, Bounded b) => Bounded (a, b) -- Defined in ‘GHC.Enum’\n",
       "instance Bounded () -- Defined in ‘GHC.Enum’"
      ]
     },
     "metadata": {},
     "output_type": "display_data"
    }
   ],
   "source": [
    ":info Bounded"
   ]
  },
  {
   "cell_type": "code",
   "execution_count": 7,
   "id": "41fe039e-3737-4ba1-85f5-81e04d58d969",
   "metadata": {},
   "outputs": [
    {
     "ename": "",
     "evalue": "",
     "header": "MessageHeader {mhIdentifiers = [\"a63d2b11-b1a1-433f-b88b-c825b2131963\"], mhParentHeader = Just (MessageHeader {mhIdentifiers = [\"a63d2b11-b1a1-433f-b88b-c825b2131963\"], mhParentHeader = Nothing, mhMetadata = Metadata (fromList [(\"recordTiming\",Bool False),(\"deletedCells\",Array []),(\"cellId\",String \"41fe039e-3737-4ba1-85f5-81e04d58d969\")]), mhMessageId = UUID {uuidToString = \"0c225818-bb46-42d3-bc81-3ad015bbeb05\"}, mhSessionId = UUID {uuidToString = \"a63d2b11-b1a1-433f-b88b-c825b2131963\"}, mhUsername = \"\", mhMsgType = ExecuteRequestMessage, mhBuffers = []}), mhMetadata = Metadata (fromList []), mhMessageId = UUID {uuidToString = \"b828a4e3-70d5-4ce4-bb19-61518ef32b55\"}, mhSessionId = UUID {uuidToString = \"a63d2b11-b1a1-433f-b88b-c825b2131963\"}, mhUsername = \"\", mhMsgType = ExecuteErrorMessage, mhBuffers = []}",
     "output_type": "error",
     "traceback": [
      "<interactive>:1:1: error:\n    • No instance for (Bounded (Integer -> Int)) arising from a use of ‘maxBound’\n        (maybe you haven't applied a function to enough arguments?)\n    • In the expression: maxBound 1 :: Int\n      In an equation for ‘it’: it = maxBound 1 :: Int"
     ]
    }
   ],
   "source": [
    "maxBound 1 :: Int"
   ]
  },
  {
   "cell_type": "markdown",
   "id": "c473e92d-8a04-4584-93af-5c6270758ff7",
   "metadata": {},
   "source": [
    "## Polimorfismo Ad-Hoc (Clases)"
   ]
  },
  {
   "cell_type": "markdown",
   "id": "7fa97211-e16e-4fa4-ab49-50cc44fee1bc",
   "metadata": {},
   "source": [
    "- Podemos definir el comportamiento que un tipo va a tener con respecto a una clase.\n",
    "- Análogo a las Interfaces o Traits en lenguajes orientados a objetos.\n",
    "- La implementación que se ejecuta depende del tipo sobre el que opera."
   ]
  },
  {
   "cell_type": "code",
   "execution_count": 8,
   "id": "58805d08-ed46-4a53-a360-abbc6d80a010",
   "metadata": {},
   "outputs": [
    {
     "data": {},
     "metadata": {},
     "output_type": "display_data"
    },
    {
     "data": {
      "text/html": [
       "<div style='background: rgb(247, 247, 247);'><form><textarea id='code'>type Eq :: * -> Constraint\n",
       "class Eq a where\n",
       "  (==) :: a -> a -> Bool\n",
       "  (/=) :: a -> a -> Bool\n",
       "  {-# MINIMAL (==) | (/=) #-}\n",
       "  \t-- Defined in ‘GHC.Classes’\n",
       "instance Eq IHaskellTH.TypeFamilyHead -- Defined in ‘Language.Haskell.TH.Syntax’\n",
       "instance Eq IHaskellTH.Type -- Defined in ‘Language.Haskell.TH.Syntax’\n",
       "instance Eq IHaskellTH.TyVarBndr -- Defined in ‘Language.Haskell.TH.Syntax’\n",
       "instance Eq IHaskellTH.TySynEqn -- Defined in ‘Language.Haskell.TH.Syntax’\n",
       "instance Eq IHaskellTH.TyLit -- Defined in ‘Language.Haskell.TH.Syntax’\n",
       "instance Eq IHaskellTH.Stmt -- Defined in ‘Language.Haskell.TH.Syntax’\n",
       "instance Eq IHaskellTH.SourceUnpackedness -- Defined in ‘Language.Haskell.TH.Syntax’\n",
       "instance Eq IHaskellTH.SourceStrictness -- Defined in ‘Language.Haskell.TH.Syntax’\n",
       "instance Eq IHaskellTH.Safety -- Defined in ‘Language.Haskell.TH.Syntax’\n",
       "instance Eq IHaskellTH.RuleMatch -- Defined in ‘Language.Haskell.TH.Syntax’\n",
       "instance Eq IHaskellTH.RuleBndr -- Defined in ‘Language.Haskell.TH.Syntax’\n",
       "instance Eq IHaskellTH.Role -- Defined in ‘Language.Haskell.TH.Syntax’\n",
       "instance Eq IHaskellTH.Range -- Defined in ‘Language.Haskell.TH.Syntax’\n",
       "instance Eq IHaskellTH.Pragma -- Defined in ‘Language.Haskell.TH.Syntax’\n",
       "instance Eq IHaskellTH.Phases -- Defined in ‘Language.Haskell.TH.Syntax’\n",
       "instance Eq IHaskellTH.PatSynDir -- Defined in ‘Language.Haskell.TH.Syntax’\n",
       "instance Eq IHaskellTH.PatSynArgs -- Defined in ‘Language.Haskell.TH.Syntax’\n",
       "instance Eq IHaskellTH.Pat -- Defined in ‘Language.Haskell.TH.Syntax’\n",
       "instance Eq IHaskellTH.Overlap -- Defined in ‘Language.Haskell.TH.Syntax’\n",
       "instance Eq IHaskellTH.NameSpace -- Defined in ‘Language.Haskell.TH.Syntax’\n",
       "instance Eq IHaskellTH.Name -- Defined in ‘Language.Haskell.TH.Syntax’\n",
       "instance Eq IHaskellTH.ModuleInfo -- Defined in ‘Language.Haskell.TH.Syntax’\n",
       "instance Eq IHaskellTH.Match -- Defined in ‘Language.Haskell.TH.Syntax’\n",
       "instance Eq IHaskellTH.Loc -- Defined in ‘Language.Haskell.TH.Syntax’\n",
       "instance Eq IHaskellTH.Lit -- Defined in ‘Language.Haskell.TH.Syntax’\n",
       "instance Eq IHaskellTH.Inline -- Defined in ‘Language.Haskell.TH.Syntax’\n",
       "instance Eq IHaskellTH.InjectivityAnn -- Defined in ‘Language.Haskell.TH.Syntax’\n",
       "instance Eq IHaskellTH.Info -- Defined in ‘Language.Haskell.TH.Syntax’\n",
       "instance Eq IHaskellTH.Guard -- Defined in ‘Language.Haskell.TH.Syntax’\n",
       "instance Eq IHaskellTH.FunDep -- Defined in ‘Language.Haskell.TH.Syntax’\n",
       "instance Eq IHaskellTH.Foreign -- Defined in ‘Language.Haskell.TH.Syntax’\n",
       "instance Eq IHaskellTH.FixityDirection -- Defined in ‘Language.Haskell.TH.Syntax’\n",
       "instance Eq IHaskellTH.Fixity -- Defined in ‘Language.Haskell.TH.Syntax’\n",
       "instance Eq IHaskellTH.FamilyResultSig -- Defined in ‘Language.Haskell.TH.Syntax’\n",
       "instance Eq IHaskellTH.Exp -- Defined in ‘Language.Haskell.TH.Syntax’\n",
       "instance Eq IHaskellTH.DerivStrategy -- Defined in ‘Language.Haskell.TH.Syntax’\n",
       "instance Eq IHaskellTH.DerivClause -- Defined in ‘Language.Haskell.TH.Syntax’\n",
       "instance Eq IHaskellTH.DecidedStrictness -- Defined in ‘Language.Haskell.TH.Syntax’\n",
       "instance Eq IHaskellTH.Dec -- Defined in ‘Language.Haskell.TH.Syntax’\n",
       "instance Eq IHaskellTH.Con -- Defined in ‘Language.Haskell.TH.Syntax’\n",
       "instance Eq IHaskellTH.Clause -- Defined in ‘Language.Haskell.TH.Syntax’\n",
       "instance Eq IHaskellTH.Callconv -- Defined in ‘Language.Haskell.TH.Syntax’\n",
       "instance Eq IHaskellTH.Body -- Defined in ‘Language.Haskell.TH.Syntax’\n",
       "instance Eq IHaskellTH.Bang -- Defined in ‘Language.Haskell.TH.Syntax’\n",
       "instance Eq IHaskellTH.AnnTarget -- Defined in ‘Language.Haskell.TH.Syntax’\n",
       "instance Eq IHaskellTH.AnnLookup -- Defined in ‘Language.Haskell.TH.Syntax’\n",
       "instance Eq IHaskellSysIO.NewlineMode -- Defined in ‘GHC.IO.Handle.Types’\n",
       "instance Eq IHaskellSysIO.Newline -- Defined in ‘GHC.IO.Handle.Types’\n",
       "instance Eq IHaskellSysIO.Handle -- Defined in ‘GHC.IO.Handle.Types’\n",
       "instance Eq IHaskellSysIO.BufferMode -- Defined in ‘GHC.IO.Handle.Types’\n",
       "instance Eq IHaskellSysIO.HandlePosn -- Defined in ‘GHC.IO.Handle’\n",
       "instance Eq a => Eq [a] -- Defined in ‘GHC.Classes’\n",
       "instance Eq Word -- Defined in ‘GHC.Classes’\n",
       "instance Eq Ordering -- Defined in ‘GHC.Classes’\n",
       "instance Eq Int -- Defined in ‘GHC.Classes’\n",
       "instance Eq Float -- Defined in ‘GHC.Classes’\n",
       "instance Eq Double -- Defined in ‘GHC.Classes’\n",
       "instance Eq Char -- Defined in ‘GHC.Classes’\n",
       "instance Eq Bool -- Defined in ‘GHC.Classes’\n",
       "instance (Eq a, Eq b, Eq c, Eq d, Eq e, Eq f, Eq g, Eq h, Eq i, Eq j, Eq k, Eq l, Eq m, Eq n, Eq o) => Eq (a, b, c, d, e, f, g, h, i, j, k, l, m, n, o) -- Defined in ‘GHC.Classes’\n",
       "instance (Eq a, Eq b, Eq c, Eq d, Eq e, Eq f, Eq g, Eq h, Eq i, Eq j, Eq k, Eq l, Eq m, Eq n) => Eq (a, b, c, d, e, f, g, h, i, j, k, l, m, n) -- Defined in ‘GHC.Classes’\n",
       "instance (Eq a, Eq b, Eq c, Eq d, Eq e, Eq f, Eq g, Eq h, Eq i, Eq j, Eq k, Eq l, Eq m) => Eq (a, b, c, d, e, f, g, h, i, j, k, l, m) -- Defined in ‘GHC.Classes’\n",
       "instance (Eq a, Eq b, Eq c, Eq d, Eq e, Eq f, Eq g, Eq h, Eq i, Eq j, Eq k, Eq l) => Eq (a, b, c, d, e, f, g, h, i, j, k, l) -- Defined in ‘GHC.Classes’\n",
       "instance (Eq a, Eq b, Eq c, Eq d, Eq e, Eq f, Eq g, Eq h, Eq i, Eq j, Eq k) => Eq (a, b, c, d, e, f, g, h, i, j, k) -- Defined in ‘GHC.Classes’\n",
       "instance (Eq a, Eq b, Eq c, Eq d, Eq e, Eq f, Eq g, Eq h, Eq i, Eq j) => Eq (a, b, c, d, e, f, g, h, i, j) -- Defined in ‘GHC.Classes’\n",
       "instance (Eq a, Eq b, Eq c, Eq d, Eq e, Eq f, Eq g, Eq h, Eq i) => Eq (a, b, c, d, e, f, g, h, i) -- Defined in ‘GHC.Classes’\n",
       "instance (Eq a, Eq b, Eq c, Eq d, Eq e, Eq f, Eq g, Eq h) => Eq (a, b, c, d, e, f, g, h) -- Defined in ‘GHC.Classes’\n",
       "instance (Eq a, Eq b, Eq c, Eq d, Eq e, Eq f, Eq g) => Eq (a, b, c, d, e, f, g) -- Defined in ‘GHC.Classes’\n",
       "instance (Eq a, Eq b, Eq c, Eq d, Eq e, Eq f) => Eq (a, b, c, d, e, f) -- Defined in ‘GHC.Classes’\n",
       "instance (Eq a, Eq b, Eq c, Eq d, Eq e) => Eq (a, b, c, d, e) -- Defined in ‘GHC.Classes’\n",
       "instance (Eq a, Eq b, Eq c, Eq d) => Eq (a, b, c, d) -- Defined in ‘GHC.Classes’\n",
       "instance (Eq a, Eq b, Eq c) => Eq (a, b, c) -- Defined in ‘GHC.Classes’\n",
       "instance (Eq a, Eq b) => Eq (a, b) -- Defined in ‘GHC.Classes’\n",
       "instance Eq () -- Defined in ‘GHC.Classes’\n",
       "instance Eq a => Eq (Maybe a) -- Defined in ‘GHC.Maybe’\n",
       "instance (Eq a, Eq b) => Eq (Either a b) -- Defined in ‘Data.Either’\n",
       "instance Eq Integer -- Defined in ‘integer-gmp-1.0.3.0:GHC.Integer.Type’\n",
       "</textarea></form></div><script>CodeMirror.fromTextArea(document.getElementById('code'), {mode: 'haskell', readOnly: 'nocursor'});</script>"
      ],
      "text/plain": [
       "type Eq :: * -> Constraint\n",
       "class Eq a where\n",
       "  (==) :: a -> a -> Bool\n",
       "  (/=) :: a -> a -> Bool\n",
       "  {-# MINIMAL (==) | (/=) #-}\n",
       "  \t-- Defined in ‘GHC.Classes’\n",
       "instance Eq IHaskellTH.TypeFamilyHead -- Defined in ‘Language.Haskell.TH.Syntax’\n",
       "instance Eq IHaskellTH.Type -- Defined in ‘Language.Haskell.TH.Syntax’\n",
       "instance Eq IHaskellTH.TyVarBndr -- Defined in ‘Language.Haskell.TH.Syntax’\n",
       "instance Eq IHaskellTH.TySynEqn -- Defined in ‘Language.Haskell.TH.Syntax’\n",
       "instance Eq IHaskellTH.TyLit -- Defined in ‘Language.Haskell.TH.Syntax’\n",
       "instance Eq IHaskellTH.Stmt -- Defined in ‘Language.Haskell.TH.Syntax’\n",
       "instance Eq IHaskellTH.SourceUnpackedness -- Defined in ‘Language.Haskell.TH.Syntax’\n",
       "instance Eq IHaskellTH.SourceStrictness -- Defined in ‘Language.Haskell.TH.Syntax’\n",
       "instance Eq IHaskellTH.Safety -- Defined in ‘Language.Haskell.TH.Syntax’\n",
       "instance Eq IHaskellTH.RuleMatch -- Defined in ‘Language.Haskell.TH.Syntax’\n",
       "instance Eq IHaskellTH.RuleBndr -- Defined in ‘Language.Haskell.TH.Syntax’\n",
       "instance Eq IHaskellTH.Role -- Defined in ‘Language.Haskell.TH.Syntax’\n",
       "instance Eq IHaskellTH.Range -- Defined in ‘Language.Haskell.TH.Syntax’\n",
       "instance Eq IHaskellTH.Pragma -- Defined in ‘Language.Haskell.TH.Syntax’\n",
       "instance Eq IHaskellTH.Phases -- Defined in ‘Language.Haskell.TH.Syntax’\n",
       "instance Eq IHaskellTH.PatSynDir -- Defined in ‘Language.Haskell.TH.Syntax’\n",
       "instance Eq IHaskellTH.PatSynArgs -- Defined in ‘Language.Haskell.TH.Syntax’\n",
       "instance Eq IHaskellTH.Pat -- Defined in ‘Language.Haskell.TH.Syntax’\n",
       "instance Eq IHaskellTH.Overlap -- Defined in ‘Language.Haskell.TH.Syntax’\n",
       "instance Eq IHaskellTH.NameSpace -- Defined in ‘Language.Haskell.TH.Syntax’\n",
       "instance Eq IHaskellTH.Name -- Defined in ‘Language.Haskell.TH.Syntax’\n",
       "instance Eq IHaskellTH.ModuleInfo -- Defined in ‘Language.Haskell.TH.Syntax’\n",
       "instance Eq IHaskellTH.Match -- Defined in ‘Language.Haskell.TH.Syntax’\n",
       "instance Eq IHaskellTH.Loc -- Defined in ‘Language.Haskell.TH.Syntax’\n",
       "instance Eq IHaskellTH.Lit -- Defined in ‘Language.Haskell.TH.Syntax’\n",
       "instance Eq IHaskellTH.Inline -- Defined in ‘Language.Haskell.TH.Syntax’\n",
       "instance Eq IHaskellTH.InjectivityAnn -- Defined in ‘Language.Haskell.TH.Syntax’\n",
       "instance Eq IHaskellTH.Info -- Defined in ‘Language.Haskell.TH.Syntax’\n",
       "instance Eq IHaskellTH.Guard -- Defined in ‘Language.Haskell.TH.Syntax’\n",
       "instance Eq IHaskellTH.FunDep -- Defined in ‘Language.Haskell.TH.Syntax’\n",
       "instance Eq IHaskellTH.Foreign -- Defined in ‘Language.Haskell.TH.Syntax’\n",
       "instance Eq IHaskellTH.FixityDirection -- Defined in ‘Language.Haskell.TH.Syntax’\n",
       "instance Eq IHaskellTH.Fixity -- Defined in ‘Language.Haskell.TH.Syntax’\n",
       "instance Eq IHaskellTH.FamilyResultSig -- Defined in ‘Language.Haskell.TH.Syntax’\n",
       "instance Eq IHaskellTH.Exp -- Defined in ‘Language.Haskell.TH.Syntax’\n",
       "instance Eq IHaskellTH.DerivStrategy -- Defined in ‘Language.Haskell.TH.Syntax’\n",
       "instance Eq IHaskellTH.DerivClause -- Defined in ‘Language.Haskell.TH.Syntax’\n",
       "instance Eq IHaskellTH.DecidedStrictness -- Defined in ‘Language.Haskell.TH.Syntax’\n",
       "instance Eq IHaskellTH.Dec -- Defined in ‘Language.Haskell.TH.Syntax’\n",
       "instance Eq IHaskellTH.Con -- Defined in ‘Language.Haskell.TH.Syntax’\n",
       "instance Eq IHaskellTH.Clause -- Defined in ‘Language.Haskell.TH.Syntax’\n",
       "instance Eq IHaskellTH.Callconv -- Defined in ‘Language.Haskell.TH.Syntax’\n",
       "instance Eq IHaskellTH.Body -- Defined in ‘Language.Haskell.TH.Syntax’\n",
       "instance Eq IHaskellTH.Bang -- Defined in ‘Language.Haskell.TH.Syntax’\n",
       "instance Eq IHaskellTH.AnnTarget -- Defined in ‘Language.Haskell.TH.Syntax’\n",
       "instance Eq IHaskellTH.AnnLookup -- Defined in ‘Language.Haskell.TH.Syntax’\n",
       "instance Eq IHaskellSysIO.NewlineMode -- Defined in ‘GHC.IO.Handle.Types’\n",
       "instance Eq IHaskellSysIO.Newline -- Defined in ‘GHC.IO.Handle.Types’\n",
       "instance Eq IHaskellSysIO.Handle -- Defined in ‘GHC.IO.Handle.Types’\n",
       "instance Eq IHaskellSysIO.BufferMode -- Defined in ‘GHC.IO.Handle.Types’\n",
       "instance Eq IHaskellSysIO.HandlePosn -- Defined in ‘GHC.IO.Handle’\n",
       "instance Eq a => Eq [a] -- Defined in ‘GHC.Classes’\n",
       "instance Eq Word -- Defined in ‘GHC.Classes’\n",
       "instance Eq Ordering -- Defined in ‘GHC.Classes’\n",
       "instance Eq Int -- Defined in ‘GHC.Classes’\n",
       "instance Eq Float -- Defined in ‘GHC.Classes’\n",
       "instance Eq Double -- Defined in ‘GHC.Classes’\n",
       "instance Eq Char -- Defined in ‘GHC.Classes’\n",
       "instance Eq Bool -- Defined in ‘GHC.Classes’\n",
       "instance (Eq a, Eq b, Eq c, Eq d, Eq e, Eq f, Eq g, Eq h, Eq i, Eq j, Eq k, Eq l, Eq m, Eq n, Eq o) => Eq (a, b, c, d, e, f, g, h, i, j, k, l, m, n, o) -- Defined in ‘GHC.Classes’\n",
       "instance (Eq a, Eq b, Eq c, Eq d, Eq e, Eq f, Eq g, Eq h, Eq i, Eq j, Eq k, Eq l, Eq m, Eq n) => Eq (a, b, c, d, e, f, g, h, i, j, k, l, m, n) -- Defined in ‘GHC.Classes’\n",
       "instance (Eq a, Eq b, Eq c, Eq d, Eq e, Eq f, Eq g, Eq h, Eq i, Eq j, Eq k, Eq l, Eq m) => Eq (a, b, c, d, e, f, g, h, i, j, k, l, m) -- Defined in ‘GHC.Classes’\n",
       "instance (Eq a, Eq b, Eq c, Eq d, Eq e, Eq f, Eq g, Eq h, Eq i, Eq j, Eq k, Eq l) => Eq (a, b, c, d, e, f, g, h, i, j, k, l) -- Defined in ‘GHC.Classes’\n",
       "instance (Eq a, Eq b, Eq c, Eq d, Eq e, Eq f, Eq g, Eq h, Eq i, Eq j, Eq k) => Eq (a, b, c, d, e, f, g, h, i, j, k) -- Defined in ‘GHC.Classes’\n",
       "instance (Eq a, Eq b, Eq c, Eq d, Eq e, Eq f, Eq g, Eq h, Eq i, Eq j) => Eq (a, b, c, d, e, f, g, h, i, j) -- Defined in ‘GHC.Classes’\n",
       "instance (Eq a, Eq b, Eq c, Eq d, Eq e, Eq f, Eq g, Eq h, Eq i) => Eq (a, b, c, d, e, f, g, h, i) -- Defined in ‘GHC.Classes’\n",
       "instance (Eq a, Eq b, Eq c, Eq d, Eq e, Eq f, Eq g, Eq h) => Eq (a, b, c, d, e, f, g, h) -- Defined in ‘GHC.Classes’\n",
       "instance (Eq a, Eq b, Eq c, Eq d, Eq e, Eq f, Eq g) => Eq (a, b, c, d, e, f, g) -- Defined in ‘GHC.Classes’\n",
       "instance (Eq a, Eq b, Eq c, Eq d, Eq e, Eq f) => Eq (a, b, c, d, e, f) -- Defined in ‘GHC.Classes’\n",
       "instance (Eq a, Eq b, Eq c, Eq d, Eq e) => Eq (a, b, c, d, e) -- Defined in ‘GHC.Classes’\n",
       "instance (Eq a, Eq b, Eq c, Eq d) => Eq (a, b, c, d) -- Defined in ‘GHC.Classes’\n",
       "instance (Eq a, Eq b, Eq c) => Eq (a, b, c) -- Defined in ‘GHC.Classes’\n",
       "instance (Eq a, Eq b) => Eq (a, b) -- Defined in ‘GHC.Classes’\n",
       "instance Eq () -- Defined in ‘GHC.Classes’\n",
       "instance Eq a => Eq (Maybe a) -- Defined in ‘GHC.Maybe’\n",
       "instance (Eq a, Eq b) => Eq (Either a b) -- Defined in ‘Data.Either’\n",
       "instance Eq Integer -- Defined in ‘integer-gmp-1.0.3.0:GHC.Integer.Type’"
      ]
     },
     "metadata": {},
     "output_type": "display_data"
    }
   ],
   "source": [
    ":info Eq"
   ]
  },
  {
   "cell_type": "code",
   "execution_count": 9,
   "id": "2287c835-bdbb-4260-9973-dabdee29e4c1",
   "metadata": {},
   "outputs": [
    {
     "data": {},
     "metadata": {},
     "output_type": "display_data"
    },
    {
     "data": {
      "text/html": [
       "<div style='background: rgb(247, 247, 247);'><form><textarea id='code'>type Ord :: * -> Constraint\n",
       "class Eq a => Ord a where\n",
       "  compare :: a -> a -> Ordering\n",
       "  (<) :: a -> a -> Bool\n",
       "  (<=) :: a -> a -> Bool\n",
       "  (>) :: a -> a -> Bool\n",
       "  (>=) :: a -> a -> Bool\n",
       "  max :: a -> a -> a\n",
       "  min :: a -> a -> a\n",
       "  {-# MINIMAL compare | (<=) #-}\n",
       "  \t-- Defined in ‘GHC.Classes’\n",
       "instance Ord IHaskellTH.TypeFamilyHead -- Defined in ‘Language.Haskell.TH.Syntax’\n",
       "instance Ord IHaskellTH.Type -- Defined in ‘Language.Haskell.TH.Syntax’\n",
       "instance Ord IHaskellTH.TyVarBndr -- Defined in ‘Language.Haskell.TH.Syntax’\n",
       "instance Ord IHaskellTH.TySynEqn -- Defined in ‘Language.Haskell.TH.Syntax’\n",
       "instance Ord IHaskellTH.TyLit -- Defined in ‘Language.Haskell.TH.Syntax’\n",
       "instance Ord IHaskellTH.Stmt -- Defined in ‘Language.Haskell.TH.Syntax’\n",
       "instance Ord IHaskellTH.SourceUnpackedness -- Defined in ‘Language.Haskell.TH.Syntax’\n",
       "instance Ord IHaskellTH.SourceStrictness -- Defined in ‘Language.Haskell.TH.Syntax’\n",
       "instance Ord IHaskellTH.Safety -- Defined in ‘Language.Haskell.TH.Syntax’\n",
       "instance Ord IHaskellTH.RuleMatch -- Defined in ‘Language.Haskell.TH.Syntax’\n",
       "instance Ord IHaskellTH.RuleBndr -- Defined in ‘Language.Haskell.TH.Syntax’\n",
       "instance Ord IHaskellTH.Role -- Defined in ‘Language.Haskell.TH.Syntax’\n",
       "instance Ord IHaskellTH.Range -- Defined in ‘Language.Haskell.TH.Syntax’\n",
       "instance Ord IHaskellTH.Pragma -- Defined in ‘Language.Haskell.TH.Syntax’\n",
       "instance Ord IHaskellTH.Phases -- Defined in ‘Language.Haskell.TH.Syntax’\n",
       "instance Ord IHaskellTH.PatSynDir -- Defined in ‘Language.Haskell.TH.Syntax’\n",
       "instance Ord IHaskellTH.PatSynArgs -- Defined in ‘Language.Haskell.TH.Syntax’\n",
       "instance Ord IHaskellTH.Pat -- Defined in ‘Language.Haskell.TH.Syntax’\n",
       "instance Ord IHaskellTH.Overlap -- Defined in ‘Language.Haskell.TH.Syntax’\n",
       "instance Ord IHaskellTH.NameSpace -- Defined in ‘Language.Haskell.TH.Syntax’\n",
       "instance Ord IHaskellTH.Name -- Defined in ‘Language.Haskell.TH.Syntax’\n",
       "instance Ord IHaskellTH.ModuleInfo -- Defined in ‘Language.Haskell.TH.Syntax’\n",
       "instance Ord IHaskellTH.Match -- Defined in ‘Language.Haskell.TH.Syntax’\n",
       "instance Ord IHaskellTH.Loc -- Defined in ‘Language.Haskell.TH.Syntax’\n",
       "instance Ord IHaskellTH.Lit -- Defined in ‘Language.Haskell.TH.Syntax’\n",
       "instance Ord IHaskellTH.Inline -- Defined in ‘Language.Haskell.TH.Syntax’\n",
       "instance Ord IHaskellTH.InjectivityAnn -- Defined in ‘Language.Haskell.TH.Syntax’\n",
       "instance Ord IHaskellTH.Info -- Defined in ‘Language.Haskell.TH.Syntax’\n",
       "instance Ord IHaskellTH.Guard -- Defined in ‘Language.Haskell.TH.Syntax’\n",
       "instance Ord IHaskellTH.FunDep -- Defined in ‘Language.Haskell.TH.Syntax’\n",
       "instance Ord IHaskellTH.Foreign -- Defined in ‘Language.Haskell.TH.Syntax’\n",
       "instance Ord IHaskellTH.FixityDirection -- Defined in ‘Language.Haskell.TH.Syntax’\n",
       "instance Ord IHaskellTH.Fixity -- Defined in ‘Language.Haskell.TH.Syntax’\n",
       "instance Ord IHaskellTH.FamilyResultSig -- Defined in ‘Language.Haskell.TH.Syntax’\n",
       "instance Ord IHaskellTH.Exp -- Defined in ‘Language.Haskell.TH.Syntax’\n",
       "instance Ord IHaskellTH.DerivStrategy -- Defined in ‘Language.Haskell.TH.Syntax’\n",
       "instance Ord IHaskellTH.DerivClause -- Defined in ‘Language.Haskell.TH.Syntax’\n",
       "instance Ord IHaskellTH.DecidedStrictness -- Defined in ‘Language.Haskell.TH.Syntax’\n",
       "instance Ord IHaskellTH.Dec -- Defined in ‘Language.Haskell.TH.Syntax’\n",
       "instance Ord IHaskellTH.Con -- Defined in ‘Language.Haskell.TH.Syntax’\n",
       "instance Ord IHaskellTH.Clause -- Defined in ‘Language.Haskell.TH.Syntax’\n",
       "instance Ord IHaskellTH.Callconv -- Defined in ‘Language.Haskell.TH.Syntax’\n",
       "instance Ord IHaskellTH.Body -- Defined in ‘Language.Haskell.TH.Syntax’\n",
       "instance Ord IHaskellTH.Bang -- Defined in ‘Language.Haskell.TH.Syntax’\n",
       "instance Ord IHaskellTH.AnnTarget -- Defined in ‘Language.Haskell.TH.Syntax’\n",
       "instance Ord IHaskellTH.AnnLookup -- Defined in ‘Language.Haskell.TH.Syntax’\n",
       "instance Ord IHaskellSysIO.NewlineMode -- Defined in ‘GHC.IO.Handle.Types’\n",
       "instance Ord IHaskellSysIO.Newline -- Defined in ‘GHC.IO.Handle.Types’\n",
       "instance Ord IHaskellSysIO.BufferMode -- Defined in ‘GHC.IO.Handle.Types’\n",
       "instance Ord a => Ord [a] -- Defined in ‘GHC.Classes’\n",
       "instance Ord Word -- Defined in ‘GHC.Classes’\n",
       "instance Ord Ordering -- Defined in ‘GHC.Classes’\n",
       "instance Ord Int -- Defined in ‘GHC.Classes’\n",
       "instance Ord Float -- Defined in ‘GHC.Classes’\n",
       "instance Ord Double -- Defined in ‘GHC.Classes’\n",
       "instance Ord Char -- Defined in ‘GHC.Classes’\n",
       "instance Ord Bool -- Defined in ‘GHC.Classes’\n",
       "instance (Ord a, Ord b, Ord c, Ord d, Ord e, Ord f, Ord g, Ord h, Ord i, Ord j, Ord k, Ord l, Ord m, Ord n, Ord o) => Ord (a, b, c, d, e, f, g, h, i, j, k, l, m, n, o) -- Defined in ‘GHC.Classes’\n",
       "instance (Ord a, Ord b, Ord c, Ord d, Ord e, Ord f, Ord g, Ord h, Ord i, Ord j, Ord k, Ord l, Ord m, Ord n) => Ord (a, b, c, d, e, f, g, h, i, j, k, l, m, n) -- Defined in ‘GHC.Classes’\n",
       "instance (Ord a, Ord b, Ord c, Ord d, Ord e, Ord f, Ord g, Ord h, Ord i, Ord j, Ord k, Ord l, Ord m) => Ord (a, b, c, d, e, f, g, h, i, j, k, l, m) -- Defined in ‘GHC.Classes’\n",
       "instance (Ord a, Ord b, Ord c, Ord d, Ord e, Ord f, Ord g, Ord h, Ord i, Ord j, Ord k, Ord l) => Ord (a, b, c, d, e, f, g, h, i, j, k, l) -- Defined in ‘GHC.Classes’\n",
       "instance (Ord a, Ord b, Ord c, Ord d, Ord e, Ord f, Ord g, Ord h, Ord i, Ord j, Ord k) => Ord (a, b, c, d, e, f, g, h, i, j, k) -- Defined in ‘GHC.Classes’\n",
       "instance (Ord a, Ord b, Ord c, Ord d, Ord e, Ord f, Ord g, Ord h, Ord i, Ord j) => Ord (a, b, c, d, e, f, g, h, i, j) -- Defined in ‘GHC.Classes’\n",
       "instance (Ord a, Ord b, Ord c, Ord d, Ord e, Ord f, Ord g, Ord h, Ord i) => Ord (a, b, c, d, e, f, g, h, i) -- Defined in ‘GHC.Classes’\n",
       "instance (Ord a, Ord b, Ord c, Ord d, Ord e, Ord f, Ord g, Ord h) => Ord (a, b, c, d, e, f, g, h) -- Defined in ‘GHC.Classes’\n",
       "instance (Ord a, Ord b, Ord c, Ord d, Ord e, Ord f, Ord g) => Ord (a, b, c, d, e, f, g) -- Defined in ‘GHC.Classes’\n",
       "instance (Ord a, Ord b, Ord c, Ord d, Ord e, Ord f) => Ord (a, b, c, d, e, f) -- Defined in ‘GHC.Classes’\n",
       "instance (Ord a, Ord b, Ord c, Ord d, Ord e) => Ord (a, b, c, d, e) -- Defined in ‘GHC.Classes’\n",
       "instance (Ord a, Ord b, Ord c, Ord d) => Ord (a, b, c, d) -- Defined in ‘GHC.Classes’\n",
       "instance (Ord a, Ord b, Ord c) => Ord (a, b, c) -- Defined in ‘GHC.Classes’\n",
       "instance (Ord a, Ord b) => Ord (a, b) -- Defined in ‘GHC.Classes’\n",
       "instance Ord () -- Defined in ‘GHC.Classes’\n",
       "instance Ord a => Ord (Maybe a) -- Defined in ‘GHC.Maybe’\n",
       "instance (Ord a, Ord b) => Ord (Either a b) -- Defined in ‘Data.Either’\n",
       "instance Ord Integer -- Defined in ‘integer-gmp-1.0.3.0:GHC.Integer.Type’\n",
       "</textarea></form></div><script>CodeMirror.fromTextArea(document.getElementById('code'), {mode: 'haskell', readOnly: 'nocursor'});</script>"
      ],
      "text/plain": [
       "type Ord :: * -> Constraint\n",
       "class Eq a => Ord a where\n",
       "  compare :: a -> a -> Ordering\n",
       "  (<) :: a -> a -> Bool\n",
       "  (<=) :: a -> a -> Bool\n",
       "  (>) :: a -> a -> Bool\n",
       "  (>=) :: a -> a -> Bool\n",
       "  max :: a -> a -> a\n",
       "  min :: a -> a -> a\n",
       "  {-# MINIMAL compare | (<=) #-}\n",
       "  \t-- Defined in ‘GHC.Classes’\n",
       "instance Ord IHaskellTH.TypeFamilyHead -- Defined in ‘Language.Haskell.TH.Syntax’\n",
       "instance Ord IHaskellTH.Type -- Defined in ‘Language.Haskell.TH.Syntax’\n",
       "instance Ord IHaskellTH.TyVarBndr -- Defined in ‘Language.Haskell.TH.Syntax’\n",
       "instance Ord IHaskellTH.TySynEqn -- Defined in ‘Language.Haskell.TH.Syntax’\n",
       "instance Ord IHaskellTH.TyLit -- Defined in ‘Language.Haskell.TH.Syntax’\n",
       "instance Ord IHaskellTH.Stmt -- Defined in ‘Language.Haskell.TH.Syntax’\n",
       "instance Ord IHaskellTH.SourceUnpackedness -- Defined in ‘Language.Haskell.TH.Syntax’\n",
       "instance Ord IHaskellTH.SourceStrictness -- Defined in ‘Language.Haskell.TH.Syntax’\n",
       "instance Ord IHaskellTH.Safety -- Defined in ‘Language.Haskell.TH.Syntax’\n",
       "instance Ord IHaskellTH.RuleMatch -- Defined in ‘Language.Haskell.TH.Syntax’\n",
       "instance Ord IHaskellTH.RuleBndr -- Defined in ‘Language.Haskell.TH.Syntax’\n",
       "instance Ord IHaskellTH.Role -- Defined in ‘Language.Haskell.TH.Syntax’\n",
       "instance Ord IHaskellTH.Range -- Defined in ‘Language.Haskell.TH.Syntax’\n",
       "instance Ord IHaskellTH.Pragma -- Defined in ‘Language.Haskell.TH.Syntax’\n",
       "instance Ord IHaskellTH.Phases -- Defined in ‘Language.Haskell.TH.Syntax’\n",
       "instance Ord IHaskellTH.PatSynDir -- Defined in ‘Language.Haskell.TH.Syntax’\n",
       "instance Ord IHaskellTH.PatSynArgs -- Defined in ‘Language.Haskell.TH.Syntax’\n",
       "instance Ord IHaskellTH.Pat -- Defined in ‘Language.Haskell.TH.Syntax’\n",
       "instance Ord IHaskellTH.Overlap -- Defined in ‘Language.Haskell.TH.Syntax’\n",
       "instance Ord IHaskellTH.NameSpace -- Defined in ‘Language.Haskell.TH.Syntax’\n",
       "instance Ord IHaskellTH.Name -- Defined in ‘Language.Haskell.TH.Syntax’\n",
       "instance Ord IHaskellTH.ModuleInfo -- Defined in ‘Language.Haskell.TH.Syntax’\n",
       "instance Ord IHaskellTH.Match -- Defined in ‘Language.Haskell.TH.Syntax’\n",
       "instance Ord IHaskellTH.Loc -- Defined in ‘Language.Haskell.TH.Syntax’\n",
       "instance Ord IHaskellTH.Lit -- Defined in ‘Language.Haskell.TH.Syntax’\n",
       "instance Ord IHaskellTH.Inline -- Defined in ‘Language.Haskell.TH.Syntax’\n",
       "instance Ord IHaskellTH.InjectivityAnn -- Defined in ‘Language.Haskell.TH.Syntax’\n",
       "instance Ord IHaskellTH.Info -- Defined in ‘Language.Haskell.TH.Syntax’\n",
       "instance Ord IHaskellTH.Guard -- Defined in ‘Language.Haskell.TH.Syntax’\n",
       "instance Ord IHaskellTH.FunDep -- Defined in ‘Language.Haskell.TH.Syntax’\n",
       "instance Ord IHaskellTH.Foreign -- Defined in ‘Language.Haskell.TH.Syntax’\n",
       "instance Ord IHaskellTH.FixityDirection -- Defined in ‘Language.Haskell.TH.Syntax’\n",
       "instance Ord IHaskellTH.Fixity -- Defined in ‘Language.Haskell.TH.Syntax’\n",
       "instance Ord IHaskellTH.FamilyResultSig -- Defined in ‘Language.Haskell.TH.Syntax’\n",
       "instance Ord IHaskellTH.Exp -- Defined in ‘Language.Haskell.TH.Syntax’\n",
       "instance Ord IHaskellTH.DerivStrategy -- Defined in ‘Language.Haskell.TH.Syntax’\n",
       "instance Ord IHaskellTH.DerivClause -- Defined in ‘Language.Haskell.TH.Syntax’\n",
       "instance Ord IHaskellTH.DecidedStrictness -- Defined in ‘Language.Haskell.TH.Syntax’\n",
       "instance Ord IHaskellTH.Dec -- Defined in ‘Language.Haskell.TH.Syntax’\n",
       "instance Ord IHaskellTH.Con -- Defined in ‘Language.Haskell.TH.Syntax’\n",
       "instance Ord IHaskellTH.Clause -- Defined in ‘Language.Haskell.TH.Syntax’\n",
       "instance Ord IHaskellTH.Callconv -- Defined in ‘Language.Haskell.TH.Syntax’\n",
       "instance Ord IHaskellTH.Body -- Defined in ‘Language.Haskell.TH.Syntax’\n",
       "instance Ord IHaskellTH.Bang -- Defined in ‘Language.Haskell.TH.Syntax’\n",
       "instance Ord IHaskellTH.AnnTarget -- Defined in ‘Language.Haskell.TH.Syntax’\n",
       "instance Ord IHaskellTH.AnnLookup -- Defined in ‘Language.Haskell.TH.Syntax’\n",
       "instance Ord IHaskellSysIO.NewlineMode -- Defined in ‘GHC.IO.Handle.Types’\n",
       "instance Ord IHaskellSysIO.Newline -- Defined in ‘GHC.IO.Handle.Types’\n",
       "instance Ord IHaskellSysIO.BufferMode -- Defined in ‘GHC.IO.Handle.Types’\n",
       "instance Ord a => Ord [a] -- Defined in ‘GHC.Classes’\n",
       "instance Ord Word -- Defined in ‘GHC.Classes’\n",
       "instance Ord Ordering -- Defined in ‘GHC.Classes’\n",
       "instance Ord Int -- Defined in ‘GHC.Classes’\n",
       "instance Ord Float -- Defined in ‘GHC.Classes’\n",
       "instance Ord Double -- Defined in ‘GHC.Classes’\n",
       "instance Ord Char -- Defined in ‘GHC.Classes’\n",
       "instance Ord Bool -- Defined in ‘GHC.Classes’\n",
       "instance (Ord a, Ord b, Ord c, Ord d, Ord e, Ord f, Ord g, Ord h, Ord i, Ord j, Ord k, Ord l, Ord m, Ord n, Ord o) => Ord (a, b, c, d, e, f, g, h, i, j, k, l, m, n, o) -- Defined in ‘GHC.Classes’\n",
       "instance (Ord a, Ord b, Ord c, Ord d, Ord e, Ord f, Ord g, Ord h, Ord i, Ord j, Ord k, Ord l, Ord m, Ord n) => Ord (a, b, c, d, e, f, g, h, i, j, k, l, m, n) -- Defined in ‘GHC.Classes’\n",
       "instance (Ord a, Ord b, Ord c, Ord d, Ord e, Ord f, Ord g, Ord h, Ord i, Ord j, Ord k, Ord l, Ord m) => Ord (a, b, c, d, e, f, g, h, i, j, k, l, m) -- Defined in ‘GHC.Classes’\n",
       "instance (Ord a, Ord b, Ord c, Ord d, Ord e, Ord f, Ord g, Ord h, Ord i, Ord j, Ord k, Ord l) => Ord (a, b, c, d, e, f, g, h, i, j, k, l) -- Defined in ‘GHC.Classes’\n",
       "instance (Ord a, Ord b, Ord c, Ord d, Ord e, Ord f, Ord g, Ord h, Ord i, Ord j, Ord k) => Ord (a, b, c, d, e, f, g, h, i, j, k) -- Defined in ‘GHC.Classes’\n",
       "instance (Ord a, Ord b, Ord c, Ord d, Ord e, Ord f, Ord g, Ord h, Ord i, Ord j) => Ord (a, b, c, d, e, f, g, h, i, j) -- Defined in ‘GHC.Classes’\n",
       "instance (Ord a, Ord b, Ord c, Ord d, Ord e, Ord f, Ord g, Ord h, Ord i) => Ord (a, b, c, d, e, f, g, h, i) -- Defined in ‘GHC.Classes’\n",
       "instance (Ord a, Ord b, Ord c, Ord d, Ord e, Ord f, Ord g, Ord h) => Ord (a, b, c, d, e, f, g, h) -- Defined in ‘GHC.Classes’\n",
       "instance (Ord a, Ord b, Ord c, Ord d, Ord e, Ord f, Ord g) => Ord (a, b, c, d, e, f, g) -- Defined in ‘GHC.Classes’\n",
       "instance (Ord a, Ord b, Ord c, Ord d, Ord e, Ord f) => Ord (a, b, c, d, e, f) -- Defined in ‘GHC.Classes’\n",
       "instance (Ord a, Ord b, Ord c, Ord d, Ord e) => Ord (a, b, c, d, e) -- Defined in ‘GHC.Classes’\n",
       "instance (Ord a, Ord b, Ord c, Ord d) => Ord (a, b, c, d) -- Defined in ‘GHC.Classes’\n",
       "instance (Ord a, Ord b, Ord c) => Ord (a, b, c) -- Defined in ‘GHC.Classes’\n",
       "instance (Ord a, Ord b) => Ord (a, b) -- Defined in ‘GHC.Classes’\n",
       "instance Ord () -- Defined in ‘GHC.Classes’\n",
       "instance Ord a => Ord (Maybe a) -- Defined in ‘GHC.Maybe’\n",
       "instance (Ord a, Ord b) => Ord (Either a b) -- Defined in ‘Data.Either’\n",
       "instance Ord Integer -- Defined in ‘integer-gmp-1.0.3.0:GHC.Integer.Type’"
      ]
     },
     "metadata": {},
     "output_type": "display_data"
    }
   ],
   "source": [
    ":info Ord"
   ]
  },
  {
   "cell_type": "code",
   "execution_count": 10,
   "id": "12d51c9c-323c-47ec-a0cc-58175c7fbf2f",
   "metadata": {},
   "outputs": [
    {
     "data": {},
     "metadata": {},
     "output_type": "display_data"
    },
    {
     "data": {
      "text/html": [
       "<div style='background: rgb(247, 247, 247);'><form><textarea id='code'>type Ordering :: *\n",
       "data Ordering = LT | EQ | GT\n",
       "  \t-- Defined in ‘GHC.Types’\n",
       "instance Read Ordering -- Defined in ‘GHC.Read’\n",
       "instance Show Ordering -- Defined in ‘GHC.Show’\n",
       "instance Eq Ordering -- Defined in ‘GHC.Classes’\n",
       "instance Ord Ordering -- Defined in ‘GHC.Classes’\n",
       "instance Enum Ordering -- Defined in ‘GHC.Enum’\n",
       "instance Monoid Ordering -- Defined in ‘GHC.Base’\n",
       "instance Semigroup Ordering -- Defined in ‘GHC.Base’\n",
       "instance Bounded Ordering -- Defined in ‘GHC.Enum’\n",
       "</textarea></form></div><script>CodeMirror.fromTextArea(document.getElementById('code'), {mode: 'haskell', readOnly: 'nocursor'});</script>"
      ],
      "text/plain": [
       "type Ordering :: *\n",
       "data Ordering = LT | EQ | GT\n",
       "  \t-- Defined in ‘GHC.Types’\n",
       "instance Read Ordering -- Defined in ‘GHC.Read’\n",
       "instance Show Ordering -- Defined in ‘GHC.Show’\n",
       "instance Eq Ordering -- Defined in ‘GHC.Classes’\n",
       "instance Ord Ordering -- Defined in ‘GHC.Classes’\n",
       "instance Enum Ordering -- Defined in ‘GHC.Enum’\n",
       "instance Monoid Ordering -- Defined in ‘GHC.Base’\n",
       "instance Semigroup Ordering -- Defined in ‘GHC.Base’\n",
       "instance Bounded Ordering -- Defined in ‘GHC.Enum’"
      ]
     },
     "metadata": {},
     "output_type": "display_data"
    }
   ],
   "source": [
    ":info Ordering"
   ]
  },
  {
   "cell_type": "markdown",
   "id": "63e59154-2cac-4468-9256-526902b62d56",
   "metadata": {},
   "source": [
    "La sintaxis para definir que un tipo es instancia de una clase es la siguiente:\n",
    "\n",
    "```haskell\n",
    "instance Clase Tipo where\n",
    "    (definición de las funciones)\n",
    "```\n",
    "\n",
    "Ejemplo:"
   ]
  },
  {
   "cell_type": "code",
   "execution_count": 14,
   "id": "fc7b8361-6236-4088-aa4f-370059d11eb1",
   "metadata": {},
   "outputs": [],
   "source": [
    "data DiasSemana = Lunes | Martes | Miercoles | Jueves | Viernes | Sabado | Domingo\n",
    "\n",
    "instance Eq DiasSemana where\n",
    "    Lunes     == Lunes     = True\n",
    "    Martes    == Martes    = True\n",
    "    Miercoles == Miercoles = True\n",
    "    Jueves    == Jueves    = True\n",
    "    Viernes   == Viernes   = True\n",
    "    Sabado    == Sabado    = True\n",
    "    Domingo   == Domingo   = True\n",
    "    _         == _         = False"
   ]
  },
  {
   "cell_type": "code",
   "execution_count": 13,
   "id": "98ff609e-fa51-42bb-91e4-c2e79ed2f51b",
   "metadata": {},
   "outputs": [
    {
     "data": {
      "text/plain": [
       "True"
      ]
     },
     "metadata": {},
     "output_type": "display_data"
    },
    {
     "data": {
      "text/plain": [
       "True"
      ]
     },
     "metadata": {},
     "output_type": "display_data"
    },
    {
     "data": {
      "text/plain": [
       "True"
      ]
     },
     "metadata": {},
     "output_type": "display_data"
    }
   ],
   "source": [
    "Lunes == Lunes\n",
    "Martes /= Viernes\n",
    "Domingo /= Miercoles"
   ]
  },
  {
   "cell_type": "code",
   "execution_count": 15,
   "id": "1017201c-e978-47c8-89f2-f8a774eb9310",
   "metadata": {},
   "outputs": [
    {
     "data": {},
     "metadata": {},
     "output_type": "display_data"
    },
    {
     "data": {
      "text/html": [
       "<div style='background: rgb(247, 247, 247);'><form><textarea id='code'>type Show :: * -> Constraint\n",
       "class Show a where\n",
       "  showsPrec :: Int -> a -> ShowS\n",
       "  show :: a -> String\n",
       "  showList :: [a] -> ShowS\n",
       "  {-# MINIMAL showsPrec | show #-}\n",
       "  \t-- Defined in ‘GHC.Show’\n",
       "instance Show IHaskellTH.TypeFamilyHead -- Defined in ‘Language.Haskell.TH.Syntax’\n",
       "instance Show IHaskellTH.Type -- Defined in ‘Language.Haskell.TH.Syntax’\n",
       "instance Show IHaskellTH.TyVarBndr -- Defined in ‘Language.Haskell.TH.Syntax’\n",
       "instance Show IHaskellTH.TySynEqn -- Defined in ‘Language.Haskell.TH.Syntax’\n",
       "instance Show IHaskellTH.TyLit -- Defined in ‘Language.Haskell.TH.Syntax’\n",
       "instance Show IHaskellTH.Stmt -- Defined in ‘Language.Haskell.TH.Syntax’\n",
       "instance Show IHaskellTH.SourceUnpackedness -- Defined in ‘Language.Haskell.TH.Syntax’\n",
       "instance Show IHaskellTH.SourceStrictness -- Defined in ‘Language.Haskell.TH.Syntax’\n",
       "instance Show IHaskellTH.Safety -- Defined in ‘Language.Haskell.TH.Syntax’\n",
       "instance Show IHaskellTH.RuleMatch -- Defined in ‘Language.Haskell.TH.Syntax’\n",
       "instance Show IHaskellTH.RuleBndr -- Defined in ‘Language.Haskell.TH.Syntax’\n",
       "instance Show IHaskellTH.Role -- Defined in ‘Language.Haskell.TH.Syntax’\n",
       "instance Show IHaskellTH.Range -- Defined in ‘Language.Haskell.TH.Syntax’\n",
       "instance Show IHaskellTH.Pragma -- Defined in ‘Language.Haskell.TH.Syntax’\n",
       "instance Show IHaskellTH.Phases -- Defined in ‘Language.Haskell.TH.Syntax’\n",
       "instance Show IHaskellTH.PatSynDir -- Defined in ‘Language.Haskell.TH.Syntax’\n",
       "instance Show IHaskellTH.PatSynArgs -- Defined in ‘Language.Haskell.TH.Syntax’\n",
       "instance Show IHaskellTH.Pat -- Defined in ‘Language.Haskell.TH.Syntax’\n",
       "instance Show IHaskellTH.Overlap -- Defined in ‘Language.Haskell.TH.Syntax’\n",
       "instance Show IHaskellTH.NameSpace -- Defined in ‘Language.Haskell.TH.Syntax’\n",
       "instance Show IHaskellTH.Name -- Defined in ‘Language.Haskell.TH.Syntax’\n",
       "instance Show IHaskellTH.ModuleInfo -- Defined in ‘Language.Haskell.TH.Syntax’\n",
       "instance Show IHaskellTH.Match -- Defined in ‘Language.Haskell.TH.Syntax’\n",
       "instance Show IHaskellTH.Loc -- Defined in ‘Language.Haskell.TH.Syntax’\n",
       "instance Show IHaskellTH.Lit -- Defined in ‘Language.Haskell.TH.Syntax’\n",
       "instance Show IHaskellTH.Inline -- Defined in ‘Language.Haskell.TH.Syntax’\n",
       "instance Show IHaskellTH.InjectivityAnn -- Defined in ‘Language.Haskell.TH.Syntax’\n",
       "instance Show IHaskellTH.Info -- Defined in ‘Language.Haskell.TH.Syntax’\n",
       "instance Show IHaskellTH.Guard -- Defined in ‘Language.Haskell.TH.Syntax’\n",
       "instance Show IHaskellTH.FunDep -- Defined in ‘Language.Haskell.TH.Syntax’\n",
       "instance Show IHaskellTH.Foreign -- Defined in ‘Language.Haskell.TH.Syntax’\n",
       "instance Show IHaskellTH.FixityDirection -- Defined in ‘Language.Haskell.TH.Syntax’\n",
       "instance Show IHaskellTH.Fixity -- Defined in ‘Language.Haskell.TH.Syntax’\n",
       "instance Show IHaskellTH.FamilyResultSig -- Defined in ‘Language.Haskell.TH.Syntax’\n",
       "instance Show IHaskellTH.Exp -- Defined in ‘Language.Haskell.TH.Syntax’\n",
       "instance Show IHaskellTH.DerivStrategy -- Defined in ‘Language.Haskell.TH.Syntax’\n",
       "instance Show IHaskellTH.DerivClause -- Defined in ‘Language.Haskell.TH.Syntax’\n",
       "instance Show IHaskellTH.DecidedStrictness -- Defined in ‘Language.Haskell.TH.Syntax’\n",
       "instance Show IHaskellTH.Dec -- Defined in ‘Language.Haskell.TH.Syntax’\n",
       "instance Show IHaskellTH.Con -- Defined in ‘Language.Haskell.TH.Syntax’\n",
       "instance Show IHaskellTH.Clause -- Defined in ‘Language.Haskell.TH.Syntax’\n",
       "instance Show IHaskellTH.Callconv -- Defined in ‘Language.Haskell.TH.Syntax’\n",
       "instance Show IHaskellTH.Body -- Defined in ‘Language.Haskell.TH.Syntax’\n",
       "instance Show IHaskellTH.Bang -- Defined in ‘Language.Haskell.TH.Syntax’\n",
       "instance Show IHaskellTH.AnnTarget -- Defined in ‘Language.Haskell.TH.Syntax’\n",
       "instance Show IHaskellTH.AnnLookup -- Defined in ‘Language.Haskell.TH.Syntax’\n",
       "instance Show IHaskellSysIO.NewlineMode -- Defined in ‘GHC.IO.Handle.Types’\n",
       "instance Show IHaskellSysIO.Newline -- Defined in ‘GHC.IO.Handle.Types’\n",
       "instance Show IHaskellSysIO.Handle -- Defined in ‘GHC.IO.Handle.Types’\n",
       "instance Show IHaskellSysIO.BufferMode -- Defined in ‘GHC.IO.Handle.Types’\n",
       "instance Show IHaskellSysIO.HandlePosn -- Defined in ‘GHC.IO.Handle’\n",
       "instance Show a => Show [a] -- Defined in ‘GHC.Show’\n",
       "instance Show Word -- Defined in ‘GHC.Show’\n",
       "instance Show GHC.Types.RuntimeRep -- Defined in ‘GHC.Show’\n",
       "instance Show Ordering -- Defined in ‘GHC.Show’\n",
       "instance Show a => Show (Maybe a) -- Defined in ‘GHC.Show’\n",
       "instance Show Integer -- Defined in ‘GHC.Show’\n",
       "instance Show Int -- Defined in ‘GHC.Show’\n",
       "instance Show Char -- Defined in ‘GHC.Show’\n",
       "instance Show Bool -- Defined in ‘GHC.Show’\n",
       "instance (Show a, Show b, Show c, Show d, Show e, Show f, Show g, Show h, Show i, Show j, Show k, Show l, Show m, Show n, Show o) => Show (a, b, c, d, e, f, g, h, i, j, k, l, m, n, o)\n",
       "  -- Defined in ‘GHC.Show’\n",
       "instance (Show a, Show b, Show c, Show d, Show e, Show f, Show g, Show h, Show i, Show j, Show k, Show l, Show m, Show n) => Show (a, b, c, d, e, f, g, h, i, j, k, l, m, n) -- Defined in ‘GHC.Show’\n",
       "instance (Show a, Show b, Show c, Show d, Show e, Show f, Show g, Show h, Show i, Show j, Show k, Show l, Show m) => Show (a, b, c, d, e, f, g, h, i, j, k, l, m) -- Defined in ‘GHC.Show’\n",
       "instance (Show a, Show b, Show c, Show d, Show e, Show f, Show g, Show h, Show i, Show j, Show k, Show l) => Show (a, b, c, d, e, f, g, h, i, j, k, l) -- Defined in ‘GHC.Show’\n",
       "instance (Show a, Show b, Show c, Show d, Show e, Show f, Show g, Show h, Show i, Show j, Show k) => Show (a, b, c, d, e, f, g, h, i, j, k) -- Defined in ‘GHC.Show’\n",
       "instance (Show a, Show b, Show c, Show d, Show e, Show f, Show g, Show h, Show i, Show j) => Show (a, b, c, d, e, f, g, h, i, j) -- Defined in ‘GHC.Show’\n",
       "instance (Show a, Show b, Show c, Show d, Show e, Show f, Show g, Show h, Show i) => Show (a, b, c, d, e, f, g, h, i) -- Defined in ‘GHC.Show’\n",
       "instance (Show a, Show b, Show c, Show d, Show e, Show f, Show g, Show h) => Show (a, b, c, d, e, f, g, h) -- Defined in ‘GHC.Show’\n",
       "instance (Show a, Show b, Show c, Show d, Show e, Show f, Show g) => Show (a, b, c, d, e, f, g) -- Defined in ‘GHC.Show’\n",
       "instance (Show a, Show b, Show c, Show d, Show e, Show f) => Show (a, b, c, d, e, f) -- Defined in ‘GHC.Show’\n",
       "instance (Show a, Show b, Show c, Show d, Show e) => Show (a, b, c, d, e) -- Defined in ‘GHC.Show’\n",
       "instance (Show a, Show b, Show c, Show d) => Show (a, b, c, d) -- Defined in ‘GHC.Show’\n",
       "instance (Show a, Show b, Show c) => Show (a, b, c) -- Defined in ‘GHC.Show’\n",
       "instance (Show a, Show b) => Show (a, b) -- Defined in ‘GHC.Show’\n",
       "instance Show () -- Defined in ‘GHC.Show’\n",
       "instance (Show a, Show b) => Show (Either a b) -- Defined in ‘Data.Either’\n",
       "instance Show Float -- Defined in ‘GHC.Float’\n",
       "instance Show Double -- Defined in ‘GHC.Float’\n",
       "</textarea></form></div><script>CodeMirror.fromTextArea(document.getElementById('code'), {mode: 'haskell', readOnly: 'nocursor'});</script>"
      ],
      "text/plain": [
       "type Show :: * -> Constraint\n",
       "class Show a where\n",
       "  showsPrec :: Int -> a -> ShowS\n",
       "  show :: a -> String\n",
       "  showList :: [a] -> ShowS\n",
       "  {-# MINIMAL showsPrec | show #-}\n",
       "  \t-- Defined in ‘GHC.Show’\n",
       "instance Show IHaskellTH.TypeFamilyHead -- Defined in ‘Language.Haskell.TH.Syntax’\n",
       "instance Show IHaskellTH.Type -- Defined in ‘Language.Haskell.TH.Syntax’\n",
       "instance Show IHaskellTH.TyVarBndr -- Defined in ‘Language.Haskell.TH.Syntax’\n",
       "instance Show IHaskellTH.TySynEqn -- Defined in ‘Language.Haskell.TH.Syntax’\n",
       "instance Show IHaskellTH.TyLit -- Defined in ‘Language.Haskell.TH.Syntax’\n",
       "instance Show IHaskellTH.Stmt -- Defined in ‘Language.Haskell.TH.Syntax’\n",
       "instance Show IHaskellTH.SourceUnpackedness -- Defined in ‘Language.Haskell.TH.Syntax’\n",
       "instance Show IHaskellTH.SourceStrictness -- Defined in ‘Language.Haskell.TH.Syntax’\n",
       "instance Show IHaskellTH.Safety -- Defined in ‘Language.Haskell.TH.Syntax’\n",
       "instance Show IHaskellTH.RuleMatch -- Defined in ‘Language.Haskell.TH.Syntax’\n",
       "instance Show IHaskellTH.RuleBndr -- Defined in ‘Language.Haskell.TH.Syntax’\n",
       "instance Show IHaskellTH.Role -- Defined in ‘Language.Haskell.TH.Syntax’\n",
       "instance Show IHaskellTH.Range -- Defined in ‘Language.Haskell.TH.Syntax’\n",
       "instance Show IHaskellTH.Pragma -- Defined in ‘Language.Haskell.TH.Syntax’\n",
       "instance Show IHaskellTH.Phases -- Defined in ‘Language.Haskell.TH.Syntax’\n",
       "instance Show IHaskellTH.PatSynDir -- Defined in ‘Language.Haskell.TH.Syntax’\n",
       "instance Show IHaskellTH.PatSynArgs -- Defined in ‘Language.Haskell.TH.Syntax’\n",
       "instance Show IHaskellTH.Pat -- Defined in ‘Language.Haskell.TH.Syntax’\n",
       "instance Show IHaskellTH.Overlap -- Defined in ‘Language.Haskell.TH.Syntax’\n",
       "instance Show IHaskellTH.NameSpace -- Defined in ‘Language.Haskell.TH.Syntax’\n",
       "instance Show IHaskellTH.Name -- Defined in ‘Language.Haskell.TH.Syntax’\n",
       "instance Show IHaskellTH.ModuleInfo -- Defined in ‘Language.Haskell.TH.Syntax’\n",
       "instance Show IHaskellTH.Match -- Defined in ‘Language.Haskell.TH.Syntax’\n",
       "instance Show IHaskellTH.Loc -- Defined in ‘Language.Haskell.TH.Syntax’\n",
       "instance Show IHaskellTH.Lit -- Defined in ‘Language.Haskell.TH.Syntax’\n",
       "instance Show IHaskellTH.Inline -- Defined in ‘Language.Haskell.TH.Syntax’\n",
       "instance Show IHaskellTH.InjectivityAnn -- Defined in ‘Language.Haskell.TH.Syntax’\n",
       "instance Show IHaskellTH.Info -- Defined in ‘Language.Haskell.TH.Syntax’\n",
       "instance Show IHaskellTH.Guard -- Defined in ‘Language.Haskell.TH.Syntax’\n",
       "instance Show IHaskellTH.FunDep -- Defined in ‘Language.Haskell.TH.Syntax’\n",
       "instance Show IHaskellTH.Foreign -- Defined in ‘Language.Haskell.TH.Syntax’\n",
       "instance Show IHaskellTH.FixityDirection -- Defined in ‘Language.Haskell.TH.Syntax’\n",
       "instance Show IHaskellTH.Fixity -- Defined in ‘Language.Haskell.TH.Syntax’\n",
       "instance Show IHaskellTH.FamilyResultSig -- Defined in ‘Language.Haskell.TH.Syntax’\n",
       "instance Show IHaskellTH.Exp -- Defined in ‘Language.Haskell.TH.Syntax’\n",
       "instance Show IHaskellTH.DerivStrategy -- Defined in ‘Language.Haskell.TH.Syntax’\n",
       "instance Show IHaskellTH.DerivClause -- Defined in ‘Language.Haskell.TH.Syntax’\n",
       "instance Show IHaskellTH.DecidedStrictness -- Defined in ‘Language.Haskell.TH.Syntax’\n",
       "instance Show IHaskellTH.Dec -- Defined in ‘Language.Haskell.TH.Syntax’\n",
       "instance Show IHaskellTH.Con -- Defined in ‘Language.Haskell.TH.Syntax’\n",
       "instance Show IHaskellTH.Clause -- Defined in ‘Language.Haskell.TH.Syntax’\n",
       "instance Show IHaskellTH.Callconv -- Defined in ‘Language.Haskell.TH.Syntax’\n",
       "instance Show IHaskellTH.Body -- Defined in ‘Language.Haskell.TH.Syntax’\n",
       "instance Show IHaskellTH.Bang -- Defined in ‘Language.Haskell.TH.Syntax’\n",
       "instance Show IHaskellTH.AnnTarget -- Defined in ‘Language.Haskell.TH.Syntax’\n",
       "instance Show IHaskellTH.AnnLookup -- Defined in ‘Language.Haskell.TH.Syntax’\n",
       "instance Show IHaskellSysIO.NewlineMode -- Defined in ‘GHC.IO.Handle.Types’\n",
       "instance Show IHaskellSysIO.Newline -- Defined in ‘GHC.IO.Handle.Types’\n",
       "instance Show IHaskellSysIO.Handle -- Defined in ‘GHC.IO.Handle.Types’\n",
       "instance Show IHaskellSysIO.BufferMode -- Defined in ‘GHC.IO.Handle.Types’\n",
       "instance Show IHaskellSysIO.HandlePosn -- Defined in ‘GHC.IO.Handle’\n",
       "instance Show a => Show [a] -- Defined in ‘GHC.Show’\n",
       "instance Show Word -- Defined in ‘GHC.Show’\n",
       "instance Show GHC.Types.RuntimeRep -- Defined in ‘GHC.Show’\n",
       "instance Show Ordering -- Defined in ‘GHC.Show’\n",
       "instance Show a => Show (Maybe a) -- Defined in ‘GHC.Show’\n",
       "instance Show Integer -- Defined in ‘GHC.Show’\n",
       "instance Show Int -- Defined in ‘GHC.Show’\n",
       "instance Show Char -- Defined in ‘GHC.Show’\n",
       "instance Show Bool -- Defined in ‘GHC.Show’\n",
       "instance (Show a, Show b, Show c, Show d, Show e, Show f, Show g, Show h, Show i, Show j, Show k, Show l, Show m, Show n, Show o) => Show (a, b, c, d, e, f, g, h, i, j, k, l, m, n, o)\n",
       "  -- Defined in ‘GHC.Show’\n",
       "instance (Show a, Show b, Show c, Show d, Show e, Show f, Show g, Show h, Show i, Show j, Show k, Show l, Show m, Show n) => Show (a, b, c, d, e, f, g, h, i, j, k, l, m, n) -- Defined in ‘GHC.Show’\n",
       "instance (Show a, Show b, Show c, Show d, Show e, Show f, Show g, Show h, Show i, Show j, Show k, Show l, Show m) => Show (a, b, c, d, e, f, g, h, i, j, k, l, m) -- Defined in ‘GHC.Show’\n",
       "instance (Show a, Show b, Show c, Show d, Show e, Show f, Show g, Show h, Show i, Show j, Show k, Show l) => Show (a, b, c, d, e, f, g, h, i, j, k, l) -- Defined in ‘GHC.Show’\n",
       "instance (Show a, Show b, Show c, Show d, Show e, Show f, Show g, Show h, Show i, Show j, Show k) => Show (a, b, c, d, e, f, g, h, i, j, k) -- Defined in ‘GHC.Show’\n",
       "instance (Show a, Show b, Show c, Show d, Show e, Show f, Show g, Show h, Show i, Show j) => Show (a, b, c, d, e, f, g, h, i, j) -- Defined in ‘GHC.Show’\n",
       "instance (Show a, Show b, Show c, Show d, Show e, Show f, Show g, Show h, Show i) => Show (a, b, c, d, e, f, g, h, i) -- Defined in ‘GHC.Show’\n",
       "instance (Show a, Show b, Show c, Show d, Show e, Show f, Show g, Show h) => Show (a, b, c, d, e, f, g, h) -- Defined in ‘GHC.Show’\n",
       "instance (Show a, Show b, Show c, Show d, Show e, Show f, Show g) => Show (a, b, c, d, e, f, g) -- Defined in ‘GHC.Show’\n",
       "instance (Show a, Show b, Show c, Show d, Show e, Show f) => Show (a, b, c, d, e, f) -- Defined in ‘GHC.Show’\n",
       "instance (Show a, Show b, Show c, Show d, Show e) => Show (a, b, c, d, e) -- Defined in ‘GHC.Show’\n",
       "instance (Show a, Show b, Show c, Show d) => Show (a, b, c, d) -- Defined in ‘GHC.Show’\n",
       "instance (Show a, Show b, Show c) => Show (a, b, c) -- Defined in ‘GHC.Show’\n",
       "instance (Show a, Show b) => Show (a, b) -- Defined in ‘GHC.Show’\n",
       "instance Show () -- Defined in ‘GHC.Show’\n",
       "instance (Show a, Show b) => Show (Either a b) -- Defined in ‘Data.Either’\n",
       "instance Show Float -- Defined in ‘GHC.Float’\n",
       "instance Show Double -- Defined in ‘GHC.Float’"
      ]
     },
     "metadata": {},
     "output_type": "display_data"
    }
   ],
   "source": [
    ":info Show"
   ]
  },
  {
   "cell_type": "code",
   "execution_count": 16,
   "id": "d2fa7dcc-fa60-449a-ab5a-8f7aa51116f3",
   "metadata": {},
   "outputs": [
    {
     "data": {
      "text/plain": [
       "\"LT\""
      ]
     },
     "metadata": {},
     "output_type": "display_data"
    }
   ],
   "source": [
    "show LT"
   ]
  },
  {
   "cell_type": "markdown",
   "id": "0c2558c7-bf47-4cd2-bb0e-f062f663e24b",
   "metadata": {},
   "source": [
    "### Ejercicio\n",
    "Usando la siguiente definición de Listas:\n",
    "\n",
    "```haskell\n",
    "data Lista a = Vacia | Cons a (Lista a)\n",
    "```\n",
    "\n",
    "- Logra que la lista sea instancia de `Show` sin usar `deriving Show`.\n",
    "- La lista `Cons 'a' (Cons 'b' (Cons 'c' Vacia))` debe imprimirse como `'a','b','c',`.\n",
    "- Usa una definición minimal, únicamente con la función `show`."
   ]
  },
  {
   "cell_type": "code",
   "execution_count": 27,
   "id": "64adb756-302e-410f-98e6-70100b49b924",
   "metadata": {},
   "outputs": [],
   "source": [
    "data Lista a = Vacia | Cons a (Lista a)\n",
    "\n",
    "instance Show a => Show (Lista a) where\n",
    "    show Vacia = \"\"\n",
    "    show (Cons a x) = show a ++ \", \" ++ show x"
   ]
  },
  {
   "cell_type": "code",
   "execution_count": 28,
   "id": "000fb677-de21-4df0-8951-17820276c311",
   "metadata": {},
   "outputs": [
    {
     "data": {
      "text/plain": [
       "\"'a', 'b', 'c', \""
      ]
     },
     "metadata": {},
     "output_type": "display_data"
    }
   ],
   "source": [
    "show (Cons 'a' (Cons 'b' (Cons 'c' Vacia)))"
   ]
  },
  {
   "cell_type": "markdown",
   "id": "06456d75-f948-4161-ad51-3c771c3b7324",
   "metadata": {},
   "source": [
    "### Ejercicio\n",
    "En algunos lenguajes de programación es posible convertir casi cualquier cosa a un Booleano. Por ejemplo, en JavaScript es posible hacer lo siguiente:\n",
    "\n",
    "```js\n",
    "if (\"\") {...}      // Falso\n",
    "if (5 + 5) {...}   // True\n",
    "if (5 - 5) {...}   // Falso\n",
    "```\n",
    "\n",
    "Dado que Haskell es fuertemente tipado, no podemos hacer lo anterior. Sin embargo, podemos crear una función `decide` que convierta cualquier valor a un `Bool`. Puesto que cada tipo de dato puede comportarse de manera distinta, es conveniente usar una clase. Realiza lo siguiente:\n",
    "\n",
    "- Crea una clase llamada `Decidible` que contenga la función `decide`.\n",
    "- Vuelve a la Lista que definimos antes en una instancia de `Decidible`, de manera que regrese `False` cuando la lista es vacía, y `True` en otro caso.\n",
    "- Logra que el tipo de dato `Int` también sea decidible, regresando `False` cuando es 0, y `True` en otro caso."
   ]
  },
  {
   "cell_type": "code",
   "execution_count": 29,
   "id": "79bf5f4f-5724-4d40-95f7-b0112e19eb65",
   "metadata": {},
   "outputs": [],
   "source": [
    "class Decidible a where\n",
    "    decide :: a -> Bool"
   ]
  },
  {
   "cell_type": "code",
   "execution_count": 30,
   "id": "ee6e47e4-6a36-439e-82c1-06d6c1d03872",
   "metadata": {},
   "outputs": [],
   "source": [
    "instance Decidible (Lista a) where\n",
    "    decide Vacia = False\n",
    "    decide _     = True"
   ]
  },
  {
   "cell_type": "code",
   "execution_count": 36,
   "id": "a07ee92a-7cd2-4b6c-aaf0-d388d60146b6",
   "metadata": {},
   "outputs": [],
   "source": [
    "instance Decidible Int where\n",
    "    decide 0 = False\n",
    "    decide _ = True"
   ]
  },
  {
   "cell_type": "code",
   "execution_count": 34,
   "id": "f68fede9-bfaa-47b5-8826-231d954e4d8e",
   "metadata": {},
   "outputs": [
    {
     "data": {
      "text/html": [
       "<style>/* Styles used for the Hoogle display in the pager */\n",
       ".hoogle-doc {\n",
       "display: block;\n",
       "padding-bottom: 1.3em;\n",
       "padding-left: 0.4em;\n",
       "}\n",
       ".hoogle-code {\n",
       "display: block;\n",
       "font-family: monospace;\n",
       "white-space: pre;\n",
       "}\n",
       ".hoogle-text {\n",
       "display: block;\n",
       "}\n",
       ".hoogle-name {\n",
       "color: green;\n",
       "font-weight: bold;\n",
       "}\n",
       ".hoogle-head {\n",
       "font-weight: bold;\n",
       "}\n",
       ".hoogle-sub {\n",
       "display: block;\n",
       "margin-left: 0.4em;\n",
       "}\n",
       ".hoogle-package {\n",
       "font-weight: bold;\n",
       "font-style: italic;\n",
       "}\n",
       ".hoogle-module {\n",
       "font-weight: bold;\n",
       "}\n",
       ".hoogle-class {\n",
       "font-weight: bold;\n",
       "}\n",
       ".get-type {\n",
       "color: green;\n",
       "font-weight: bold;\n",
       "font-family: monospace;\n",
       "display: block;\n",
       "white-space: pre-wrap;\n",
       "}\n",
       ".show-type {\n",
       "color: green;\n",
       "font-weight: bold;\n",
       "font-family: monospace;\n",
       "margin-left: 1em;\n",
       "}\n",
       ".mono {\n",
       "font-family: monospace;\n",
       "display: block;\n",
       "}\n",
       ".err-msg {\n",
       "color: red;\n",
       "font-style: italic;\n",
       "font-family: monospace;\n",
       "white-space: pre;\n",
       "display: block;\n",
       "}\n",
       "#unshowable {\n",
       "color: red;\n",
       "font-weight: bold;\n",
       "}\n",
       ".err-msg.in.collapse {\n",
       "padding-top: 0.7em;\n",
       "}\n",
       ".highlight-code {\n",
       "white-space: pre;\n",
       "font-family: monospace;\n",
       "}\n",
       ".suggestion-warning { \n",
       "font-weight: bold;\n",
       "color: rgb(200, 130, 0);\n",
       "}\n",
       ".suggestion-error { \n",
       "font-weight: bold;\n",
       "color: red;\n",
       "}\n",
       ".suggestion-name {\n",
       "font-weight: bold;\n",
       "}\n",
       "</style><div class=\"suggestion-name\" style=\"clear:both;\">Redundant bracket</div><div class=\"suggestion-row\" style=\"float: left;\"><div class=\"suggestion-warning\">Found:</div><div class=\"highlight-code\" id=\"haskell\">if (decide Vacia) then \"Lista no vacía\" else \"Lista Vacía\"</div></div><div class=\"suggestion-row\" style=\"float: left;\"><div class=\"suggestion-warning\">Why Not:</div><div class=\"highlight-code\" id=\"haskell\">if decide Vacia then \"Lista no vacía\" else \"Lista Vacía\"</div></div><div class=\"suggestion-name\" style=\"clear:both;\">Redundant bracket</div><div class=\"suggestion-row\" style=\"float: left;\"><div class=\"suggestion-warning\">Found:</div><div class=\"highlight-code\" id=\"haskell\">if (decide (Cons 1 Vacia)) then \"Lista no vacía\" else \"Lista Vacía\"</div></div><div class=\"suggestion-row\" style=\"float: left;\"><div class=\"suggestion-warning\">Why Not:</div><div class=\"highlight-code\" id=\"haskell\">if decide (Cons 1 Vacia) then \"Lista no vacía\" else \"Lista Vacía\"</div></div><div class=\"suggestion-name\" style=\"clear:both;\">Redundant bracket</div><div class=\"suggestion-row\" style=\"float: left;\"><div class=\"suggestion-warning\">Found:</div><div class=\"highlight-code\" id=\"haskell\">if (decide (0 :: Int)) then \"Número distinto de 0\" else \"Número 0\"</div></div><div class=\"suggestion-row\" style=\"float: left;\"><div class=\"suggestion-warning\">Why Not:</div><div class=\"highlight-code\" id=\"haskell\">if decide (0 :: Int) then \"Número distinto de 0\" else \"Número 0\"</div></div><div class=\"suggestion-name\" style=\"clear:both;\">Redundant bracket</div><div class=\"suggestion-row\" style=\"float: left;\"><div class=\"suggestion-warning\">Found:</div><div class=\"highlight-code\" id=\"haskell\">if (decide (9 :: Int)) then \"Número distinto de 0\" else \"Número 0\"</div></div><div class=\"suggestion-row\" style=\"float: left;\"><div class=\"suggestion-warning\">Why Not:</div><div class=\"highlight-code\" id=\"haskell\">if decide (9 :: Int) then \"Número distinto de 0\" else \"Número 0\"</div></div>"
      ],
      "text/plain": [
       "Line 1: Redundant bracket\n",
       "Found:\n",
       "if (decide Vacia) then \"Lista no vacía\" else \"Lista Vacía\"\n",
       "Why not:\n",
       "if decide Vacia then \"Lista no vacía\" else \"Lista Vacía\"Line 2: Redundant bracket\n",
       "Found:\n",
       "if (decide (Cons 1 Vacia)) then \"Lista no vacía\" else \"Lista Vacía\"\n",
       "Why not:\n",
       "if decide (Cons 1 Vacia) then \"Lista no vacía\" else \"Lista Vacía\"Line 3: Redundant bracket\n",
       "Found:\n",
       "if (decide (0 :: Int)) then \"Número distinto de 0\" else \"Número 0\"\n",
       "Why not:\n",
       "if decide (0 :: Int) then \"Número distinto de 0\" else \"Número 0\"Line 4: Redundant bracket\n",
       "Found:\n",
       "if (decide (9 :: Int)) then \"Número distinto de 0\" else \"Número 0\"\n",
       "Why not:\n",
       "if decide (9 :: Int) then \"Número distinto de 0\" else \"Número 0\""
      ]
     },
     "metadata": {},
     "output_type": "display_data"
    },
    {
     "data": {
      "text/plain": [
       "\"Lista Vac\\237a\""
      ]
     },
     "metadata": {},
     "output_type": "display_data"
    },
    {
     "data": {
      "text/plain": [
       "\"Lista no vac\\237a\""
      ]
     },
     "metadata": {},
     "output_type": "display_data"
    },
    {
     "data": {
      "text/plain": [
       "\"N\\250mero 0\""
      ]
     },
     "metadata": {},
     "output_type": "display_data"
    },
    {
     "data": {
      "text/plain": [
       "\"N\\250mero distinto de 0\""
      ]
     },
     "metadata": {},
     "output_type": "display_data"
    }
   ],
   "source": [
    "if (decide Vacia) then \"Lista no vacía\" else \"Lista Vacía\"\n",
    "if (decide (Cons 1 Vacia)) then \"Lista no vacía\" else \"Lista Vacía\"\n",
    "if (decide (0::Int)) then \"Número distinto de 0\" else \"Número 0\"\n",
    "if (decide (9::Int)) then \"Número distinto de 0\" else \"Número 0\""
   ]
  },
  {
   "cell_type": "markdown",
   "id": "2479c43e-6d98-4bd7-9ed4-83b0d4e16b73",
   "metadata": {},
   "source": [
    "## Usando `newtype` para crear distintas instancias de clase\n",
    "\n",
    "Anteriormente vimos que `newtype` tiene el comportamiento del tipo que representa, pero el verificador de tipos lo distingue como un tipo distinto. Por lo tanto, podemos usarlo para crear una instancia distinta de un mismo tipo:"
   ]
  },
  {
   "cell_type": "code",
   "execution_count": 37,
   "id": "5d6eac30-aa32-490f-944e-d012f531df28",
   "metadata": {},
   "outputs": [
    {
     "data": {
      "text/plain": [
       "\"True\""
      ]
     },
     "metadata": {},
     "output_type": "display_data"
    }
   ],
   "source": [
    "show True"
   ]
  },
  {
   "cell_type": "code",
   "execution_count": 40,
   "id": "04bf08a6-3d3b-41a9-a89f-a652bc438417",
   "metadata": {},
   "outputs": [],
   "source": [
    "newtype Booleano = Booleano Bool\n",
    "\n",
    "instance Show Booleano where\n",
    "    show (Booleano True)  = \"Verdadero\"\n",
    "    show (Booleano False) = \"Falso\""
   ]
  },
  {
   "cell_type": "code",
   "execution_count": 41,
   "id": "ed8a86e4-7dd8-406f-b7d6-be162cf56efb",
   "metadata": {},
   "outputs": [
    {
     "data": {
      "text/plain": [
       "\"True\""
      ]
     },
     "metadata": {},
     "output_type": "display_data"
    },
    {
     "data": {
      "text/plain": [
       "\"Verdadero\""
      ]
     },
     "metadata": {},
     "output_type": "display_data"
    },
    {
     "data": {
      "text/plain": [
       "\"False\""
      ]
     },
     "metadata": {},
     "output_type": "display_data"
    },
    {
     "data": {
      "text/plain": [
       "\"Falso\""
      ]
     },
     "metadata": {},
     "output_type": "display_data"
    }
   ],
   "source": [
    "show True\n",
    "show (Booleano True)\n",
    "\n",
    "show False\n",
    "show (Booleano False)"
   ]
  },
  {
   "cell_type": "markdown",
   "id": "344545c8-dedf-4dba-9f06-c5d0c0e235ef",
   "metadata": {},
   "source": [
    "### Ejercicio\n",
    "- Crea un nuevo tipo de dato `Reversa` que encapsule a `Int`.\n",
    "- Logra que `Reversa` sea una instancia de `Eq` (para esto puedes usar derivaciones).\n",
    "- Logra que `Reversa` sea una instancia de `Ord` (para poder ordenarlos).\n",
    "- Logra que el orden de `Reversa` sea al revés de los enteros normales. Por ejemplo: `2 < 1`."
   ]
  },
  {
   "cell_type": "code",
   "execution_count": 46,
   "id": "c990e3b6-5757-47f3-9c6a-26cc76e77f81",
   "metadata": {},
   "outputs": [],
   "source": [
    "newtype Reversa = Reversa Int deriving (Eq, Show)\n",
    "\n",
    "-- compare :: Reversa -> Reversa -> Ordering\n",
    "-- data Ordering = LT | EQ | GT\n",
    "\n",
    "instance Ord Reversa where\n",
    "    compare (Reversa a) (Reversa b)\n",
    "        | a < b = GT\n",
    "        | a > b = LT\n",
    "        | otherwise = EQ"
   ]
  },
  {
   "cell_type": "code",
   "execution_count": 52,
   "id": "2e19dcde-f239-49f2-9886-63bc6df43405",
   "metadata": {},
   "outputs": [
    {
     "data": {
      "text/plain": [
       "True"
      ]
     },
     "metadata": {},
     "output_type": "display_data"
    },
    {
     "data": {
      "text/plain": [
       "False"
      ]
     },
     "metadata": {},
     "output_type": "display_data"
    },
    {
     "data": {
      "text/plain": [
       "False"
      ]
     },
     "metadata": {},
     "output_type": "display_data"
    },
    {
     "data": {
      "text/plain": [
       "True"
      ]
     },
     "metadata": {},
     "output_type": "display_data"
    }
   ],
   "source": [
    "ordenada :: Ord a => Lista a -> Bool\n",
    "ordenada Vacia  = True\n",
    "ordenada (Cons _ Vacia) = True\n",
    "ordenada (Cons x xs) = x <= head xs && ordenada xs\n",
    "\n",
    "ordenada [Reversa 1, Reversa 1, Reversa 1, Reversa 1, Reversa 1]\n",
    "ordenada (map Reversa [1..10])\n",
    "ordenada [Reversa 0,Reversa (-4),Reversa 2, Reversa 3, Reversa 4]\n",
    "ordenada [Reversa 3, Reversa 2, Reversa 1]"
   ]
  },
  {
   "cell_type": "code",
   "execution_count": null,
   "id": "0e6e8132-01ab-471e-8497-7dddb1d34c75",
   "metadata": {},
   "outputs": [],
   "source": [
    "ordenada "
   ]
  },
  {
   "cell_type": "code",
   "execution_count": 54,
   "id": "0e4f71dc-5d08-441b-b49e-be0c6fb14896",
   "metadata": {},
   "outputs": [
    {
     "data": {
      "text/plain": [
       "[Reversa (-1),Reversa 0,Reversa 1,Reversa 2,Reversa 3,Reversa 4,Reversa 5,Reversa 6,Reversa 7,Reversa 8,Reversa 9,Reversa 10]"
      ]
     },
     "metadata": {},
     "output_type": "display_data"
    }
   ],
   "source": [
    "map Reversa [-1..10]"
   ]
  },
  {
   "cell_type": "code",
   "execution_count": 55,
   "id": "8bbe79de-e15f-4196-939b-a66a0ddf9744",
   "metadata": {},
   "outputs": [
    {
     "data": {
      "text/html": [
       "<style>/* Styles used for the Hoogle display in the pager */\n",
       ".hoogle-doc {\n",
       "display: block;\n",
       "padding-bottom: 1.3em;\n",
       "padding-left: 0.4em;\n",
       "}\n",
       ".hoogle-code {\n",
       "display: block;\n",
       "font-family: monospace;\n",
       "white-space: pre;\n",
       "}\n",
       ".hoogle-text {\n",
       "display: block;\n",
       "}\n",
       ".hoogle-name {\n",
       "color: green;\n",
       "font-weight: bold;\n",
       "}\n",
       ".hoogle-head {\n",
       "font-weight: bold;\n",
       "}\n",
       ".hoogle-sub {\n",
       "display: block;\n",
       "margin-left: 0.4em;\n",
       "}\n",
       ".hoogle-package {\n",
       "font-weight: bold;\n",
       "font-style: italic;\n",
       "}\n",
       ".hoogle-module {\n",
       "font-weight: bold;\n",
       "}\n",
       ".hoogle-class {\n",
       "font-weight: bold;\n",
       "}\n",
       ".get-type {\n",
       "color: green;\n",
       "font-weight: bold;\n",
       "font-family: monospace;\n",
       "display: block;\n",
       "white-space: pre-wrap;\n",
       "}\n",
       ".show-type {\n",
       "color: green;\n",
       "font-weight: bold;\n",
       "font-family: monospace;\n",
       "margin-left: 1em;\n",
       "}\n",
       ".mono {\n",
       "font-family: monospace;\n",
       "display: block;\n",
       "}\n",
       ".err-msg {\n",
       "color: red;\n",
       "font-style: italic;\n",
       "font-family: monospace;\n",
       "white-space: pre;\n",
       "display: block;\n",
       "}\n",
       "#unshowable {\n",
       "color: red;\n",
       "font-weight: bold;\n",
       "}\n",
       ".err-msg.in.collapse {\n",
       "padding-top: 0.7em;\n",
       "}\n",
       ".highlight-code {\n",
       "white-space: pre;\n",
       "font-family: monospace;\n",
       "}\n",
       ".suggestion-warning { \n",
       "font-weight: bold;\n",
       "color: rgb(200, 130, 0);\n",
       "}\n",
       ".suggestion-error { \n",
       "font-weight: bold;\n",
       "color: red;\n",
       "}\n",
       ".suggestion-name {\n",
       "font-weight: bold;\n",
       "}\n",
       "</style><span class='get-type'>1 :: forall p. Num p => p</span>"
      ],
      "text/plain": [
       "1 :: forall p. Num p => p"
      ]
     },
     "metadata": {},
     "output_type": "display_data"
    }
   ],
   "source": [
    ":t 1"
   ]
  },
  {
   "cell_type": "code",
   "execution_count": null,
   "id": "4d31de30-25ba-40e7-89ce-303d6656f9af",
   "metadata": {},
   "outputs": [],
   "source": []
  }
 ],
 "metadata": {
  "kernelspec": {
   "display_name": "Haskell",
   "language": "haskell",
   "name": "haskell"
  },
  "language_info": {
   "codemirror_mode": "ihaskell",
   "file_extension": ".hs",
   "mimetype": "text/x-haskell",
   "name": "haskell",
   "pygments_lexer": "Haskell",
   "version": "8.10.4"
  }
 },
 "nbformat": 4,
 "nbformat_minor": 5
}
