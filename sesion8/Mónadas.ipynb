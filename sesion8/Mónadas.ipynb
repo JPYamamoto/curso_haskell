{
 "cells": [
  {
   "cell_type": "markdown",
   "id": "e0ac8c1b-8ceb-4d39-90f2-160fcaa4ed4c",
   "metadata": {},
   "source": [
    "## Problema"
   ]
  },
  {
   "cell_type": "code",
   "execution_count": null,
   "id": "f1a67046-ed07-4295-9430-1ed123a9b115",
   "metadata": {},
   "outputs": [],
   "source": [
    "import Data.List (find)\n",
    "\n",
    "type Nombre = String\n",
    "type NumeroCuenta = Integer\n",
    "\n",
    "data Estudiante = Estudiante { nombre :: Nombre\n",
    "                             , cuenta :: NumeroCuenta\n",
    "                             } deriving Show\n",
    "\n",
    "data Calificacion = Calificacion { estudiante :: NumeroCuenta\n",
    "                                 , promedio :: Double\n",
    "                                 } deriving Show\n",
    "\n",
    "type TablaEstudiantes = [Estudiante]\n",
    "type TablaCalificaciones = [Calificacion]\n",
    "\n",
    "estudiantes :: TablaEstudiantes\n",
    "estudiantes = [ Estudiante \"Canek\"   1234\n",
    "              , Estudiante \"Galaviz\" 2341\n",
    "              , Estudiante \"Lourdes\" 3412\n",
    "              , Estudiante \"Urrutia\" 4123\n",
    "              ]\n",
    "\n",
    "calificaciones :: TablaCalificaciones\n",
    "calificaciones = [ Calificacion 1234 5.0\n",
    "                 , Calificacion 2341 8.5\n",
    "                 , Calificacion 3412 10.0\n",
    "                 , Calificacion 4123 7.4]\n",
    "\n",
    "buscaEstudiante :: Nombre -> Maybe Estudiante\n",
    "buscaEstudiante nombreE = find ((== nombreE) . nombre) estudiantes\n",
    "\n",
    "buscaCalificacion :: NumeroCuenta -> Maybe Calificacion\n",
    "buscaCalificacion numCuenta = find ((== numCuenta) . estudiante) calificaciones"
   ]
  },
  {
   "cell_type": "code",
   "execution_count": null,
   "id": "91c36c2c-37ef-42e3-a721-74a95caccb3c",
   "metadata": {},
   "outputs": [],
   "source": [
    "import Data.Maybe (fromJust)\n",
    "\n",
    "-- fromJust :: Maybe a -> a\n",
    "-- fromJust (Just x) = x\n",
    "-- fromJust Nothing  = error \"Oh no!\"\n",
    "\n",
    "-- Crea una función que recibe el nombre de un estudiante\n",
    "-- y regresa si aprobó.\n",
    "aprobado :: Nombre -> Maybe Bool"
   ]
  },
  {
   "cell_type": "code",
   "execution_count": null,
   "id": "a77996f6-8f25-45e1-ad70-c3bd8807cecf",
   "metadata": {},
   "outputs": [],
   "source": [
    "aprobado \"Canek\"\n",
    "aprobado \"Urrutia\"\n",
    "aprobado \"Lourdes\"\n",
    "aprobado \"Galaviz\"\n",
    "aprobado \"JP\""
   ]
  },
  {
   "cell_type": "markdown",
   "id": "3096dca3-8fcc-44b3-8797-9c3fdd3b1f5f",
   "metadata": {},
   "source": [
    "# Mónadas"
   ]
  },
  {
   "cell_type": "markdown",
   "id": "711563e9-8cf6-4dc1-8798-51e134402e94",
   "metadata": {},
   "source": [
    "Tenemos:\n",
    "- Un elemento en un contexto: `Just 5`, `[1,2,3]`, ...\n",
    "- Una función que toma un elemento y te devuelve un elemento dentro de un contexto.\n",
    "\n",
    "Deseamos lograr lo siguiente:\n",
    "\n",
    "1. Sacar el elemento de su contexto.\n",
    "2. Aplicarle la función que nos da al elemento en otro contexto."
   ]
  },
  {
   "cell_type": "markdown",
   "id": "9f73b81f-8680-4604-b703-3bec613d27ed",
   "metadata": {},
   "source": [
    "## Detalles de implementación.\n",
    "\n",
    "- Una mónada siempre es un Aplicativo.\n",
    "- Queremos una función `return` que \"eleve\" un elemento. Es decir, dado un elemento, lo debe envolver en una mónada.\n",
    "- Queremos una función `>>=` (llamada \"bind\") que implemente el comportamiento de las mónadas.\n",
    "- La función _bind_ será infija, con asociatividad izquierda y jerarquía 1.\n",
    "- Queremos una función `>>` (llamada \"then\" o \"sequence\") que dadas 2 mónadas, regrese la segunda con un comportamiento consistente con el de `>>=`.\n",
    "- `>>` asocia a la izquierda y tiene jerarquía 1."
   ]
  },
  {
   "cell_type": "code",
   "execution_count": null,
   "id": "0d671079-f739-4bbc-b1e3-2587361590e0",
   "metadata": {},
   "outputs": [],
   "source": []
  },
  {
   "cell_type": "markdown",
   "id": "715252dc-2481-4865-a9d1-e06103e50b79",
   "metadata": {},
   "source": [
    "Define al tipo `Maybe` como instancia de mónadas."
   ]
  },
  {
   "cell_type": "code",
   "execution_count": null,
   "id": "4344f2ce-4125-418b-ba56-c00355015745",
   "metadata": {},
   "outputs": [],
   "source": []
  },
  {
   "cell_type": "markdown",
   "id": "b49b07c5-3da5-40d3-bab4-82e03808e18a",
   "metadata": {},
   "source": [
    "Define a las listas como instancias de mónadas."
   ]
  },
  {
   "cell_type": "code",
   "execution_count": null,
   "id": "c2ac5f30-84cb-43c2-b6ec-15495b2d6c1e",
   "metadata": {},
   "outputs": [],
   "source": []
  },
  {
   "cell_type": "code",
   "execution_count": null,
   "id": "9b35dc84-9681-4eea-a53a-c76dc39b2ce0",
   "metadata": {},
   "outputs": [],
   "source": [
    "[1..5] >>= (\\x -> replicate x x)"
   ]
  },
  {
   "cell_type": "markdown",
   "id": "cb32c9d1-d005-4617-996a-7c48e37a6da3",
   "metadata": {},
   "source": [
    "### Ejercicio\n",
    "\n",
    "Modifica el ejercicio original, ahora utilizando mónadas."
   ]
  },
  {
   "cell_type": "code",
   "execution_count": null,
   "id": "eb23e2ea-47f9-4910-ac26-2dd4b61ef3fd",
   "metadata": {},
   "outputs": [],
   "source": [
    "aprobado' :: Nombre -> Maybe Bool"
   ]
  },
  {
   "cell_type": "code",
   "execution_count": null,
   "id": "f3b14b8e-3c44-42c0-80e9-bda73961f6ac",
   "metadata": {},
   "outputs": [],
   "source": [
    "aprobado' \"Canek\"\n",
    "aprobado' \"Urrutia\"\n",
    "aprobado' \"Lourdes\"\n",
    "aprobado' \"Galaviz\"\n",
    "aprobado' \"JP\""
   ]
  },
  {
   "cell_type": "markdown",
   "id": "96254ed3-759a-4309-8deb-0b0d164dad33",
   "metadata": {},
   "source": [
    "## Notación `do`\n",
    "\n",
    "Cuando trabajamos con mónadas, es muy común encontrar situaciones como la siguiente:\n",
    "\n",
    "```haskell\n",
    "monada1 >>= (\n",
    "    \\x1 -> f x1 >>= (\n",
    "        \\x2 -> g x2 >>= ...))\n",
    "```\n",
    "\n",
    "Haskell nos da una alternativa:\n",
    "\n",
    "```haskell\n",
    "do\n",
    "    x1 <- monada1\n",
    "    x2 <- f x1\n",
    "    ...\n",
    "```\n",
    "\n",
    "Cuando utilizamos el operador `>>` es equivalente a no asignar nada:\n",
    "\n",
    "```haskell\n",
    "monada1 >> monada2\n",
    "\n",
    "do\n",
    "    monada1\n",
    "    monada2\n",
    "```\n",
    "\n",
    "Igual podemos utilizar `return`:\n",
    "\n",
    "```haskell\n",
    "do\n",
    "    ...\n",
    "    return resultado\n",
    "```"
   ]
  },
  {
   "cell_type": "markdown",
   "id": "196deaf9-e68b-4fbe-a17f-cd8d08cde693",
   "metadata": {},
   "source": [
    "### Ejercicio\n",
    "\n",
    "Modifica el ejercicio anterior para utilizar la notación `do`."
   ]
  },
  {
   "cell_type": "code",
   "execution_count": null,
   "id": "3c4b02e7-c2db-4cb8-b375-daab22d44a23",
   "metadata": {},
   "outputs": [],
   "source": [
    "aprobado'' :: Nombre -> Maybe Bool"
   ]
  },
  {
   "cell_type": "code",
   "execution_count": null,
   "id": "9f24e697-c634-4841-a8a2-4f6fcd89bcaa",
   "metadata": {},
   "outputs": [],
   "source": [
    "aprobado'' \"Canek\"\n",
    "aprobado'' \"Urrutia\"\n",
    "aprobado'' \"Lourdes\"\n",
    "aprobado'' \"Galaviz\"\n",
    "aprobado'' \"JP\""
   ]
  },
  {
   "cell_type": "markdown",
   "id": "d4a9b758-3908-47d8-af2f-e2dd0a25aeda",
   "metadata": {},
   "source": [
    "## Leyes\n",
    "\n",
    "- Identidad izquierda: `return a >>= f ≡ f a`.\n",
    "- Identidad derecha: `m >>= return ≡ m`.\n",
    "- Asociatividad: `(m >>= f) >>= g ≡ m >>= (\\x -> f x >>= g)`"
   ]
  }
 ],
 "metadata": {
  "kernelspec": {
   "display_name": "Haskell",
   "language": "haskell",
   "name": "haskell"
  },
  "language_info": {
   "codemirror_mode": "Haskell",
   "file_extension": ".hs",
   "mimetype": "text/x-haskell",
   "name": "haskell",
   "pygments_lexer": "Haskell",
   "version": "8.10.4"
  }
 },
 "nbformat": 4,
 "nbformat_minor": 5
}
