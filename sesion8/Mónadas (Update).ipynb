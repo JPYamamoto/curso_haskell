{
 "cells": [
  {
   "cell_type": "markdown",
   "id": "e0ac8c1b-8ceb-4d39-90f2-160fcaa4ed4c",
   "metadata": {},
   "source": [
    "## Problema"
   ]
  },
  {
   "cell_type": "code",
   "execution_count": 2,
   "id": "f1a67046-ed07-4295-9430-1ed123a9b115",
   "metadata": {},
   "outputs": [],
   "source": [
    "import Data.List (find)\n",
    "\n",
    "type Nombre = String\n",
    "type NumeroCuenta = Integer\n",
    "\n",
    "data Estudiante = Estudiante { nombre :: Nombre\n",
    "                             , cuenta :: NumeroCuenta\n",
    "                             } deriving Show\n",
    "\n",
    "data Calificacion = Calificacion { estudiante :: NumeroCuenta\n",
    "                                 , promedio :: Double\n",
    "                                 } deriving Show\n",
    "\n",
    "type TablaEstudiantes = [Estudiante]\n",
    "type TablaCalificaciones = [Calificacion]\n",
    "\n",
    "estudiantes :: TablaEstudiantes\n",
    "estudiantes = [ Estudiante \"Canek\"   1234\n",
    "              , Estudiante \"Galaviz\" 2341\n",
    "              , Estudiante \"Lourdes\" 3412\n",
    "              , Estudiante \"Urrutia\" 4123\n",
    "              ]\n",
    "\n",
    "calificaciones :: TablaCalificaciones\n",
    "calificaciones = [ Calificacion 1234 5.0\n",
    "                 , Calificacion 2341 8.5\n",
    "                 , Calificacion 3412 10.0\n",
    "                 , Calificacion 4123 7.4]\n",
    "\n",
    "buscaEstudiante :: Nombre -> Maybe Estudiante\n",
    "buscaEstudiante nombreE = find ((== nombreE) . nombre) estudiantes\n",
    "\n",
    "buscaCalificacion :: NumeroCuenta -> Maybe Calificacion\n",
    "buscaCalificacion numCuenta = find ((== numCuenta) . estudiante) calificaciones"
   ]
  },
  {
   "cell_type": "code",
   "execution_count": 8,
   "id": "91c36c2c-37ef-42e3-a721-74a95caccb3c",
   "metadata": {},
   "outputs": [],
   "source": [
    "import Data.Maybe (fromJust)\n",
    "\n",
    "-- fromJust :: Maybe a -> a\n",
    "-- fromJust (Just x) = x\n",
    "-- fromJust Nothing  = error \"Oh no!\"\n",
    "\n",
    "-- Crea una función que recibe el nombre de un estudiante\n",
    "-- y regresa si aprobó.\n",
    "aprobado :: Nombre -> Maybe Bool\n",
    "aprobado nombreE = Just\n",
    "                    $ (>= 6)\n",
    "                    $ promedio\n",
    "                    $ fromJust\n",
    "                    $ buscaCalificacion\n",
    "                    $ cuenta\n",
    "                    $ fromJust\n",
    "                    $ buscaEstudiante nombreE\n",
    "                    \n",
    "aprobado' nombreE = fmap ((>=6) . promedio)\n",
    "                    $ buscaCalificacion\n",
    "                    $ cuenta\n",
    "                    $ fromJust\n",
    "                    $ buscaEstudiante nombreE"
   ]
  },
  {
   "cell_type": "code",
   "execution_count": 10,
   "id": "a77996f6-8f25-45e1-ad70-c3bd8807cecf",
   "metadata": {},
   "outputs": [
    {
     "data": {
      "text/plain": [
       "Just False"
      ]
     },
     "metadata": {},
     "output_type": "display_data"
    },
    {
     "data": {
      "text/plain": [
       "Just True"
      ]
     },
     "metadata": {},
     "output_type": "display_data"
    },
    {
     "data": {
      "text/plain": [
       "Just True"
      ]
     },
     "metadata": {},
     "output_type": "display_data"
    },
    {
     "data": {
      "text/plain": [
       "Just True"
      ]
     },
     "metadata": {},
     "output_type": "display_data"
    },
    {
     "ename": "",
     "evalue": "",
     "header": "MessageHeader {mhIdentifiers = [\"99632418-dac1-4d4a-a7f0-8057d90ca794\"], mhParentHeader = Just (MessageHeader {mhIdentifiers = [\"99632418-dac1-4d4a-a7f0-8057d90ca794\"], mhParentHeader = Nothing, mhMetadata = Metadata (fromList [(\"recordTiming\",Bool False),(\"deletedCells\",Array []),(\"cellId\",String \"a77996f6-8f25-45e1-ad70-c3bd8807cecf\")]), mhMessageId = UUID {uuidToString = \"f9497ee8-ed90-42a2-b451-30d695ef7c3b\"}, mhSessionId = UUID {uuidToString = \"99632418-dac1-4d4a-a7f0-8057d90ca794\"}, mhUsername = \"\", mhMsgType = ExecuteRequestMessage, mhBuffers = []}), mhMetadata = Metadata (fromList []), mhMessageId = UUID {uuidToString = \"63eff936-f7bf-49f5-8d4e-086f57e32436\"}, mhSessionId = UUID {uuidToString = \"99632418-dac1-4d4a-a7f0-8057d90ca794\"}, mhUsername = \"\", mhMsgType = ExecuteErrorMessage, mhBuffers = []}",
     "output_type": "error",
     "traceback": [
      "Maybe.fromJust: Nothing\nCallStack (from HasCallStack):\n  error, called at libraries/base/Data/Maybe.hs:148:21 in base:Data.Maybe\n  fromJust, called at <interactive>:8:23 in interactive:Ghci140"
     ]
    }
   ],
   "source": [
    "--aprobado' \"Canek\"\n",
    "--aprobado' \"Urrutia\"\n",
    "--aprobado' \"Lourdes\"\n",
    "--aprobado' \"Galaviz\"\n",
    "--aprobado' \"JP\"\n",
    "\n",
    "aprobado \"Canek\"\n",
    "aprobado \"Urrutia\"\n",
    "aprobado \"Lourdes\"\n",
    "aprobado \"Galaviz\"\n",
    "aprobado \"JP\""
   ]
  },
  {
   "cell_type": "markdown",
   "id": "3096dca3-8fcc-44b3-8797-9c3fdd3b1f5f",
   "metadata": {},
   "source": [
    "# Mónadas"
   ]
  },
  {
   "cell_type": "markdown",
   "id": "711563e9-8cf6-4dc1-8798-51e134402e94",
   "metadata": {},
   "source": [
    "Tenemos:\n",
    "- Un elemento en un contexto: `Just 5`, `[1,2,3]`, ...\n",
    "- Una función que toma un elemento y te devuelve un elemento dentro de un contexto.\n",
    "\n",
    "Deseamos lograr lo siguiente:\n",
    "\n",
    "1. Sacar el elemento de su contexto.\n",
    "2. Aplicarle la función que nos da al elemento en otro contexto."
   ]
  },
  {
   "cell_type": "markdown",
   "id": "9f73b81f-8680-4604-b703-3bec613d27ed",
   "metadata": {},
   "source": [
    "## Detalles de implementación.\n",
    "\n",
    "- Una mónada siempre es un Aplicativo.\n",
    "- Queremos una función `return` que \"eleve\" un elemento. Es decir, dado un elemento, lo debe envolver en una mónada.\n",
    "- Queremos una función `>>=` (llamada \"bind\") que implemente el comportamiento de las mónadas.\n",
    "- La función _bind_ será infija, con asociatividad izquierda y jerarquía 1.\n",
    "- Queremos una función `>>` (llamada \"then\" o \"sequence\") que dadas 2 mónadas, regrese la segunda con un comportamiento consistente con el de `>>=`.\n",
    "- `>>` asocia a la izquierda y tiene jerarquía 1."
   ]
  },
  {
   "cell_type": "code",
   "execution_count": 12,
   "id": "0d671079-f739-4bbc-b1e3-2587361590e0",
   "metadata": {},
   "outputs": [
    {
     "data": {
      "text/html": [
       "<style>/* Styles used for the Hoogle display in the pager */\n",
       ".hoogle-doc {\n",
       "display: block;\n",
       "padding-bottom: 1.3em;\n",
       "padding-left: 0.4em;\n",
       "}\n",
       ".hoogle-code {\n",
       "display: block;\n",
       "font-family: monospace;\n",
       "white-space: pre;\n",
       "}\n",
       ".hoogle-text {\n",
       "display: block;\n",
       "}\n",
       ".hoogle-name {\n",
       "color: green;\n",
       "font-weight: bold;\n",
       "}\n",
       ".hoogle-head {\n",
       "font-weight: bold;\n",
       "}\n",
       ".hoogle-sub {\n",
       "display: block;\n",
       "margin-left: 0.4em;\n",
       "}\n",
       ".hoogle-package {\n",
       "font-weight: bold;\n",
       "font-style: italic;\n",
       "}\n",
       ".hoogle-module {\n",
       "font-weight: bold;\n",
       "}\n",
       ".hoogle-class {\n",
       "font-weight: bold;\n",
       "}\n",
       ".get-type {\n",
       "color: green;\n",
       "font-weight: bold;\n",
       "font-family: monospace;\n",
       "display: block;\n",
       "white-space: pre-wrap;\n",
       "}\n",
       ".show-type {\n",
       "color: green;\n",
       "font-weight: bold;\n",
       "font-family: monospace;\n",
       "margin-left: 1em;\n",
       "}\n",
       ".mono {\n",
       "font-family: monospace;\n",
       "display: block;\n",
       "}\n",
       ".err-msg {\n",
       "color: red;\n",
       "font-style: italic;\n",
       "font-family: monospace;\n",
       "white-space: pre;\n",
       "display: block;\n",
       "}\n",
       "#unshowable {\n",
       "color: red;\n",
       "font-weight: bold;\n",
       "}\n",
       ".err-msg.in.collapse {\n",
       "padding-top: 0.7em;\n",
       "}\n",
       ".highlight-code {\n",
       "white-space: pre;\n",
       "font-family: monospace;\n",
       "}\n",
       ".suggestion-warning { \n",
       "font-weight: bold;\n",
       "color: rgb(200, 130, 0);\n",
       "}\n",
       ".suggestion-error { \n",
       "font-weight: bold;\n",
       "color: red;\n",
       "}\n",
       ".suggestion-name {\n",
       "font-weight: bold;\n",
       "}\n",
       "</style><div class=\"suggestion-name\" style=\"clear:both;\">Use >></div><div class=\"suggestion-row\" style=\"float: left;\"><div class=\"suggestion-warning\">Found:</div><div class=\"highlight-code\" id=\"haskell\">ma >>= (\\ _ -> mb)</div></div><div class=\"suggestion-row\" style=\"float: left;\"><div class=\"suggestion-warning\">Why Not:</div><div class=\"highlight-code\" id=\"haskell\">ma >> mb</div></div><div class=\"suggestion-name\" style=\"clear:both;\">Use const</div><div class=\"suggestion-row\" style=\"float: left;\"><div class=\"suggestion-warning\">Found:</div><div class=\"highlight-code\" id=\"haskell\">\\ _ -> mb</div></div><div class=\"suggestion-row\" style=\"float: left;\"><div class=\"suggestion-warning\">Why Not:</div><div class=\"highlight-code\" id=\"haskell\">const mb</div></div>"
      ],
      "text/plain": [
       "Line 10: Use >>\n",
       "Found:\n",
       "ma >>= (\\ _ -> mb)\n",
       "Why not:\n",
       "ma >> mbLine 10: Use const\n",
       "Found:\n",
       "\\ _ -> mb\n",
       "Why not:\n",
       "const mb"
      ]
     },
     "metadata": {},
     "output_type": "display_data"
    }
   ],
   "source": [
    "class Applicative m => Monad m where\n",
    "    return :: a -> m a\n",
    "    return = pure\n",
    "    \n",
    "    infixl 1 >>=\n",
    "    (>>=) :: m a -> (a -> m b) -> m b\n",
    "    \n",
    "    infixl 1 >>\n",
    "    (>>) :: m a -> m b -> m b\n",
    "    ma >> mb = ma >>= (\\_ -> mb)"
   ]
  },
  {
   "cell_type": "code",
   "execution_count": 15,
   "id": "e58e5dbf-22cd-49a7-aa1c-2a2bc10f6688",
   "metadata": {},
   "outputs": [
    {
     "data": {},
     "metadata": {},
     "output_type": "display_data"
    },
    {
     "data": {
      "text/html": [
       "<div style='background: rgb(247, 247, 247);'><form><textarea id='code'>type Monad :: (* -> *) -> Constraint\n",
       "class Applicative m => Monad m where\n",
       "  return :: a -> m a\n",
       "  (>>=) :: m a -> (a -> m b) -> m b\n",
       "  (>>) :: m a -> m b -> m b\n",
       "  {-# MINIMAL (>>=) #-}\n",
       "  \t-- Defined at <interactive>:1:1\n",
       "</textarea></form></div><script>CodeMirror.fromTextArea(document.getElementById('code'), {mode: 'haskell', readOnly: 'nocursor'});</script>"
      ],
      "text/plain": [
       "type Monad :: (* -> *) -> Constraint\n",
       "class Applicative m => Monad m where\n",
       "  return :: a -> m a\n",
       "  (>>=) :: m a -> (a -> m b) -> m b\n",
       "  (>>) :: m a -> m b -> m b\n",
       "  {-# MINIMAL (>>=) #-}\n",
       "  \t-- Defined at <interactive>:1:1"
      ]
     },
     "metadata": {},
     "output_type": "display_data"
    }
   ],
   "source": [
    ":i Monad"
   ]
  },
  {
   "cell_type": "markdown",
   "id": "715252dc-2481-4865-a9d1-e06103e50b79",
   "metadata": {},
   "source": [
    "Define al tipo `Maybe` como instancia de mónadas."
   ]
  },
  {
   "cell_type": "code",
   "execution_count": 17,
   "id": "4344f2ce-4125-418b-ba56-c00355015745",
   "metadata": {},
   "outputs": [],
   "source": [
    "-- data Maybe a = Nothing | Just a\n",
    "\n",
    "instance Monad Maybe where\n",
    "    Nothing  >>= _ = Nothing\n",
    "    (Just x) >>= f = f x"
   ]
  },
  {
   "cell_type": "code",
   "execution_count": 18,
   "id": "c27bfb29-27ef-413d-9804-d2dc4561ed46",
   "metadata": {},
   "outputs": [
    {
     "data": {
      "text/html": [
       "<style>/* Styles used for the Hoogle display in the pager */\n",
       ".hoogle-doc {\n",
       "display: block;\n",
       "padding-bottom: 1.3em;\n",
       "padding-left: 0.4em;\n",
       "}\n",
       ".hoogle-code {\n",
       "display: block;\n",
       "font-family: monospace;\n",
       "white-space: pre;\n",
       "}\n",
       ".hoogle-text {\n",
       "display: block;\n",
       "}\n",
       ".hoogle-name {\n",
       "color: green;\n",
       "font-weight: bold;\n",
       "}\n",
       ".hoogle-head {\n",
       "font-weight: bold;\n",
       "}\n",
       ".hoogle-sub {\n",
       "display: block;\n",
       "margin-left: 0.4em;\n",
       "}\n",
       ".hoogle-package {\n",
       "font-weight: bold;\n",
       "font-style: italic;\n",
       "}\n",
       ".hoogle-module {\n",
       "font-weight: bold;\n",
       "}\n",
       ".hoogle-class {\n",
       "font-weight: bold;\n",
       "}\n",
       ".get-type {\n",
       "color: green;\n",
       "font-weight: bold;\n",
       "font-family: monospace;\n",
       "display: block;\n",
       "white-space: pre-wrap;\n",
       "}\n",
       ".show-type {\n",
       "color: green;\n",
       "font-weight: bold;\n",
       "font-family: monospace;\n",
       "margin-left: 1em;\n",
       "}\n",
       ".mono {\n",
       "font-family: monospace;\n",
       "display: block;\n",
       "}\n",
       ".err-msg {\n",
       "color: red;\n",
       "font-style: italic;\n",
       "font-family: monospace;\n",
       "white-space: pre;\n",
       "display: block;\n",
       "}\n",
       "#unshowable {\n",
       "color: red;\n",
       "font-weight: bold;\n",
       "}\n",
       ".err-msg.in.collapse {\n",
       "padding-top: 0.7em;\n",
       "}\n",
       ".highlight-code {\n",
       "white-space: pre;\n",
       "font-family: monospace;\n",
       "}\n",
       ".suggestion-warning { \n",
       "font-weight: bold;\n",
       "color: rgb(200, 130, 0);\n",
       "}\n",
       ".suggestion-error { \n",
       "font-weight: bold;\n",
       "color: red;\n",
       "}\n",
       ".suggestion-name {\n",
       "font-weight: bold;\n",
       "}\n",
       "</style><div class=\"suggestion-name\" style=\"clear:both;\">Evaluate</div><div class=\"suggestion-row\" style=\"float: left;\"><div class=\"suggestion-warning\">Found:</div><div class=\"highlight-code\" id=\"haskell\">Nothing >>= (\\ x -> Just (x + 1))</div></div><div class=\"suggestion-row\" style=\"float: left;\"><div class=\"suggestion-warning\">Why Not:</div><div class=\"highlight-code\" id=\"haskell\">Nothing</div></div>"
      ],
      "text/plain": [
       "Line 2: Evaluate\n",
       "Found:\n",
       "Nothing >>= (\\ x -> Just (x + 1))\n",
       "Why not:\n",
       "Nothing"
      ]
     },
     "metadata": {},
     "output_type": "display_data"
    },
    {
     "data": {
      "text/plain": [
       "Just 6"
      ]
     },
     "metadata": {},
     "output_type": "display_data"
    },
    {
     "data": {
      "text/plain": [
       "Nothing"
      ]
     },
     "metadata": {},
     "output_type": "display_data"
    }
   ],
   "source": [
    "Just 5 >>= (\\x -> Just (x + 1))\n",
    "Nothing >>= (\\x -> Just (x + 1))"
   ]
  },
  {
   "cell_type": "markdown",
   "id": "b49b07c5-3da5-40d3-bab4-82e03808e18a",
   "metadata": {},
   "source": [
    "Define a las listas como instancias de mónadas."
   ]
  },
  {
   "cell_type": "code",
   "execution_count": 25,
   "id": "c2ac5f30-84cb-43c2-b6ec-15495b2d6c1e",
   "metadata": {},
   "outputs": [],
   "source": [
    "instance Monad [] where\n",
    "    xs >>= f = [y | x <- xs, y <- f x]"
   ]
  },
  {
   "cell_type": "code",
   "execution_count": 26,
   "id": "9b35dc84-9681-4eea-a53a-c76dc39b2ce0",
   "metadata": {},
   "outputs": [
    {
     "data": {
      "text/plain": [
       "[1,2,2,3,3,3,4,4,4,4,5,5,5,5,5]"
      ]
     },
     "metadata": {},
     "output_type": "display_data"
    }
   ],
   "source": [
    "[1..5] >>= (\\x -> replicate x x)\n",
    "--fmap (\\x -> replicate x x) [1..5]"
   ]
  },
  {
   "cell_type": "markdown",
   "id": "cb32c9d1-d005-4617-996a-7c48e37a6da3",
   "metadata": {},
   "source": [
    "### Ejercicio\n",
    "\n",
    "Modifica el ejercicio original, ahora utilizando mónadas."
   ]
  },
  {
   "cell_type": "code",
   "execution_count": 29,
   "id": "eb23e2ea-47f9-4910-ac26-2dd4b61ef3fd",
   "metadata": {},
   "outputs": [],
   "source": [
    "--(>>=) :: m a -> (a -> m b) -> m b\n",
    "--(>>=) :: Maybe Integer -> (Integer -> Maybe Calificacion) -> Maybe Calificacion\n",
    "\n",
    "-- cuenta :: Estudiante -> NumeroCuenta\n",
    "-- buscaCalificacion :: NumeroCuenta -> Maybe Calificacion\n",
    "-- buscaCalificacion . cuenta :: Estudiante -> Maybe Calificacion\n",
    "\n",
    "aprobado' :: Nombre -> Maybe Bool\n",
    "aprobado' nombreE = buscaEstudiante nombreE\n",
    "                    >>= (buscaCalificacion . cuenta)\n",
    "                    >>= (\\c -> return (promedio c >= 6))"
   ]
  },
  {
   "cell_type": "code",
   "execution_count": 30,
   "id": "f3b14b8e-3c44-42c0-80e9-bda73961f6ac",
   "metadata": {},
   "outputs": [
    {
     "data": {
      "text/plain": [
       "Just False"
      ]
     },
     "metadata": {},
     "output_type": "display_data"
    },
    {
     "data": {
      "text/plain": [
       "Just True"
      ]
     },
     "metadata": {},
     "output_type": "display_data"
    },
    {
     "data": {
      "text/plain": [
       "Just True"
      ]
     },
     "metadata": {},
     "output_type": "display_data"
    },
    {
     "data": {
      "text/plain": [
       "Just True"
      ]
     },
     "metadata": {},
     "output_type": "display_data"
    },
    {
     "data": {
      "text/plain": [
       "Nothing"
      ]
     },
     "metadata": {},
     "output_type": "display_data"
    }
   ],
   "source": [
    "aprobado' \"Canek\"\n",
    "aprobado' \"Urrutia\"\n",
    "aprobado' \"Lourdes\"\n",
    "aprobado' \"Galaviz\"\n",
    "aprobado' \"JP\""
   ]
  },
  {
   "cell_type": "markdown",
   "id": "96254ed3-759a-4309-8deb-0b0d164dad33",
   "metadata": {},
   "source": [
    "## Notación `do`\n",
    "\n",
    "Cuando trabajamos con mónadas, es muy común encontrar situaciones como la siguiente:\n",
    "\n",
    "```haskell\n",
    "monada1 >>= (\n",
    "    \\x1 -> f x1 >>= (\n",
    "        \\x2 -> g x2 >>= ...))\n",
    "```\n",
    "\n",
    "Haskell nos da una alternativa:\n",
    "\n",
    "```haskell\n",
    "do\n",
    "    x1 <- monada1\n",
    "    x2 <- f x1\n",
    "    ...\n",
    "```\n",
    "\n",
    "Cuando utilizamos el operador `>>` es equivalente a no asignar nada:\n",
    "\n",
    "```haskell\n",
    "monada1 >> monada2\n",
    "\n",
    "do\n",
    "    monada1\n",
    "    monada2\n",
    "```\n",
    "\n",
    "Igual podemos utilizar `return`:\n",
    "\n",
    "```haskell\n",
    "do\n",
    "    ...\n",
    "    return resultado\n",
    "```"
   ]
  },
  {
   "cell_type": "markdown",
   "id": "196deaf9-e68b-4fbe-a17f-cd8d08cde693",
   "metadata": {},
   "source": [
    "### Ejercicio\n",
    "\n",
    "Modifica el ejercicio anterior para utilizar la notación `do`."
   ]
  },
  {
   "cell_type": "code",
   "execution_count": 32,
   "id": "3c4b02e7-c2db-4cb8-b375-daab22d44a23",
   "metadata": {},
   "outputs": [
    {
     "data": {
      "text/html": [
       "<style>/* Styles used for the Hoogle display in the pager */\n",
       ".hoogle-doc {\n",
       "display: block;\n",
       "padding-bottom: 1.3em;\n",
       "padding-left: 0.4em;\n",
       "}\n",
       ".hoogle-code {\n",
       "display: block;\n",
       "font-family: monospace;\n",
       "white-space: pre;\n",
       "}\n",
       ".hoogle-text {\n",
       "display: block;\n",
       "}\n",
       ".hoogle-name {\n",
       "color: green;\n",
       "font-weight: bold;\n",
       "}\n",
       ".hoogle-head {\n",
       "font-weight: bold;\n",
       "}\n",
       ".hoogle-sub {\n",
       "display: block;\n",
       "margin-left: 0.4em;\n",
       "}\n",
       ".hoogle-package {\n",
       "font-weight: bold;\n",
       "font-style: italic;\n",
       "}\n",
       ".hoogle-module {\n",
       "font-weight: bold;\n",
       "}\n",
       ".hoogle-class {\n",
       "font-weight: bold;\n",
       "}\n",
       ".get-type {\n",
       "color: green;\n",
       "font-weight: bold;\n",
       "font-family: monospace;\n",
       "display: block;\n",
       "white-space: pre-wrap;\n",
       "}\n",
       ".show-type {\n",
       "color: green;\n",
       "font-weight: bold;\n",
       "font-family: monospace;\n",
       "margin-left: 1em;\n",
       "}\n",
       ".mono {\n",
       "font-family: monospace;\n",
       "display: block;\n",
       "}\n",
       ".err-msg {\n",
       "color: red;\n",
       "font-style: italic;\n",
       "font-family: monospace;\n",
       "white-space: pre;\n",
       "display: block;\n",
       "}\n",
       "#unshowable {\n",
       "color: red;\n",
       "font-weight: bold;\n",
       "}\n",
       ".err-msg.in.collapse {\n",
       "padding-top: 0.7em;\n",
       "}\n",
       ".highlight-code {\n",
       "white-space: pre;\n",
       "font-family: monospace;\n",
       "}\n",
       ".suggestion-warning { \n",
       "font-weight: bold;\n",
       "color: rgb(200, 130, 0);\n",
       "}\n",
       ".suggestion-error { \n",
       "font-weight: bold;\n",
       "color: red;\n",
       "}\n",
       ".suggestion-name {\n",
       "font-weight: bold;\n",
       "}\n",
       "</style><div class=\"suggestion-name\" style=\"clear:both;\">Avoid lambda</div><div class=\"suggestion-row\" style=\"float: left;\"><div class=\"suggestion-warning\">Found:</div><div class=\"highlight-code\" id=\"haskell\">\\ e -> buscaCalificacion $ cuenta e</div></div><div class=\"suggestion-row\" style=\"float: left;\"><div class=\"suggestion-warning\">Why Not:</div><div class=\"highlight-code\" id=\"haskell\">buscaCalificacion . cuenta</div></div>"
      ],
      "text/plain": [
       "Line 3: Avoid lambda\n",
       "Found:\n",
       "\\ e -> buscaCalificacion $ cuenta e\n",
       "Why not:\n",
       "buscaCalificacion . cuenta"
      ]
     },
     "metadata": {},
     "output_type": "display_data"
    }
   ],
   "source": [
    "aprobado' :: Nombre -> Maybe Bool\n",
    "aprobado' nombreE = buscaEstudiante nombreE\n",
    "                    >>= (\\e -> buscaCalificacion $ cuenta e)\n",
    "                    >>= (\\c -> return (promedio c >= 6))\n",
    "\n",
    "aprobado'' :: Nombre -> Maybe Bool\n",
    "aprobado'' nombreE = do\n",
    "                        e <- buscaEstudiante nombreE\n",
    "                        c <- buscaCalificacion (cuenta e)\n",
    "                        return (promedio c >= 6)"
   ]
  },
  {
   "cell_type": "code",
   "execution_count": 33,
   "id": "9f24e697-c634-4841-a8a2-4f6fcd89bcaa",
   "metadata": {},
   "outputs": [
    {
     "data": {
      "text/plain": [
       "Just False"
      ]
     },
     "metadata": {},
     "output_type": "display_data"
    },
    {
     "data": {
      "text/plain": [
       "Just True"
      ]
     },
     "metadata": {},
     "output_type": "display_data"
    },
    {
     "data": {
      "text/plain": [
       "Just True"
      ]
     },
     "metadata": {},
     "output_type": "display_data"
    },
    {
     "data": {
      "text/plain": [
       "Just True"
      ]
     },
     "metadata": {},
     "output_type": "display_data"
    },
    {
     "data": {
      "text/plain": [
       "Nothing"
      ]
     },
     "metadata": {},
     "output_type": "display_data"
    }
   ],
   "source": [
    "aprobado'' \"Canek\"\n",
    "aprobado'' \"Urrutia\"\n",
    "aprobado'' \"Lourdes\"\n",
    "aprobado'' \"Galaviz\"\n",
    "aprobado'' \"JP\""
   ]
  },
  {
   "cell_type": "markdown",
   "id": "d4a9b758-3908-47d8-af2f-e2dd0a25aeda",
   "metadata": {},
   "source": [
    "## Leyes\n",
    "\n",
    "- Identidad izquierda: `return a >>= f ≡ f a`.\n",
    "- Identidad derecha: `m >>= return ≡ m`.\n",
    "- Asociatividad: `(m >>= f) >>= g ≡ m >>= (\\x -> f x >>= g)`"
   ]
  }
 ],
 "metadata": {
  "kernelspec": {
   "display_name": "Haskell",
   "language": "haskell",
   "name": "haskell"
  },
  "language_info": {
   "codemirror_mode": "ihaskell",
   "file_extension": ".hs",
   "mimetype": "text/x-haskell",
   "name": "haskell",
   "pygments_lexer": "Haskell",
   "version": "8.10.4"
  }
 },
 "nbformat": 4,
 "nbformat_minor": 5
}
