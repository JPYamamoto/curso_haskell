{
 "cells": [
  {
   "cell_type": "markdown",
   "id": "69a56d80-5f44-455e-aef9-61a4e99c14bb",
   "metadata": {},
   "source": [
    "# Mónadas Útiles\n",
    "\n",
    "En general, tenemos que las mónadas nos permiten aplicar funciones a valores encapsulados, que a su vez encapsulan el resultado:\n",
    "\n",
    "```haskell\n",
    "(>>=) :: Monad m => m a -> (a -> m b) -> m b\n",
    "```\n",
    "\n",
    "En particular, ese contexto que encapsula a la mónada puede ser una tupla con un valor definido. Por lo tanto, podemos tener mónadas con función `>>=` de la forma:\n",
    "\n",
    "```haskell\n",
    "(>>=) :: (a, c) -> (a -> (b, c)) -> (b, c)\n",
    "```\n",
    "\n",
    "Y por lo tanto, podemos utilizar el primer valor de la tupla como el resultado de nuestras funciones, y el segundo para pasar información entre funciones. Esto se utiliza como base para todas las siguientes mónadas."
   ]
  },
  {
   "cell_type": "markdown",
   "id": "60a3f486-7661-4e3f-badc-c3f9a62c65a6",
   "metadata": {},
   "source": [
    "Para instalar varias instancias de Mónadas útiles:"
   ]
  },
  {
   "cell_type": "code",
   "execution_count": null,
   "id": "4d599b5d-aac7-4d11-8961-508e6456347a",
   "metadata": {},
   "outputs": [],
   "source": [
    ":! stack install mtl"
   ]
  },
  {
   "cell_type": "markdown",
   "id": "a7024bd9-fe92-415c-9233-5aba6b360074",
   "metadata": {},
   "source": [
    "## Reader\n",
    "\n",
    "Nos sirve para compartir información entre llamadas de funciones.\n",
    "\n",
    "Casos de uso:\n",
    "- Valores de entorno.\n",
    "- Configuración.\n",
    "- Constantes.\n",
    "\n",
    "Funciones:\n",
    "- `ask`: Devuelve los valores almacenados.\n",
    "- `asks`: Ejecuta una función que requiere los valores almacenados.\n",
    "\n",
    "[Más información - Documentación](https://hackage.haskell.org/package/mtl-2.2.2/docs/Control-Monad-Reader.html)"
   ]
  },
  {
   "cell_type": "code",
   "execution_count": null,
   "id": "7b498e75-5724-4d4c-ba7e-38e9dd482bc9",
   "metadata": {},
   "outputs": [],
   "source": [
    "import Control.Monad.Reader\n",
    "\n",
    "data ConfigBDD = ConfigBDD { database :: String\n",
    "                           , username :: String\n",
    "                           , table    :: String\n",
    "                           , engine   :: String\n",
    "                           } deriving Show\n",
    "\n",
    "-- Returns True if the \"count\" variable contains correct bindings size.\n",
    "conexion :: ConfigBDD -> String\n",
    "conexion config = runReader generaURL config\n",
    "\n",
    "-- The Reader monad, which implements this complicated check.\n",
    "generaURL :: Reader ConfigBDD String\n",
    "generaURL = do\n",
    "    protocol <- asks generaProtocolo\n",
    "    config <- ask\n",
    "    return (protocol ++ username config ++ \"@\" ++ database config ++ \"/\" ++ table config)\n",
    "\n",
    "-- Regresa un valor de la configuración.\n",
    "generaProtocolo :: ConfigBDD -> String\n",
    "generaProtocolo config = case engine config of\n",
    "                            \"postgresql\" -> \"postgresql://\"\n",
    "                            \"mysql\"      -> \"mysql://\"\n",
    "                            \"mongo\"      -> \"mongodb://\"\n",
    "\n",
    "-- Configuración de mi base de datos.\n",
    "configuracion :: ConfigBDD\n",
    "configuracion = ConfigBDD { database = \"localhost:5432\"\n",
    "                          , username = \"admin\"\n",
    "                          , table    = \"usuarios\"\n",
    "                          , engine   = \"postgresql\"\n",
    "                          }\n",
    "\n",
    "main :: IO ()\n",
    "main = do\n",
    "    putStrLn \"Información de BDD: \"\n",
    "    putStrLn $ show configuracion ++ \"\\n\"\n",
    "    putStr \"URL de conexión: \"\n",
    "    putStrLn $ conexion configuracion\n",
    "    \n",
    "main"
   ]
  },
  {
   "cell_type": "markdown",
   "id": "a0ce4f96-d641-43b5-813d-a83755cd9d38",
   "metadata": {},
   "source": [
    "## Writer\n",
    "\n",
    "Nos sirve para generar información a la par que aplicamos funciones.\n",
    "\n",
    "Casos de uso:\n",
    "- Logging\n",
    "- Serialización\n",
    "- Persistencia\n",
    "\n",
    "Funciones:\n",
    "- `writer`: Dada la tupla `(a, b)`, añade `b` a la información secundaria y regresa `a` dentro de una mónada `Writer`.\n",
    "- `tell`: Añade su entrada a la información secundaria.\n",
    "\n",
    "[Más información - Documentación](https://hackage.haskell.org/package/mtl-2.2.2/docs/Control-Monad-Writer-Lazy.html)"
   ]
  },
  {
   "cell_type": "code",
   "execution_count": null,
   "id": "60f1e56c-f0d0-460e-ade2-740c33b57dea",
   "metadata": {},
   "outputs": [],
   "source": [
    "import Control.Monad.Writer\n",
    "\n",
    "mapLog :: (Show a, Show b) => (a -> b) -> [a] -> [b] -> Writer [String] [b]\n",
    "mapLog _ []     ys = writer (reverse ys, [\"Caso base\"])\n",
    "mapLog f (x:xs) ys = do\n",
    "        tell [\"Mapeando \" ++ show x ++ \" a \" ++ show (f x)]\n",
    "        mapLog f xs (f x:ys)\n",
    "\n",
    "main :: IO ()\n",
    "main = print $ runWriter (mapLog (+1) [1..5] [])\n",
    "\n",
    "main"
   ]
  },
  {
   "cell_type": "markdown",
   "id": "89fb57fc-02cb-4e10-beb8-31e5f11598d1",
   "metadata": {},
   "source": [
    "## State\n",
    "\n",
    "Es una combinación entre `Reader` y `Writer` puesto que podemos tanto almacenar valores, como agregar más a futuro.\n",
    "\n",
    "Casos de uso:\n",
    "- Estados globales.\n",
    "\n",
    "Funciones:\n",
    "- `get`: Regresa el estado actual.\n",
    "- `put`: Define el nuevo estado.\n",
    "\n",
    "[Más información - Documentación](https://hackage.haskell.org/package/mtl-2.2.2/docs/Control-Monad-State-Lazy.html)"
   ]
  },
  {
   "cell_type": "code",
   "execution_count": null,
   "id": "c55289de-7cc6-42d5-a87c-07b1980f5f03",
   "metadata": {},
   "outputs": [],
   "source": [
    "import Control.Monad.State\n",
    "\n",
    "stateGCD :: Integer -> Integer -> Integer\n",
    "stateGCD x y = fst $ runState gcdRecursive (x, y)\n",
    "\n",
    "gcdRecursive :: State (Integer, Integer) Integer\n",
    "gcdRecursive = do\n",
    "  (x, y) <- get\n",
    "  case compare x y of\n",
    "    EQ -> return x\n",
    "    LT -> put (x, y - x) >> gcdRecursive\n",
    "    GT -> put (x - y, y) >> gcdRecursive\n",
    "    \n",
    "stateGCD 5 7\n",
    "stateGCD 4 6"
   ]
  },
  {
   "cell_type": "code",
   "execution_count": null,
   "id": "a0649b1a-7d9f-4cc1-b05d-08600cc98989",
   "metadata": {},
   "outputs": [],
   "source": [
    "import Control.Monad.State\n",
    "\n",
    "type Stack = [Int]\n",
    "\n",
    "pop :: State Stack Int\n",
    "pop = state $ \\(x:xs) -> (x, xs)\n",
    "\n",
    "push :: Int -> State Stack ()\n",
    "push a = state $ \\xs -> ((), a:xs)\n",
    "\n",
    "modificaPila :: State Stack Int  \n",
    "modificaPila = do  \n",
    "    push 2\n",
    "    push 1\n",
    "    pop\n",
    "    \n",
    "runState modificaPila [3..5]"
   ]
  },
  {
   "cell_type": "markdown",
   "id": "fa3058e2-c7b7-4ab5-b984-c8217b7efe2a",
   "metadata": {},
   "source": [
    "## IO\n",
    "\n",
    "Mónada que nos enlaza con el \"mundo real\".\n",
    "\n",
    "Casos de uso:\n",
    "- Manejo de archivos.\n",
    "- Imprimir en terminal.\n",
    "- Manejar la entrada estándar.\n",
    "- Utilizar internet u otros puertos.\n",
    "\n",
    "Funciones:\n",
    "- `putChar`: Imprime un caracter.\n",
    "- `putStr`: Imprime una cadena de texto.\n",
    "- `putStrLn`: Imprime una cadena de texto seguida de una nueva línea.\n",
    "- `print`: Imprime algo que sea instancia de `Show`.\n",
    "- `getChar`: Lee un caracter de la entrada estándar.\n",
    "- `getLine`: Lee una línea de la entrada estándar.\n",
    "- `readFile`: Lee un archivo dado su path.\n",
    "- `writeFile`: Escribe una cadena de texto en un archivo dado su path.\n",
    "- `appendFile`: Escribe al final de un archivo."
   ]
  },
  {
   "cell_type": "code",
   "execution_count": null,
   "id": "81020aca-e2df-4f21-92e9-aba528605c3e",
   "metadata": {},
   "outputs": [],
   "source": [
    "main :: IO ()\n",
    "main = do\n",
    "    writeFile \"test.txt\" \"Hola Mundo!\"\n",
    "    content <- readFile \"test.txt\"\n",
    "    putStrLn content\n",
    "    \n",
    "main"
   ]
  }
 ],
 "metadata": {
  "kernelspec": {
   "display_name": "Haskell",
   "language": "haskell",
   "name": "haskell"
  },
  "language_info": {
   "codemirror_mode": "Haskell",
   "file_extension": ".hs",
   "mimetype": "text/x-haskell",
   "name": "haskell",
   "pygments_lexer": "Haskell",
   "version": "8.10.4"
  }
 },
 "nbformat": 4,
 "nbformat_minor": 5
}
