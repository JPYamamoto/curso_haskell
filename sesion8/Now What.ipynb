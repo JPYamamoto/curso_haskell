{
 "cells": [
  {
   "cell_type": "markdown",
   "id": "734cec17-6165-4086-9340-a49ab1d684a4",
   "metadata": {},
   "source": [
    "# Más allá del curso...\n",
    "\n",
    "![Now what?](https://c.tenor.com/NeOTch1WXawAAAAC/finding-nemo-bags.gif)"
   ]
  },
  {
   "cell_type": "markdown",
   "id": "39601db4-a212-4548-b7be-756425ac951b",
   "metadata": {},
   "source": [
    "## Mónadas\n",
    "- [The Monad Challenges](https://mightybyte.github.io/monad-challenges/).\n",
    "- [You could have invented monads (and maybe you have)](http://blog.sigfpe.com/2006/08/you-could-have-invented-monads-and.html)."
   ]
  },
  {
   "cell_type": "markdown",
   "id": "b34680bb-3a0b-48de-9973-370c3277b021",
   "metadata": {},
   "source": [
    "## Haskell en el mundo real.\n",
    "\n",
    "- Estructurar proyectos de Haskell.\n",
    "- Manejo de paquetes.\n",
    "- Módulos y bibliotecas.\n",
    "- Debugging y profiling.\n",
    "- Tests unitarios.\n",
    "- Tests basados en propiedades (`QuickCheck`).\n",
    "- Laziness / Strictness.\n",
    "- Estructuras de datos:\n",
    "    - Zippers.\n",
    "    - Bytestrings, Text, OverloadedStrings.\n",
    "    - Maps.\n",
    "    - Trees.\n",
    "    - Sets.\n",
    "    - Vectors.\n",
    "- Concurrencia.\n",
    "- Redes y web."
   ]
  },
  {
   "cell_type": "markdown",
   "id": "66e8450e-3417-4057-864b-2f1697cfae34",
   "metadata": {},
   "source": [
    "## Haskell \"académico\".\n",
    "- Tipos dependientes (dependent types).\n",
    "- Transformadores de mónadas (monad transformers).\n",
    "- `SafeHaskell`.\n",
    "- Mónadas Libres (free monads).\n",
    "- Lentes (lenses).\n",
    "- Tipos de datos algebraicos generalizados (GADTs).\n",
    "- Cuantificación.\n",
    "- Familias de tipos.\n",
    "- Metaprogramación con TemplateHaskell.\n",
    "- Categorías.\n",
    "- Cálculo lambda y codificación de Church."
   ]
  },
  {
   "cell_type": "markdown",
   "id": "ed308a52-ef17-4924-bd61-48966af7e701",
   "metadata": {},
   "source": [
    "# Sigue mi progreso.\n",
    "[The Functional Programming Collection @ jpyamamoto.com](https://jpyamamoto.com/functional/)"
   ]
  }
 ],
 "metadata": {
  "kernelspec": {
   "display_name": "Haskell",
   "language": "haskell",
   "name": "haskell"
  },
  "language_info": {
   "codemirror_mode": "Haskell",
   "file_extension": ".hs",
   "mimetype": "text/x-haskell",
   "name": "haskell",
   "pygments_lexer": "Haskell",
   "version": "8.10.4"
  }
 },
 "nbformat": 4,
 "nbformat_minor": 5
}
