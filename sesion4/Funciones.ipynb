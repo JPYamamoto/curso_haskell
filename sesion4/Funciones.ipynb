{
 "cells": [
  {
   "cell_type": "markdown",
   "id": "8c99b221-2917-4385-b62b-b1c10f2949f6",
   "metadata": {},
   "source": [
    "# Funciones"
   ]
  },
  {
   "cell_type": "markdown",
   "id": "8a2e2707-e7b3-4f45-a4bb-3c48161846d9",
   "metadata": {},
   "source": [
    "## Operadores\n",
    "\n",
    "- Notación prefija: `+ x y`.\n",
    "- Notación infija: `x + y`\n",
    "\n",
    "En Haskell todas las funciones cuyo nombre está compuesto únicamente por símbolos y tiene 2 argumentos, son operadores y funcionan de manera infija:"
   ]
  },
  {
   "cell_type": "code",
   "execution_count": null,
   "id": "efb5f5e0-612c-4eee-8239-f05421c2fd8e",
   "metadata": {},
   "outputs": [],
   "source": [
    "1 + 3\n",
    "10 - 2\n",
    "[1,2,3] ++ [4,5,6]\n",
    "4 < 9"
   ]
  },
  {
   "cell_type": "markdown",
   "id": "56b0f217-132a-4d60-9587-8be83a1bf574",
   "metadata": {},
   "source": [
    "Además, los operadores pueden utilizarse de manera prefija si los encerramos en paréntesis:"
   ]
  },
  {
   "cell_type": "code",
   "execution_count": null,
   "id": "5ed08d85-ed71-468f-a90a-2c94b7439978",
   "metadata": {},
   "outputs": [],
   "source": [
    "(+) 1 3\n",
    "(-) 10 2\n",
    "(++) [1,2,3] [4,5,6]\n",
    "(<) 4 9"
   ]
  },
  {
   "cell_type": "markdown",
   "id": "94e0a7a4-e0f2-40b7-895e-3311f097e452",
   "metadata": {},
   "source": [
    "Podemos definir cualquier otro operador siempre y cuando nuestra función sean símbolos, y tengan exactamente 2 argumentos:"
   ]
  },
  {
   "cell_type": "code",
   "execution_count": null,
   "id": "23921ee9-7ce2-455b-8dba-19ecd0097e01",
   "metadata": {},
   "outputs": [],
   "source": [
    "(<=>) :: Bool -> Bool -> Bool\n",
    "(<=>) True  True  = True\n",
    "(<=>) False False = True\n",
    "(<=>) _     _     = False\n",
    "\n",
    "False <=> False\n",
    "False <=> True\n",
    "True <=> False\n",
    "True <=> True"
   ]
  },
  {
   "cell_type": "code",
   "execution_count": null,
   "id": "a78a2f54-a75f-4f44-a1e6-a6523de2e67a",
   "metadata": {},
   "outputs": [],
   "source": [
    "(<||>) :: Bool -> Bool -> Bool\n",
    "True  <||> False = True\n",
    "False <||> True  = True\n",
    "_     <||> _     = False\n",
    "\n",
    "False <||> False\n",
    "False <||> True\n",
    "True <||> False\n",
    "True <||> True"
   ]
  },
  {
   "cell_type": "markdown",
   "id": "54746b36-4f08-4701-9d22-0b335fe841bf",
   "metadata": {},
   "source": [
    "Cualquier otra función de exactamente 2 argumentos, se puede usar de manera infija encerrándola entre comillas invertidas:"
   ]
  },
  {
   "cell_type": "code",
   "execution_count": null,
   "id": "ce0a66e0-61f9-4978-a61b-6c7d238d2d09",
   "metadata": {},
   "outputs": [],
   "source": [
    "12 `mod` 5\n",
    "(>2) `filter` [1,2,3,4]"
   ]
  },
  {
   "cell_type": "code",
   "execution_count": null,
   "id": "dab1475e-c148-4e8d-b4d7-6fc38b2b0aaf",
   "metadata": {},
   "outputs": [],
   "source": [
    "implica :: Bool -> Bool -> Bool\n",
    "implica True False = False\n",
    "implica _     _    = True\n",
    "\n",
    "False `implica` False\n",
    "False `implica` True\n",
    "True `implica` False\n",
    "True `implica` True"
   ]
  },
  {
   "cell_type": "markdown",
   "id": "37f0972b-3d6d-436a-8bf5-e145589b781f",
   "metadata": {},
   "source": [
    "### Asociatividad\n",
    "\n",
    "¿Cómo se lee lo siguiente?\n",
    "\n",
    "```haskell\n",
    "sqrt 4 + 5 * 2 + 3\n",
    "```"
   ]
  },
  {
   "cell_type": "code",
   "execution_count": null,
   "id": "ecaa4dea-51c3-43d7-94e5-2f1253d81e75",
   "metadata": {},
   "outputs": [],
   "source": []
  },
  {
   "cell_type": "markdown",
   "id": "9f834bbd-7f5a-46d5-82bc-69e50381b911",
   "metadata": {},
   "source": [
    "¿Cómo se lee lo siguiente?"
   ]
  },
  {
   "cell_type": "code",
   "execution_count": null,
   "id": "ee126244-48cd-47d0-801a-74d78722d725",
   "metadata": {},
   "outputs": [],
   "source": [
    "False `implica` True `implica` False"
   ]
  },
  {
   "cell_type": "markdown",
   "id": "a8c846a7-4763-4974-bd16-5f6d6e4c446a",
   "metadata": {},
   "source": [
    "### Jerarquía y asociatividad"
   ]
  },
  {
   "cell_type": "markdown",
   "id": "875d45d9-8da8-4dbd-8a3e-aaf9756093ed",
   "metadata": {},
   "source": [
    "__Asociatividad:__ ¿Cómo se ponen los paréntesis?\n",
    "- `infixl`: Asocia a la izquierda, es decir `a • b • c = (a • b) • c`\n",
    "- `infixr`: Asocia a la derecha, es decir `a • b • c = a • (b • c)`\n",
    "- `infix`: Sin asociatividad.\n",
    "\n",
    "__Jerarquía:__ ¿Qué operador se lee primero?\n",
    "- Valor entero del 0 al 9.\n",
    "\n",
    "__Sintaxis:__\n",
    "```haskell\n",
    "infixr 3 `implica`\n",
    "```"
   ]
  },
  {
   "cell_type": "code",
   "execution_count": null,
   "id": "a067d82c-9eee-4420-8897-abb63a5949c8",
   "metadata": {},
   "outputs": [],
   "source": [
    "infixr 3 `implica`\n",
    "implica :: Bool -> Bool -> Bool\n",
    "implica True False = False\n",
    "implica _     _    = True\n",
    "\n",
    "False `implica` True `implica` False\n",
    "False `implica` (True `implica` False)"
   ]
  },
  {
   "cell_type": "markdown",
   "id": "a5247672-093a-4bbf-bc7a-2317df62c217",
   "metadata": {},
   "source": [
    "Podemos ver la precedencia y asociatividad de algún operador utilizando `:i ...`. Además, si no se especifica, por defecto asumimos que es `infixl 9`."
   ]
  },
  {
   "cell_type": "code",
   "execution_count": null,
   "id": "084d8412-fb49-40dc-ad5d-cf09104b3a10",
   "metadata": {},
   "outputs": [],
   "source": [
    ":i ++"
   ]
  },
  {
   "cell_type": "markdown",
   "id": "f0d51777-bdb1-4adf-9d4e-db48ca85d1d8",
   "metadata": {},
   "source": [
    "### Ejercicio\n",
    "\n",
    "Crea un operador llamado `@@` que regrese `True` cuando los elementos a la cabeza de 2 listas son iguales o cuando ambas listas son vacías, y `False` en otro caso. El operador no debe ser asociativo, y debe tener menor precedencia que `++`."
   ]
  },
  {
   "cell_type": "code",
   "execution_count": null,
   "id": "8c86a276-46c3-4512-af0e-f9d1d8f55d46",
   "metadata": {},
   "outputs": [],
   "source": [
    "infix 4 @@\n",
    "(@@) :: [a] -> [a] -> Bool\n",
    "[]    @@ []    = True\n",
    "(x:_) @@ (y:_) = True\n",
    "_     @@ _     = False"
   ]
  },
  {
   "cell_type": "markdown",
   "id": "c28f73e1-1297-4291-9e5a-1f052ece1788",
   "metadata": {},
   "source": [
    "## Captura de argumentos (as-patterns)"
   ]
  },
  {
   "cell_type": "markdown",
   "id": "496aabea-7af2-4252-bf5c-05aa818ebe76",
   "metadata": {},
   "source": [
    "Crea una función que tome una lista y repita su primer argumento. Ejemplo:\n",
    "\n",
    "```haskell\n",
    "repite [1,2,3,4] = [1,1,2,3,4]\n",
    "```"
   ]
  },
  {
   "cell_type": "code",
   "execution_count": null,
   "id": "1cce58bf-99fb-4ba5-9a9e-abfd87b9257c",
   "metadata": {},
   "outputs": [],
   "source": []
  },
  {
   "cell_type": "markdown",
   "id": "825029f6-fb77-4e4e-98c4-2d3f7d2fde2f",
   "metadata": {},
   "source": [
    "Queremos evitar reconstruir la variable con la que estamos trabajando. Podemos lograr eso mediante la captura de argumentos."
   ]
  },
  {
   "cell_type": "code",
   "execution_count": null,
   "id": "bfc2b9aa-9c92-4f2b-9e98-262ac82408f4",
   "metadata": {},
   "outputs": [],
   "source": []
  },
  {
   "cell_type": "markdown",
   "id": "0a1235ca-bc83-40df-8f3e-ea739ddb69bc",
   "metadata": {},
   "source": [
    "### Ejercicio\n",
    "\n",
    "Crea una función `sufijos` que te regresa una lista de todos los sufijos de un texto. Por ejemplo: `sufijos \"lambda\" = [\"lambda\", \"ambda\", \"mbda\", \"bda\", \"da\", \"a\"]`."
   ]
  },
  {
   "cell_type": "code",
   "execution_count": null,
   "id": "c0e3d233-36b9-4c38-b997-d609840aad6c",
   "metadata": {},
   "outputs": [],
   "source": []
  },
  {
   "cell_type": "markdown",
   "id": "0d977296-2cbc-413a-9343-941fc303890b",
   "metadata": {},
   "source": [
    "## Patrones irrefutables (Patrones Perezosos)\n",
    "\n",
    "Haskell nos avisa cuando nuestro código no verifica todos los casos al realizar caza de patrones. _(Probar función `repite` en terminal con bandera `-Wincomplete-patterns`)_."
   ]
  },
  {
   "cell_type": "markdown",
   "id": "fc9b2fb4-6aa9-4722-a08c-cb7bca633133",
   "metadata": {},
   "source": [
    "Podemos decirle a Haskell que ignore cualquier otro caso, pues estamos seguros de que la función no va a fallar:"
   ]
  },
  {
   "cell_type": "code",
   "execution_count": null,
   "id": "a2b6d1cb-078c-434e-b670-21cd0e84fd01",
   "metadata": {},
   "outputs": [],
   "source": []
  },
  {
   "cell_type": "markdown",
   "id": "4eb3fb4c-d057-43c6-b0ef-d0ea182ed2fb",
   "metadata": {},
   "source": [
    "Esta misma idea también sirve para que el argumento no sea evaluado inmediatamente:"
   ]
  },
  {
   "cell_type": "code",
   "execution_count": null,
   "id": "52267068-cac9-4c23-92fb-50ca83206869",
   "metadata": {},
   "outputs": [],
   "source": [
    "ejemploEstricto :: [a] -> Int\n",
    "ejemploEstricto (x:xs) = 1\n",
    "\n",
    "ejemploEstricto []"
   ]
  },
  {
   "cell_type": "code",
   "execution_count": null,
   "id": "5585be96-115e-408c-a989-79926b01d920",
   "metadata": {},
   "outputs": [],
   "source": [
    "ejemploPerezoso :: [a] -> Int\n",
    "ejemploPerezoso ~(x:xs) = 1\n",
    "\n",
    "ejemploPerezoso []"
   ]
  },
  {
   "cell_type": "markdown",
   "id": "dda007cd-fbaf-416e-b0c6-0bb2b0992560",
   "metadata": {},
   "source": [
    "## Funciones parcialmente aplicadas (currying)"
   ]
  },
  {
   "cell_type": "markdown",
   "id": "371db4df-d6cb-491a-a877-6413f1b473e5",
   "metadata": {},
   "source": [
    "Consiste en especificar el valor de alguno de los múltiples argumentos de una función, para crear una segunda función."
   ]
  },
  {
   "cell_type": "code",
   "execution_count": null,
   "id": "c682581e-7ac7-4f86-bbae-97121e5a074c",
   "metadata": {},
   "outputs": [],
   "source": [
    "-- Definimos una función que va a concatenar 2 listas de números enteros:\n",
    "concatena :: [Integer] -> [Integer] -> [Integer]\n",
    "concatena xs ys = \n",
    "\n",
    "-- Definimos una función que va a concatenar a 1 lista de números enteros,\n",
    "-- la lista que contiene [0,1,2,3] al comienzo de la lista.\n",
    "concatenaNums :: [Integer] -> [Integer]\n",
    "concatenaNums xs = "
   ]
  },
  {
   "cell_type": "markdown",
   "id": "f86dd846-22b7-4f7d-87d1-35bd0aea33e4",
   "metadata": {},
   "source": [
    "### Ejercicio\n",
    "\n",
    "Completa la función `duplica` de manera que multiplique por 2 cada uno de los enteros de una lista recibida. Utiliza aplicación parcial."
   ]
  },
  {
   "cell_type": "code",
   "execution_count": null,
   "id": "e7aa4097-6d04-418a-8e05-cd79a1a948dd",
   "metadata": {},
   "outputs": [],
   "source": [
    "duplica xs = map (\\x -> ) xs"
   ]
  },
  {
   "cell_type": "markdown",
   "id": "e535742c-0247-4c7a-ace7-7b529c367ca1",
   "metadata": {},
   "source": [
    "## Point-free style (programación tácita)"
   ]
  },
  {
   "cell_type": "markdown",
   "id": "319e803c-0ee7-45a8-bbca-f51a08475d61",
   "metadata": {},
   "source": [
    "Consiste en no mencionar explícitamente los argumentos de una función, siempre y cuando su tipado sea compatible con el de su definición."
   ]
  },
  {
   "cell_type": "code",
   "execution_count": null,
   "id": "d3bb0dbb-5dff-4fa3-80d0-97b19bef2e16",
   "metadata": {},
   "outputs": [],
   "source": [
    "-- Definición Explícita\n",
    "reversa xs = foldl (\\x y -> y : x) [] xs\n",
    "\n",
    "-- Point-free\n",
    "reversa' = foldl (\\x y -> y : x) []"
   ]
  },
  {
   "cell_type": "code",
   "execution_count": null,
   "id": "3dee1a7b-a98e-47d1-b211-f9eb6aa3c74a",
   "metadata": {},
   "outputs": [],
   "source": [
    ":t reversa\n",
    ":t reversa'\n",
    ":t foldl"
   ]
  },
  {
   "cell_type": "markdown",
   "id": "9083c8fd-cc44-48bd-914a-084ad957f75b",
   "metadata": {},
   "source": [
    "### Ejercicio\n",
    "\n",
    "Modifica la función `duplica` utilizando el estilo point-free."
   ]
  },
  {
   "cell_type": "code",
   "execution_count": null,
   "id": "1543c695-d02b-40e5-8fe8-3075a09b0c3d",
   "metadata": {},
   "outputs": [],
   "source": []
  },
  {
   "cell_type": "markdown",
   "id": "51cb729e-83f6-4557-9a86-8609719eca7c",
   "metadata": {},
   "source": [
    "## Constructores de tipos como funciones.\n",
    "\n",
    "Los constructores de tipos son equivalentes a funciones con la misma cantidad de parámetros que la cantidad de entradas del constructor.\n",
    "\n",
    "Ejemplo:"
   ]
  },
  {
   "cell_type": "code",
   "execution_count": null,
   "id": "fa72f11f-19f8-4fd0-8d1b-a26d277ba9ed",
   "metadata": {},
   "outputs": [],
   "source": [
    "-- Tipo dupla\n",
    "data Dupla a b = Dupla a b deriving (Show, Eq)\n",
    "\n",
    "-- Constructor explícito...\n",
    "encapsulaDupla :: a -> b -> Dupla a b\n",
    "encapsulaDupla x y = Dupla x y\n",
    "\n",
    "-- ...aplicamos point-free style en el segundo argumento...\n",
    "encapsulaDupla' :: a -> b -> Dupla a b\n",
    "encapsulaDupla' x = Dupla x\n",
    "\n",
    "-- ...aplicamos point-free style en el primer argumento...\n",
    "encapsulaDupla'' :: a -> b -> Dupla a b\n",
    "encapsulaDupla'' = Dupla"
   ]
  },
  {
   "cell_type": "code",
   "execution_count": null,
   "id": "d1f79d43-d8d5-48d8-8e3d-d907418630fa",
   "metadata": {},
   "outputs": [],
   "source": [
    "let d1 = encapsulaDupla   \"Lambda\" \"Club\"\n",
    "let d2 = encapsulaDupla'  \"Lambda\" \"Club\"\n",
    "let d3 = encapsulaDupla'' \"Lambda\" \"Club\"\n",
    "\n",
    "d1\n",
    "d2\n",
    "d3\n",
    "\n",
    "d1 == d2\n",
    "d1 == d3\n",
    "d2 == d3"
   ]
  },
  {
   "cell_type": "markdown",
   "id": "9c600cd5-47f7-4d7c-a9ca-eb740fc746f8",
   "metadata": {},
   "source": [
    "### Ejercicio\n",
    "\n",
    "Utilizando el tipo `Reversa` de la clase pasada, crea una función `enteroReversa` que reciba un entero, y regrese el mismo entero encapsulado en un tipo `Reversa`. Utiliza el estilo Point-free."
   ]
  },
  {
   "cell_type": "code",
   "execution_count": null,
   "id": "3c8135dc-b3e1-4350-b425-34fea9b9e3f9",
   "metadata": {},
   "outputs": [],
   "source": [
    "-- Definición de Reversa de la clase pasada\n",
    "newtype Reversa = Reversa Int deriving (Eq, Show)\n",
    "\n",
    "-- Crea la función enteroReversa\n",
    "enteroReversa :: Int -> Reversa"
   ]
  },
  {
   "cell_type": "markdown",
   "id": "925e6478-3bd9-43fa-a3f9-64725db555e2",
   "metadata": {},
   "source": [
    "### Ejercicio\n",
    "\n",
    "Usando lo que conoces sobre el estilo point-free, crea una función `listaReversa` que convierta una lista de enteros a una lista de enteros con orden reversa."
   ]
  },
  {
   "cell_type": "code",
   "execution_count": null,
   "id": "fd0e3189-93ea-421c-912f-2ffd473f82ee",
   "metadata": {},
   "outputs": [],
   "source": [
    "listaReversa :: [Int] -> [Reversa]"
   ]
  },
  {
   "cell_type": "markdown",
   "id": "9a0a8c2f-37f2-4cd5-9ca0-ac59468b1faf",
   "metadata": {},
   "source": [
    "## Aplicación de funciones"
   ]
  },
  {
   "cell_type": "markdown",
   "id": "9224be2e-438f-42de-a1c4-c0eb1dbda21e",
   "metadata": {},
   "source": [
    "### Ejercicio\n",
    "\n",
    "Crea una función `aplica` que toma una función y un argumento, y lo que debe hacer la función es regresar el resultado de aplicar la función recibida al argumento recibido."
   ]
  },
  {
   "cell_type": "code",
   "execution_count": null,
   "id": "2f0fc60a-67b6-4e67-a8eb-e5aa7193e887",
   "metadata": {},
   "outputs": [],
   "source": []
  },
  {
   "cell_type": "markdown",
   "id": "ae77a984-7e4a-4e22-a863-26465a1f4515",
   "metadata": {},
   "source": [
    "### Ejercicio\n",
    "\n",
    "Crea un operador `$` infijo, con jerarquía 0 y asociatividad derecha que aplique su argumento izquierdo (una función) a su argumento derecho (un argumento de la función)."
   ]
  },
  {
   "cell_type": "code",
   "execution_count": null,
   "id": "36946b7b-a528-485c-9195-149a1375f1ce",
   "metadata": {},
   "outputs": [],
   "source": []
  },
  {
   "cell_type": "markdown",
   "id": "4cf2d48a-bbee-4e23-965c-c6ced0c6b5c4",
   "metadata": {},
   "source": [
    "## Composición de funciones\n",
    "\n",
    "En matemáticas, definimos la composición de 2 funciones $f:X\\to Y$ y $g:Y\\to Z$ como:\n",
    "\n",
    "$$ g \\circ f : X \\to Z $$\n",
    "$$ (g \\circ f)(x) = g(f(x)) $$"
   ]
  },
  {
   "cell_type": "markdown",
   "id": "9baa6643-4b34-4ab0-8b08-4398b5a2fb06",
   "metadata": {},
   "source": [
    "### Ejercicio\n",
    "Queremos realizar algo equivalente en Haskell. Creemos una función polimórfica llamada `composicion` que tome como argumentos 2 funciones y un valor al cuál aplicar ambas funciones:"
   ]
  },
  {
   "cell_type": "code",
   "execution_count": null,
   "id": "f13e20db-b3c8-4d7d-9bcf-61a4d5bcdc5c",
   "metadata": {},
   "outputs": [],
   "source": []
  },
  {
   "cell_type": "markdown",
   "id": "916152d3-1a46-4495-b813-3961daf47adf",
   "metadata": {},
   "source": [
    "### Ejercicio\n",
    "Crea un operador `.` infijo, con jerarquía 9 y asociatividad derecha que consista en la aplicación parcial de la función `composicion` de sus 2 primeros argumentos."
   ]
  },
  {
   "cell_type": "code",
   "execution_count": null,
   "id": "a3d7aa32-48d4-4e40-bad4-45e39697dd7e",
   "metadata": {},
   "outputs": [],
   "source": []
  },
  {
   "cell_type": "markdown",
   "id": "12b38973-d27a-47b7-a668-520134e33176",
   "metadata": {},
   "source": [
    "### Ejercicio\n",
    "\n",
    "Utilizando todo lo visto hasta ahora, crea una función `alumnosAprobados` que dada una lista de `Alumno`s, regrese una lista de los nombres de los alumnos con calificación aprobatoria (a partir de 6). Puedes utilizar las funciones `filter` y `map`."
   ]
  },
  {
   "cell_type": "code",
   "execution_count": null,
   "id": "edbb695f-0ac9-4c5b-b086-2f9f0d037c24",
   "metadata": {},
   "outputs": [],
   "source": [
    "data Alumno = Alumno {nombre :: String, calificacion :: Double}\n",
    "\n",
    "alumnosAprobados :: [Alumno] -> [String]\n",
    "alumnosAprobados = "
   ]
  },
  {
   "cell_type": "code",
   "execution_count": null,
   "id": "e212eada-dbb3-4f7e-aa50-85283585665d",
   "metadata": {},
   "outputs": [],
   "source": [
    "alumnosAprobados [ Alumno \"JP\" 3.5\n",
    "                 , Alumno \"Kary\" 11.5\n",
    "                 , Alumno \"Cruz\" 8.64]"
   ]
  }
 ],
 "metadata": {
  "kernelspec": {
   "display_name": "Haskell",
   "language": "haskell",
   "name": "haskell"
  },
  "language_info": {
   "codemirror_mode": "Haskell",
   "file_extension": ".hs",
   "mimetype": "text/x-haskell",
   "name": "haskell",
   "pygments_lexer": "Haskell",
   "version": "8.10.4"
  }
 },
 "nbformat": 4,
 "nbformat_minor": 5
}
