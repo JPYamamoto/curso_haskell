{
 "cells": [
  {
   "cell_type": "markdown",
   "id": "2f147083-50d8-4ac4-89e0-bd1ab7b63a8b",
   "metadata": {},
   "source": [
    "# Problema 1\n",
    "\n",
    "Escribe la función `ultimo` que recibe una lista y te devuelve el último elemento de la lista."
   ]
  },
  {
   "cell_type": "code",
   "execution_count": null,
   "id": "48971f3d-fe54-4259-9fc1-fbd91327ae40",
   "metadata": {},
   "outputs": [],
   "source": [
    "ultimo :: [a] -> a\n",
    "ultimo xs = error \"aquí va su código\""
   ]
  },
  {
   "cell_type": "code",
   "execution_count": null,
   "id": "92970a9f-3ae6-499e-8c18-4fa57d8301b9",
   "metadata": {},
   "outputs": [],
   "source": []
  },
  {
   "cell_type": "markdown",
   "id": "f1a005ae-aaa1-4892-8519-9a4235b6ee9a",
   "metadata": {},
   "source": [
    "# Problema 2\n",
    "Escribe la función `penultimo` que recibe una lista y te devuelve el penúltimo elemento de la lista recibida."
   ]
  },
  {
   "cell_type": "code",
   "execution_count": null,
   "id": "26cc264e-d29a-4c5a-a159-f2414c563fd3",
   "metadata": {},
   "outputs": [],
   "source": [
    "penultimo :: [a] -> a\n",
    "penultimo xs = error \"aquí va su codigo\""
   ]
  },
  {
   "cell_type": "code",
   "execution_count": null,
   "id": "d67fe4fd-7dc5-4781-ba14-5a2a6499d91c",
   "metadata": {},
   "outputs": [],
   "source": []
  },
  {
   "cell_type": "markdown",
   "id": "0634be55-2517-42da-ac63-7409ead06473",
   "metadata": {},
   "source": [
    "# Problema 3\n",
    "Escribe la función `elementoEn` que dada una lista y una posición $0\\leq i < n$ donde $n$ es la longitud de la lista, te devuelve el elemento en la posición $i$."
   ]
  },
  {
   "cell_type": "code",
   "execution_count": null,
   "id": "f7a437b8-b065-4d55-acac-125f2bee3ddc",
   "metadata": {},
   "outputs": [],
   "source": [
    "elementoEn :: [a] -> Integer -> a\n",
    "elementoEn xs i = error \"aquí va su código\""
   ]
  },
  {
   "cell_type": "code",
   "execution_count": null,
   "id": "a1cd29c5-d27b-441b-ae91-fb92d467f8d9",
   "metadata": {},
   "outputs": [],
   "source": []
  },
  {
   "cell_type": "markdown",
   "id": "86cd9ccf-9def-45fb-a1de-e892fc8686f0",
   "metadata": {},
   "source": [
    "# Problema 4\n",
    "Escribe la función `longitud` que dada una lista, te devuelve su longitud."
   ]
  },
  {
   "cell_type": "code",
   "execution_count": null,
   "id": "244bf869-3cd7-45ec-b288-916c7e4feb9e",
   "metadata": {},
   "outputs": [],
   "source": [
    "longitud :: [a] -> Integer\n",
    "longitud xs = error \"aquí va su código\""
   ]
  },
  {
   "cell_type": "code",
   "execution_count": null,
   "id": "49b754a0-817b-4be6-9fc3-f8defd707c0d",
   "metadata": {},
   "outputs": [],
   "source": []
  },
  {
   "cell_type": "markdown",
   "id": "98537d51-9264-48ea-8fae-81f0ab85c6b2",
   "metadata": {},
   "source": [
    "# Problema 5\n",
    "\n",
    "Escribe la función `reversa` que te devuelve la reversa de una lista."
   ]
  },
  {
   "cell_type": "code",
   "execution_count": null,
   "id": "52ce5f8f-9d24-4740-9990-65bd1d10a91d",
   "metadata": {},
   "outputs": [],
   "source": [
    "reversa :: [a] -> [a]\n",
    "reversa xs = error \"aquí va su código\""
   ]
  },
  {
   "cell_type": "code",
   "execution_count": null,
   "id": "9722976c-3586-46f5-837e-24107fdc3aa5",
   "metadata": {},
   "outputs": [],
   "source": []
  },
  {
   "cell_type": "markdown",
   "id": "e634a0f2-1663-4aaa-8cfe-da9d3b394584",
   "metadata": {},
   "source": [
    "# Problema 6\n",
    "\n",
    "Escribe la función `esPalindromo` que dada una lista, regresa `True` si la lista es un palíndromo y `False` en otro caso. Una lista es palíndromo si se leé igual al derecho que al revés."
   ]
  },
  {
   "cell_type": "code",
   "execution_count": null,
   "id": "a366f0d5-1165-43e3-915a-b4590aaacfd2",
   "metadata": {},
   "outputs": [],
   "source": [
    "esPalindromo :: [a] -> Bool\n",
    "esPalindromo xs = error \"aquí va su código\""
   ]
  },
  {
   "cell_type": "code",
   "execution_count": null,
   "id": "59339920-47e0-4dbc-a081-83fa50cc05a3",
   "metadata": {},
   "outputs": [],
   "source": []
  }
 ],
 "metadata": {
  "kernelspec": {
   "display_name": "Haskell",
   "language": "haskell",
   "name": "haskell"
  },
  "language_info": {
   "codemirror_mode": "ihaskell",
   "file_extension": ".hs",
   "mimetype": "text/x-haskell",
   "name": "haskell",
   "pygments_lexer": "Haskell",
   "version": "8.10.4"
  }
 },
 "nbformat": 4,
 "nbformat_minor": 5
}
