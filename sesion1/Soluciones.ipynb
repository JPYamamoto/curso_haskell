{
 "cells": [
  {
   "cell_type": "markdown",
   "id": "2f147083-50d8-4ac4-89e0-bd1ab7b63a8b",
   "metadata": {},
   "source": [
    "# Problema 1\n",
    "\n",
    "Escribe la función `ultimo` que recibe una lista y te devuelve el último elemento de la lista."
   ]
  },
  {
   "cell_type": "code",
   "execution_count": null,
   "id": "48971f3d-fe54-4259-9fc1-fbd91327ae40",
   "metadata": {},
   "outputs": [],
   "source": [
    "ultimo :: [a] -> a\n",
    "ultimo []     = error \"No hay último elemento de una lista vacía.\"\n",
    "ultimo [x]    = x\n",
    "ultimo (_:xs) = ultimo xs"
   ]
  },
  {
   "cell_type": "code",
   "execution_count": null,
   "id": "92970a9f-3ae6-499e-8c18-4fa57d8301b9",
   "metadata": {},
   "outputs": [],
   "source": [
    "-- Ejemplos\n",
    "\n",
    "ultimo [1..100] -- 100\n",
    "ultimo \"Hola Mundo\" -- 'o'\n",
    "ultimo [True, True, True, False] -- False"
   ]
  },
  {
   "cell_type": "markdown",
   "id": "f1a005ae-aaa1-4892-8519-9a4235b6ee9a",
   "metadata": {},
   "source": [
    "# Problema 2\n",
    "Escribe la función `penultimo` que recibe una lista y te devuelve el penúltimo elemento de la lista recibida."
   ]
  },
  {
   "cell_type": "code",
   "execution_count": null,
   "id": "26cc264e-d29a-4c5a-a159-f2414c563fd3",
   "metadata": {},
   "outputs": [],
   "source": [
    "penultimo :: [a] -> a\n",
    "penultimo []     = error \"No hay penúltimo de la lista vacía.\"\n",
    "penultimo [x]    = error \"No hay penúltimo de la lista con un solo elemento.\"\n",
    "penultimo [x, _] = x\n",
    "penultimo (_:xs) = penultimo xs"
   ]
  },
  {
   "cell_type": "code",
   "execution_count": null,
   "id": "d67fe4fd-7dc5-4781-ba14-5a2a6499d91c",
   "metadata": {},
   "outputs": [],
   "source": [
    "-- Ejemplos\n",
    "\n",
    "penultimo [1..100] -- 99\n",
    "penultimo \"Hola Mundo\" -- 'd'\n",
    "penultimo [True, True, True, False] -- True"
   ]
  },
  {
   "cell_type": "markdown",
   "id": "0634be55-2517-42da-ac63-7409ead06473",
   "metadata": {},
   "source": [
    "# Problema 3\n",
    "Escribe la función `elementoEn` que dada una lista y una posición $0\\leq i < n$ donde $n$ es la longitud de la lista, te devuelve el elemento en la posición $i$."
   ]
  },
  {
   "cell_type": "code",
   "execution_count": null,
   "id": "f7a437b8-b065-4d55-acac-125f2bee3ddc",
   "metadata": {},
   "outputs": [],
   "source": [
    "elementoEn :: [a] -> Integer -> a\n",
    "elementoEn []     _ = error \"No hay elementos en la lista vacía.\"\n",
    "elementoEn (x:_)  0 = x\n",
    "elementoEn (_:xs) i = elementoEn xs (i-1)\n",
    "\n",
    "-- La función anterior no es perfecta, puesto que no\n",
    "-- realiza la verificación de que el índice sea válido."
   ]
  },
  {
   "cell_type": "code",
   "execution_count": null,
   "id": "a1cd29c5-d27b-441b-ae91-fb92d467f8d9",
   "metadata": {},
   "outputs": [],
   "source": [
    "-- Ejemplos\n",
    "\n",
    "elementoEn [1..20] 9 -- 10\n",
    "elementoEn \"Haskell Curry\" 0 -- 'H'"
   ]
  },
  {
   "cell_type": "markdown",
   "id": "86cd9ccf-9def-45fb-a1de-e892fc8686f0",
   "metadata": {},
   "source": [
    "# Problema 4\n",
    "Escribe la función `longitud` que dada una lista, te devuelve su longitud."
   ]
  },
  {
   "cell_type": "code",
   "execution_count": null,
   "id": "244bf869-3cd7-45ec-b288-916c7e4feb9e",
   "metadata": {},
   "outputs": [],
   "source": [
    "longitud :: [a] -> Integer\n",
    "longitud []     = 0\n",
    "longitud (_:xs) = 1 + longitud xs"
   ]
  },
  {
   "cell_type": "code",
   "execution_count": null,
   "id": "49b754a0-817b-4be6-9fc3-f8defd707c0d",
   "metadata": {},
   "outputs": [],
   "source": [
    "-- Ejemplos\n",
    "\n",
    "longitud [1..50] -- 50\n",
    "longitud \"Alonzo Church\" -- 13"
   ]
  },
  {
   "cell_type": "markdown",
   "id": "98537d51-9264-48ea-8fae-81f0ab85c6b2",
   "metadata": {},
   "source": [
    "# Problema 5\n",
    "\n",
    "Escribe la función `reversa` que te devuelve la reversa de una lista."
   ]
  },
  {
   "cell_type": "code",
   "execution_count": null,
   "id": "52ce5f8f-9d24-4740-9990-65bd1d10a91d",
   "metadata": {},
   "outputs": [],
   "source": [
    "reversa :: [a] -> [a]\n",
    "reversa xs = foldl (\\x y -> y : x) [] xs"
   ]
  },
  {
   "cell_type": "code",
   "execution_count": null,
   "id": "9722976c-3586-46f5-837e-24107fdc3aa5",
   "metadata": {},
   "outputs": [],
   "source": [
    "-- Ejemplos\n",
    "\n",
    "reversa [1..10] -- [10, 9, 8, 7, 6, 5, 4, 3, 2, 1]\n",
    "reversa ['a'..'z'] -- \"zyxwvutsrqponmlkjihgfedcba\""
   ]
  },
  {
   "cell_type": "markdown",
   "id": "e634a0f2-1663-4aaa-8cfe-da9d3b394584",
   "metadata": {},
   "source": [
    "# Problema 6\n",
    "\n",
    "Escribe la función `esPalindromo` que dada una lista, regresa `True` si la lista es un palíndromo y `False` en otro caso. Una lista es palíndromo si se leé igual al derecho que al revés."
   ]
  },
  {
   "cell_type": "code",
   "execution_count": null,
   "id": "a366f0d5-1165-43e3-915a-b4590aaacfd2",
   "metadata": {},
   "outputs": [],
   "source": [
    "esPalindromo :: Eq a => [a] -> Bool\n",
    "esPalindromo xs = xs == reversa xs"
   ]
  },
  {
   "cell_type": "code",
   "execution_count": null,
   "id": "59339920-47e0-4dbc-a081-83fa50cc05a3",
   "metadata": {},
   "outputs": [],
   "source": [
    "-- Ejemplos\n",
    "\n",
    "esPalindromo [1,2,3,2,1] -- True\n",
    "esPalindromo \"level\" -- True\n",
    "esPalindromo [1..5] -- False"
   ]
  }
 ],
 "metadata": {
  "kernelspec": {
   "display_name": "Haskell",
   "language": "haskell",
   "name": "haskell"
  },
  "language_info": {
   "codemirror_mode": "Haskell",
   "file_extension": ".hs",
   "mimetype": "text/x-haskell",
   "name": "haskell",
   "pygments_lexer": "Haskell",
   "version": "8.10.4"
  }
 },
 "nbformat": 4,
 "nbformat_minor": 5
}
