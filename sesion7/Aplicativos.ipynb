{
 "cells": [
  {
   "cell_type": "markdown",
   "id": "9a5970ed-039d-4a67-ab24-364a000efe2b",
   "metadata": {},
   "source": [
    "# Functores Aplicativos\n",
    "\n",
    "Tenemos el siguiente problema. No podemos expresar operaciones entre 2 instancias de un functor:\n",
    "\n",
    "```haskell\n",
    "aplicaEntreFunctores (+)  (Just 5)     (Just 11)\n",
    "aplicaEntreFunctores (++) [1,2,3]      [4,5,6]\n",
    "aplicaEntreFunctores (&&) (Maybe True) (Maybe False)\n",
    "```\n",
    "\n",
    "Lo que sí podemos hacer, es mapear un functor a un functor que contiene una función:"
   ]
  },
  {
   "cell_type": "code",
   "execution_count": null,
   "id": "a0ef4cf2-b27e-48ed-9df1-c8b373f171be",
   "metadata": {},
   "outputs": [],
   "source": [
    ":t fmap (+) (Just 5) -- Just ((+) 5) = Just (5 +)"
   ]
  },
  {
   "cell_type": "markdown",
   "id": "587fc9da-9609-4bf0-8082-d042ac0eb9a3",
   "metadata": {},
   "source": [
    "Lo anterior, lo podríamos lograr si tuvieramos alguna de las siguientes 2 opciones:\n",
    "\n",
    "- `apply :: f (a -> b) -> f a -> f b`\n",
    "- `lift  :: (a -> b -> c) -> f a -> f b -> f c`\n",
    "\n",
    "Además, necesitaríamos lo siguiente para crear functores:\n",
    "\n",
    "- `pure :: a -> f a`\n",
    "\n",
    "En esencia, lo que queremos lograr es esto:\n",
    "\n",
    "![Ilustración de Aplicativos](applicative.png)"
   ]
  },
  {
   "cell_type": "markdown",
   "id": "b98717bd-1546-4988-8686-c6debb32cc0d",
   "metadata": {},
   "source": [
    "**¿Por qué no modificamos los functores para admitir lo anterior?**: No todos los functores pueden definir una función `pure`.\n",
    "\n",
    "Puesto que los functores no van a cumplir nuestras demandas anteriores, creamos una nueva clase llamada `Aplicativo`. Sus funciones serán `pure`, `<*>` (que corresponde a `apply` y `liftA2` que corresponde a `lift`.\n",
    "\n",
    "_Nota: `<*>` debe definirse en función de `liftA2` y viceversa._\n",
    "\n",
    "_Nota 2: `<*>` es infijo asociativo a la izquierda, con jerarquía 4._"
   ]
  },
  {
   "cell_type": "code",
   "execution_count": null,
   "id": "b67e39f3-bc84-4663-a5ef-e04b51e8bb22",
   "metadata": {},
   "outputs": [],
   "source": []
  },
  {
   "cell_type": "markdown",
   "id": "cd53ff98-f024-4db6-95b1-c97076d65555",
   "metadata": {},
   "source": [
    "## Leyes\n",
    "\n",
    "- Identidad: `pure id <*> x = x`.\n",
    "- Composición: `pure (.) <*> x <*> y <*> z = x <*> (y <*> z)`.\n",
    "- Homomorfismo: `pure f <*> pure x = pure (f x)`.\n",
    "- Intercambio: `u <*> pure y = pure ($ y) <*> u`."
   ]
  },
  {
   "cell_type": "markdown",
   "id": "d0c3f293-33fd-44e9-9835-3079e8f2cd37",
   "metadata": {},
   "source": [
    "## Instancias"
   ]
  },
  {
   "cell_type": "markdown",
   "id": "88174cad-7754-4437-b13c-dd1b5b6523da",
   "metadata": {},
   "source": [
    "Definamos a las listas como instancias de aplicativos."
   ]
  },
  {
   "cell_type": "code",
   "execution_count": null,
   "id": "66529713-a92c-44dd-8a02-fb90388e71e8",
   "metadata": {},
   "outputs": [],
   "source": []
  },
  {
   "cell_type": "markdown",
   "id": "be79f134-0791-4393-b711-ef9e10cc1b83",
   "metadata": {},
   "source": [
    "Definamos a `Maybe` como una instancia de aplicativo."
   ]
  },
  {
   "cell_type": "code",
   "execution_count": null,
   "id": "d90d30d1-c1a3-4f20-9835-76c1291ed59d",
   "metadata": {},
   "outputs": [],
   "source": []
  },
  {
   "cell_type": "markdown",
   "id": "b17a2341-a017-48fb-b362-e070371ba482",
   "metadata": {},
   "source": [
    "Definamos a las funciones como instancias de aplicativos."
   ]
  },
  {
   "cell_type": "code",
   "execution_count": null,
   "id": "3bd100b9-e842-4c36-91f8-54efcf4d5e9f",
   "metadata": {},
   "outputs": [],
   "source": []
  },
  {
   "cell_type": "markdown",
   "id": "cac0f428-13a3-4575-98ca-0bbe139208a8",
   "metadata": {},
   "source": [
    "En los Aplicativos, las instancias para los tipos dejan de ser necesariamente únicas. Veamos el ejemplo con listas:"
   ]
  },
  {
   "cell_type": "code",
   "execution_count": null,
   "id": "d5f14de6-a9a2-4d7b-854f-90cd7a836df5",
   "metadata": {},
   "outputs": [],
   "source": [
    "(++) <$> [\"Hola\", \"Lambda\"] <*> [\"Mundo\", \"Club\"]"
   ]
  },
  {
   "cell_type": "markdown",
   "id": "0224ab18-a107-4a7d-b271-f3609a7d1baf",
   "metadata": {},
   "source": [
    "En la definición por defecto, nos generar todas las combinaciones de 2 listas bajo una función. Pero también sería un aplicativo válido el que resulta en lo siguiente:\n",
    "\n",
    "```haskell\n",
    "> (++) <$> [\"Hola\", \"Lambda\"] <*> [\"Mundo\", \"Club\"]\n",
    "> [\"HolaMundo\", \"LambdaClub\"]\n",
    "```\n",
    "\n",
    "Define la segunda instancia de aplicativos para listas con el comportamiento anterior. Utiliza la función `zipWith`."
   ]
  },
  {
   "cell_type": "code",
   "execution_count": null,
   "id": "4ebdda03-19bd-4a57-87d8-d31dd0850d51",
   "metadata": {},
   "outputs": [],
   "source": [
    ":t zipWith"
   ]
  },
  {
   "cell_type": "code",
   "execution_count": null,
   "id": "26c761b7-f5ce-4499-8329-bb1b16556baf",
   "metadata": {},
   "outputs": [],
   "source": []
  },
  {
   "cell_type": "markdown",
   "id": "fb597e5c-2297-4026-a595-e12855fc9d8a",
   "metadata": {},
   "source": [
    "## Casos de uso"
   ]
  },
  {
   "cell_type": "markdown",
   "id": "2529a439-bdfd-4589-8ad8-6e475c71f509",
   "metadata": {},
   "source": [
    "- Punto medio entre functores y monoides.\n",
    "- Parsear."
   ]
  },
  {
   "cell_type": "code",
   "execution_count": null,
   "id": "26648fc5-5b14-46dc-95fe-79a791d57173",
   "metadata": {},
   "outputs": [],
   "source": [
    "import Data.Char (isDigit, isLetter, isSpace)\n",
    "import Text.Read (readMaybe)\n",
    "\n",
    "data Usuario = Usuario { idUsuario :: Int\n",
    "                       , edad      :: Int\n",
    "                       , nombre    :: String\n",
    "                       } deriving Show\n",
    "\n",
    "parseaID :: String -> Maybe Int\n",
    "parseaID = readMaybe . takeWhile isDigit\n",
    "\n",
    "parseaEdad :: String -> Maybe Int\n",
    "parseaEdad text = let (_:xs) = dropWhile (not . isSpace) text\n",
    "                    in readMaybe $ takeWhile isDigit xs\n",
    "\n",
    "parseaNombre :: String -> Maybe String\n",
    "parseaNombre = Just . takeWhile isLetter . dropWhile (not . isLetter)"
   ]
  },
  {
   "cell_type": "code",
   "execution_count": null,
   "id": "741841de-abc8-4313-a681-a5f62c6e1439",
   "metadata": {},
   "outputs": [],
   "source": [
    "parseaID     \"9 20 jpyamamoto\"\n",
    "parseaEdad   \"9 20 jpyamamoto\"\n",
    "parseaNombre \"9 20 jpyamamoto\""
   ]
  },
  {
   "cell_type": "code",
   "execution_count": null,
   "id": "54f5059c-1a89-4f36-8e2c-b167470fd200",
   "metadata": {},
   "outputs": [],
   "source": [
    "parseaUsuario :: String -> Maybe Usuario\n",
    "parseaUsuario u = Usuario <$> parseaID u <*> parseaEdad u <*> parseaNombre u"
   ]
  },
  {
   "cell_type": "code",
   "execution_count": null,
   "id": "2b4d27df-50cb-4bc7-981f-56ad3cbe83a1",
   "metadata": {},
   "outputs": [],
   "source": [
    "parseaUsuario \"1 20 jpyamamoto\"\n",
    "parseaUsuario \"2 92 alonzochurch\"\n",
    "parseaUsuario \"3 alanturing 41\"\n",
    "\n",
    "fmap parseaUsuario [\"1 20 jpyamamoto\", \"2 92 alonzochurch\", \"3 alanturing 41\"]"
   ]
  },
  {
   "cell_type": "markdown",
   "id": "099314db-b7d4-4643-ace2-66f32591fbc4",
   "metadata": {},
   "source": [
    "Concurrencia:\n",
    "\n",
    "```haskell\n",
    "#!/usr/bin/env stack\n",
    "-- stack script --resolver lts-12.21\n",
    "import Conduit\n",
    "import UnliftIO\n",
    "\n",
    "main :: IO ()\n",
    "main = do\n",
    "  write2Files\n",
    "  runConduitRes $\n",
    "    (sourceFile \"file1.txt\" *> sourceFile \"file2.txt\") .|\n",
    "    sink\n",
    "\n",
    "write2Files = runConcurrently $\n",
    "      Concurrently (writeFile \"file1.txt\" \"this is file 1\")\n",
    "   *> Concurrently (writeFile \"file2.txt\" \"this is file 2\")\n",
    "\n",
    "sink = getZipSink $\n",
    "      ZipSink (sinkFile \"output1.txt\")\n",
    "   *> ZipSink (sinkFile \"output2.txt\")\n",
    "```"
   ]
  },
  {
   "cell_type": "code",
   "execution_count": null,
   "id": "3cd02374-2465-4003-acbf-8eab8f9bc5fb",
   "metadata": {},
   "outputs": [],
   "source": [
    ":t (*>)"
   ]
  }
 ],
 "metadata": {
  "kernelspec": {
   "display_name": "Haskell",
   "language": "haskell",
   "name": "haskell"
  },
  "language_info": {
   "codemirror_mode": "Haskell",
   "file_extension": ".hs",
   "mimetype": "text/x-haskell",
   "name": "haskell",
   "pygments_lexer": "Haskell",
   "version": "8.10.4"
  }
 },
 "nbformat": 4,
 "nbformat_minor": 5
}
