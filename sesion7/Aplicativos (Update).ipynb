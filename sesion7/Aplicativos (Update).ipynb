{
 "cells": [
  {
   "cell_type": "markdown",
   "id": "9a5970ed-039d-4a67-ab24-364a000efe2b",
   "metadata": {},
   "source": [
    "# Functores Aplicativos\n",
    "\n",
    "Tenemos el siguiente problema. No podemos expresar operaciones entre 2 instancias de un functor:\n",
    "\n",
    "```haskell\n",
    "aplicaEntreFunctores (+)  (Just 5)     (Just 11)\n",
    "aplicaEntreFunctores (++) [1,2,3]      [4,5,6]\n",
    "aplicaEntreFunctores (&&) (Right True) (Right False)\n",
    "```\n",
    "\n",
    "Lo que sí podemos hacer, es mapear un functor a un functor que contiene una función:"
   ]
  },
  {
   "cell_type": "code",
   "execution_count": 1,
   "id": "a0ef4cf2-b27e-48ed-9df1-c8b373f171be",
   "metadata": {},
   "outputs": [
    {
     "data": {
      "text/html": [
       "<style>/* Styles used for the Hoogle display in the pager */\n",
       ".hoogle-doc {\n",
       "display: block;\n",
       "padding-bottom: 1.3em;\n",
       "padding-left: 0.4em;\n",
       "}\n",
       ".hoogle-code {\n",
       "display: block;\n",
       "font-family: monospace;\n",
       "white-space: pre;\n",
       "}\n",
       ".hoogle-text {\n",
       "display: block;\n",
       "}\n",
       ".hoogle-name {\n",
       "color: green;\n",
       "font-weight: bold;\n",
       "}\n",
       ".hoogle-head {\n",
       "font-weight: bold;\n",
       "}\n",
       ".hoogle-sub {\n",
       "display: block;\n",
       "margin-left: 0.4em;\n",
       "}\n",
       ".hoogle-package {\n",
       "font-weight: bold;\n",
       "font-style: italic;\n",
       "}\n",
       ".hoogle-module {\n",
       "font-weight: bold;\n",
       "}\n",
       ".hoogle-class {\n",
       "font-weight: bold;\n",
       "}\n",
       ".get-type {\n",
       "color: green;\n",
       "font-weight: bold;\n",
       "font-family: monospace;\n",
       "display: block;\n",
       "white-space: pre-wrap;\n",
       "}\n",
       ".show-type {\n",
       "color: green;\n",
       "font-weight: bold;\n",
       "font-family: monospace;\n",
       "margin-left: 1em;\n",
       "}\n",
       ".mono {\n",
       "font-family: monospace;\n",
       "display: block;\n",
       "}\n",
       ".err-msg {\n",
       "color: red;\n",
       "font-style: italic;\n",
       "font-family: monospace;\n",
       "white-space: pre;\n",
       "display: block;\n",
       "}\n",
       "#unshowable {\n",
       "color: red;\n",
       "font-weight: bold;\n",
       "}\n",
       ".err-msg.in.collapse {\n",
       "padding-top: 0.7em;\n",
       "}\n",
       ".highlight-code {\n",
       "white-space: pre;\n",
       "font-family: monospace;\n",
       "}\n",
       ".suggestion-warning { \n",
       "font-weight: bold;\n",
       "color: rgb(200, 130, 0);\n",
       "}\n",
       ".suggestion-error { \n",
       "font-weight: bold;\n",
       "color: red;\n",
       "}\n",
       ".suggestion-name {\n",
       "font-weight: bold;\n",
       "}\n",
       "</style><span class='get-type'>fmap (+) (Just 5) :: forall a. Num a => Maybe (a -> a)</span>"
      ],
      "text/plain": [
       "fmap (+) (Just 5) :: forall a. Num a => Maybe (a -> a)"
      ]
     },
     "metadata": {},
     "output_type": "display_data"
    }
   ],
   "source": [
    ":t fmap (+) (Just 5) -- Just ((+) 5) = Just (5 +)"
   ]
  },
  {
   "cell_type": "markdown",
   "id": "587fc9da-9609-4bf0-8082-d042ac0eb9a3",
   "metadata": {},
   "source": [
    "Lo anterior, lo podríamos lograr si tuvieramos alguna de las siguientes 2 opciones:\n",
    "\n",
    "- `apply :: f (a -> b) -> f a -> f b`\n",
    "- `lift  :: (a -> b -> c) -> f a -> f b -> f c`\n",
    "\n",
    "Además, necesitaríamos lo siguiente para crear functores:\n",
    "\n",
    "- `pure :: a -> f a`\n",
    "\n",
    "En esencia, lo que queremos lograr es esto:\n",
    "\n",
    "![Ilustración de Aplicativos](applicative.png)"
   ]
  },
  {
   "cell_type": "markdown",
   "id": "b98717bd-1546-4988-8686-c6debb32cc0d",
   "metadata": {},
   "source": [
    "**¿Por qué no modificamos los functores para admitir lo anterior?**: No todos los functores pueden definir una función `pure`.\n",
    "\n",
    "Puesto que los functores no van a cumplir nuestras demandas anteriores, creamos una nueva clase llamada `Aplicativo`. Sus funciones serán `pure`, `<*>` (que corresponde a `apply`) y `liftA2` que corresponde a `lift`.\n",
    "\n",
    "_Nota: `<*>` debe definirse en función de `liftA2` y viceversa._\n",
    "\n",
    "_Nota 2: `<*>` es infijo asociativo a la izquierda, con jerarquía 4._"
   ]
  },
  {
   "cell_type": "code",
   "execution_count": 2,
   "id": "b67e39f3-bc84-4663-a5ef-e04b51e8bb22",
   "metadata": {},
   "outputs": [],
   "source": [
    "-- fmap  :: (a -> b) -> f a -> f b\n",
    "-- (<$>) :: (a -> b) -> f a -> f b\n",
    "\n",
    "class Functor f => Aplicativo f where\n",
    "    pure :: a -> f a\n",
    "    \n",
    "    infixl 4 <*>\n",
    "    (<*>) :: f (a -> b) -> f a -> f b\n",
    "    (<*>) = liftA2 id\n",
    "    \n",
    "    -- x -> x\n",
    "    -- (a -> b -> c) -> f a -> f b -> f c\n",
    "    -- (x -> x) = (a -> b -> c)\n",
    "    -- (x -> x) = (a -> (b -> c))\n",
    "    -- a = (b -> c) \n",
    "    -- (x -> x) = ((b -> c) -> (b -> c))\n",
    "    -- x = (b -> c)\n",
    "    -- ((b -> c) -> (b -> c)) = ((b -> c) -> (b -> c))\n",
    "    \n",
    "    -- f (a -> b) -> f a -> f b\n",
    "    -- f (b -> c) -> f b -> f c\n",
    "    \n",
    "    -- (a1 -> b1 -> c1) = ((b1 -> c1) -> (b1 -> c1))\n",
    "    -- ((b1 -> c1) -> (b1 -> c1)) = x -> x\n",
    "    -- x = b1 -> c1\n",
    "    -- y = b1 -> c1\n",
    "    \n",
    "    -- f a1 -> f b1 -> f c1\n",
    "    -- f (a2 -> b2) -> f a2 -> f b2\n",
    "    -- f (a2 -> b2) -> f a2 -> f b2\n",
    "    -- a1 = a2 -> b2\n",
    "    -- b1 = a2\n",
    "    -- c1 = b2\n",
    "    \n",
    "    liftA2 :: (a -> b -> c) -> f a -> f b -> f c\n",
    "    liftA2 f fa fb = (f <$> fa) <*> fb\n",
    "    -- f (a -> b -> c)\n",
    "    -- f (a -> (b -> c))\n",
    "    -- f (b -> c)\n",
    "    \n",
    "    -- pure f :: f (a -> b -> c)\n",
    "    --        :: f (b -> c)\n",
    "    -- (a -> (b -> c)) -> f a -> f (b -> c)"
   ]
  },
  {
   "cell_type": "code",
   "execution_count": 3,
   "id": "e915e905-363e-4966-9fcc-8bc375d7dd1e",
   "metadata": {},
   "outputs": [
    {
     "data": {},
     "metadata": {},
     "output_type": "display_data"
    },
    {
     "data": {
      "text/html": [
       "<div style='background: rgb(247, 247, 247);'><form><textarea id='code'>type Aplicativo :: (* -> *) -> Constraint\n",
       "class Functor f => Aplicativo f where\n",
       "  pure :: a -> f a\n",
       "  (<*>) :: f (a -> b) -> f a -> f b\n",
       "  liftA2 :: (a -> b -> c) -> f a -> f b -> f c\n",
       "  {-# MINIMAL pure #-}\n",
       "  \t-- Defined at <interactive>:1:1\n",
       "</textarea></form></div><script>CodeMirror.fromTextArea(document.getElementById('code'), {mode: 'haskell', readOnly: 'nocursor'});</script>"
      ],
      "text/plain": [
       "type Aplicativo :: (* -> *) -> Constraint\n",
       "class Functor f => Aplicativo f where\n",
       "  pure :: a -> f a\n",
       "  (<*>) :: f (a -> b) -> f a -> f b\n",
       "  liftA2 :: (a -> b -> c) -> f a -> f b -> f c\n",
       "  {-# MINIMAL pure #-}\n",
       "  \t-- Defined at <interactive>:1:1"
      ]
     },
     "metadata": {},
     "output_type": "display_data"
    }
   ],
   "source": [
    ":i Aplicativo"
   ]
  },
  {
   "cell_type": "markdown",
   "id": "cd53ff98-f024-4db6-95b1-c97076d65555",
   "metadata": {},
   "source": [
    "24/7.\n",
    "Supports Textbook solut## Leyes\n",
    "\n",
    "- Identidad: `pure id <*> x = x`.\n",
    "- Composición: `pure (.) <*> x <*> y <*> z = x <*> (y <*> z)`.\n",
    "- Homomorfismo: `pure f <*> pure x = pure (f x)`.\n",
    "- Intercambio: `u <*> pure y = pure ($ y) <*> u`."
   ]
  },
  {
   "cell_type": "markdown",
   "id": "d0c3f293-33fd-44e9-9835-3079e8f2cd37",
   "metadata": {},
   "source": [
    "## Instancias"
   ]
  },
  {
   "cell_type": "markdown",
   "id": "88174cad-7754-4437-b13c-dd1b5b6523da",
   "metadata": {},
   "source": [
    "Definamos a las listas como instancias de aplicativos."
   ]
  },
  {
   "cell_type": "code",
   "execution_count": 4,
   "id": "66529713-a92c-44dd-8a02-fb90388e71e8",
   "metadata": {},
   "outputs": [],
   "source": [
    "-- a -> [a]\n",
    "\n",
    "-- [(a -> b)] -> [a] -> [b]\n",
    "-- (a -> b -> c) -> [a] -> [b] -> [c]\n",
    "\n",
    "instance Aplicativo [] where\n",
    "    pure x = [x]\n",
    "    fs <*> xs = [f x | f <- fs, x <- xs]\n",
    "    liftA2 f xs ys = [f x y | x <- xs, y <- ys]\n"
   ]
  },
  {
   "cell_type": "code",
   "execution_count": 5,
   "id": "89376f9d-419f-45f0-b768-fc02f4dbdbe1",
   "metadata": {},
   "outputs": [
    {
     "data": {
      "text/plain": [
       "[4,3,2,5,4,3,6,5,4]"
      ]
     },
     "metadata": {},
     "output_type": "display_data"
    }
   ],
   "source": [
    "liftA2 (+) [1,2,3] [3,2,1]"
   ]
  },
  {
   "cell_type": "markdown",
   "id": "be79f134-0791-4393-b711-ef9e10cc1b83",
   "metadata": {},
   "source": [
    "Definamos a `Maybe` como una instancia de aplicativo."
   ]
  },
  {
   "cell_type": "code",
   "execution_count": 6,
   "id": "d90d30d1-c1a3-4f20-9835-76c1291ed59d",
   "metadata": {},
   "outputs": [],
   "source": [
    "-- a -> Maybe a\n",
    "\n",
    "-- Maybe (a -> b) -> Maybe a -> Maybe b\n",
    "-- (a -> b -> c) -> Maybe a -> Maybe b -> Maybe c\n",
    "\n",
    "-- data Maybe a = Nothing | Just a\n",
    "\n",
    "instance Aplicativo Maybe where\n",
    "    pure x = Just x\n",
    "    liftA2 f (Just x) (Just y) = Just (f x y)\n",
    "    liftA2 _ _        _        = Nothing"
   ]
  },
  {
   "cell_type": "markdown",
   "id": "b17a2341-a017-48fb-b362-e070371ba482",
   "metadata": {},
   "source": [
    "Definamos a las funciones como instancias de aplicativos."
   ]
  },
  {
   "cell_type": "code",
   "execution_count": 7,
   "id": "3bd100b9-e842-4c36-91f8-54efcf4d5e9f",
   "metadata": {},
   "outputs": [],
   "source": [
    "instance Aplicativo ((->) r) where\n",
    "    pure a _ = a\n",
    "    frab <*> fra = \\r -> frab r (fra r)"
   ]
  },
  {
   "cell_type": "markdown",
   "id": "cac0f428-13a3-4575-98ca-0bbe139208a8",
   "metadata": {},
   "source": [
    "En los Aplicativos, las instancias para los tipos dejan de ser necesariamente únicas. Veamos el ejemplo con listas:"
   ]
  },
  {
   "cell_type": "code",
   "execution_count": 8,
   "id": "d5f14de6-a9a2-4d7b-854f-90cd7a836df5",
   "metadata": {},
   "outputs": [
    {
     "data": {
      "text/plain": [
       "[\"HolaMundo\",\"HolaClub\",\"LambdaMundo\",\"LambdaClub\"]"
      ]
     },
     "metadata": {},
     "output_type": "display_data"
    },
    {
     "data": {
      "text/plain": [
       "[\"HolaMundo\",\"HolaClub\",\"LambdaMundo\",\"LambdaClub\"]"
      ]
     },
     "metadata": {},
     "output_type": "display_data"
    }
   ],
   "source": [
    "(++) <$> [\"Hola\", \"Lambda\"] <*> [\"Mundo\", \"Club\"]\n",
    "liftA2 (++) [\"Hola\", \"Lambda\"] [\"Mundo\", \"Club\"]"
   ]
  },
  {
   "cell_type": "markdown",
   "id": "0224ab18-a107-4a7d-b271-f3609a7d1baf",
   "metadata": {},
   "source": [
    "En la definición por defecto, nos generar todas las combinaciones de 2 listas bajo una función. Pero también sería un aplicativo válido el que resulta en lo siguiente:\n",
    "\n",
    "```haskell\n",
    "> (++) <$> [\"Hola\", \"Lambda\"] <*> [\"Mundo\", \"Club\"]\n",
    "> [\"HolaMundo\", \"LambdaClub\"]\n",
    "```\n",
    "\n",
    "Define la segunda instancia de aplicativos para listas con el comportamiento anterior. Utiliza la función `zipWith`."
   ]
  },
  {
   "cell_type": "code",
   "execution_count": 9,
   "id": "4ebdda03-19bd-4a57-87d8-d31dd0850d51",
   "metadata": {},
   "outputs": [
    {
     "data": {
      "text/html": [
       "<style>/* Styles used for the Hoogle display in the pager */\n",
       ".hoogle-doc {\n",
       "display: block;\n",
       "padding-bottom: 1.3em;\n",
       "padding-left: 0.4em;\n",
       "}\n",
       ".hoogle-code {\n",
       "display: block;\n",
       "font-family: monospace;\n",
       "white-space: pre;\n",
       "}\n",
       ".hoogle-text {\n",
       "display: block;\n",
       "}\n",
       ".hoogle-name {\n",
       "color: green;\n",
       "font-weight: bold;\n",
       "}\n",
       ".hoogle-head {\n",
       "font-weight: bold;\n",
       "}\n",
       ".hoogle-sub {\n",
       "display: block;\n",
       "margin-left: 0.4em;\n",
       "}\n",
       ".hoogle-package {\n",
       "font-weight: bold;\n",
       "font-style: italic;\n",
       "}\n",
       ".hoogle-module {\n",
       "font-weight: bold;\n",
       "}\n",
       ".hoogle-class {\n",
       "font-weight: bold;\n",
       "}\n",
       ".get-type {\n",
       "color: green;\n",
       "font-weight: bold;\n",
       "font-family: monospace;\n",
       "display: block;\n",
       "white-space: pre-wrap;\n",
       "}\n",
       ".show-type {\n",
       "color: green;\n",
       "font-weight: bold;\n",
       "font-family: monospace;\n",
       "margin-left: 1em;\n",
       "}\n",
       ".mono {\n",
       "font-family: monospace;\n",
       "display: block;\n",
       "}\n",
       ".err-msg {\n",
       "color: red;\n",
       "font-style: italic;\n",
       "font-family: monospace;\n",
       "white-space: pre;\n",
       "display: block;\n",
       "}\n",
       "#unshowable {\n",
       "color: red;\n",
       "font-weight: bold;\n",
       "}\n",
       ".err-msg.in.collapse {\n",
       "padding-top: 0.7em;\n",
       "}\n",
       ".highlight-code {\n",
       "white-space: pre;\n",
       "font-family: monospace;\n",
       "}\n",
       ".suggestion-warning { \n",
       "font-weight: bold;\n",
       "color: rgb(200, 130, 0);\n",
       "}\n",
       ".suggestion-error { \n",
       "font-weight: bold;\n",
       "color: red;\n",
       "}\n",
       ".suggestion-name {\n",
       "font-weight: bold;\n",
       "}\n",
       "</style><span class='get-type'>zipWith :: forall a b c. (a -> b -> c) -> [a] -> [b] -> [c]</span>"
      ],
      "text/plain": [
       "zipWith :: forall a b c. (a -> b -> c) -> [a] -> [b] -> [c]"
      ]
     },
     "metadata": {},
     "output_type": "display_data"
    }
   ],
   "source": [
    ":t zipWith"
   ]
  },
  {
   "cell_type": "code",
   "execution_count": 10,
   "id": "26c761b7-f5ce-4499-8329-bb1b16556baf",
   "metadata": {},
   "outputs": [],
   "source": [
    "-- No hubo tiempo de verlo en la sesión, pero aquí está la solución:\n",
    "\n",
    "newtype ZipList a = ZipList [a]\n",
    "\n",
    "-- Primero debemos hacer que esta sea un Functor,\n",
    "-- para poder ser un Aplicativo.\n",
    "instance Functor ZipList where\n",
    "    fmap f (ZipList xs) = ZipList (fmap f xs)\n",
    "    \n",
    "instance Aplicativo ZipList where\n",
    "    pure x = ZipList [x]\n",
    "    liftA2 f (ZipList xs) (ZipList ys) = ZipList (zipWith f xs ys)"
   ]
  },
  {
   "cell_type": "code",
   "execution_count": 17,
   "id": "4f196840-d139-4d8d-8150-ef8a59f48df9",
   "metadata": {},
   "outputs": [
    {
     "data": {
      "text/plain": [
       "[\"HolaMundo\",\"HolaClub\",\"LambdaMundo\",\"LambdaClub\"]"
      ]
     },
     "metadata": {},
     "output_type": "display_data"
    }
   ],
   "source": [
    "(++) <$> [\"Hola\", \"Lambda\"] <*> [\"Mundo\", \"Club\"]"
   ]
  },
  {
   "cell_type": "markdown",
   "id": "fb597e5c-2297-4026-a595-e12855fc9d8a",
   "metadata": {},
   "source": [
    "## Casos de uso"
   ]
  },
  {
   "cell_type": "markdown",
   "id": "2529a439-bdfd-4589-8ad8-6e475c71f509",
   "metadata": {},
   "source": [
    "- Punto medio entre functores y monoides.\n",
    "- Parsear."
   ]
  },
  {
   "cell_type": "code",
   "execution_count": 11,
   "id": "26648fc5-5b14-46dc-95fe-79a791d57173",
   "metadata": {},
   "outputs": [],
   "source": [
    "import Data.Char (isDigit, isLetter, isSpace)\n",
    "import Text.Read (readMaybe)\n",
    "\n",
    "data Usuario = Usuario { idUsuario :: Int\n",
    "                       , edad      :: Int\n",
    "                       , nombre    :: String\n",
    "                       } deriving Show\n",
    "\n",
    "parseaID :: String -> Maybe Int\n",
    "parseaID = readMaybe . takeWhile isDigit\n",
    "\n",
    "parseaEdad :: String -> Maybe Int\n",
    "parseaEdad text = let (_:xs) = dropWhile (not . isSpace) text\n",
    "                    in readMaybe $ takeWhile isDigit xs\n",
    "\n",
    "parseaNombre :: String -> Maybe String\n",
    "parseaNombre = Just . takeWhile isLetter . dropWhile (not . isLetter)"
   ]
  },
  {
   "cell_type": "code",
   "execution_count": 12,
   "id": "741841de-abc8-4313-a681-a5f62c6e1439",
   "metadata": {},
   "outputs": [
    {
     "data": {
      "text/plain": [
       "Just 9"
      ]
     },
     "metadata": {},
     "output_type": "display_data"
    },
    {
     "data": {
      "text/plain": [
       "Just 20"
      ]
     },
     "metadata": {},
     "output_type": "display_data"
    },
    {
     "data": {
      "text/plain": [
       "Just \"jpyamamoto\""
      ]
     },
     "metadata": {},
     "output_type": "display_data"
    }
   ],
   "source": [
    "parseaID     \"9 20 jpyamamoto\"\n",
    "parseaEdad   \"9 20 jpyamamoto\"\n",
    "parseaNombre \"9 20 jpyamamoto\""
   ]
  },
  {
   "cell_type": "code",
   "execution_count": 13,
   "id": "54f5059c-1a89-4f36-8e2c-b167470fd200",
   "metadata": {},
   "outputs": [],
   "source": [
    "parseaUsuario :: String -> Maybe Usuario\n",
    "parseaUsuario u = Usuario <$> parseaID u <*> parseaEdad u <*> parseaNombre u"
   ]
  },
  {
   "cell_type": "code",
   "execution_count": 14,
   "id": "2b4d27df-50cb-4bc7-981f-56ad3cbe83a1",
   "metadata": {},
   "outputs": [
    {
     "data": {
      "text/plain": [
       "Just (Usuario {idUsuario = 1, edad = 20, nombre = \"jpyamamoto\"})"
      ]
     },
     "metadata": {},
     "output_type": "display_data"
    },
    {
     "data": {
      "text/plain": [
       "Just (Usuario {idUsuario = 2, edad = 92, nombre = \"alonzochurch\"})"
      ]
     },
     "metadata": {},
     "output_type": "display_data"
    },
    {
     "data": {
      "text/plain": [
       "Nothing"
      ]
     },
     "metadata": {},
     "output_type": "display_data"
    },
    {
     "data": {
      "text/plain": [
       "[Just (Usuario {idUsuario = 1, edad = 20, nombre = \"jpyamamoto\"}),Just (Usuario {idUsuario = 2, edad = 92, nombre = \"alonzochurch\"}),Nothing]"
      ]
     },
     "metadata": {},
     "output_type": "display_data"
    }
   ],
   "source": [
    "parseaUsuario \"1 20 jpyamamoto\"\n",
    "parseaUsuario \"2 92 alonzochurch\"\n",
    "parseaUsuario \"3 alanturing 41\"\n",
    "\n",
    "fmap parseaUsuario [\"1 20 jpyamamoto\", \"2 92 alonzochurch\", \"3 alanturing 41\"]"
   ]
  },
  {
   "cell_type": "markdown",
   "id": "099314db-b7d4-4643-ace2-66f32591fbc4",
   "metadata": {},
   "source": [
    "Concurrencia:\n",
    "\n",
    "```haskell\n",
    "#!/usr/bin/env stack\n",
    "-- stack script --resolver lts-12.21\n",
    "import Conduit\n",
    "import UnliftIO\n",
    "\n",
    "main :: IO ()\n",
    "main = do\n",
    "  write2Files\n",
    "  runConduitRes $\n",
    "    (sourceFile \"file1.txt\" *> sourceFile \"file2.txt\") .|\n",
    "    sink\n",
    "\n",
    "write2Files = runConcurrently $\n",
    "      Concurrently (writeFile \"file1.txt\" \"this is file 1\")\n",
    "   *> Concurrently (writeFile \"file2.txt\" \"this is file 2\")\n",
    "\n",
    "sink = getZipSink $\n",
    "      ZipSink (sinkFile \"output1.txt\")\n",
    "   *> ZipSink (sinkFile \"output2.txt\")\n",
    "```"
   ]
  },
  {
   "cell_type": "code",
   "execution_count": 15,
   "id": "3cd02374-2465-4003-acbf-8eab8f9bc5fb",
   "metadata": {},
   "outputs": [
    {
     "data": {
      "text/html": [
       "<style>/* Styles used for the Hoogle display in the pager */\n",
       ".hoogle-doc {\n",
       "display: block;\n",
       "padding-bottom: 1.3em;\n",
       "padding-left: 0.4em;\n",
       "}\n",
       ".hoogle-code {\n",
       "display: block;\n",
       "font-family: monospace;\n",
       "white-space: pre;\n",
       "}\n",
       ".hoogle-text {\n",
       "display: block;\n",
       "}\n",
       ".hoogle-name {\n",
       "color: green;\n",
       "font-weight: bold;\n",
       "}\n",
       ".hoogle-head {\n",
       "font-weight: bold;\n",
       "}\n",
       ".hoogle-sub {\n",
       "display: block;\n",
       "margin-left: 0.4em;\n",
       "}\n",
       ".hoogle-package {\n",
       "font-weight: bold;\n",
       "font-style: italic;\n",
       "}\n",
       ".hoogle-module {\n",
       "font-weight: bold;\n",
       "}\n",
       ".hoogle-class {\n",
       "font-weight: bold;\n",
       "}\n",
       ".get-type {\n",
       "color: green;\n",
       "font-weight: bold;\n",
       "font-family: monospace;\n",
       "display: block;\n",
       "white-space: pre-wrap;\n",
       "}\n",
       ".show-type {\n",
       "color: green;\n",
       "font-weight: bold;\n",
       "font-family: monospace;\n",
       "margin-left: 1em;\n",
       "}\n",
       ".mono {\n",
       "font-family: monospace;\n",
       "display: block;\n",
       "}\n",
       ".err-msg {\n",
       "color: red;\n",
       "font-style: italic;\n",
       "font-family: monospace;\n",
       "white-space: pre;\n",
       "display: block;\n",
       "}\n",
       "#unshowable {\n",
       "color: red;\n",
       "font-weight: bold;\n",
       "}\n",
       ".err-msg.in.collapse {\n",
       "padding-top: 0.7em;\n",
       "}\n",
       ".highlight-code {\n",
       "white-space: pre;\n",
       "font-family: monospace;\n",
       "}\n",
       ".suggestion-warning { \n",
       "font-weight: bold;\n",
       "color: rgb(200, 130, 0);\n",
       "}\n",
       ".suggestion-error { \n",
       "font-weight: bold;\n",
       "color: red;\n",
       "}\n",
       ".suggestion-name {\n",
       "font-weight: bold;\n",
       "}\n",
       "</style><span class='get-type'>(*>) :: forall (f :: * -> *) a b. Applicative f => f a -> f b -> f b</span>"
      ],
      "text/plain": [
       "(*>) :: forall (f :: * -> *) a b. Applicative f => f a -> f b -> f b"
      ]
     },
     "metadata": {},
     "output_type": "display_data"
    }
   ],
   "source": [
    ":t (*>)"
   ]
  }
 ],
 "metadata": {
  "kernelspec": {
   "display_name": "Haskell",
   "language": "haskell",
   "name": "haskell"
  },
  "language_info": {
   "codemirror_mode": "ihaskell",
   "file_extension": ".hs",
   "mimetype": "text/x-haskell",
   "name": "haskell",
   "pygments_lexer": "Haskell",
   "version": "8.10.4"
  }
 },
 "nbformat": 4,
 "nbformat_minor": 5
}
